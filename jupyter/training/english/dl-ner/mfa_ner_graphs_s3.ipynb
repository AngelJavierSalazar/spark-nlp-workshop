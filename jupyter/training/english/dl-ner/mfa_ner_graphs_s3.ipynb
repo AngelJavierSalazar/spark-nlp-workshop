{
  "nbformat": 4,
  "nbformat_minor": 0,
  "metadata": {
    "colab": {
      "name": "SparkNLP - MFA NER Graphs S3.ipynb",
      "provenance": [],
      "collapsed_sections": []
    },
    "kernelspec": {
      "name": "python3",
      "display_name": "Python 3"
    },
    "language_info": {
      "name": "python"
    }
  },
  "cells": [
    {
      "cell_type": "code",
      "metadata": {
        "id": "4SVtLznZXe6K"
      },
      "source": [
        "# Install pyspark\n",
        "! pip install --ignore-installed pyspark\n",
        "\n",
        "# Install Spark NLP\n",
        "! pip install --ignore-installed spark-nlp"
      ],
      "execution_count": null,
      "outputs": []
    },
    {
      "cell_type": "code",
      "metadata": {
        "id": "HL7dLz15XTGr",
        "colab": {
          "base_uri": "https://localhost:8080/"
        },
        "outputId": "27f959d3-bb48-483d-cea5-550b89bc883b"
      },
      "source": [
        "import sparknlp\n",
        "from sparknlp.base import *\n",
        "from sparknlp.annotator import *\n",
        "from sparknlp.training import CoNLL\n",
        "\n",
        "print(\"Spark NLP version\", sparknlp.version())"
      ],
      "execution_count": null,
      "outputs": [
        {
          "output_type": "stream",
          "name": "stdout",
          "text": [
            "Spark NLP version 3.2.2\n"
          ]
        }
      ]
    },
    {
      "cell_type": "markdown",
      "metadata": {
        "id": "FNFI0FavqLV9"
      },
      "source": [
        "To configure MFA we just need to define the requires values in spark properties as show below. Look an example to get temporal credentials [here](https://github.com/JohnSnowLabs/spark-nlp/blob/master/scripts/aws_tmp_credentials.sh) "
      ]
    },
    {
      "cell_type": "code",
      "metadata": {
        "id": "A5kl8WaWO1zD"
      },
      "source": [
        "spark.conf.set(\"spark.jsl.settings.pretrained.credentials.access_key_id\", \"MY_ACCESS_KEY_ID\")\n",
        "spark.conf.set(\"spark.jsl.settings.pretrained.credentials.secret_access_key\", \"MY_SECRET_ACCESS_KEY_ID\")\n",
        "spark.conf.set(\"spark.jsl.settings.pretrained.credentials.session_token\", \"MY_SESSION_TOKEN\")\n",
        "spark.conf.set(\"spark.jsl.settings.pretrained.credentials.aws.region\", \"MY_REGION\")"
      ],
      "execution_count": null,
      "outputs": []
    },
    {
      "cell_type": "code",
      "metadata": {
        "id": "DXVydy4LXbLY",
        "colab": {
          "base_uri": "https://localhost:8080/"
        },
        "outputId": "328e7393-16de-457f-c3c8-24e06b9ef23a"
      },
      "source": [
        "1from sparknlp.training import CoNLL\n",
        "\n",
        "training_data = CoNLL().readDataset(spark, 'sample_data/test_ner_dataset.txt')\n",
        "training_data.show(3)"
      ],
      "execution_count": null,
      "outputs": [
        {
          "output_type": "stream",
          "name": "stdout",
          "text": [
            "+--------------------+--------------------+--------------------+--------------------+--------------------+--------------------+\n",
            "|                text|            document|            sentence|               token|                 pos|               label|\n",
            "+--------------------+--------------------+--------------------+--------------------+--------------------+--------------------+\n",
            "|John Smith works ...|[{document, 0, 35...|[{document, 0, 35...|[{token, 0, 3, Jo...|[{pos, 0, 3, NNP,...|[{named_entity, 0...|\n",
            "+--------------------+--------------------+--------------------+--------------------+--------------------+--------------------+\n",
            "\n"
          ]
        }
      ]
    },
    {
      "cell_type": "code",
      "metadata": {
        "id": "7H7PAVXj-KIn",
        "colab": {
          "base_uri": "https://localhost:8080/"
        },
        "outputId": "2c861d69-d5cc-4d1d-a74f-2c6bf509129e"
      },
      "source": [
        "embeddings = WordEmbeddingsModel.pretrained(\"glove_100d\")\n",
        "ready_data = embeddings.transform(training_data).cache()"
      ],
      "execution_count": null,
      "outputs": [
        {
          "output_type": "stream",
          "name": "stdout",
          "text": [
            "glove_100d download started this may take some time.\n",
            "Approximate size to download 145.3 MB\n",
            "[OK!]\n"
          ]
        }
      ]
    },
    {
      "cell_type": "code",
      "metadata": {
        "id": "rquF22gI-OPY"
      },
      "source": [
        "graphFolder = \"s3://my.bucket.com/my/s3/path\"\n",
        "\n",
        "ner_tagger = NerDLApproach() \\\n",
        "                .setInputCols(\"sentence\", \"token\", \"embeddings\") \\\n",
        "                .setLabelColumn(\"label\") \\\n",
        "                .setOutputCol(\"ner\") \\\n",
        "                .setMinEpochs(1) \\\n",
        "                .setMaxEpochs(30) \\\n",
        "                .setRandomSeed(0) \\\n",
        "                .setVerbose(0) \\\n",
        "                .setDropout(0.8) \\\n",
        "                .setBatchSize(18) \\\n",
        "                .setGraphFolder(graphFolder)"
      ],
      "execution_count": null,
      "outputs": []
    },
    {
      "cell_type": "code",
      "metadata": {
        "id": "wYxnTYlsKgBX",
        "colab": {
          "base_uri": "https://localhost:8080/"
        },
        "outputId": "91e1ae49-da92-4246-ad77-7fb986afe3b0"
      },
      "source": [
        "ner_tagger.fit(ready_data)"
      ],
      "execution_count": null,
      "outputs": [
        {
          "output_type": "execute_result",
          "data": {
            "text/plain": [
              "NerDLModel_18c6a5b33e9a"
            ]
          },
          "metadata": {},
          "execution_count": 10
        }
      ]
    }
  ]
}