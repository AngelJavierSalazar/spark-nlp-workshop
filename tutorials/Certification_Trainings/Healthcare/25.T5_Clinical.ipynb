{
 "cells": [
  {
   "cell_type": "markdown",
   "metadata": {
    "id": "RiXjNLF2onn2"
   },
   "source": [
    "![JohnSnowLabs](https://nlp.johnsnowlabs.com/assets/images/logo.png)"
   ]
  },
  {
   "cell_type": "markdown",
   "metadata": {
    "id": "kLua-66DlmRP"
   },
   "source": [
    "[![Open In Colab](https://colab.research.google.com/assets/colab-badge.svg)](https://colab.research.google.com/github/JohnSnowLabs/spark-nlp-workshop/blob/master/tutorials/Certification_Trainings/Healthcare/25.T5_Clinical.ipynb)"
   ]
  },
  {
   "cell_type": "markdown",
   "metadata": {
    "id": "EwT87Te_Kr3_"
   },
   "source": [
    "# **25. T5 for Heathcare Workshop**"
   ]
  },
  {
   "cell_type": "markdown",
   "metadata": {
    "id": "YcJLn3NGaKIH"
   },
   "source": [
    "\n",
    "\n",
    "\n",
    "\n",
    "---\n",
    "\n",
    "\n",
    "\n",
    "# Overview of every task available with T5\n",
    "[The T5 model](https://arxiv.org/pdf/1910.10683.pdf) is trained on various datasets for 17 different tasks which fall into 8 categories.\n",
    "\n",
    "\n",
    "\n",
    "1. Text Summarization\n",
    "2. Question Answering\n",
    "3. Translation\n",
    "4. Sentiment analysis\n",
    "5. Natural Language Inference\n",
    "6. Coreference Resolution\n",
    "7. Sentence Completion\n",
    "8. Word Sense Disambiguation\n",
    "\n",
    "# Every T5 Task with explanation:\n",
    "|Task Name | Explanation | \n",
    "|----------|--------------|\n",
    "|[1.CoLA](https://nyu-mll.github.io/CoLA/)                   | Classify if a sentence is gramaticaly correct|\n",
    "|[2.RTE](https://dl.acm.org/doi/10.1007/11736790_9)                    | Classify whether if a statement can be deducted from a sentence|\n",
    "|[3.MNLI](https://arxiv.org/abs/1704.05426)                   | Classify for a hypothesis and premise whether they contradict or contradict each other or neither of both (3 class).|\n",
    "|[4.MRPC](https://www.aclweb.org/anthology/I05-5002.pdf)                   | Classify whether a pair of sentences is a re-phrasing of each other (semantically equivalent)|\n",
    "|[5.QNLI](https://arxiv.org/pdf/1804.07461.pdf)                   | Classify whether the answer to a question can be deducted from an answer candidate.|\n",
    "|[6.QQP](https://www.quora.com/q/quoradata/First-Quora-Dataset-Release-Question-Pairs)                    | Classify whether a pair of questions is a re-phrasing of each other (semantically equivalent)|\n",
    "|[7.SST2](https://www.aclweb.org/anthology/D13-1170.pdf)                   | Classify the sentiment of a sentence as positive or negative|\n",
    "|[8.STSB](https://www.aclweb.org/anthology/S17-2001/)                   | Classify the sentiment of a sentence on a scale from 1 to 5 (21 Sentiment classes)|\n",
    "|[9.CB](https://ojs.ub.uni-konstanz.de/sub/index.php/sub/article/view/601)                     | Classify for a premise and a hypothesis whether they contradict each other or not (binary).|\n",
    "|[10.COPA](https://www.aaai.org/ocs/index.php/SSS/SSS11/paper/view/2418/0)                   | Classify for a question, premise, and 2 choices which choice the correct choice is (binary).|\n",
    "|[11.MultiRc](https://www.aclweb.org/anthology/N18-1023.pdf)                | Classify for a question, a paragraph of text, and an answer candidate, if the answer is correct (binary),|\n",
    "|[12.WiC](https://arxiv.org/abs/1808.09121)                    | Classify for a pair of sentences and a disambigous word if the word has the same meaning in both sentences.|\n",
    "|[13.WSC/DPR](https://www.aaai.org/ocs/index.php/KR/KR12/paper/view/4492/0)       | Predict for an ambiguous pronoun in a sentence what it is referring to.  |\n",
    "|[14.Summarization](https://arxiv.org/abs/1506.03340)          | Summarize text into a shorter representation.|\n",
    "|[15.SQuAD](https://arxiv.org/abs/1606.05250)                  | Answer a question for a given context.|\n",
    "|[16.WMT1.](https://arxiv.org/abs/1706.03762)                  | Translate English to German|\n",
    "|[17.WMT2.](https://arxiv.org/abs/1706.03762)                   | Translate English to French|\n",
    "|[18.WMT3.](https://arxiv.org/abs/1706.03762)                   | Translate English to Romanian|\n",
    "\n",
    "\n",
    "# Information about pre-procession for T5 tasks\n",
    "\n",
    "## Tasks that require no pre-processing\n",
    "The following tasks work fine without any additional pre-processing, only setting the `task parameter` on the T5 model is required:\n",
    "\n",
    "-  CoLA\n",
    "-  Summarization\n",
    "-  SST2\n",
    "-  WMT1.\n",
    "-  WMT2.\n",
    "-  WMT3.\n",
    "\n",
    "\n",
    "## Tasks that require pre-processing with 1 tag\n",
    "The following tasks require `exactly 1 additional tag` added by manual pre-processing.\n",
    "Set the `task parameter` and then join the sentences on the `tag` for these tasks.\n",
    "\n",
    "- RTE\n",
    "- MNLI\n",
    "- MRPC\n",
    "- QNLI\n",
    "- QQP\n",
    "- SST2\n",
    "- STSB\n",
    "- CB\n",
    "\n",
    "\n",
    "## Tasks that require pre-processing with multiple tags\n",
    "The following tasks require `more than 1 additional tag` added manual by pre-processing.\n",
    "Set the `task parameter` and then prefix sentences with their corresponding tags and join them for these tasks:\n",
    "\n",
    "- COPA\n",
    "- MultiRc\n",
    "- WiC\n",
    "\n",
    "\n",
    "## WSC/DPR is a special case that requires `*` surrounding\n",
    "The task WSC/DPR requires highlighting a pronoun with `*` and configuring a `task parameter`.\n",
    "<br><br><br><br><br>\n",
    "\n",
    "\n",
    "\n",
    "\n",
    "\n",
    "The following sections describe each task in detail, with an example and also a pre-processed example.\n",
    "\n",
    "***NOTE:***  Linebreaks are added to the `pre-processed examples` in the following section. The T5 model also works with linebreaks, but it can hinder the performance and it is not recommended to intentionally add them.\n",
    "\n",
    "\n",
    "\n",
    "# Task 1 [CoLA - Binary Grammatical Sentence acceptability classification](https://nyu-mll.github.io/CoLA/)\n",
    "Judges if a sentence is grammatically acceptable.     \n",
    "This is a sub-task of [GLUE](https://arxiv.org/pdf/1804.07461.pdf).\n",
    "\n",
    "\n",
    "\n",
    "## Example\n",
    "\n",
    "|sentence  | prediction|\n",
    "|------------|------------|\n",
    "| Anna and Mike is going skiing and they is liked is | unacceptable |      \n",
    "| Anna and Mike like to dance | acceptable | \n",
    "\n",
    "\n",
    "## How to configure T5 task for CoLA\n",
    "`.setTask(cola sentence:)` prefix.\n",
    "\n",
    "### Example pre-processed input for T5 CoLA sentence acceptability judgement:\n",
    "```\n",
    "cola \n",
    "sentence: Anna and Mike is going skiing and they is liked is\n",
    "```\n",
    "\n",
    "# Task 2 [RTE - Natural language inference Deduction Classification](https://dl.acm.org/doi/10.1007/11736790_9)\n",
    "The RTE task is defined as recognizing, given two text fragments, whether the meaning of one text can be inferred (entailed) from the other or not.       \n",
    "Classification of sentence pairs as entailed and not_entailed       \n",
    "This is a sub-task of [GLUE](https://arxiv.org/pdf/1804.07461.pdf) and  [SuperGLUE](https://w4ngatang.github.io/static/papers/superglue.pdf).\n",
    "\n",
    "\n",
    "\n",
    "## Example\n",
    "\n",
    "|sentence 1 | sentence 2 | prediction|\n",
    "|------------|------------|----------|\n",
    "Kessler ’s team conducted 60,643 interviews with adults in 14 countries.  |  Kessler ’s team interviewed more than 60,000 adults in 14 countries | entailed\n",
    "Peter loves New York, it is his favorite city| Peter loves new York. | entailed\n",
    "Recent report say Johnny makes he alot of money, he earned 10 million USD each year for the last 5 years.  |Johnny is a millionare | entailment|\n",
    "Recent report say Johnny makes he alot of money, he earned 10 million USD each year for the last 5 years.  |Johnny is a poor man  | not_entailment | \n",
    "| It was raining in England for the last 4 weeks | England was very dry yesterday | not_entailment|\n",
    "\n",
    "## How to configure T5 task for RTE\n",
    "`.setTask('rte sentence1:)` and prefix second sentence with `sentence2:`\n",
    "\n",
    "\n",
    "### Example pre-processed input for T5 RTE - 2 Class Natural language inference\n",
    "```\n",
    "rte \n",
    "sentence1: Recent report say Peter makes he alot of money, he earned 10 million USD each year for the last 5 years. \n",
    "sentence2: Peter is a millionare.\n",
    "```\n",
    "\n",
    "### References\n",
    "- https://arxiv.org/abs/2010.03061\n",
    "\n",
    "\n",
    "# Task 3 [MNLI - 3 Class Natural Language Inference 3-class contradiction classification](https://arxiv.org/abs/1704.05426)\n",
    "Classification of sentence pairs with the labels `entailment`, `contradiction`, and `neutral`.      \n",
    "This is a sub-task of [GLUE](https://arxiv.org/pdf/1804.07461.pdf).\n",
    "\n",
    "\n",
    "This classifier predicts for two sentences :\n",
    "- Whether the first sentence logically and semantically follows from the second sentence as entailment\n",
    "- Whether the first sentence is a contradiction to the second sentence as a contradiction\n",
    "- Whether the first sentence does not entail or contradict the first sentence as neutral\n",
    "\n",
    "| Hypothesis | Premise | prediction|\n",
    "|------------|------------|----------|\n",
    "| Recent report say Johnny makes he alot of money, he earned 10 million USD each year for the last 5 years. |    Johnny is a poor man.  | contradiction|\n",
    "|It rained in England the last 4 weeks.| It was snowing in New York last week| neutral | \n",
    "\n",
    "## How to configure T5 task for MNLI\n",
    "`.setTask('mnli hypothesis:)` and prefix second sentence with `premise:`\n",
    "\n",
    "### Example pre-processed input for T5 MNLI - 3 Class Natural Language Inference\n",
    "\n",
    "```\n",
    "mnli \n",
    "hypothesis: At 8:34, the Boston Center controller received a third, transmission from American 11.    \n",
    "premise: The Boston Center controller got a third transmission from American 11.\n",
    "```\n",
    "\n",
    "\n",
    "# Task 4 [MRPC - Binary Paraphrasing/ sentence similarity classification ](https://www.aclweb.org/anthology/I05-5002.pdf)\n",
    "Detect whether one sentence is a re-phrasing or similar to another sentence      \n",
    "This is a sub-task of [GLUE](https://arxiv.org/pdf/1804.07461.pdf).\n",
    "\n",
    "\n",
    "| Sentence1 | Sentence2 | prediction|\n",
    "|------------|------------|----------|\n",
    "|We acted because we saw the existing evidence in a new light , through the prism of our experience on 11 September , \" Rumsfeld said .| Rather , the US acted because the administration saw \" existing evidence in a new light , through the prism of our experience on September 11 \" . | equivalent | \n",
    "| I like to eat peanutbutter for breakfast| I like to play football | not_equivalent | \n",
    "\n",
    "\n",
    "## How to configure T5 task for MRPC\n",
    "`.setTask('mrpc sentence1:)` and prefix second sentence with `sentence2:`\n",
    "\n",
    "### Example pre-processed input for T5 MRPC - Binary Paraphrasing/ sentence similarity\n",
    "\n",
    "```\n",
    "mrpc \n",
    "sentence1: We acted because we saw the existing evidence in a new light , through the prism of our experience on 11 September , \" Rumsfeld said . \n",
    "sentence2: Rather , the US acted because the administration saw \" existing evidence in a new light , through the prism of our experience on September 11\",\n",
    "```\n",
    "\n",
    "*ISSUE:* Can only get neutral and contradiction as prediction results for tested samples but no entailment predictions.\n",
    "\n",
    "\n",
    "# Task 5 [QNLI - Natural Language Inference question answered classification](https://arxiv.org/pdf/1804.07461.pdf)\n",
    "Classify whether a question is answered by a sentence (`entailed`).       \n",
    "This is a sub-task of [GLUE](https://arxiv.org/pdf/1804.07461.pdf).\n",
    "\n",
    "| Question | Answer | prediction|\n",
    "|------------|------------|----------|\n",
    "|Where did Jebe die?| Ghenkis Khan recalled Subtai back to Mongolia soon afterward, and Jebe died on the road back to Samarkand | entailment|\n",
    "|What does Steve like to eat? | Steve watches TV all day | not_netailment\n",
    "\n",
    "## How to configure T5 task for QNLI - Natural Language Inference question answered classification\n",
    "`.setTask('QNLI sentence1:)` and prefix question with `question:` sentence with `sentence:`:\n",
    "\n",
    "### Example pre-processed input for T5 QNLI - Natural Language Inference question answered classification\n",
    "\n",
    "```\n",
    "qnli\n",
    "question: Where did Jebe die?     \n",
    "sentence: Ghenkis Khan recalled Subtai back to Mongolia soon afterwards, and Jebe died on the road back to Samarkand,\n",
    "```\n",
    "\n",
    "\n",
    "# Task 6 [QQP - Binary Question Similarity/Paraphrasing](https://www.quora.com/q/quoradata/First-Quora-Dataset-Release-Question-Pairs)\n",
    "Based on a quora dataset, determine whether a pair of questions are semantically equivalent.      \n",
    "This is a sub-task of [GLUE](https://arxiv.org/pdf/1804.07461.pdf).\n",
    "\n",
    "| Question1 | Question2 | prediction|\n",
    "|------------|------------|----------|\n",
    "|What attributes would have made you highly desirable in ancient Rome?        | How I GET OPPERTINUTY TO JOIN IT COMPANY AS A FRESHER? | not_duplicate | \n",
    "|What was it like in Ancient rome?  | What was Ancient rome like?| duplicate | \n",
    "\n",
    "\n",
    "## How to configure T5 task for QQP\n",
    ".setTask('qqp question1:) and\n",
    "prefix second sentence with question2:\n",
    "\n",
    "\n",
    "### Example pre-processed input for T5 QQP - Binary Question Similarity/Paraphrasing\n",
    "\n",
    "```\n",
    "qqp \n",
    "question1: What attributes would have made you highly desirable in ancient Rome?        \n",
    "question2: How I GET OPPERTINUTY TO JOIN IT COMPANY AS A FRESHER?',\n",
    "```\n",
    "\n",
    "# Task 7 [SST2 - Binary Sentiment Analysis](https://www.aclweb.org/anthology/D13-1170.pdf)\n",
    "Binary sentiment classification.      \n",
    "This is a sub-task of [GLUE](https://arxiv.org/pdf/1804.07461.pdf).\n",
    "\n",
    "| Sentence1 | Prediction  | \n",
    "|-----------|-----------|\n",
    "|it confirms fincher ’s status as a film maker who artfully bends technical know-how to the service of psychological insight |  positive| \n",
    "|I really hated that movie | negative | \n",
    "\n",
    "\n",
    "## How to configure T5 task for  SST2\n",
    "`.setTask('sst2 sentence: ')`\n",
    "\n",
    "### Example pre-processed input for T5 SST2 - Binary Sentiment Analysis\n",
    "\n",
    "```\n",
    "sst2\n",
    "sentence: I hated that movie\n",
    "```\n",
    "\n",
    "\n",
    "\n",
    "# Task8 [STSB - Regressive semantic sentence similarity](https://www.aclweb.org/anthology/S17-2001/)\n",
    "Measures how similar two sentences are on a scale from 0 to 5 with 21 classes representing a regressive label.     \n",
    "This is a sub-task of [GLUE](https://arxiv.org/pdf/1804.07461.pdf).\n",
    "\n",
    "\n",
    "| Question1 | Question2 | prediction|\n",
    "|------------|------------|----------|\n",
    "|What attributes would have made you highly desirable in ancient Rome?        | How I GET OPPERTINUTY TO JOIN IT COMPANY AS A FRESHER? | 0 | \n",
    "|What was it like in Ancient rome?  | What was Ancient rome like?| 5.0 | \n",
    "|What was live like as a King in Ancient Rome??       | What is it like to live in Rome? | 3.2 | \n",
    "\n",
    "## How to configure T5 task for STSB\n",
    "`.setTask('stsb sentence1:)` and prefix second sentence with `sentence2:`\n",
    "\n",
    "\n",
    "### Example pre-processed input for T5 STSB - Regressive semantic sentence similarity\n",
    "\n",
    "```\n",
    "stsb\n",
    "sentence1: What attributes would have made you highly desirable in ancient Rome?        \n",
    "sentence2: How I GET OPPERTINUTY TO JOIN IT COMPANY AS A FRESHER?',\n",
    "```\n",
    "\n",
    "\n",
    "# Task 9[ CB -  Natural language inference contradiction classification](https://ojs.ub.uni-konstanz.de/sub/index.php/sub/article/view/601)\n",
    "Classify whether a Premise contradicts a Hypothesis.    \n",
    "Predicts entailment, neutral and contradiction     \n",
    "This is a sub-task of [SuperGLUE](https://w4ngatang.github.io/static/papers/superglue.pdf).\n",
    "\n",
    "\n",
    "| Hypothesis | Premise | Prediction | \n",
    "|--------|-------------|----------|\n",
    "|Valence was helping | Valence the void-brain, Valence the virtuous valet. Why couldn’t the figger choose his own portion of titanic anatomy to shaft? Did he think he was helping'| Contradiction|\n",
    "\n",
    "\n",
    "## How to configure T5 task for CB\n",
    "`.setTask('cb hypothesis:)` and prefix premise with `premise:`\n",
    "\n",
    "### Example pre-processed input for T5 CB -  Natural language inference contradiction classification\n",
    "\n",
    "```\n",
    "cb \n",
    "hypothesis: Valence was helping      \n",
    "premise: Valence the void-brain, Valence the virtuous valet. Why couldn’t the figger choose his own portion of titanic anatomy to shaft? Did he think he was helping,\n",
    "```\n",
    "\n",
    "\n",
    "# Task 10 [COPA - Sentence Completion/ Binary choice selection](https://www.aaai.org/ocs/index.php/SSS/SSS11/paper/view/2418/0)\n",
    "The Choice of Plausible Alternatives (COPA) task by Roemmele et al. (2011) evaluates\n",
    "causal reasoning between events, which requires commonsense knowledge about what usually takes\n",
    "place in the world. Each example provides a premise and either asks for the correct cause or effect\n",
    "from two choices, thus testing either ``backward`` or `forward causal reasoning`. COPA data, which\n",
    "consists of 1,000 examples total, can be downloaded at https://people.ict.usc.e\n",
    "\n",
    "This is a sub-task of [SuperGLUE](https://w4ngatang.github.io/static/papers/superglue.pdf).\n",
    "\n",
    "This classifier selects from a choice of `2 options` which one the correct is based on a `premise`.\n",
    "\n",
    "\n",
    "## forward causal reasoning\n",
    "Premise: The man lost his balance on the ladder.     \n",
    "question: What happened as a result?        \n",
    "Alternative 1: He fell off the ladder.       \n",
    "Alternative 2: He climbed up the ladder.\n",
    "## backwards causal reasoning\n",
    "Premise: The man fell unconscious. What was the cause\n",
    "of this?       \n",
    "Alternative 1: The assailant struck the man in the head.      \n",
    "Alternative 2: The assailant took the man’s wallet.\n",
    "\n",
    "\n",
    "| Question | Premise | Choice 1 | Choice  2 | Prediction | \n",
    "|--------|-------------|----------|---------|-------------|\n",
    "|effect | Politcal Violence broke out in the nation. | many citizens relocated to the capitol. |  Many citizens took refuge in other territories | Choice 1  | \n",
    "|correct| The men fell unconscious | The assailant struckl the man in the head | he assailant s took the man's wallet. | choice1 | \n",
    "\n",
    "\n",
    "## How to configure T5 task for COPA\n",
    "`.setTask('copa choice1:)`, prefix choice2 with `choice2:` , prefix premise with `premise:` and prefix the question with `question`\n",
    "\n",
    "### Example pre-processed input for T5 COPA - Sentence Completion/ Binary choice selection\n",
    "\n",
    "```\n",
    "copa \n",
    "choice1:   He fell off the ladder    \n",
    "choice2:   He climbed up the lader       \n",
    "premise:   The man lost his balance on the ladder \n",
    "question:  effect\n",
    "```\n",
    "\n",
    "\n",
    "\n",
    "\n",
    "# Task 11 [MultiRc - Question Answering](https://www.aclweb.org/anthology/N18-1023.pdf)\n",
    "Evaluates an `answer` for a `question` as `true` or `false` based on an input `paragraph`\n",
    "The T5 model predicts for a `question` and a `paragraph` of `sentences` wether an `answer` is true or not,\n",
    "based on the semantic contents of the paragraph.        \n",
    "This is a sub-task of [SuperGLUE](https://w4ngatang.github.io/static/papers/superglue.pdf).\n",
    "\n",
    "\n",
    "\n",
    "**Exceeds human performance by a large margin**\n",
    "\n",
    "\n",
    "\n",
    "| Question                                                     | Answer                                                              | Prediction | paragraph|\n",
    "|--------------------------------------------------------------|---------------------------------------------------------------------|------------|----------|\n",
    "| Why was Joey surprised the morning he woke up for breakfast? | There was only pie to eat, rather than traditional breakfast foods  |  True   |Once upon a time, there was a squirrel named Joey. Joey loved to go outside and play with his cousin Jimmy. Joey and Jimmy played silly games together, and were always laughing. One day, Joey and Jimmy went swimming together 50 at their Aunt Julie’s pond. Joey woke up early in the morning to eat some food before they left. He couldn’t find anything to eat except for pie! Usually, Joey would eat cereal, fruit (a pear), or oatmeal for breakfast. After he ate, he and Jimmy went to the pond. On their way there they saw their friend Jack Rabbit. They dove into the water and swam for several hours. The sun was out, but the breeze was cold. Joey and Jimmy got out of the water and started walking home. Their fur was wet, and the breeze chilled them. When they got home, they dried off, and Jimmy put on his favorite purple shirt. Joey put on a blue shirt with red and green dots. The two squirrels ate some food that Joey’s mom, Jasmine, made and went off to bed.,          |\n",
    "| Why was Joey surprised the morning he woke up for breakfast? | There was a T-Rex in his garden  |  False   |Once upon a time, there was a squirrel named Joey. Joey loved to go outside and play with his cousin Jimmy. Joey and Jimmy played silly games together, and were always laughing. One day, Joey and Jimmy went swimming together 50 at their Aunt Julie’s pond. Joey woke up early in the morning to eat some food before they left. He couldn’t find anything to eat except for pie! Usually, Joey would eat cereal, fruit (a pear), or oatmeal for breakfast. After he ate, he and Jimmy went to the pond. On their way there they saw their friend Jack Rabbit. They dove into the water and swam for several hours. The sun was out, but the breeze was cold. Joey and Jimmy got out of the water and started walking home. Their fur was wet, and the breeze chilled them. When they got home, they dried off, and Jimmy put on his favorite purple shirt. Joey put on a blue shirt with red and green dots. The two squirrels ate some food that Joey’s mom, Jasmine, made and went off to bed.,          |\n",
    "\n",
    "## How to configure T5 task for MultiRC\n",
    "`.setTask('multirc questions:)`  followed by `answer:` prefix for the answer to evaluate, followed by `paragraph:` and then a series of sentences, where each sentence is prefixed with `Sent n:`prefix second sentence with sentence2:\n",
    "\n",
    "\n",
    "### Example pre-processed input for T5 MultiRc task:\n",
    "```\n",
    "multirc questions:  Why was Joey surprised the morning he woke up for breakfast?      \n",
    "answer:             There was a T-REX in his garden.      \n",
    "paragraph:      \n",
    "Sent 1:             Once upon a time, there was a squirrel named Joey.      \n",
    "Sent 2:             Joey loved to go outside and play with his cousin Jimmy.      \n",
    "Sent 3:             Joey and Jimmy played silly games together, and were always laughing.      \n",
    "Sent 4:             One day, Joey and Jimmy went swimming together 50 at their Aunt Julie’s pond.      \n",
    "Sent 5:             Joey woke up early in the morning to eat some food before they left.      \n",
    "Sent 6:             He couldn’t find anything to eat except for pie!      \n",
    "Sent 7:             Usually, Joey would eat cereal, fruit (a pear), or oatmeal for breakfast.      \n",
    "Sent 8:             After he ate, he and Jimmy went to the pond.      \n",
    "Sent 9:             On their way there they saw their friend Jack Rabbit.      \n",
    "Sent 10:            They dove into the water and swam for several hours.      \n",
    "Sent 11:            The sun was out, but the breeze was cold.      \n",
    "Sent 12:            Joey and Jimmy got out of the water and started walking home.      \n",
    "Sent 13:            Their fur was wet, and the breeze chilled them.      \n",
    "Sent 14:            When they got home, they dried off, and Jimmy put on his favorite purple shirt.      \n",
    "Sent 15:            Joey put on a blue shirt with red and green dots.      \n",
    "Sent 16:            The two squirrels ate some food that Joey’s mom, Jasmine, made and went off to bed.      \n",
    "```\n",
    "\n",
    "\n",
    "# Task 12 [WiC - Word sense disambiguation](https://arxiv.org/abs/1808.09121)\n",
    "Decide for `two sentence`s with a shared `disambigous word` wether they have the target word has the same `semantic meaning` in both sentences.       \n",
    "This is a sub-task of [SuperGLUE](https://w4ngatang.github.io/static/papers/superglue.pdf).\n",
    "\n",
    "\n",
    "|Predicted | disambigous word| Sentence 1 | Sentence 2 | \n",
    "|----------|-----------------|------------|------------|\n",
    "| False    | kill            | He totally killed that rock show! | The airplane crash killed his family | \n",
    "| True     | window          | The expanded window will give us time to catch the thieves.|You have a two-hour window for turning in your homework. |     \n",
    "| False     | window          | He jumped out of the window.|You have a two-hour window for turning in your homework. |     \n",
    "\n",
    "\n",
    "## How to configure T5 task for MultiRC\n",
    "`.setTask('wic pos:)`  followed by `sentence1:` prefix for the first sentence, followed by `sentence2:` prefix for the second sentence.\n",
    "\n",
    "\n",
    "### Example pre-processed input for T5  WiC task:\n",
    "\n",
    "```\n",
    "wic pos:\n",
    "sentence1:    The expanded window will give us time to catch the thieves.\n",
    "sentence2:    You have a two-hour window of turning in your homework.\n",
    "word :        window\n",
    "```\n",
    "\n",
    "\n",
    "\n",
    "# Task 13 [WSC and DPR - Coreference resolution/ Pronoun ambiguity resolver  ](https://www.aaai.org/ocs/index.php/KR/KR12/paper/view/4492/0)\n",
    "Predict for an `ambiguous pronoun` to which `noun` it is referring to.     \n",
    "This is a sub-task of [GLUE](https://arxiv.org/pdf/1804.07461.pdf) and [SuperGLUE](https://w4ngatang.github.io/static/papers/superglue.pdf).\n",
    "\n",
    "|Prediction| Text | \n",
    "|----------|-------|\n",
    "| stable   | The stable was very roomy, with four good stalls; a large swinging window opened into the yard , which made *it* pleasant and airy. | \n",
    "\n",
    "\n",
    "\n",
    "## How to configure T5 task for WSC/DPR\n",
    "`.setTask('wsc:)` and surround pronoun with asteriks symbols..\n",
    "\n",
    "\n",
    "### Example pre-processed input for T5  WSC/DPR  task:\n",
    "The `ambiguous pronous` should be surrounded with `*` symbols.\n",
    "\n",
    "***Note*** Read [Appendix A.](https://arxiv.org/pdf/1910.10683.pdf#page=64&zoom=100,84,360) for more info\n",
    "```\n",
    "wsc: \n",
    "The stable was very roomy, with four good stalls; a large swinging window opened into the yard , which made *it* pleasant and airy.\n",
    "```\n",
    "\n",
    "\n",
    "# Task 14 [Text summarization](https://arxiv.org/abs/1506.03340)\n",
    "`Summarizes` a paragraph into a shorter version with the same semantic meaning.\n",
    "\n",
    "| Predicted summary| Text | \n",
    "|------------------|-------|\n",
    "| manchester united face newcastle in the premier league on wednesday . louis van gaal's side currently sit two points clear of liverpool in fourth . the belgian duo took to the dance floor on monday night with some friends .            | the belgian duo took to the dance floor on monday night with some friends . manchester united face newcastle in the premier league on wednesday . red devils will be looking for just their second league away win in seven . louis van gaal’s side currently sit two points clear of liverpool in fourth . | \n",
    "\n",
    "\n",
    "## How to configure T5 task for summarization\n",
    "`.setTask('summarize:)`\n",
    "\n",
    "\n",
    "### Example pre-processed input for T5 summarization task:\n",
    "This task requires no pre-processing, setting the task to `summarize` is sufficient.\n",
    "```\n",
    "the belgian duo took to the dance floor on monday night with some friends . manchester united face newcastle in the premier league on wednesday . red devils will be looking for just their second league away win in seven . louis van gaal’s side currently sit two points clear of liverpool in fourth .\n",
    "```\n",
    "\n",
    "# Task 15 [SQuAD - Context based question answering](https://arxiv.org/abs/1606.05250)\n",
    "Predict an `answer` to a `question` based on input `context`.\n",
    "\n",
    "|Predicted Answer | Question | Context | \n",
    "|-----------------|----------|------|\n",
    "|carbon monoxide| What does increased oxygen concentrations in the patient’s lungs displace? | Hyperbaric (high-pressure) medicine uses special oxygen chambers to increase the partial pressure of O 2 around the patient and, when needed, the medical staff. Carbon monoxide poisoning, gas gangrene, and decompression sickness (the ’bends’) are sometimes treated using these devices. Increased O 2 concentration in the lungs helps to displace carbon monoxide from the heme group of hemoglobin. Oxygen gas is poisonous to the anaerobic bacteria that cause gas gangrene, so increasing its partial pressure helps kill them. Decompression sickness occurs in divers who decompress too quickly after a dive, resulting in bubbles of inert gas, mostly nitrogen and helium, forming in their blood. Increasing the pressure of O 2 as soon as possible is part of the treatment.\n",
    "|pie| What did Joey eat for breakfast?| Once upon a time, there was a squirrel named Joey. Joey loved to go outside and play with his cousin Jimmy. Joey and Jimmy played silly games together, and were always laughing. One day, Joey and Jimmy went swimming together 50 at their Aunt Julie’s pond. Joey woke up early in the morning to eat some food before they left. Usually, Joey would eat cereal, fruit (a pear), or oatmeal for breakfast. After he ate, he and Jimmy went to the pond. On their way there they saw their friend Jack Rabbit. They dove into the water and swam for several hours. The sun was out, but the breeze was cold. Joey and Jimmy got out of the water and started walking home. Their fur was wet, and the breeze chilled them. When they got home, they dried off, and Jimmy put on his favorite purple shirt. Joey put on a blue shirt with red and green dots. The two squirrels ate some food that Joey’s mom, Jasmine, made and went off to bed,'|  \n",
    "\n",
    "## How to configure T5 task parameter for Squad Context based question answering\n",
    "`.setTask('question:)` and prefix the context which can be made up of multiple sentences with `context:`\n",
    "\n",
    "## Example pre-processed input for T5 Squad Context based question answering:\n",
    "```\n",
    "question: What does increased oxygen concentrations in the patient’s lungs displace? \n",
    "context: Hyperbaric (high-pressure) medicine uses special oxygen chambers to increase the partial pressure of O 2 around the patient and, when needed, the medical staff. Carbon monoxide poisoning, gas gangrene, and decompression sickness (the ’bends’) are sometimes treated using these devices. Increased O 2 concentration in the lungs helps to displace carbon monoxide from the heme group of hemoglobin. Oxygen gas is poisonous to the anaerobic bacteria that cause gas gangrene, so increasing its partial pressure helps kill them. Decompression sickness occurs in divers who decompress too quickly after a dive, resulting in bubbles of inert gas, mostly nitrogen and helium, forming in their blood. Increasing the pressure of O 2 as soon as possible is part of the treatment.\n",
    "```\n",
    "\n",
    "\n",
    "\n",
    "# Task 16 [WMT1 Translate English to German](https://arxiv.org/abs/1706.03762)\n",
    "For translation tasks use the `marian` model\n",
    "## How to configure T5 task parameter for WMT Translate English to German\n",
    "`.setTask('translate English to German:)`\n",
    "\n",
    "# Task 17 [WMT2 Translate English to French](https://arxiv.org/abs/1706.03762)\n",
    "For translation tasks use the `marian` model\n",
    "## How to configure T5 task parameter for WMT Translate English to French\n",
    "`.setTask('translate English to French:)`\n",
    "\n",
    "\n",
    "# 18 [WMT3 - Translate English to Romanian](https://arxiv.org/abs/1706.03762)\n",
    "For translation tasks use the `marian` model\n",
    "## How to configure T5 task parameter for English to Romanian\n",
    "`.setTask('translate English to Romanian:)`\n"
   ]
  },
  {
   "cell_type": "markdown",
   "metadata": {
    "id": "l73NeLo6r71r"
   },
   "source": [
    "## Colab Setup"
   ]
  },
  {
   "cell_type": "code",
   "execution_count": 1,
   "metadata": {
    "colab": {
     "base_uri": "https://localhost:8080/",
     "height": 109,
     "resources": {
      "http://localhost:8080/nbextensions/google.colab/files.js": {
       "data": "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",
       "headers": [
        [
         "content-type",
         "application/javascript"
        ]
       ],
       "ok": true,
       "status": 200,
       "status_text": ""
      }
     }
    },
    "id": "sDSc7ZPkajRW",
    "outputId": "47fa1a87-67de-455f-d40d-0d9ad66e093c",
    "scrolled": true
   },
   "outputs": [
    {
     "data": {
      "text/html": [
       "\n",
       "     <input type=\"file\" id=\"files-1d2e0f71-8a9d-41f9-ba31-88ad7d5ac012\" name=\"files[]\" multiple disabled\n",
       "        style=\"border:none\" />\n",
       "     <output id=\"result-1d2e0f71-8a9d-41f9-ba31-88ad7d5ac012\">\n",
       "      Upload widget is only available when the cell has been executed in the\n",
       "      current browser session. Please rerun this cell to enable.\n",
       "      </output>\n",
       "      <script src=\"/nbextensions/google.colab/files.js\"></script> "
      ],
      "text/plain": [
       "<IPython.core.display.HTML object>"
      ]
     },
     "metadata": {
      "tags": []
     },
     "output_type": "display_data"
    },
    {
     "name": "stdout",
     "output_type": "stream",
     "text": [
      "Saving jsl_keys.json to jsl_keys (1).json\n"
     ]
    },
    {
     "data": {
      "text/plain": [
       "dict_keys(['SECRET', 'SPARK_NLP_LICENSE', 'AWS_ACCESS_KEY_ID', 'AWS_SECRET_ACCESS_KEY', 'JSL_VERSION', 'PUBLIC_VERSION', 'JSL_OCR_SECRET', 'SPARK_OCR_LICENSE'])"
      ]
     },
     "execution_count": 1,
     "metadata": {
      "tags": []
     },
     "output_type": "execute_result"
    }
   ],
   "source": [
    "import json\n",
    "\n",
    "from google.colab import files\n",
    "\n",
    "license_keys = files.upload()\n",
    "\n",
    "with open(list(license_keys.keys())[0]) as f:\n",
    "    license_keys = json.load(f)\n",
    "\n",
    "license_keys.keys()"
   ]
  },
  {
   "cell_type": "code",
   "execution_count": 2,
   "metadata": {
    "colab": {
     "base_uri": "https://localhost:8080/",
     "height": 35
    },
    "id": "m3osRqPTfOAe",
    "outputId": "df2f6aaa-ddb1-4125-9889-7c0022c311b6"
   },
   "outputs": [
    {
     "data": {
      "application/vnd.google.colaboratory.intrinsic+json": {
       "type": "string"
      },
      "text/plain": [
       "'2.7.3'"
      ]
     },
     "execution_count": 2,
     "metadata": {
      "tags": []
     },
     "output_type": "execute_result"
    }
   ],
   "source": [
    "license_keys['JSL_VERSION']"
   ]
  },
  {
   "cell_type": "code",
   "execution_count": 3,
   "metadata": {
    "colab": {
     "base_uri": "https://localhost:8080/"
    },
    "id": "X9scDR2DfOAe",
    "outputId": "403dc36f-adc9-4096-859d-8895c113bfaa"
   },
   "outputs": [
    {
     "name": "stdout",
     "output_type": "stream",
     "text": [
      "openjdk version \"1.8.0_282\"\n",
      "OpenJDK Runtime Environment (build 1.8.0_282-8u282-b08-0ubuntu1~18.04-b08)\n",
      "OpenJDK 64-Bit Server VM (build 25.282-b08, mixed mode)\n",
      "Looking in indexes: https://pypi.org/simple, https://pypi.johnsnowlabs.com/2.7.3-3f5059a2258ea6585a0bd745ca84dac427bca70c\n",
      "Requirement already up-to-date: spark-nlp-jsl==2.7.3 in /usr/local/lib/python3.6/dist-packages (2.7.3)\n",
      "Requirement already satisfied, skipping upgrade: spark-nlp==2.7.3 in /usr/local/lib/python3.6/dist-packages (from spark-nlp-jsl==2.7.3) (2.7.3)\n",
      "2.7.3\n"
     ]
    }
   ],
   "source": [
    "import os\n",
    "\n",
    "# Install java\n",
    "! apt-get update -qq\n",
    "! apt-get install -y openjdk-8-jdk-headless -qq > /dev/null\n",
    "\n",
    "os.environ[\"JAVA_HOME\"] = \"/usr/lib/jvm/java-8-openjdk-amd64\"\n",
    "os.environ[\"PATH\"] = os.environ[\"JAVA_HOME\"] + \"/bin:\" + os.environ[\"PATH\"]\n",
    "! java -version\n",
    "\n",
    "secret = license_keys['SECRET']\n",
    "\n",
    "os.environ['SPARK_NLP_LICENSE'] = license_keys['SPARK_NLP_LICENSE']\n",
    "os.environ['AWS_ACCESS_KEY_ID']= license_keys['AWS_ACCESS_KEY_ID']\n",
    "os.environ['AWS_SECRET_ACCESS_KEY'] = license_keys['AWS_SECRET_ACCESS_KEY']\n",
    "jsl_version = license_keys['JSL_VERSION']\n",
    "version = license_keys['PUBLIC_VERSION']\n",
    "\n",
    "! pip install --ignore-installed -q pyspark==2.4.4\n",
    "\n",
    "! python -m pip install --upgrade spark-nlp-jsl==$jsl_version  --extra-index-url https://pypi.johnsnowlabs.com/$secret\n",
    "\n",
    "! pip install --ignore-installed -q spark-nlp==$version\n",
    "\n",
    "import sparknlp\n",
    "\n",
    "print (sparknlp.version())\n",
    "\n",
    "import json\n",
    "import os\n",
    "from pyspark.ml import Pipeline\n",
    "from pyspark.sql import SparkSession\n",
    "\n",
    "\n",
    "from sparknlp.annotator import *\n",
    "from sparknlp_jsl.annotator import *\n",
    "from sparknlp.base import *\n",
    "import sparknlp_jsl\n",
    "\n",
    "params = {\"spark.driver.memory\":\"16G\",\n",
    "\"spark.kryoserializer.buffer.max\":\"2000M\",\n",
    "\"spark.driver.maxResultSize\":\"2000M\"}\n",
    " \n",
    "spark = sparknlp_jsl.start(secret, params=params)"
   ]
  },
  {
   "cell_type": "code",
   "execution_count": 4,
   "metadata": {
    "colab": {
     "base_uri": "https://localhost:8080/",
     "height": 216
    },
    "id": "P-n3c1wXo_NW",
    "outputId": "f87da378-f212-41ee-cef0-78351949de23"
   },
   "outputs": [
    {
     "data": {
      "text/html": [
       "\n",
       "            <div>\n",
       "                <p><b>SparkSession - in-memory</b></p>\n",
       "                \n",
       "        <div>\n",
       "            <p><b>SparkContext</b></p>\n",
       "\n",
       "            <p><a href=\"http://171a6a268e69:4040\">Spark UI</a></p>\n",
       "\n",
       "            <dl>\n",
       "              <dt>Version</dt>\n",
       "                <dd><code>v2.4.4</code></dd>\n",
       "              <dt>Master</dt>\n",
       "                <dd><code>local[*]</code></dd>\n",
       "              <dt>AppName</dt>\n",
       "                <dd><code>Spark NLP Licensed</code></dd>\n",
       "            </dl>\n",
       "        </div>\n",
       "        \n",
       "            </div>\n",
       "        "
      ],
      "text/plain": [
       "<pyspark.sql.session.SparkSession at 0x7f9e27a7e240>"
      ]
     },
     "execution_count": 4,
     "metadata": {
      "tags": []
     },
     "output_type": "execute_result"
    }
   ],
   "source": [
    "# if you want to start the session with custom params as in start function above\n",
    "def start(secret):\n",
    "    builder = SparkSession.builder \\\n",
    "        .appName(\"Spark NLP Licensed\") \\\n",
    "        .master(\"local[*]\") \\\n",
    "        .config(\"spark.driver.memory\", \"16G\") \\\n",
    "        .config(\"spark.serializer\", \"org.apache.spark.serializer.KryoSerializer\") \\\n",
    "        .config(\"spark.kryoserializer.buffer.max\", \"2000M\") \\\n",
    "        .config(\"spark.jars.packages\", \"com.johnsnowlabs.nlp:spark-nlp_2.11:\"+version) \\\n",
    "        .config(\"spark.jars\", \"https://pypi.johnsnowlabs.com/\"+secret+\"/spark-nlp-jsl-\"+jsl_version+\".jar\")\n",
    "      \n",
    "    return builder.getOrCreate()\n",
    "\n",
    "#spark = start(secret)\n",
    "\n",
    "spark\n"
   ]
  },
  {
   "cell_type": "markdown",
   "metadata": {
    "id": "qH1sjTKffOAf"
   },
   "source": [
    "## 1. Summarization of medical questions \n",
    "\n",
    "This task identifies and generates concise summaries of questions in the text.\n",
    "\n",
    "To achieve this we trained the model on MEDIQA2021 and MedNLI Datasets to achieve better results for domain-specific/complicated text.\n",
    "\n",
    "\n"
   ]
  },
  {
   "cell_type": "code",
   "execution_count": 10,
   "metadata": {
    "colab": {
     "base_uri": "https://localhost:8080/"
    },
    "id": "_xbvy5UyfOAf",
    "outputId": "c9b59d50-4e8a-4f2b-b473-ee0fb9636089"
   },
   "outputs": [
    {
     "name": "stdout",
     "output_type": "stream",
     "text": [
      "sentence_detector_dl_healthcare download started this may take some time.\n",
      "Approximate size to download 321.1 KB\n",
      "[OK!]\n"
     ]
    }
   ],
   "source": [
    "document_assembler = DocumentAssembler()\\\n",
    ".setInputCol(\"text\")\\\n",
    ".setOutputCol(\"documents\")\n",
    "\n",
    "sentence_detector = SentenceDetectorDLModel().pretrained(\"sentence_detector_dl_healthcare\",\"en\",\"clinical/models\")\\\n",
    "  .setInputCols(\"documents\")\\\n",
    "  .setOutputCol(\"sentence\")\n",
    "\n",
    "t5 = T5Transformer().pretrained(\"t5_base_mediqa_mnli\", \"en\", \"clinical/models\") \\\n",
    "  .setInputCols([\"sentence\"]) \\\n",
    "  .setOutputCol(\"t5_output\")\\\n",
    "  .setTask(\"summarize medical questions:\")\\\n",
    "  .setMaxOutputLength(200)\n",
    "  \n",
    "pipeline = Pipeline(stages=[\n",
    "    document_assembler, \n",
    "    sentence_detector,\n",
    "    t5\n",
    "])\n",
    "pipeline = Pipeline(stages=[\n",
    "    document_assembler, \n",
    "    sentence_detector,\n",
    "    t5\n",
    "])\n",
    "\n",
    "\n",
    "empty_data = spark.createDataFrame([[\"\"]]).toDF(\"text\")\n",
    "\n",
    "model = pipeline.fit(empty_data)\n"
   ]
  },
  {
   "cell_type": "code",
   "execution_count": 11,
   "metadata": {
    "colab": {
     "base_uri": "https://localhost:8080/"
    },
    "id": "peLQsZZNfOAf",
    "outputId": "54847aa2-1c4e-4bb9-b2b6-2f4680f5b55f"
   },
   "outputs": [
    {
     "name": "stdout",
     "output_type": "stream",
     "text": [
      "+---------------------------------------------------------------------------------------------------------------------------------------------------------------------------------------------------------------------------------------------------------------------------+\n",
      "|result                                                                                                                                                                                                                                                                     |\n",
      "+---------------------------------------------------------------------------------------------------------------------------------------------------------------------------------------------------------------------------------------------------------------------------+\n",
      "|[What are the treatments for mensus?, What are the treatments for infantile female reproductive organs?, What are the treatments for cancer?, What are the treatments for organ transplantation?, What are the treatments for cancer?, What are the treatments for cancer?]|\n",
      "+---------------------------------------------------------------------------------------------------------------------------------------------------------------------------------------------------------------------------------------------------------------------------+\n",
      "\n"
     ]
    }
   ],
   "source": [
    "text = \"content:SUBJECT: Normal physical traits but no period MESSAGE: I'm a 40 yr. old woman that has infantile reproductive organs and have never experienced a mensus. I have had Doctors look but they all say I just have infantile female reproductive organs. When I try to look for answers on the internet I cannot find anything. ALL my \\\"girly\\\" parts are normal. My organs never matured. Could you give me more information please. focus:all\"\n",
    "data = spark.createDataFrame([\n",
    "  [1, text]\n",
    "]).toDF('id', 'text')\n",
    "results = model.transform(data)\n",
    "results.select(\"t5_output.result\").show(truncate=False)\n"
   ]
  },
  {
   "cell_type": "markdown",
   "metadata": {
    "id": "-M1vsgVqfOAg"
   },
   "source": [
    "#### Light Pipeline"
   ]
  },
  {
   "cell_type": "code",
   "execution_count": 14,
   "metadata": {
    "colab": {
     "base_uri": "https://localhost:8080/"
    },
    "id": "bzX54kErfOAg",
    "outputId": "f6fd2bc5-3a00-4bee-94ed-c8fb97b24f39"
   },
   "outputs": [
    {
     "data": {
      "text/plain": [
       "['What are the treatments for mensus?',\n",
       " 'What are the treatments for infantile female reproductive organs?',\n",
       " 'What are the treatments for cancer?',\n",
       " 'What are the treatments for organ transplantation?',\n",
       " 'What are the treatments for cancer?',\n",
       " 'What are the treatments for cancer?']"
      ]
     },
     "execution_count": 14,
     "metadata": {
      "tags": []
     },
     "output_type": "execute_result"
    }
   ],
   "source": [
    "light_model = LightPipeline(model)\n",
    "summarized_text = light_model.annotate(text)\n",
    "summarized_text['t5_output']"
   ]
  },
  {
   "cell_type": "code",
   "execution_count": 16,
   "metadata": {
    "colab": {
     "base_uri": "https://localhost:8080/"
    },
    "id": "YjLeoMuZfOAg",
    "outputId": "27402435-6c2e-47a6-8adb-de5afc98a0de"
   },
   "outputs": [
    {
     "data": {
      "text/plain": [
       "['How many times have men under 65 had 5 or more drinks in a day?']"
      ]
     },
     "execution_count": 16,
     "metadata": {
      "tags": []
     },
     "output_type": "execute_result"
    }
   ],
   "source": [
    "text = \"Men under 65 were asked how many times in the past year have did they had 5 or more drinks in a day?\"\n",
    "summarized_text = light_model.annotate(text)\n",
    "summarized_text['t5_output']"
   ]
  },
  {
   "cell_type": "code",
   "execution_count": null,
   "metadata": {
    "id": "whGFvrob0Aoy"
   },
   "outputs": [],
   "source": [
    ""
   ]
  }
 ],
 "metadata": {
  "colab": {
   "collapsed_sections": [],
   "name": "25.T5_Clinical.ipynb",
   "provenance": [],
   "toc_visible": true
  },
  "kernelspec": {
   "display_name": "Python 3",
   "language": "python",
   "name": "python3"
  },
  "language_info": {
   "codemirror_mode": {
    "name": "ipython",
    "version": 3
   },
   "file_extension": ".py",
   "mimetype": "text/x-python",
   "name": "python",
   "nbconvert_exporter": "python",
   "pygments_lexer": "ipython3",
   "version": "3.7.6"
  }
 },
 "nbformat": 4,
 "nbformat_minor": 0
}
