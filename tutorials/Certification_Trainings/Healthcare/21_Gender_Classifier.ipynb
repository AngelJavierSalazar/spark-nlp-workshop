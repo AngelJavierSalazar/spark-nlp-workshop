{
  "nbformat": 4,
  "nbformat_minor": 0,
  "metadata": {
    "colab": {
      "name": "1.Clinical_Named_Entity_Recognition_Model.ipynb",
      "provenance": [],
      "collapsed_sections": [],
      "toc_visible": true
    },
    "kernelspec": {
      "display_name": "Python 3",
      "language": "python",
      "name": "python3"
    },
    "language_info": {
      "codemirror_mode": {
        "name": "ipython",
        "version": 3
      },
      "file_extension": ".py",
      "mimetype": "text/x-python",
      "name": "python",
      "nbconvert_exporter": "python",
      "pygments_lexer": "ipython3",
      "version": "3.7.4"
    }
  },
  "cells": [
    {
      "cell_type": "markdown",
      "metadata": {
        "id": "I08sFJYCxR0Z"
      },
      "source": [
        "![JohnSnowLabs](https://nlp.johnsnowlabs.com/assets/images/logo.png)"
      ]
    },
    {
      "cell_type": "markdown",
      "metadata": {
        "id": "FwJ-P56kq6FU"
      },
      "source": [
        "[![Open In Colab](https://colab.research.google.com/assets/colab-badge.svg)](https://colab.research.google.com/github/JohnSnowLabs/spark-nlp-workshop/blob/master/tutorials/Certification_Trainings/Healthcare/21.Gender_Classifier.ipynb)"
      ]
    },
    {
      "cell_type": "markdown",
      "metadata": {
        "id": "Niy3mZAjoayg"
      },
      "source": [
        "# Gender Classifier "
      ]
    },
    {
      "cell_type": "markdown",
      "metadata": {
        "id": "rTVcwSuUjnrP"
      },
      "source": [
        "**Gender Classifier** detects the gender of the patient in the clinical document. \n",
        "It can  classify the documents into `Female`, `Male` and `Unknown`.\n",
        "\n",
        "We have two different models: \n",
        "\n",
        "-'**Classifierdl_gender_sbert**' (more accurate, works with licensed `sbiobert_base_cased_mli`)\n",
        "\n",
        "-'**Classifierdl_gender_biobert**' (works with `biobert_pubmed_base_cased`)\n",
        "\n",
        "The models are trained on more than four thousands clinical documents (radiology reports, pathology reports, clinical visits etc.) which were annotated internally.\n"
      ]
    },
    {
      "cell_type": "markdown",
      "metadata": {
        "id": "okhT7AcXxben"
      },
      "source": [
        "## Colab Setup"
      ]
    },
    {
      "cell_type": "code",
      "metadata": {
        "id": "drxBhpZxI32S"
      },
      "source": [
        "import json\n",
        "\n",
        "from google.colab import files\n",
        "\n",
        "license_keys = files.upload()\n",
        "\n",
        "with open(list(license_keys.keys())[0]) as f:\n",
        "    license_keys = json.load(f)\n",
        "\n",
        "license_keys.keys()"
      ],
      "execution_count": null,
      "outputs": []
    },
    {
      "cell_type": "code",
      "metadata": {
        "colab": {
          "base_uri": "https://localhost:8080/",
          "height": 35
        },
        "id": "hIn5f_zDVS6g",
        "outputId": "e8b772c5-a871-415d-d065-8dd586b64334"
      },
      "source": [
        "license_keys['JSL_VERSION']"
      ],
      "execution_count": 3,
      "outputs": [
        {
          "output_type": "execute_result",
          "data": {
            "application/vnd.google.colaboratory.intrinsic+json": {
              "type": "string"
            },
            "text/plain": [
              "'2.7.2'"
            ]
          },
          "metadata": {
            "tags": []
          },
          "execution_count": 3
        }
      ]
    },
    {
      "cell_type": "code",
      "metadata": {
        "id": "OAeSNGvgIyyZ"
      },
      "source": [
        "import os\n",
        "\n",
        "# Install java\n",
        "! apt-get update -qq\n",
        "! apt-get install -y openjdk-8-jdk-headless -qq > /dev/null\n",
        "\n",
        "os.environ[\"JAVA_HOME\"] = \"/usr/lib/jvm/java-8-openjdk-amd64\"\n",
        "os.environ[\"PATH\"] = os.environ[\"JAVA_HOME\"] + \"/bin:\" + os.environ[\"PATH\"]\n",
        "! java -version\n",
        "\n",
        "secret = license_keys['SECRET']\n",
        "\n",
        "os.environ['SPARK_NLP_LICENSE'] = license_keys['SPARK_NLP_LICENSE']\n",
        "os.environ['AWS_ACCESS_KEY_ID']= license_keys['AWS_ACCESS_KEY_ID']\n",
        "os.environ['AWS_SECRET_ACCESS_KEY'] = license_keys['AWS_SECRET_ACCESS_KEY']\n",
        "version = license_keys['PUBLIC_VERSION']\n",
        "jsl_version = license_keys['JSL_VERSION']\n",
        "\n",
        "! pip install --ignore-installed -q pyspark==2.4.4\n",
        "\n",
        "! python -m pip install --upgrade spark-nlp-jsl==$jsl_version  --extra-index-url https://pypi.johnsnowlabs.com/$secret\n",
        "\n",
        "! pip install --ignore-installed -q spark-nlp==$version\n",
        "\n",
        "import sparknlp\n",
        "\n",
        "print (sparknlp.version())\n",
        "\n",
        "import json\n",
        "import os\n",
        "from pyspark.ml import Pipeline\n",
        "from pyspark.sql import SparkSession\n",
        "\n",
        "\n",
        "from sparknlp.annotator import *\n",
        "from sparknlp_jsl.annotator import *\n",
        "from sparknlp.base import *\n",
        "import sparknlp_jsl\n",
        "\n",
        "spark = sparknlp_jsl.start(secret)"
      ],
      "execution_count": null,
      "outputs": []
    },
    {
      "cell_type": "code",
      "metadata": {
        "colab": {
          "base_uri": "https://localhost:8080/",
          "height": 214
        },
        "id": "mzV1fdf-Vs1f",
        "outputId": "4f2ca13f-7869-4d90-dbf2-4eabd3da92e1"
      },
      "source": [
        "spark"
      ],
      "execution_count": 6,
      "outputs": [
        {
          "output_type": "execute_result",
          "data": {
            "text/html": [
              "\n",
              "            <div>\n",
              "                <p><b>SparkSession - in-memory</b></p>\n",
              "                \n",
              "        <div>\n",
              "            <p><b>SparkContext</b></p>\n",
              "\n",
              "            <p><a href=\"http://e151a2b51529:4040\">Spark UI</a></p>\n",
              "\n",
              "            <dl>\n",
              "              <dt>Version</dt>\n",
              "                <dd><code>v2.4.4</code></dd>\n",
              "              <dt>Master</dt>\n",
              "                <dd><code>local[*]</code></dd>\n",
              "              <dt>AppName</dt>\n",
              "                <dd><code>Spark NLP Licensed</code></dd>\n",
              "            </dl>\n",
              "        </div>\n",
              "        \n",
              "            </div>\n",
              "        "
            ],
            "text/plain": [
              "<pyspark.sql.session.SparkSession at 0x7f01ef54ad30>"
            ]
          },
          "metadata": {
            "tags": []
          },
          "execution_count": 6
        }
      ]
    },
    {
      "cell_type": "code",
      "metadata": {
        "id": "sNs3kOKMVK2Z"
      },
      "source": [
        "# if you want to start the session with custom params as in start function above\n",
        "def start(secret):\n",
        "    builder = SparkSession.builder \\\n",
        "        .appName(\"Spark NLP Licensed\") \\\n",
        "        .master(\"local[*]\") \\\n",
        "        .config(\"spark.driver.memory\", \"16G\") \\\n",
        "        .config(\"spark.serializer\", \"org.apache.spark.serializer.KryoSerializer\") \\\n",
        "        .config(\"spark.kryoserializer.buffer.max\", \"2000M\") \\\n",
        "        .config(\"spark.jars.packages\", \"com.johnsnowlabs.nlp:spark-nlp_2.11:\"+version) \\\n",
        "        .config(\"spark.jars\", \"https://pypi.johnsnowlabs.com/\"+secret+\"/spark-nlp-jsl-\"+jsl_version+\".jar\")\n",
        "      \n",
        "    return builder.getOrCreate()\n",
        "\n",
        "#spark = start(secret)"
      ],
      "execution_count": null,
      "outputs": []
    },
    {
      "cell_type": "code",
      "metadata": {
        "colab": {
          "base_uri": "https://localhost:8080/"
        },
        "id": "l6Vw5-_PzhY1",
        "outputId": "3767f713-cb04-4c70-805c-3eebd6145d32"
      },
      "source": [
        "import sparknlp\n",
        "\n",
        "print (sparknlp.version())\n",
        "\n",
        "print (sparknlp_jsl.version())"
      ],
      "execution_count": 5,
      "outputs": [
        {
          "output_type": "stream",
          "text": [
            "2.6.5\n",
            "2.7.2\n"
          ],
          "name": "stdout"
        }
      ]
    },
    {
      "cell_type": "markdown",
      "metadata": {
        "id": "AMU4sAJQ0Rhs"
      },
      "source": [
        "\n",
        "\n",
        "# Gender Classifier Pipeline with **sbert**"
      ]
    },
    {
      "cell_type": "code",
      "metadata": {
        "colab": {
          "base_uri": "https://localhost:8080/"
        },
        "id": "DEa5SITBxmY0",
        "outputId": "d7d637b3-290b-46d3-d1ae-da476b2eff8d"
      },
      "source": [
        "\n",
        "document = DocumentAssembler()\\\n",
        "      .setInputCol(\"text\")\\\n",
        "      .setOutputCol(\"document\")\n",
        "\n",
        "sbert_embedder = BertSentenceEmbeddings().pretrained(\"sbiobert_base_cased_mli\", 'en', 'clinical/models')\\\n",
        "      .setInputCols([\"document\"])\\\n",
        "      .setOutputCol(\"sentence_embeddings\")\\\n",
        "      .setMaxSentenceLength(512)\n",
        "\n",
        "gender_classifier = ClassifierDLModel.pretrained( 'classifierdl_gender_sbert', 'en', 'clinical/models') \\\n",
        "      .setInputCols([\"document\", \"sentence_embeddings\"]) \\\n",
        "      .setOutputCol(\"class\")    \n",
        "\n",
        "gender_pred_pipeline_sbert = Pipeline(stages = [ document, \n",
        "                                          sbert_embedder, \n",
        "                                          gender_classifier   \n",
        "                                          ])\n",
        "\n",
        "empty_data = spark.createDataFrame([[\"\"]]).toDF(\"text\")\n",
        "\n",
        "model_sbert = gender_pred_pipeline_sbert.fit(empty_data)\n"
      ],
      "execution_count": 42,
      "outputs": [
        {
          "output_type": "stream",
          "text": [
            "sbiobert_base_cased_mli download started this may take some time.\n",
            "Approximate size to download 384.3 MB\n",
            "[OK!]\n",
            "classifierdl_gender_sbert download started this may take some time.\n",
            "Approximate size to download 22.4 MB\n",
            "[OK!]\n",
            "sentence_detector_dl_healthcare download started this may take some time.\n",
            "Approximate size to download 321.1 KB\n",
            "[OK!]\n"
          ],
          "name": "stdout"
        }
      ]
    },
    {
      "cell_type": "code",
      "metadata": {
        "colab": {
          "base_uri": "https://localhost:8080/",
          "height": 35
        },
        "id": "XgxuAU8ZsXVJ",
        "outputId": "eb50fb18-b1da-43fa-8cd5-14986124bd60"
      },
      "source": [
        "text =\"\"\"social history: shows that  does not smoke cigarettes or drink alcohol,lives in a nursing home.family history: shows a family history of breast cancer.\"\"\"\n",
        "\n",
        "gender_pipeline_sbert = LightPipeline(model_sbert)\n",
        "\n",
        "result = gender_pipeline_sbert.annotate(text)\n",
        "\n",
        "result['class'][0]\n"
      ],
      "execution_count": 147,
      "outputs": [
        {
          "output_type": "execute_result",
          "data": {
            "application/vnd.google.colaboratory.intrinsic+json": {
              "type": "string"
            },
            "text/plain": [
              "'Female'"
            ]
          },
          "metadata": {
            "tags": []
          },
          "execution_count": 147
        }
      ]
    },
    {
      "cell_type": "markdown",
      "metadata": {
        "id": "IUThl3_J9dqn"
      },
      "source": [
        "### Sample Clinical Notes"
      ]
    },
    {
      "cell_type": "code",
      "metadata": {
        "colab": {
          "base_uri": "https://localhost:8080/",
          "height": 35
        },
        "id": "vJCI7fZf9-2g",
        "outputId": "1af41277-31e9-4ce3-95ff-f03784bb308e"
      },
      "source": [
        "text1 = '''social history: shows that  does not smoke cigarettes or drink alcohol,lives in a nursing home.\n",
        "family history: shows a family history of breast cancer.'''\n",
        "\n",
        "result = gender_pipeline_sbert.annotate(text1)\n",
        "\n",
        "result['class'][0]"
      ],
      "execution_count": 148,
      "outputs": [
        {
          "output_type": "execute_result",
          "data": {
            "application/vnd.google.colaboratory.intrinsic+json": {
              "type": "string"
            },
            "text/plain": [
              "'Female'"
            ]
          },
          "metadata": {
            "tags": []
          },
          "execution_count": 148
        }
      ]
    },
    {
      "cell_type": "code",
      "metadata": {
        "colab": {
          "base_uri": "https://localhost:8080/",
          "height": 35
        },
        "id": "hNbN8ZfPDwbm",
        "outputId": "f6f9e52b-2406-43c6-ecdc-7c580367e932"
      },
      "source": [
        "text2 = '''The patient is a 48- year-old, with severe mitral stenosis diagnosed by echocardiography, moderate\n",
        " aortic insufficiency and moderate to severe pulmonary hypertension who is being evaluated as a part of a preoperative \n",
        " workup for mitral and possible aortic valve repair or replacement.'''\n",
        "\n",
        "result = gender_pipeline_sbert.annotate(text2)\n",
        "\n",
        "result['class'][0]"
      ],
      "execution_count": 149,
      "outputs": [
        {
          "output_type": "execute_result",
          "data": {
            "application/vnd.google.colaboratory.intrinsic+json": {
              "type": "string"
            },
            "text/plain": [
              "'Unknown'"
            ]
          },
          "metadata": {
            "tags": []
          },
          "execution_count": 149
        }
      ]
    },
    {
      "cell_type": "code",
      "metadata": {
        "colab": {
          "base_uri": "https://localhost:8080/",
          "height": 35
        },
        "id": "Y7AOPrQHDy6D",
        "outputId": "5e6606b0-243c-457f-959e-3ca0b721d78d"
      },
      "source": [
        "\n",
        "text3 = '''HISTORY: The patient is a 57-year-old XX, who I initially saw in the office on 12/27/07, as a referral from the Tomball Breast Center.\n",
        "On 12/21/07, the patient underwent image-guided needle core biopsy of a 1.5 cm lesion at the 7 o'clock position of the left breast (inferomedial). \n",
        "The biopsy returned showing infiltrating ductal carcinoma high histologic grade.\n",
        "The patient stated that xx had recently felt and her physician had felt a palpable mass in that area prior to her breast imaging.'''\n",
        "\n",
        "result = gender_pipeline_sbert.annotate(text3)\n",
        "\n",
        "result['class'][0]"
      ],
      "execution_count": 150,
      "outputs": [
        {
          "output_type": "execute_result",
          "data": {
            "application/vnd.google.colaboratory.intrinsic+json": {
              "type": "string"
            },
            "text/plain": [
              "'Female'"
            ]
          },
          "metadata": {
            "tags": []
          },
          "execution_count": 150
        }
      ]
    },
    {
      "cell_type": "code",
      "metadata": {
        "colab": {
          "base_uri": "https://localhost:8080/",
          "height": 35
        },
        "id": "woMCJpo2Dywt",
        "outputId": "96b45d0b-0020-40a4-d060-946a94d62c65"
      },
      "source": [
        "\n",
        "text4 = '''The patient states that xx has been overweight for approximately 35 years and has tried multiple weight loss modalities in \n",
        "the past including Weight Watchers, NutriSystem, Jenny Craig, TOPS, cabbage diet, grape fruit diet, Slim-Fast, Richard Simmons,\n",
        "as well as over-the-counter  measures without any long-term sustainable weight loss.\n",
        "At the time of presentation to the practice, xx is 5 feet 6 inches tall with a weight of 285.4 pounds and a body mass index of 46.\n",
        "xx has obesity-related comorbidities, which includes hypertension and hypercholesterolemia.'''\n",
        "\n",
        "result = gender_pipeline_sbert.annotate(text4)\n",
        "\n",
        "result['class'][0]"
      ],
      "execution_count": 151,
      "outputs": [
        {
          "output_type": "execute_result",
          "data": {
            "application/vnd.google.colaboratory.intrinsic+json": {
              "type": "string"
            },
            "text/plain": [
              "'Female'"
            ]
          },
          "metadata": {
            "tags": []
          },
          "execution_count": 151
        }
      ]
    },
    {
      "cell_type": "code",
      "metadata": {
        "colab": {
          "base_uri": "https://localhost:8080/",
          "height": 35
        },
        "id": "lPVx1V9gsW72",
        "outputId": "fc8c0e5b-d31e-42ef-9d9a-037747afdb46"
      },
      "source": [
        "text5 = '''Prostate gland showing moderately differentiated infiltrating adenocarcinoma, \n",
        "Gleason 3 + 2 extending to the apex involving both lobes of the prostate, mainly right.'''\n",
        "\n",
        "result = gender_pipeline_sbert.annotate(text5)\n",
        "\n",
        "result['class'][0]"
      ],
      "execution_count": 152,
      "outputs": [
        {
          "output_type": "execute_result",
          "data": {
            "application/vnd.google.colaboratory.intrinsic+json": {
              "type": "string"
            },
            "text/plain": [
              "'Male'"
            ]
          },
          "metadata": {
            "tags": []
          },
          "execution_count": 152
        }
      ]
    },
    {
      "cell_type": "code",
      "metadata": {
        "colab": {
          "base_uri": "https://localhost:8080/",
          "height": 35
        },
        "id": "llLVssxnEpmI",
        "outputId": "cf7857c8-0533-489b-a94a-b475807ddcae"
      },
      "source": [
        "text6 = '''SKIN: The patient has significant subcutaneous emphysema of the upper chest and \n",
        "anterior neck area although he states that the subcutaneous emphysema has improved significantly since yesterday.'''\n",
        "\n",
        "result = gender_pipeline_sbert.annotate(text6)\n",
        "\n",
        "result['class'][0]"
      ],
      "execution_count": 154,
      "outputs": [
        {
          "output_type": "execute_result",
          "data": {
            "application/vnd.google.colaboratory.intrinsic+json": {
              "type": "string"
            },
            "text/plain": [
              "'Male'"
            ]
          },
          "metadata": {
            "tags": []
          },
          "execution_count": 154
        }
      ]
    },
    {
      "cell_type": "code",
      "metadata": {
        "colab": {
          "base_uri": "https://localhost:8080/",
          "height": 35
        },
        "id": "6yjmisN2Er-H",
        "outputId": "480e8ac1-bc64-4d5b-ec9c-ea8b7af2a159"
      },
      "source": [
        "text7 = '''INDICATION: The patient is a 42-year-old XX who is five days out from transanal excision of a benign anterior base lesion.\n",
        "xx presents today with diarrhea and bleeding. Digital exam reveals bright red blood on the finger.\n",
        "xx is for exam under anesthesia and control of hemorrhage at this time.\n",
        "'''\n",
        "result = gender_pipeline_sbert.annotate(text7)\n",
        "\n",
        "result['class'][0]"
      ],
      "execution_count": 155,
      "outputs": [
        {
          "output_type": "execute_result",
          "data": {
            "application/vnd.google.colaboratory.intrinsic+json": {
              "type": "string"
            },
            "text/plain": [
              "'Male'"
            ]
          },
          "metadata": {
            "tags": []
          },
          "execution_count": 155
        }
      ]
    },
    {
      "cell_type": "code",
      "metadata": {
        "colab": {
          "base_uri": "https://localhost:8080/",
          "height": 35
        },
        "id": "YkCM22qgEr1n",
        "outputId": "3391acb1-de2e-4850-81d8-dd3e8e72723d"
      },
      "source": [
        "text8 = '''INDICATION: ___ year old patient with complicated medical history of paraplegia\n",
        "and chronic indwelling foley, recurrent MDR UTIs, hx Gallbladder fossa\n",
        "abscess,type 2 DM, HTN, CAD, DVT s/p left AKA complicated complicated by\n",
        "respiratory failure requiring tracheostomy and PEG placement, right ischium\n",
        "osteomyelitis due to chronic pressure ulcers with acute shortness of breath...'''\n",
        "\n",
        "result = gender_pipeline_sbert.annotate(text8)\n",
        "\n",
        "result['class'][0]\n"
      ],
      "execution_count": 156,
      "outputs": [
        {
          "output_type": "execute_result",
          "data": {
            "application/vnd.google.colaboratory.intrinsic+json": {
              "type": "string"
            },
            "text/plain": [
              "'Male'"
            ]
          },
          "metadata": {
            "tags": []
          },
          "execution_count": 156
        }
      ]
    },
    {
      "cell_type": "code",
      "metadata": {
        "colab": {
          "base_uri": "https://localhost:8080/",
          "height": 35
        },
        "id": "Oct19dfPErtD",
        "outputId": "0e5ac3b2-ad55-45f6-e143-ee16d5a5ba86"
      },
      "source": [
        "\n",
        "text9 = '''NDICATION: ___ year old xx with hx of polysubstance abuse, Hep C who\n",
        "presented to OSH with N/V, BRBPR, found to have elevated lactate, acute renal\n",
        "failure and with CT concerning acute pancreatitis, active colonic bleed (s/p\n",
        "IR and now stable-appearing), proctocolitis, and shock, on vanc/zosyn and CRRT'''\n",
        "\n",
        "result = gender_pipeline_sbert.annotate(text9)\n",
        "\n",
        "result['class'][0]"
      ],
      "execution_count": 157,
      "outputs": [
        {
          "output_type": "execute_result",
          "data": {
            "application/vnd.google.colaboratory.intrinsic+json": {
              "type": "string"
            },
            "text/plain": [
              "'Male'"
            ]
          },
          "metadata": {
            "tags": []
          },
          "execution_count": 157
        }
      ]
    },
    {
      "cell_type": "markdown",
      "metadata": {
        "id": "taxrFtV8nawW"
      },
      "source": [
        "## Gender Classifier Pipeline with **biobert**"
      ]
    },
    {
      "cell_type": "code",
      "metadata": {
        "colab": {
          "base_uri": "https://localhost:8080/"
        },
        "id": "uV8BT36EnOHa",
        "outputId": "bd82ad97-71a0-4958-cb0e-413c3545980b"
      },
      "source": [
        "document = DocumentAssembler()\\\n",
        "      .setInputCol(\"text\")\\\n",
        "      .setOutputCol(\"document\")\n",
        "\n",
        "clf_tokenizer = Tokenizer()\\\n",
        "    .setInputCols([\"document\"])\\\n",
        "    .setOutputCol(\"token\")\\\n",
        "\n",
        "biobert_embeddings = BertEmbeddings().pretrained('biobert_pubmed_base_cased')\\\n",
        "    .setInputCols([\"document\",'token'])\\\n",
        "    .setOutputCol(\"bert_embeddings\")\n",
        "\n",
        "biobert_embeddings_avg = SentenceEmbeddings()\\\n",
        "    .setInputCols([\"document\", \"bert_embeddings\"])\\\n",
        "    .setOutputCol(\"sentence_bert_embeddings\")\\\n",
        "    .setPoolingStrategy(\"AVERAGE\")\n",
        "\n",
        "genderClassifier = ClassifierDLModel.pretrained('classifierdl_gender_sbert', 'en', 'clinical/models')\\\n",
        "    .setInputCols([\"document\", \"sentence_bert_embeddings\"])\\\n",
        "    .setOutputCol(\"gender\")\n",
        "  \n",
        "gender_pred_pipeline_bbert = Pipeline(stages = [\n",
        "                                         documentAssembler,\n",
        "                                         clf_tokenizer,\n",
        "                                         biobert_embeddings,\n",
        "                                         biobert_embeddings_avg,\n",
        "                                         genderClassifier\n",
        "                                         ])\n",
        "\n",
        "empty_data = spark.createDataFrame([[\"\"]]).toDF(\"text\")\n",
        "\n",
        "model_bbert = gender_pred_pipeline_bbert.fit(empty_data)\n",
        "\n",
        "\n"
      ],
      "execution_count": 45,
      "outputs": [
        {
          "output_type": "stream",
          "text": [
            "biobert_pubmed_base_cased download started this may take some time.\n",
            "Approximate size to download 386.4 MB\n",
            "[OK!]\n",
            "classifierdl_gender_sbert download started this may take some time.\n",
            "Approximate size to download 22.4 MB\n",
            "[OK!]\n"
          ],
          "name": "stdout"
        }
      ]
    },
    {
      "cell_type": "markdown",
      "metadata": {
        "id": "m_budth1F87M"
      },
      "source": [
        "###  Sample Clinical Notes"
      ]
    },
    {
      "cell_type": "code",
      "metadata": {
        "colab": {
          "base_uri": "https://localhost:8080/",
          "height": 35
        },
        "id": "fQYjpo3K94uw",
        "outputId": "269e8a79-168d-4851-8033-8270a1ea2eea"
      },
      "source": [
        "text10 = '''social history: shows that  does not smoke cigarettes or drink alcohol,lives in a nursing home.family history: \n",
        "shows a family history of breast cancer.'''\n",
        "\n",
        "gender_pipeline_bbert = LightPipeline(model_bbert)\n",
        "\n",
        "result_bbert = gender_pipeline_bbert.annotate(text10)\n",
        "\n",
        "result_bbert['gender'][0]"
      ],
      "execution_count": 159,
      "outputs": [
        {
          "output_type": "execute_result",
          "data": {
            "application/vnd.google.colaboratory.intrinsic+json": {
              "type": "string"
            },
            "text/plain": [
              "'Female'"
            ]
          },
          "metadata": {
            "tags": []
          },
          "execution_count": 159
        }
      ]
    },
    {
      "cell_type": "code",
      "metadata": {
        "colab": {
          "base_uri": "https://localhost:8080/",
          "height": 35
        },
        "id": "eT80ZmCkFDu6",
        "outputId": "0a8187e7-f5c2-496c-efc5-df1b93e6db24"
      },
      "source": [
        "\n",
        "text11 ='''Wand where xx was evaluated for xx smallbreasts as wellas dark areas on xx face and varicose veins to the back and\n",
        " posterior aspect of xx right lower extremity.'''\n",
        "\n",
        "result_bbert = gender_pipeline_bbert.annotate(text11)\n",
        "\n",
        "result_bbert['gender'][0]"
      ],
      "execution_count": 160,
      "outputs": [
        {
          "output_type": "execute_result",
          "data": {
            "application/vnd.google.colaboratory.intrinsic+json": {
              "type": "string"
            },
            "text/plain": [
              "'Female'"
            ]
          },
          "metadata": {
            "tags": []
          },
          "execution_count": 160
        }
      ]
    },
    {
      "cell_type": "code",
      "metadata": {
        "colab": {
          "base_uri": "https://localhost:8080/",
          "height": 35
        },
        "id": "4qTrqBePFFVp",
        "outputId": "ceb47d32-1206-4b4c-aefb-d89524ef50a0"
      },
      "source": [
        "\n",
        "text12 = '''Prostate gland showing moderately differentiated infiltrating adenocarcinoma, \n",
        "Gleason 3 + 2 extending to the apex involving both lobes of the prostate, mainly right.'''\n",
        "\n",
        "result_bbert = gender_pipeline_bbert.annotate(text12)\n",
        "\n",
        "result_bbert['gender'][0]"
      ],
      "execution_count": 161,
      "outputs": [
        {
          "output_type": "execute_result",
          "data": {
            "application/vnd.google.colaboratory.intrinsic+json": {
              "type": "string"
            },
            "text/plain": [
              "'Male'"
            ]
          },
          "metadata": {
            "tags": []
          },
          "execution_count": 161
        }
      ]
    }
  ]
}