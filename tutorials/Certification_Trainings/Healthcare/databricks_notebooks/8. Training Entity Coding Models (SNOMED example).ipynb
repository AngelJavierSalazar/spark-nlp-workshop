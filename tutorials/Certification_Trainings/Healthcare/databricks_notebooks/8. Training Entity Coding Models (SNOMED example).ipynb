{
 "cells": [
  {
   "cell_type": "markdown",
   "metadata": {
    "application/vnd.databricks.v1+cell": {
     "inputWidgets": {},
     "nuid": "d8cf8eda-8bbf-44e4-bbdd-702efd62aea7",
     "showTitle": false,
     "title": ""
    }
   },
   "source": [
    "![JohnSnowLabs](https://nlp.johnsnowlabs.com/assets/images/logo.png)"
   ]
  },
  {
   "cell_type": "markdown",
   "metadata": {
    "application/vnd.databricks.v1+cell": {
     "inputWidgets": {},
     "nuid": "4ae73e24-0be3-46bc-9ed3-d8f35308952d",
     "showTitle": false,
     "title": ""
    }
   },
   "source": [
    "# Training Entity Coding Models (SNOMED example)"
   ]
  },
  {
   "cell_type": "code",
   "execution_count": 0,
   "metadata": {
    "application/vnd.databricks.v1+cell": {
     "inputWidgets": {},
     "nuid": "3cb7a973-e5c3-4e65-9771-7685520b18e9",
     "showTitle": false,
     "title": ""
    }
   },
   "outputs": [
    {
     "data": {
      "text/html": [
       "<style scoped>\n",
       "  .ansiout {\n",
       "    display: block;\n",
       "    unicode-bidi: embed;\n",
       "    white-space: pre-wrap;\n",
       "    word-wrap: break-word;\n",
       "    word-break: break-all;\n",
       "    font-family: \"Source Code Pro\", \"Menlo\", monospace;;\n",
       "    font-size: 13px;\n",
       "    color: #555;\n",
       "    margin-left: 4px;\n",
       "    line-height: 19px;\n",
       "  }\n",
       "</style>\n",
       "<div class=\"ansiout\">sparknlp_jsl.version :  3.0.1\n",
       "Out[1]: </div>"
      ]
     },
     "metadata": {
      "application/vnd.databricks.v1+output": {
       "addedWidgets": {},
       "arguments": {},
       "data": "<div class=\"ansiout\">sparknlp_jsl.version :  3.0.1\nOut[1]: </div>",
       "datasetInfos": [],
       "removedWidgets": [],
       "type": "html"
      }
     },
     "output_type": "display_data"
    },
    {
     "data": {
      "text/html": [
       "\n",
       "            <div>\n",
       "                <p><b>SparkSession - hive</b></p>\n",
       "                \n",
       "        <div>\n",
       "            <p><b>SparkContext</b></p>\n",
       "\n",
       "            <p><a href=\"/?o=3418543878422327#setting/sparkui/0421-031638-preys129/driver-7014659730247948411\">Spark UI</a></p>\n",
       "\n",
       "            <dl>\n",
       "              <dt>Version</dt>\n",
       "                <dd><code>v3.0.1</code></dd>\n",
       "              <dt>Master</dt>\n",
       "                <dd><code>spark://10.164.224.216:7077</code></dd>\n",
       "              <dt>AppName</dt>\n",
       "                <dd><code>Databricks Shell</code></dd>\n",
       "            </dl>\n",
       "        </div>\n",
       "        \n",
       "            </div>\n",
       "        "
      ]
     },
     "metadata": {
      "application/vnd.databricks.v1+output": {
       "addedWidgets": {},
       "arguments": {},
       "data": "\n            <div>\n                <p><b>SparkSession - hive</b></p>\n                \n        <div>\n            <p><b>SparkContext</b></p>\n\n            <p><a href=\"/?o=3418543878422327#setting/sparkui/0421-031638-preys129/driver-7014659730247948411\">Spark UI</a></p>\n\n            <dl>\n              <dt>Version</dt>\n                <dd><code>v3.0.1</code></dd>\n              <dt>Master</dt>\n                <dd><code>spark://10.164.224.216:7077</code></dd>\n              <dt>AppName</dt>\n                <dd><code>Databricks Shell</code></dd>\n            </dl>\n        </div>\n        \n            </div>\n        ",
       "datasetInfos": [],
       "removedWidgets": [],
       "textData": null,
       "type": "htmlSandbox"
      }
     },
     "output_type": "display_data"
    }
   ],
   "source": [
    "import os\n",
    "import json\n",
    "import string\n",
    "import numpy as np\n",
    "import pandas as pd\n",
    "\n",
    "\n",
    "import sparknlp\n",
    "import sparknlp_jsl\n",
    "from sparknlp.base import *\n",
    "from sparknlp.util import *\n",
    "from sparknlp.annotator import *\n",
    "from sparknlp_jsl.annotator import *\n",
    "from sparknlp.pretrained import ResourceDownloader\n",
    "\n",
    "from pyspark.sql import functions as F\n",
    "from pyspark.ml import Pipeline, PipelineModel\n",
    "from pyspark.sql.types import StructType, StructField, StringType\n",
    "\n",
    "pd.set_option('max_colwidth', 100)\n",
    "pd.set_option('display.max_columns', 100)  \n",
    "pd.set_option('display.expand_frame_repr', False)\n",
    "\n",
    "\n",
    "print('sparknlp_jsl.version : ',sparknlp_jsl.version())\n",
    "\n",
    "spark"
   ]
  },
  {
   "cell_type": "markdown",
   "metadata": {
    "application/vnd.databricks.v1+cell": {
     "inputWidgets": {},
     "nuid": "c7a5533a-d389-4d5a-b7ef-ba0870ab5a4f",
     "showTitle": false,
     "title": ""
    }
   },
   "source": [
    "## Load datasets"
   ]
  },
  {
   "cell_type": "code",
   "execution_count": 0,
   "metadata": {
    "application/vnd.databricks.v1+cell": {
     "inputWidgets": {},
     "nuid": "113ec8cc-2625-472b-95e4-cf97d3c94ce4",
     "showTitle": false,
     "title": ""
    }
   },
   "outputs": [
    {
     "data": {
      "text/html": [
       "<style scoped>\n",
       "  .ansiout {\n",
       "    display: block;\n",
       "    unicode-bidi: embed;\n",
       "    white-space: pre-wrap;\n",
       "    word-wrap: break-word;\n",
       "    word-break: break-all;\n",
       "    font-family: \"Source Code Pro\", \"Menlo\", monospace;;\n",
       "    font-size: 13px;\n",
       "    color: #555;\n",
       "    margin-left: 4px;\n",
       "    line-height: 19px;\n",
       "  }\n",
       "</style>\n",
       "<div class=\"ansiout\">Out[2]: True</div>"
      ]
     },
     "metadata": {
      "application/vnd.databricks.v1+output": {
       "addedWidgets": {},
       "arguments": {},
       "data": "<div class=\"ansiout\">Out[2]: True</div>",
       "datasetInfos": [],
       "removedWidgets": [],
       "type": "html"
      }
     },
     "output_type": "display_data"
    }
   ],
   "source": [
    "!wget -q https://raw.githubusercontent.com/JohnSnowLabs/spark-nlp-workshop/master/tutorials/Certification_Trainings/Healthcare/data/AskAPatient.fold-0.test.txt\n",
    "!wget -q https://raw.githubusercontent.com/JohnSnowLabs/spark-nlp-workshop/master/tutorials/Certification_Trainings/Healthcare/data/AskAPatient.fold-0.train.txt\n",
    "!wget -q https://raw.githubusercontent.com/JohnSnowLabs/spark-nlp-workshop/master/tutorials/Certification_Trainings/Healthcare/data/AskAPatient.fold-0.validation.txt\n",
    "  \n",
    "dbutils.fs.cp(\"file:/databricks/driver/AskAPatient.fold-0.test.txt\", \"dbfs:/\")\n",
    "dbutils.fs.cp(\"file:/databricks/driver/AskAPatient.fold-0.train.txt\", \"dbfs:/\")\n",
    "dbutils.fs.cp(\"file:/databricks/driver/AskAPatient.fold-0.validation.txt\", \"dbfs:/\")"
   ]
  },
  {
   "cell_type": "code",
   "execution_count": 0,
   "metadata": {
    "application/vnd.databricks.v1+cell": {
     "inputWidgets": {},
     "nuid": "863800db-ef00-4cf3-98cb-6bbb49abb6ba",
     "showTitle": false,
     "title": ""
    }
   },
   "outputs": [
    {
     "data": {
      "text/html": [
       "<style scoped>\n",
       "  .ansiout {\n",
       "    display: block;\n",
       "    unicode-bidi: embed;\n",
       "    white-space: pre-wrap;\n",
       "    word-wrap: break-word;\n",
       "    word-break: break-all;\n",
       "    font-family: \"Source Code Pro\", \"Menlo\", monospace;;\n",
       "    font-size: 13px;\n",
       "    color: #555;\n",
       "    margin-left: 4px;\n",
       "    line-height: 19px;\n",
       "  }\n",
       "</style>\n",
       "<div class=\"ansiout\"></div>"
      ]
     },
     "metadata": {
      "application/vnd.databricks.v1+output": {
       "addedWidgets": {},
       "arguments": {},
       "data": "<div class=\"ansiout\"></div>",
       "datasetInfos": [],
       "removedWidgets": [],
       "type": "html"
      }
     },
     "output_type": "display_data"
    }
   ],
   "source": [
    "import pandas as pd\n",
    "\n",
    "cols = [\"conceptId\",\"_term\",\"term\"]\n",
    "\n",
    "aap_tr = pd.read_csv(\"file:/databricks/driver/AskAPatient.fold-0.train.txt\",sep=\"\\t\",encoding=\"ISO-8859-1\",header=None)\n",
    "aap_tr.columns = cols\n",
    "aap_tr[\"conceptId\"] = aap_tr.conceptId.apply(str)\n",
    "\n",
    "aap_ts = pd.read_csv(\"file:/databricks/driver/AskAPatient.fold-0.test.txt\",sep=\"\\t\",header=None)\n",
    "aap_ts.columns = cols\n",
    "aap_ts[\"conceptId\"] = aap_ts.conceptId.apply(str)\n",
    "\n",
    "aap_vl = pd.read_csv(\"file:/databricks/driver/AskAPatient.fold-0.validation.txt\",sep=\"\\t\",header=None)\n",
    "aap_vl.columns = cols\n",
    "aap_vl[\"conceptId\"] = aap_vl.conceptId.apply(str)"
   ]
  },
  {
   "cell_type": "code",
   "execution_count": 0,
   "metadata": {
    "application/vnd.databricks.v1+cell": {
     "inputWidgets": {},
     "nuid": "52f066d0-164f-449c-a4b4-0774746c8b6d",
     "showTitle": false,
     "title": ""
    }
   },
   "outputs": [
    {
     "data": {
      "text/html": [
       "<style scoped>\n",
       "  .ansiout {\n",
       "    display: block;\n",
       "    unicode-bidi: embed;\n",
       "    white-space: pre-wrap;\n",
       "    word-wrap: break-word;\n",
       "    word-break: break-all;\n",
       "    font-family: \"Source Code Pro\", \"Menlo\", monospace;;\n",
       "    font-size: 13px;\n",
       "    color: #555;\n",
       "    margin-left: 4px;\n",
       "    line-height: 19px;\n",
       "  }\n",
       "</style>\n",
       "<div class=\"ansiout\">Out[4]: </div>"
      ]
     },
     "metadata": {
      "application/vnd.databricks.v1+output": {
       "addedWidgets": {},
       "arguments": {},
       "data": "<div class=\"ansiout\">Out[4]: </div>",
       "datasetInfos": [],
       "removedWidgets": [],
       "type": "html"
      }
     },
     "output_type": "display_data"
    },
    {
     "data": {
      "text/html": [
       "<div>\n",
       "<style scoped>\n",
       "    .dataframe tbody tr th:only-of-type {\n",
       "        vertical-align: middle;\n",
       "    }\n",
       "\n",
       "    .dataframe tbody tr th {\n",
       "        vertical-align: top;\n",
       "    }\n",
       "\n",
       "    .dataframe thead th {\n",
       "        text-align: right;\n",
       "    }\n",
       "</style>\n",
       "<table border=\"1\" class=\"dataframe\">\n",
       "  <thead>\n",
       "    <tr style=\"text-align: right;\">\n",
       "      <th></th>\n",
       "      <th>conceptId</th>\n",
       "      <th>_term</th>\n",
       "      <th>term</th>\n",
       "    </tr>\n",
       "  </thead>\n",
       "  <tbody>\n",
       "    <tr>\n",
       "      <th>0</th>\n",
       "      <td>267032009</td>\n",
       "      <td>Tired all the time</td>\n",
       "      <td>persisten feeling of tiredness</td>\n",
       "    </tr>\n",
       "    <tr>\n",
       "      <th>1</th>\n",
       "      <td>22298006</td>\n",
       "      <td>Myocardial infarction</td>\n",
       "      <td>HEART ATTACK</td>\n",
       "    </tr>\n",
       "    <tr>\n",
       "      <th>2</th>\n",
       "      <td>3877011000036101</td>\n",
       "      <td>Lipitor</td>\n",
       "      <td>LIPITOR</td>\n",
       "    </tr>\n",
       "    <tr>\n",
       "      <th>3</th>\n",
       "      <td>415690000</td>\n",
       "      <td>Sweating</td>\n",
       "      <td>sweated</td>\n",
       "    </tr>\n",
       "    <tr>\n",
       "      <th>4</th>\n",
       "      <td>248491001</td>\n",
       "      <td>Swollen knee</td>\n",
       "      <td>swelling at knee</td>\n",
       "    </tr>\n",
       "  </tbody>\n",
       "</table>\n",
       "</div>"
      ]
     },
     "metadata": {
      "application/vnd.databricks.v1+output": {
       "addedWidgets": {},
       "arguments": {},
       "data": "<div>\n<style scoped>\n    .dataframe tbody tr th:only-of-type {\n        vertical-align: middle;\n    }\n\n    .dataframe tbody tr th {\n        vertical-align: top;\n    }\n\n    .dataframe thead th {\n        text-align: right;\n    }\n</style>\n<table border=\"1\" class=\"dataframe\">\n  <thead>\n    <tr style=\"text-align: right;\">\n      <th></th>\n      <th>conceptId</th>\n      <th>_term</th>\n      <th>term</th>\n    </tr>\n  </thead>\n  <tbody>\n    <tr>\n      <th>0</th>\n      <td>267032009</td>\n      <td>Tired all the time</td>\n      <td>persisten feeling of tiredness</td>\n    </tr>\n    <tr>\n      <th>1</th>\n      <td>22298006</td>\n      <td>Myocardial infarction</td>\n      <td>HEART ATTACK</td>\n    </tr>\n    <tr>\n      <th>2</th>\n      <td>3877011000036101</td>\n      <td>Lipitor</td>\n      <td>LIPITOR</td>\n    </tr>\n    <tr>\n      <th>3</th>\n      <td>415690000</td>\n      <td>Sweating</td>\n      <td>sweated</td>\n    </tr>\n    <tr>\n      <th>4</th>\n      <td>248491001</td>\n      <td>Swollen knee</td>\n      <td>swelling at knee</td>\n    </tr>\n  </tbody>\n</table>\n</div>",
       "datasetInfos": [],
       "removedWidgets": [],
       "textData": null,
       "type": "htmlSandbox"
      }
     },
     "output_type": "display_data"
    }
   ],
   "source": [
    "aap_vl.head()"
   ]
  },
  {
   "cell_type": "code",
   "execution_count": 0,
   "metadata": {
    "application/vnd.databricks.v1+cell": {
     "inputWidgets": {},
     "nuid": "14d0ed31-d2f8-4097-bc2d-7a2b702fcdee",
     "showTitle": false,
     "title": ""
    }
   },
   "outputs": [
    {
     "data": {
      "text/html": [
       "<style scoped>\n",
       "  .ansiout {\n",
       "    display: block;\n",
       "    unicode-bidi: embed;\n",
       "    white-space: pre-wrap;\n",
       "    word-wrap: break-word;\n",
       "    word-break: break-all;\n",
       "    font-family: \"Source Code Pro\", \"Menlo\", monospace;;\n",
       "    font-size: 13px;\n",
       "    color: #555;\n",
       "    margin-left: 4px;\n",
       "    line-height: 19px;\n",
       "  }\n",
       "</style>\n",
       "<div class=\"ansiout\"></div>"
      ]
     },
     "metadata": {
      "application/vnd.databricks.v1+output": {
       "addedWidgets": {},
       "arguments": {},
       "data": "<div class=\"ansiout\"></div>",
       "datasetInfos": [],
       "removedWidgets": [],
       "type": "html"
      }
     },
     "output_type": "display_data"
    }
   ],
   "source": [
    "aap_train_sdf = spark.createDataFrame(aap_tr)\n",
    "aap_test_sdf = spark.createDataFrame(aap_ts)\n",
    "aap_val_sdf = spark.createDataFrame(aap_vl)"
   ]
  },
  {
   "cell_type": "markdown",
   "metadata": {
    "application/vnd.databricks.v1+cell": {
     "inputWidgets": {},
     "nuid": "aca80eb6-e618-4fdd-8672-2ed888a1f3e1",
     "showTitle": false,
     "title": ""
    }
   },
   "source": [
    "# Chunk Entity Resolver (Glove Embeddings)"
   ]
  },
  {
   "cell_type": "markdown",
   "metadata": {
    "application/vnd.databricks.v1+cell": {
     "inputWidgets": {},
     "nuid": "eb7c1a23-2076-47dd-894a-67e61a3e3709",
     "showTitle": false,
     "title": ""
    }
   },
   "source": [
    "## Create Training Pipeline"
   ]
  },
  {
   "cell_type": "code",
   "execution_count": 0,
   "metadata": {
    "application/vnd.databricks.v1+cell": {
     "inputWidgets": {},
     "nuid": "9dff9b41-0bc5-4837-bcb0-29195c688edf",
     "showTitle": false,
     "title": ""
    }
   },
   "outputs": [
    {
     "data": {
      "text/html": [
       "<style scoped>\n",
       "  .ansiout {\n",
       "    display: block;\n",
       "    unicode-bidi: embed;\n",
       "    white-space: pre-wrap;\n",
       "    word-wrap: break-word;\n",
       "    word-break: break-all;\n",
       "    font-family: \"Source Code Pro\", \"Menlo\", monospace;;\n",
       "    font-size: 13px;\n",
       "    color: #555;\n",
       "    margin-left: 4px;\n",
       "    line-height: 19px;\n",
       "  }\n",
       "</style>\n",
       "<div class=\"ansiout\">embeddings_healthcare_100d download started this may take some time.\n",
       "Approximate size to download 475.8 MB\n",
       "\r",
       "[ | ]\r",
       "[ / ]\r",
       "[ — ]\r",
       "[ \\ ]\r",
       "[ | ]\r",
       "[ / ]\r",
       "[ — ]\r",
       "[ \\ ]\r",
       "[ | ]\r",
       "[ / ]\r",
       "[ — ]\r",
       "[ \\ ]\r",
       "[ | ]\r",
       "[ / ]\r",
       "[ — ]\r",
       "[ \\ ]\r",
       "[ | ]\r",
       "[OK!]\n",
       "</div>"
      ]
     },
     "metadata": {
      "application/vnd.databricks.v1+output": {
       "addedWidgets": {},
       "arguments": {},
       "data": "<div class=\"ansiout\">embeddings_healthcare_100d download started this may take some time.\nApproximate size to download 475.8 MB\n\r[ | ]\r[ / ]\r[ — ]\r[ \\ ]\r[ | ]\r[ / ]\r[ — ]\r[ \\ ]\r[ | ]\r[ / ]\r[ — ]\r[ \\ ]\r[ | ]\r[ / ]\r[ — ]\r[ \\ ]\r[ | ]\r[OK!]\n</div>",
       "datasetInfos": [],
       "removedWidgets": [],
       "type": "html"
      }
     },
     "output_type": "display_data"
    }
   ],
   "source": [
    "document = DocumentAssembler()\\\n",
    "    .setInputCol(\"term\")\\\n",
    "    .setOutputCol(\"document\")\n",
    "\n",
    "chunk = Doc2Chunk()\\\n",
    "    .setInputCols(\"document\")\\\n",
    "    .setOutputCol(\"chunk\")\\\n",
    "\n",
    "token = Tokenizer()\\\n",
    "    .setInputCols(['document'])\\\n",
    "    .setOutputCol('token')\n",
    "\n",
    "embeddings = WordEmbeddingsModel.pretrained(\"embeddings_healthcare_100d\", \"en\", \"clinical/models\")\\\n",
    "      .setInputCols([\"document\", \"token\"])\\\n",
    "      .setOutputCol(\"embeddings\")\n",
    "\n",
    "chunk_emb = ChunkEmbeddings()\\\n",
    "      .setInputCols(\"chunk\", \"embeddings\")\\\n",
    "      .setOutputCol(\"chunk_embeddings\")\n",
    "\n",
    "snomed_training_pipeline = Pipeline(\n",
    "    stages = [\n",
    "    document,\n",
    "    chunk,\n",
    "    token,\n",
    "    embeddings,\n",
    "    chunk_emb])\n",
    "\n",
    "snomed_training_model = snomed_training_pipeline.fit(aap_train_sdf)\n",
    "snomed_data = snomed_training_model.transform(aap_train_sdf).cache()\n"
   ]
  },
  {
   "cell_type": "code",
   "execution_count": 0,
   "metadata": {
    "application/vnd.databricks.v1+cell": {
     "inputWidgets": {},
     "nuid": "5c9b2a50-c7af-4869-8bd8-0f3047286fc7",
     "showTitle": false,
     "title": ""
    }
   },
   "outputs": [
    {
     "data": {
      "text/html": [
       "<style scoped>\n",
       "  .ansiout {\n",
       "    display: block;\n",
       "    unicode-bidi: embed;\n",
       "    white-space: pre-wrap;\n",
       "    word-wrap: break-word;\n",
       "    word-break: break-all;\n",
       "    font-family: \"Source Code Pro\", \"Menlo\", monospace;;\n",
       "    font-size: 13px;\n",
       "    color: #555;\n",
       "    margin-left: 4px;\n",
       "    line-height: 19px;\n",
       "  }\n",
       "</style>\n",
       "<div class=\"ansiout\"></div>"
      ]
     },
     "metadata": {
      "application/vnd.databricks.v1+output": {
       "addedWidgets": {},
       "arguments": {},
       "data": "<div class=\"ansiout\"></div>",
       "datasetInfos": [],
       "removedWidgets": [],
       "type": "html"
      }
     },
     "output_type": "display_data"
    }
   ],
   "source": [
    "snomed_extractor = ChunkEntityResolverApproach() \\\n",
    "    .setInputCols(\"token\", \"chunk_embeddings\") \\\n",
    "    .setOutputCol(\"recognized\") \\\n",
    "    .setNeighbours(1000) \\\n",
    "    .setAlternatives(25) \\\n",
    "    .setNormalizedCol(\"_term\") \\\n",
    "    .setLabelCol(\"conceptId\") \\\n",
    "    .setEnableWmd(True).setEnableTfidf(True).setEnableJaccard(True)\\\n",
    "    .setEnableSorensenDice(True).setEnableJaroWinkler(True).setEnableLevenshtein(True)\\\n",
    "    .setDistanceWeights([1, 2, 2, 1, 1, 1]) \\\n",
    "    .setAllDistancesMetadata(True)\\\n",
    "    .setPoolingStrategy(\"MAX\") \\\n",
    "    .setThreshold(1e32)"
   ]
  },
  {
   "cell_type": "code",
   "execution_count": 0,
   "metadata": {
    "application/vnd.databricks.v1+cell": {
     "inputWidgets": {},
     "nuid": "92e6526c-227b-47ce-ac8c-373dc9681cf5",
     "showTitle": false,
     "title": ""
    }
   },
   "outputs": [
    {
     "data": {
      "text/html": [
       "<style scoped>\n",
       "  .ansiout {\n",
       "    display: block;\n",
       "    unicode-bidi: embed;\n",
       "    white-space: pre-wrap;\n",
       "    word-wrap: break-word;\n",
       "    word-break: break-all;\n",
       "    font-family: \"Source Code Pro\", \"Menlo\", monospace;;\n",
       "    font-size: 13px;\n",
       "    color: #555;\n",
       "    margin-left: 4px;\n",
       "    line-height: 19px;\n",
       "  }\n",
       "</style>\n",
       "<div class=\"ansiout\"></div>"
      ]
     },
     "metadata": {
      "application/vnd.databricks.v1+output": {
       "addedWidgets": {},
       "arguments": {},
       "data": "<div class=\"ansiout\"></div>",
       "datasetInfos": [],
       "removedWidgets": [],
       "type": "html"
      }
     },
     "output_type": "display_data"
    }
   ],
   "source": [
    "#%time \n",
    "model = snomed_extractor.fit(snomed_data)"
   ]
  },
  {
   "cell_type": "markdown",
   "metadata": {
    "application/vnd.databricks.v1+cell": {
     "inputWidgets": {},
     "nuid": "90690f32-eec2-42d1-85cc-f27ce9a7d798",
     "showTitle": false,
     "title": ""
    }
   },
   "source": [
    "## Prediction Pipeline"
   ]
  },
  {
   "cell_type": "code",
   "execution_count": 0,
   "metadata": {
    "application/vnd.databricks.v1+cell": {
     "inputWidgets": {},
     "nuid": "f4e22d66-1bae-48b0-8b2d-3c23977a97a3",
     "showTitle": false,
     "title": ""
    }
   },
   "outputs": [
    {
     "data": {
      "text/html": [
       "<style scoped>\n",
       "  .ansiout {\n",
       "    display: block;\n",
       "    unicode-bidi: embed;\n",
       "    white-space: pre-wrap;\n",
       "    word-wrap: break-word;\n",
       "    word-break: break-all;\n",
       "    font-family: \"Source Code Pro\", \"Menlo\", monospace;;\n",
       "    font-size: 13px;\n",
       "    color: #555;\n",
       "    margin-left: 4px;\n",
       "    line-height: 19px;\n",
       "  }\n",
       "</style>\n",
       "<div class=\"ansiout\"></div>"
      ]
     },
     "metadata": {
      "application/vnd.databricks.v1+output": {
       "addedWidgets": {},
       "arguments": {},
       "data": "<div class=\"ansiout\"></div>",
       "datasetInfos": [],
       "removedWidgets": [],
       "type": "html"
      }
     },
     "output_type": "display_data"
    }
   ],
   "source": [
    "prediction_Model = PipelineModel(stages=[snomed_training_model, model])"
   ]
  },
  {
   "cell_type": "code",
   "execution_count": 0,
   "metadata": {
    "application/vnd.databricks.v1+cell": {
     "inputWidgets": {},
     "nuid": "bfb92804-bea4-4adc-b1ae-76ca0aed7b39",
     "showTitle": false,
     "title": ""
    }
   },
   "outputs": [
    {
     "data": {
      "text/html": [
       "<style scoped>\n",
       "  .ansiout {\n",
       "    display: block;\n",
       "    unicode-bidi: embed;\n",
       "    white-space: pre-wrap;\n",
       "    word-wrap: break-word;\n",
       "    word-break: break-all;\n",
       "    font-family: \"Source Code Pro\", \"Menlo\", monospace;;\n",
       "    font-size: 13px;\n",
       "    color: #555;\n",
       "    margin-left: 4px;\n",
       "    line-height: 19px;\n",
       "  }\n",
       "</style>\n",
       "<div class=\"ansiout\"></div>"
      ]
     },
     "metadata": {
      "application/vnd.databricks.v1+output": {
       "addedWidgets": {},
       "arguments": {},
       "data": "<div class=\"ansiout\"></div>",
       "datasetInfos": [],
       "removedWidgets": [],
       "type": "html"
      }
     },
     "output_type": "display_data"
    }
   ],
   "source": [
    "aap_train_pred= prediction_Model.transform(aap_train_sdf).cache()\n",
    "aap_test_pred= prediction_Model.transform(aap_test_sdf).cache()\n",
    "aap_val_pred= prediction_Model.transform(aap_val_sdf).cache()"
   ]
  },
  {
   "cell_type": "code",
   "execution_count": 0,
   "metadata": {
    "application/vnd.databricks.v1+cell": {
     "inputWidgets": {},
     "nuid": "6dc66b12-a0ef-4b10-b5c8-e32ae4605462",
     "showTitle": false,
     "title": ""
    }
   },
   "outputs": [
    {
     "data": {
      "text/html": [
       "<style scoped>\n",
       "  .ansiout {\n",
       "    display: block;\n",
       "    unicode-bidi: embed;\n",
       "    white-space: pre-wrap;\n",
       "    word-wrap: break-word;\n",
       "    word-break: break-all;\n",
       "    font-family: \"Source Code Pro\", \"Menlo\", monospace;;\n",
       "    font-size: 13px;\n",
       "    color: #555;\n",
       "    margin-left: 4px;\n",
       "    line-height: 19px;\n",
       "  }\n",
       "</style>\n",
       "<div class=\"ansiout\">+----------------+--------------------------------+------------------------------------+--------------------+-------------------------------------+--------------------------------------------------+\n",
       "       conceptId|                            term|                               _term|recognized[0].result|recognized[0].metadata[resolved_text]|         recognized[0].metadata[all_k_resolutions]|\n",
       "+----------------+--------------------------------+------------------------------------+--------------------+-------------------------------------+--------------------------------------------------+\n",
       "       108367008|                     dislocating|                Dislocation of joint|           304297005| Decreased range of shoulder movement|Decreased range of shoulder movement:::Increase...|\n",
       "3384011000036100|                       Arthrotec|                           Arthrotec|    3384011000036100|                            Arthrotec|Arthrotec:::Celebrex 200 mg capsule: hard:::Cel...|\n",
       "       166717003|               elevated creatine|             Serum creatinine raised|           166717003|              Serum creatinine raised|Serum creatinine raised:::Increased creatine ki...|\n",
       "3877011000036101|                         Lipitor|                             Lipitor|    3877011000036101|                              Lipitor|Lipitor:::Lipitor 20 mg tablet: film-coated:::L...|\n",
       "       402234004|                  Eczema on feet|                         Foot eczema|           238539001|                          Hand eczema|Hand eczema:::Foot eczema:::Cold feet:::Blister...|\n",
       "       404640003|                           dizzy|                           Dizziness|           404640003|                            Dizziness|Dizziness:::Lightheadedness:::Nausea:::Syncope:...|\n",
       "       271681002|   pain in the pit of my stomach|                        Stomach ache|           271681002|                         Stomach ache|Stomach ache:::Abdominal pain:::Myalgia:::Low b...|\n",
       "        76948002|extreme muscle pain in shoulders|                         Severe pain|            76948002|                          Severe pain|Severe pain:::Myalgia/myositis - shoulder:::Mus...|\n",
       "        36031001|                    Burning feet|                        Burning feet|            36031001|                         Burning feet|Burning feet:::Burning sensation:::Burning pain...|\n",
       "        76948002|             imence pain in legs|                         Severe pain|            76948002|                          Severe pain|Severe pain:::Pain in lower limb:::Myalgia/myos...|\n",
       "        42399005|              kidney malfunction|                       Renal failure|            42399005|                        Renal failure|Renal failure:::Renal injury:::Kidney disease::...|\n",
       "       288227007|        muscle pain in my biceps|        Myalgia/myositis - upper arm|           281245003|           Musculoskeletal chest pain|Musculoskeletal chest pain:::Severe pain:::Myal...|\n",
       "       419723007|                       brain fog|                       Mentally dull|           419723007|                        Mentally dull|Mentally dull:::Memory impairment:::Encephalopa...|\n",
       "       248490000|                        bloating|                    Bloating symptom|           248490000|                     Bloating symptom|Bloating symptom:::Abdominal bloating:::Flatule...|\n",
       "        22253000|                            pain|                                Pain|            22253000|                                 Pain|Pain:::Foot pain:::Backache:::Severe pain:::Sho...|\n",
       "       162076009|                             gas|Excessive upper gastrointestinal gas|           162076009| Excessive upper gastrointestinal gas|Excessive upper gastrointestinal gas:::Flatulen...|\n",
       "       247592009|          Short term memory loss|              Poor short-term memory|           247592009|               Poor short-term memory|Poor short-term memory:::Amnesia:::Memory impai...|\n",
       "        62507009|             tingling in my feet|                    Pins and needles|           309087008|                 Paraesthesia of foot|Paraesthesia of foot:::Pins and needles:::Cramp...|\n",
       "3877011000036101|                         LIPITOR|                             Lipitor|    3877011000036101|                              Lipitor|Lipitor:::Lipitor 20 mg tablet: film-coated:::L...|\n",
       "        62507009|   tingling on left side of face|                    Pins and needles|           309557009|                     Numbness of face|Numbness of face:::Pins and needles:::Numbness:...|\n",
       "+----------------+--------------------------------+------------------------------------+--------------------+-------------------------------------+--------------------------------------------------+\n",
       "only showing top 20 rows\n",
       "\n",
       "</div>"
      ]
     },
     "metadata": {
      "application/vnd.databricks.v1+output": {
       "addedWidgets": {},
       "arguments": {},
       "data": "<div class=\"ansiout\">+----------------+--------------------------------+------------------------------------+--------------------+-------------------------------------+--------------------------------------------------+\n|       conceptId|                            term|                               _term|recognized[0].result|recognized[0].metadata[resolved_text]|         recognized[0].metadata[all_k_resolutions]|\n+----------------+--------------------------------+------------------------------------+--------------------+-------------------------------------+--------------------------------------------------+\n|       108367008|                     dislocating|                Dislocation of joint|           304297005| Decreased range of shoulder movement|Decreased range of shoulder movement:::Increase...|\n|3384011000036100|                       Arthrotec|                           Arthrotec|    3384011000036100|                            Arthrotec|Arthrotec:::Celebrex 200 mg capsule: hard:::Cel...|\n|       166717003|               elevated creatine|             Serum creatinine raised|           166717003|              Serum creatinine raised|Serum creatinine raised:::Increased creatine ki...|\n|3877011000036101|                         Lipitor|                             Lipitor|    3877011000036101|                              Lipitor|Lipitor:::Lipitor 20 mg tablet: film-coated:::L...|\n|       402234004|                  Eczema on feet|                         Foot eczema|           238539001|                          Hand eczema|Hand eczema:::Foot eczema:::Cold feet:::Blister...|\n|       404640003|                           dizzy|                           Dizziness|           404640003|                            Dizziness|Dizziness:::Lightheadedness:::Nausea:::Syncope:...|\n|       271681002|   pain in the pit of my stomach|                        Stomach ache|           271681002|                         Stomach ache|Stomach ache:::Abdominal pain:::Myalgia:::Low b...|\n|        76948002|extreme muscle pain in shoulders|                         Severe pain|            76948002|                          Severe pain|Severe pain:::Myalgia/myositis - shoulder:::Mus...|\n|        36031001|                    Burning feet|                        Burning feet|            36031001|                         Burning feet|Burning feet:::Burning sensation:::Burning pain...|\n|        76948002|             imence pain in legs|                         Severe pain|            76948002|                          Severe pain|Severe pain:::Pain in lower limb:::Myalgia/myos...|\n|        42399005|              kidney malfunction|                       Renal failure|            42399005|                        Renal failure|Renal failure:::Renal injury:::Kidney disease::...|\n|       288227007|        muscle pain in my biceps|        Myalgia/myositis - upper arm|           281245003|           Musculoskeletal chest pain|Musculoskeletal chest pain:::Severe pain:::Myal...|\n|       419723007|                       brain fog|                       Mentally dull|           419723007|                        Mentally dull|Mentally dull:::Memory impairment:::Encephalopa...|\n|       248490000|                        bloating|                    Bloating symptom|           248490000|                     Bloating symptom|Bloating symptom:::Abdominal bloating:::Flatule...|\n|        22253000|                            pain|                                Pain|            22253000|                                 Pain|Pain:::Foot pain:::Backache:::Severe pain:::Sho...|\n|       162076009|                             gas|Excessive upper gastrointestinal gas|           162076009| Excessive upper gastrointestinal gas|Excessive upper gastrointestinal gas:::Flatulen...|\n|       247592009|          Short term memory loss|              Poor short-term memory|           247592009|               Poor short-term memory|Poor short-term memory:::Amnesia:::Memory impai...|\n|        62507009|             tingling in my feet|                    Pins and needles|           309087008|                 Paraesthesia of foot|Paraesthesia of foot:::Pins and needles:::Cramp...|\n|3877011000036101|                         LIPITOR|                             Lipitor|    3877011000036101|                              Lipitor|Lipitor:::Lipitor 20 mg tablet: film-coated:::L...|\n|        62507009|   tingling on left side of face|                    Pins and needles|           309557009|                     Numbness of face|Numbness of face:::Pins and needles:::Numbness:...|\n+----------------+--------------------------------+------------------------------------+--------------------+-------------------------------------+--------------------------------------------------+\nonly showing top 20 rows\n\n</div>",
       "datasetInfos": [],
       "removedWidgets": [],
       "type": "html"
      }
     },
     "output_type": "display_data"
    }
   ],
   "source": [
    "aap_test_pred.selectExpr(\"conceptId\",\"term\",\"_term\",\"recognized[0].result\",\"recognized[0].metadata.resolved_text\",\"recognized[0].metadata.all_k_resolutions\").show(truncate=50)"
   ]
  },
  {
   "cell_type": "code",
   "execution_count": 0,
   "metadata": {
    "application/vnd.databricks.v1+cell": {
     "inputWidgets": {},
     "nuid": "20332bf5-8a99-44d9-9579-bdc3b6c573cd",
     "showTitle": false,
     "title": ""
    }
   },
   "outputs": [
    {
     "data": {
      "text/html": [
       "<style scoped>\n",
       "  .ansiout {\n",
       "    display: block;\n",
       "    unicode-bidi: embed;\n",
       "    white-space: pre-wrap;\n",
       "    word-wrap: break-word;\n",
       "    word-break: break-all;\n",
       "    font-family: \"Source Code Pro\", \"Menlo\", monospace;;\n",
       "    font-size: 13px;\n",
       "    color: #555;\n",
       "    margin-left: 4px;\n",
       "    line-height: 19px;\n",
       "  }\n",
       "</style>\n",
       "<div class=\"ansiout\">+----------------+--------------------------------+------------------------------------+--------------------+-------------------------------------+--------------------------------------------------+\n",
       "       conceptId|                            term|                               _term|recognized[0].result|recognized[0].metadata[resolved_text]|         recognized[0].metadata[all_k_resolutions]|\n",
       "+----------------+--------------------------------+------------------------------------+--------------------+-------------------------------------+--------------------------------------------------+\n",
       "       108367008|                     dislocating|                Dislocation of joint|           304297005| Decreased range of shoulder movement|Decreased range of shoulder movement:::Increase...|\n",
       "3384011000036100|                       Arthrotec|                           Arthrotec|    3384011000036100|                            Arthrotec|Arthrotec:::Celebrex 200 mg capsule: hard:::Cel...|\n",
       "       166717003|               elevated creatine|             Serum creatinine raised|           166717003|              Serum creatinine raised|Serum creatinine raised:::Increased creatine ki...|\n",
       "3877011000036101|                         Lipitor|                             Lipitor|    3877011000036101|                              Lipitor|Lipitor:::Lipitor 20 mg tablet: film-coated:::L...|\n",
       "       402234004|                  Eczema on feet|                         Foot eczema|           238539001|                          Hand eczema|Hand eczema:::Foot eczema:::Cold feet:::Blister...|\n",
       "       404640003|                           dizzy|                           Dizziness|           404640003|                            Dizziness|Dizziness:::Lightheadedness:::Nausea:::Syncope:...|\n",
       "       271681002|   pain in the pit of my stomach|                        Stomach ache|           271681002|                         Stomach ache|Stomach ache:::Abdominal pain:::Myalgia:::Low b...|\n",
       "        76948002|extreme muscle pain in shoulders|                         Severe pain|            76948002|                          Severe pain|Severe pain:::Myalgia/myositis - shoulder:::Mus...|\n",
       "        36031001|                    Burning feet|                        Burning feet|            36031001|                         Burning feet|Burning feet:::Burning sensation:::Burning pain...|\n",
       "        76948002|             imence pain in legs|                         Severe pain|            76948002|                          Severe pain|Severe pain:::Pain in lower limb:::Myalgia/myos...|\n",
       "        42399005|              kidney malfunction|                       Renal failure|            42399005|                        Renal failure|Renal failure:::Renal injury:::Kidney disease::...|\n",
       "       288227007|        muscle pain in my biceps|        Myalgia/myositis - upper arm|           281245003|           Musculoskeletal chest pain|Musculoskeletal chest pain:::Severe pain:::Myal...|\n",
       "       419723007|                       brain fog|                       Mentally dull|           419723007|                        Mentally dull|Mentally dull:::Memory impairment:::Encephalopa...|\n",
       "       248490000|                        bloating|                    Bloating symptom|           248490000|                     Bloating symptom|Bloating symptom:::Abdominal bloating:::Flatule...|\n",
       "        22253000|                            pain|                                Pain|            22253000|                                 Pain|Pain:::Foot pain:::Backache:::Severe pain:::Sho...|\n",
       "       162076009|                             gas|Excessive upper gastrointestinal gas|           162076009| Excessive upper gastrointestinal gas|Excessive upper gastrointestinal gas:::Flatulen...|\n",
       "       247592009|          Short term memory loss|              Poor short-term memory|           247592009|               Poor short-term memory|Poor short-term memory:::Amnesia:::Memory impai...|\n",
       "        62507009|             tingling in my feet|                    Pins and needles|           309087008|                 Paraesthesia of foot|Paraesthesia of foot:::Pins and needles:::Cramp...|\n",
       "3877011000036101|                         LIPITOR|                             Lipitor|    3877011000036101|                              Lipitor|Lipitor:::Lipitor 20 mg tablet: film-coated:::L...|\n",
       "        62507009|   tingling on left side of face|                    Pins and needles|           309557009|                     Numbness of face|Numbness of face:::Pins and needles:::Numbness:...|\n",
       "+----------------+--------------------------------+------------------------------------+--------------------+-------------------------------------+--------------------------------------------------+\n",
       "only showing top 20 rows\n",
       "\n",
       "</div>"
      ]
     },
     "metadata": {
      "application/vnd.databricks.v1+output": {
       "addedWidgets": {},
       "arguments": {},
       "data": "<div class=\"ansiout\">+----------------+--------------------------------+------------------------------------+--------------------+-------------------------------------+--------------------------------------------------+\n|       conceptId|                            term|                               _term|recognized[0].result|recognized[0].metadata[resolved_text]|         recognized[0].metadata[all_k_resolutions]|\n+----------------+--------------------------------+------------------------------------+--------------------+-------------------------------------+--------------------------------------------------+\n|       108367008|                     dislocating|                Dislocation of joint|           304297005| Decreased range of shoulder movement|Decreased range of shoulder movement:::Increase...|\n|3384011000036100|                       Arthrotec|                           Arthrotec|    3384011000036100|                            Arthrotec|Arthrotec:::Celebrex 200 mg capsule: hard:::Cel...|\n|       166717003|               elevated creatine|             Serum creatinine raised|           166717003|              Serum creatinine raised|Serum creatinine raised:::Increased creatine ki...|\n|3877011000036101|                         Lipitor|                             Lipitor|    3877011000036101|                              Lipitor|Lipitor:::Lipitor 20 mg tablet: film-coated:::L...|\n|       402234004|                  Eczema on feet|                         Foot eczema|           238539001|                          Hand eczema|Hand eczema:::Foot eczema:::Cold feet:::Blister...|\n|       404640003|                           dizzy|                           Dizziness|           404640003|                            Dizziness|Dizziness:::Lightheadedness:::Nausea:::Syncope:...|\n|       271681002|   pain in the pit of my stomach|                        Stomach ache|           271681002|                         Stomach ache|Stomach ache:::Abdominal pain:::Myalgia:::Low b...|\n|        76948002|extreme muscle pain in shoulders|                         Severe pain|            76948002|                          Severe pain|Severe pain:::Myalgia/myositis - shoulder:::Mus...|\n|        36031001|                    Burning feet|                        Burning feet|            36031001|                         Burning feet|Burning feet:::Burning sensation:::Burning pain...|\n|        76948002|             imence pain in legs|                         Severe pain|            76948002|                          Severe pain|Severe pain:::Pain in lower limb:::Myalgia/myos...|\n|        42399005|              kidney malfunction|                       Renal failure|            42399005|                        Renal failure|Renal failure:::Renal injury:::Kidney disease::...|\n|       288227007|        muscle pain in my biceps|        Myalgia/myositis - upper arm|           281245003|           Musculoskeletal chest pain|Musculoskeletal chest pain:::Severe pain:::Myal...|\n|       419723007|                       brain fog|                       Mentally dull|           419723007|                        Mentally dull|Mentally dull:::Memory impairment:::Encephalopa...|\n|       248490000|                        bloating|                    Bloating symptom|           248490000|                     Bloating symptom|Bloating symptom:::Abdominal bloating:::Flatule...|\n|        22253000|                            pain|                                Pain|            22253000|                                 Pain|Pain:::Foot pain:::Backache:::Severe pain:::Sho...|\n|       162076009|                             gas|Excessive upper gastrointestinal gas|           162076009| Excessive upper gastrointestinal gas|Excessive upper gastrointestinal gas:::Flatulen...|\n|       247592009|          Short term memory loss|              Poor short-term memory|           247592009|               Poor short-term memory|Poor short-term memory:::Amnesia:::Memory impai...|\n|        62507009|             tingling in my feet|                    Pins and needles|           309087008|                 Paraesthesia of foot|Paraesthesia of foot:::Pins and needles:::Cramp...|\n|3877011000036101|                         LIPITOR|                             Lipitor|    3877011000036101|                              Lipitor|Lipitor:::Lipitor 20 mg tablet: film-coated:::L...|\n|        62507009|   tingling on left side of face|                    Pins and needles|           309557009|                     Numbness of face|Numbness of face:::Pins and needles:::Numbness:...|\n+----------------+--------------------------------+------------------------------------+--------------------+-------------------------------------+--------------------------------------------------+\nonly showing top 20 rows\n\n</div>",
       "datasetInfos": [],
       "removedWidgets": [],
       "type": "html"
      }
     },
     "output_type": "display_data"
    }
   ],
   "source": [
    "aap_test_pred.selectExpr(\"conceptId\",\"term\",\"_term\",\"recognized[0].result\",\"recognized[0].metadata.resolved_text\",\"recognized[0].metadata.all_k_resolutions\").show(truncate=50)"
   ]
  },
  {
   "cell_type": "markdown",
   "metadata": {
    "application/vnd.databricks.v1+cell": {
     "inputWidgets": {},
     "nuid": "07039a54-0414-41d6-b3c1-9be4cde963cb",
     "showTitle": false,
     "title": ""
    }
   },
   "source": [
    "## Train Using the entire dataset"
   ]
  },
  {
   "cell_type": "code",
   "execution_count": 0,
   "metadata": {
    "application/vnd.databricks.v1+cell": {
     "inputWidgets": {},
     "nuid": "46fc07d7-790f-41f0-8762-27c9a9f1306f",
     "showTitle": false,
     "title": ""
    }
   },
   "outputs": [
    {
     "data": {
      "text/html": [
       "<style scoped>\n",
       "  .ansiout {\n",
       "    display: block;\n",
       "    unicode-bidi: embed;\n",
       "    white-space: pre-wrap;\n",
       "    word-wrap: break-word;\n",
       "    word-break: break-all;\n",
       "    font-family: \"Source Code Pro\", \"Menlo\", monospace;;\n",
       "    font-size: 13px;\n",
       "    color: #555;\n",
       "    margin-left: 4px;\n",
       "    line-height: 19px;\n",
       "  }\n",
       "</style>\n",
       "<div class=\"ansiout\">CPU times: user 76.4 ms, sys: 21.2 ms, total: 97.6 ms\n",
       "Wall time: 6.48 s\n",
       "</div>"
      ]
     },
     "metadata": {
      "application/vnd.databricks.v1+output": {
       "addedWidgets": {},
       "arguments": {},
       "data": "<div class=\"ansiout\">CPU times: user 76.4 ms, sys: 21.2 ms, total: 97.6 ms\nWall time: 6.48 s\n</div>",
       "datasetInfos": [],
       "removedWidgets": [],
       "type": "html"
      }
     },
     "output_type": "display_data"
    }
   ],
   "source": [
    "all_data = aap_train_sdf.union(aap_test_sdf).union(aap_val_sdf)\n",
    "\n",
    "snomed_training_model = snomed_training_pipeline.fit(all_data)\n",
    "\n",
    "snomed_data = snomed_training_model.transform(all_data).cache()\n",
    "\n",
    "%time model = snomed_extractor.fit(snomed_data)"
   ]
  },
  {
   "cell_type": "code",
   "execution_count": 0,
   "metadata": {
    "application/vnd.databricks.v1+cell": {
     "inputWidgets": {},
     "nuid": "35e1f6fa-b867-4d9d-b8bb-1efeac0b28ae",
     "showTitle": false,
     "title": ""
    }
   },
   "outputs": [
    {
     "data": {
      "text/html": [
       "<style scoped>\n",
       "  .ansiout {\n",
       "    display: block;\n",
       "    unicode-bidi: embed;\n",
       "    white-space: pre-wrap;\n",
       "    word-wrap: break-word;\n",
       "    word-break: break-all;\n",
       "    font-family: \"Source Code Pro\", \"Menlo\", monospace;;\n",
       "    font-size: 13px;\n",
       "    color: #555;\n",
       "    margin-left: 4px;\n",
       "    line-height: 19px;\n",
       "  }\n",
       "</style>\n",
       "<div class=\"ansiout\"></div>"
      ]
     },
     "metadata": {
      "application/vnd.databricks.v1+output": {
       "addedWidgets": {},
       "arguments": {},
       "data": "<div class=\"ansiout\"></div>",
       "datasetInfos": [],
       "removedWidgets": [],
       "type": "html"
      }
     },
     "output_type": "display_data"
    }
   ],
   "source": [
    "! cd /databricks/driver/ && mkdir models"
   ]
  },
  {
   "cell_type": "code",
   "execution_count": 0,
   "metadata": {
    "application/vnd.databricks.v1+cell": {
     "inputWidgets": {},
     "nuid": "73788687-8b51-421b-a781-5a6689a07036",
     "showTitle": false,
     "title": ""
    }
   },
   "outputs": [
    {
     "data": {
      "text/html": [
       "<style scoped>\n",
       "  .ansiout {\n",
       "    display: block;\n",
       "    unicode-bidi: embed;\n",
       "    white-space: pre-wrap;\n",
       "    word-wrap: break-word;\n",
       "    word-break: break-all;\n",
       "    font-family: \"Source Code Pro\", \"Menlo\", monospace;;\n",
       "    font-size: 13px;\n",
       "    color: #555;\n",
       "    margin-left: 4px;\n",
       "    line-height: 19px;\n",
       "  }\n",
       "</style>\n",
       "<div class=\"ansiout\"></div>"
      ]
     },
     "metadata": {
      "application/vnd.databricks.v1+output": {
       "addedWidgets": {},
       "arguments": {},
       "data": "<div class=\"ansiout\"></div>",
       "datasetInfos": [],
       "removedWidgets": [],
       "type": "html"
      }
     },
     "output_type": "display_data"
    }
   ],
   "source": [
    "model.write().overwrite().save(\"dbfs:/databricks/driver/models/chunkresolve_snomed_askapatient_hc_100d\")"
   ]
  },
  {
   "cell_type": "code",
   "execution_count": 0,
   "metadata": {
    "application/vnd.databricks.v1+cell": {
     "inputWidgets": {},
     "nuid": "5e8165e3-9ab7-482e-984f-f6b9be9a96be",
     "showTitle": false,
     "title": ""
    }
   },
   "outputs": [
    {
     "data": {
      "text/html": [
       "<style scoped>\n",
       "  .ansiout {\n",
       "    display: block;\n",
       "    unicode-bidi: embed;\n",
       "    white-space: pre-wrap;\n",
       "    word-wrap: break-word;\n",
       "    word-break: break-all;\n",
       "    font-family: \"Source Code Pro\", \"Menlo\", monospace;;\n",
       "    font-size: 13px;\n",
       "    color: #555;\n",
       "    margin-left: 4px;\n",
       "    line-height: 19px;\n",
       "  }\n",
       "</style>\n",
       "<div class=\"ansiout\">total 8\n",
       "drwxr-xr-x 2 root root 4096 May  2 17:17 .\n",
       "drwxr-xr-x 1 root root 4096 May  2 17:17 ..\n",
       "</div>"
      ]
     },
     "metadata": {
      "application/vnd.databricks.v1+output": {
       "addedWidgets": {},
       "arguments": {},
       "data": "<div class=\"ansiout\">total 8\ndrwxr-xr-x 2 root root 4096 May  2 17:17 .\ndrwxr-xr-x 1 root root 4096 May  2 17:17 ..\n</div>",
       "datasetInfos": [],
       "removedWidgets": [],
       "type": "html"
      }
     },
     "output_type": "display_data"
    }
   ],
   "source": [
    "%sh cd /databricks/driver/models  && ls -la\n"
   ]
  },
  {
   "cell_type": "markdown",
   "metadata": {
    "application/vnd.databricks.v1+cell": {
     "inputWidgets": {},
     "nuid": "8000cb1a-d96f-4c57-bad5-03bba4f8fb3d",
     "showTitle": false,
     "title": ""
    }
   },
   "source": [
    "## Prediction on random texts"
   ]
  },
  {
   "cell_type": "code",
   "execution_count": 0,
   "metadata": {
    "application/vnd.databricks.v1+cell": {
     "inputWidgets": {},
     "nuid": "a42cc326-950b-4cbf-b7a7-f6da7f7031e8",
     "showTitle": false,
     "title": ""
    }
   },
   "outputs": [
    {
     "data": {
      "text/html": [
       "<style scoped>\n",
       "  .ansiout {\n",
       "    display: block;\n",
       "    unicode-bidi: embed;\n",
       "    white-space: pre-wrap;\n",
       "    word-wrap: break-word;\n",
       "    word-break: break-all;\n",
       "    font-family: \"Source Code Pro\", \"Menlo\", monospace;;\n",
       "    font-size: 13px;\n",
       "    color: #555;\n",
       "    margin-left: 4px;\n",
       "    line-height: 19px;\n",
       "  }\n",
       "</style>\n",
       "<div class=\"ansiout\">embeddings_healthcare_100d download started this may take some time.\n",
       "Approximate size to download 475.8 MB\n",
       "\r",
       "[ | ]\r",
       "[OK!]\n",
       "ner_healthcare download started this may take some time.\n",
       "Approximate size to download 13.5 MB\n",
       "\r",
       "[ | ]\r",
       "[OK!]\n",
       "</div>"
      ]
     },
     "metadata": {
      "application/vnd.databricks.v1+output": {
       "addedWidgets": {},
       "arguments": {},
       "data": "<div class=\"ansiout\">embeddings_healthcare_100d download started this may take some time.\nApproximate size to download 475.8 MB\n\r[ | ]\r[OK!]\nner_healthcare download started this may take some time.\nApproximate size to download 13.5 MB\n\r[ | ]\r[OK!]\n</div>",
       "datasetInfos": [],
       "removedWidgets": [],
       "type": "html"
      }
     },
     "output_type": "display_data"
    }
   ],
   "source": [
    "documentAssembler = DocumentAssembler()\\\n",
    "  .setInputCol(\"term\")\\\n",
    "  .setOutputCol(\"document\")\n",
    "\n",
    "# Sentence Detector annotator, processes various sentences per line\n",
    "\n",
    "sentenceDetector = SentenceDetector()\\\n",
    "  .setInputCols([\"document\"])\\\n",
    "  .setOutputCol(\"sentence\")\\\n",
    "  .setCustomBounds([\",\"])\n",
    "\n",
    "# Tokenizer splits words in a relevant format for NLP\n",
    "\n",
    "tokenizer = Tokenizer()\\\n",
    "  .setInputCols([\"sentence\"])\\\n",
    "  .setOutputCol(\"raw_token\")\\\n",
    "\n",
    "stopwords = StopWordsCleaner()\\\n",
    "  .setInputCols([\"raw_token\"])\\\n",
    "  .setOutputCol(\"token\")\n",
    "\n",
    "word_embeddings = WordEmbeddingsModel.pretrained(\"embeddings_healthcare_100d\", \"en\", \"clinical/models\")\\\n",
    "  .setInputCols([\"document\", \"token\"])\\\n",
    "  .setOutputCol(\"embeddings\")\n",
    "\n",
    "clinical_ner = MedicalNerModel.pretrained(\"ner_healthcare\", \"en\", \"clinical/models\") \\\n",
    "  .setInputCols([\"sentence\", \"token\", \"embeddings\"]) \\\n",
    "  .setOutputCol(\"ner\")\n",
    "\n",
    "snomed_ner_converter = NerConverter() \\\n",
    "  .setInputCols([\"sentence\", \"token\", \"ner\"]) \\\n",
    "  .setOutputCol(\"greedy_chunk\")\\\n",
    "  .setWhiteList(['PROBLEM','TEST'])\n",
    "\n",
    "chunk_embeddings = ChunkEmbeddings()\\\n",
    "  .setInputCols('greedy_chunk', 'embeddings')\\\n",
    "  .setOutputCol('chunk_embeddings')\n",
    "\n",
    "snomed_resolver = ChunkEntityResolverModel.load(\"dbfs:/databricks/driver/models/chunkresolve_snomed_askapatient_hc_100d\")\\\n",
    "  .setInputCols(\"token\",\"chunk_embeddings\")\\\n",
    "  .setOutputCol(\"snomed_resolution\")\n",
    "\n",
    "pipeline_snomed = Pipeline(\n",
    "    stages = [\n",
    "    documentAssembler,\n",
    "    sentenceDetector,\n",
    "    tokenizer,\n",
    "    stopwords,\n",
    "    word_embeddings,\n",
    "    clinical_ner,\n",
    "    snomed_ner_converter,\n",
    "    chunk_embeddings,\n",
    "    snomed_resolver\n",
    "  ])\n",
    "\n",
    "empty_data = spark.createDataFrame([['']]).toDF(\"term\")\n",
    "\n",
    "model_snomed = pipeline_snomed.fit(empty_data)\n"
   ]
  },
  {
   "cell_type": "code",
   "execution_count": 0,
   "metadata": {
    "application/vnd.databricks.v1+cell": {
     "inputWidgets": {},
     "nuid": "f0d59fe6-f2c2-45c4-8d39-d1c8ba8f56bc",
     "showTitle": false,
     "title": ""
    }
   },
   "outputs": [
    {
     "data": {
      "text/html": [
       "<style scoped>\n",
       "  .ansiout {\n",
       "    display: block;\n",
       "    unicode-bidi: embed;\n",
       "    white-space: pre-wrap;\n",
       "    word-wrap: break-word;\n",
       "    word-break: break-all;\n",
       "    font-family: \"Source Code Pro\", \"Menlo\", monospace;;\n",
       "    font-size: 13px;\n",
       "    color: #555;\n",
       "    margin-left: 4px;\n",
       "    line-height: 19px;\n",
       "  }\n",
       "</style>\n",
       "<div class=\"ansiout\"></div>"
      ]
     },
     "metadata": {
      "application/vnd.databricks.v1+output": {
       "addedWidgets": {},
       "arguments": {},
       "data": "<div class=\"ansiout\"></div>",
       "datasetInfos": [],
       "removedWidgets": [],
       "type": "html"
      }
     },
     "output_type": "display_data"
    }
   ],
   "source": [
    "model_snomed_lp = LightPipeline(model_snomed)\n"
   ]
  },
  {
   "cell_type": "code",
   "execution_count": 0,
   "metadata": {
    "application/vnd.databricks.v1+cell": {
     "inputWidgets": {},
     "nuid": "7c70bb85-c8a2-42af-bcdb-57e7314645e3",
     "showTitle": false,
     "title": ""
    }
   },
   "outputs": [
    {
     "data": {
      "text/html": [
       "<style scoped>\n",
       "  .ansiout {\n",
       "    display: block;\n",
       "    unicode-bidi: embed;\n",
       "    white-space: pre-wrap;\n",
       "    word-wrap: break-word;\n",
       "    word-break: break-all;\n",
       "    font-family: \"Source Code Pro\", \"Menlo\", monospace;;\n",
       "    font-size: 13px;\n",
       "    color: #555;\n",
       "    margin-left: 4px;\n",
       "    line-height: 19px;\n",
       "  }\n",
       "</style>\n",
       "<div class=\"ansiout\">Out[35]: [(&#39;biceps muscle pain&#39;, &#39;288227007&#39;), (&#39;extreme muscle pain&#39;, &#39;76948002&#39;)]</div>"
      ]
     },
     "metadata": {
      "application/vnd.databricks.v1+output": {
       "addedWidgets": {},
       "arguments": {},
       "data": "<div class=\"ansiout\">Out[35]: [(&#39;biceps muscle pain&#39;, &#39;288227007&#39;), (&#39;extreme muscle pain&#39;, &#39;76948002&#39;)]</div>",
       "datasetInfos": [],
       "removedWidgets": [],
       "type": "html"
      }
     },
     "output_type": "display_data"
    }
   ],
   "source": [
    "result = model_snomed_lp.annotate('I have a biceps muscle pain and extreme muscle pain in shoulders')\n",
    "\n",
    "list(zip(result['greedy_chunk'],result['snomed_resolution']))"
   ]
  },
  {
   "cell_type": "code",
   "execution_count": 0,
   "metadata": {
    "application/vnd.databricks.v1+cell": {
     "inputWidgets": {},
     "nuid": "12cb0e51-f677-4d82-9c56-34bbf3242a74",
     "showTitle": false,
     "title": ""
    }
   },
   "outputs": [
    {
     "data": {
      "text/html": [
       "<style scoped>\n",
       "  .ansiout {\n",
       "    display: block;\n",
       "    unicode-bidi: embed;\n",
       "    white-space: pre-wrap;\n",
       "    word-wrap: break-word;\n",
       "    word-break: break-all;\n",
       "    font-family: \"Source Code Pro\", \"Menlo\", monospace;;\n",
       "    font-size: 13px;\n",
       "    color: #555;\n",
       "    margin-left: 4px;\n",
       "    line-height: 19px;\n",
       "  }\n",
       "</style>\n",
       "<div class=\"ansiout\">Out[36]: [(&#39;flu and a headache&#39;, &#39;6142004&#39;)]</div>"
      ]
     },
     "metadata": {
      "application/vnd.databricks.v1+output": {
       "addedWidgets": {},
       "arguments": {},
       "data": "<div class=\"ansiout\">Out[36]: [(&#39;flu and a headache&#39;, &#39;6142004&#39;)]</div>",
       "datasetInfos": [],
       "removedWidgets": [],
       "type": "html"
      }
     },
     "output_type": "display_data"
    }
   ],
   "source": [
    "result = model_snomed_lp.annotate('I have a flu and a headache')\n",
    "\n",
    "list(zip(result['greedy_chunk'],result['snomed_resolution']))"
   ]
  },
  {
   "cell_type": "code",
   "execution_count": 0,
   "metadata": {
    "application/vnd.databricks.v1+cell": {
     "inputWidgets": {},
     "nuid": "3b902141-81bc-457b-b98a-f56c58ae516d",
     "showTitle": false,
     "title": ""
    }
   },
   "outputs": [
    {
     "data": {
      "text/html": [
       "<style scoped>\n",
       "  .ansiout {\n",
       "    display: block;\n",
       "    unicode-bidi: embed;\n",
       "    white-space: pre-wrap;\n",
       "    word-wrap: break-word;\n",
       "    word-break: break-all;\n",
       "    font-family: \"Source Code Pro\", \"Menlo\", monospace;;\n",
       "    font-size: 13px;\n",
       "    color: #555;\n",
       "    margin-left: 4px;\n",
       "    line-height: 19px;\n",
       "  }\n",
       "</style>\n",
       "<div class=\"ansiout\">+-------------------+-------+----------------------------------------------------------------------------------------------------+---------+----------+\n",
       "              chunk| entity|                                                                                         target_text|     code|confidence|\n",
       "+-------------------+-------+----------------------------------------------------------------------------------------------------+---------+----------+\n",
       " biceps muscle pain|PROBLEM|Myalgia/myositis - upper arm:::Myalgia:::Neck pain:::Myalgia/myositis - shoulder:::Backache:::Foo...|288227007|    0.0915|\n",
       "extreme muscle pain|PROBLEM|Severe pain:::Muscle fatigue:::Muscle weakness:::Myopathy:::Abdominal pain:::Constant pain:::Myal...| 76948002|    0.1527|\n",
       "+-------------------+-------+----------------------------------------------------------------------------------------------------+---------+----------+\n",
       "\n",
       "</div>"
      ]
     },
     "metadata": {
      "application/vnd.databricks.v1+output": {
       "addedWidgets": {},
       "arguments": {},
       "data": "<div class=\"ansiout\">+-------------------+-------+----------------------------------------------------------------------------------------------------+---------+----------+\n|              chunk| entity|                                                                                         target_text|     code|confidence|\n+-------------------+-------+----------------------------------------------------------------------------------------------------+---------+----------+\n| biceps muscle pain|PROBLEM|Myalgia/myositis - upper arm:::Myalgia:::Neck pain:::Myalgia/myositis - shoulder:::Backache:::Foo...|288227007|    0.0915|\n|extreme muscle pain|PROBLEM|Severe pain:::Muscle fatigue:::Muscle weakness:::Myopathy:::Abdominal pain:::Constant pain:::Myal...| 76948002|    0.1527|\n+-------------------+-------+----------------------------------------------------------------------------------------------------+---------+----------+\n\n</div>",
       "datasetInfos": [],
       "removedWidgets": [],
       "type": "html"
      }
     },
     "output_type": "display_data"
    }
   ],
   "source": [
    "from pyspark.sql import functions as F\n",
    "\n",
    "snomed_output = model_snomed.transform(spark.createDataFrame([['I have a biceps muscle pain and extreme muscle pain in shoulders']]).toDF(\"term\"))\n",
    "\n",
    "snomed_output.select(F.explode(F.arrays_zip(\"greedy_chunk.result\",\"greedy_chunk.metadata\",\"snomed_resolution.result\",\"snomed_resolution.metadata\")).alias(\"snomed_result\")) \\\n",
    "             .select(F.expr(\"snomed_result['0']\").alias(\"chunk\"),\n",
    "                     F.expr(\"snomed_result['1'].entity\").alias(\"entity\"),\n",
    "                     F.expr(\"snomed_result['3'].all_k_resolutions\").alias(\"target_text\"),\n",
    "                     F.expr(\"snomed_result['2']\").alias(\"code\"),\n",
    "                     F.expr(\"snomed_result['3'].confidence\").alias(\"confidence\")).show(truncate = 100)"
   ]
  },
  {
   "cell_type": "markdown",
   "metadata": {
    "application/vnd.databricks.v1+cell": {
     "inputWidgets": {},
     "nuid": "20666e78-b6b6-435e-be02-27b5a5842352",
     "showTitle": false,
     "title": ""
    }
   },
   "source": [
    "# Sentence Entity Resolver (BioBert sentence embeddings) (after v2.7)"
   ]
  },
  {
   "cell_type": "code",
   "execution_count": 0,
   "metadata": {
    "application/vnd.databricks.v1+cell": {
     "inputWidgets": {},
     "nuid": "9fd8ca6a-6386-4ae4-8050-46e8b4975ac9",
     "showTitle": false,
     "title": ""
    }
   },
   "outputs": [
    {
     "data": {
      "text/html": [
       "<style scoped>\n",
       "  .ansiout {\n",
       "    display: block;\n",
       "    unicode-bidi: embed;\n",
       "    white-space: pre-wrap;\n",
       "    word-wrap: break-word;\n",
       "    word-break: break-all;\n",
       "    font-family: \"Source Code Pro\", \"Menlo\", monospace;;\n",
       "    font-size: 13px;\n",
       "    color: #555;\n",
       "    margin-left: 4px;\n",
       "    line-height: 19px;\n",
       "  }\n",
       "</style>\n",
       "<div class=\"ansiout\">+----------------+--------------------+--------------------+\n",
       "       conceptId|               _term|                term|\n",
       "+----------------+--------------------+--------------------+\n",
       "       108367008|Dislocation of joint|Dislocation of joint|\n",
       "3384011000036100|           Arthrotec|           Arthrotec|\n",
       "       166717003|Serum creatinine ...|Serum creatinine ...|\n",
       "3877011000036101|             Lipitor|             Lipitor|\n",
       "       402234004|         Foot eczema|         Foot eczema|\n",
       "       404640003|           Dizziness|           Dizziness|\n",
       "       271681002|        Stomach ache|        Stomach ache|\n",
       "        76948002|         Severe pain|         Severe pain|\n",
       "        36031001|        Burning feet|        Burning feet|\n",
       "        76948002|         Severe pain|         Severe pain|\n",
       "        42399005|       Renal failure|       Renal failure|\n",
       "       288227007|Myalgia/myositis ...|Myalgia/myositis ...|\n",
       "       419723007|       Mentally dull|       Mentally dull|\n",
       "       248490000|    Bloating symptom|    Bloating symptom|\n",
       "        22253000|                Pain|                Pain|\n",
       "       162076009|Excessive upper g...|Excessive upper g...|\n",
       "       247592009|Poor short-term m...|Poor short-term m...|\n",
       "        62507009|    Pins and needles|    Pins and needles|\n",
       "3877011000036101|             Lipitor|             Lipitor|\n",
       "        62507009|    Pins and needles|    Pins and needles|\n",
       "+----------------+--------------------+--------------------+\n",
       "only showing top 20 rows\n",
       "\n",
       "</div>"
      ]
     },
     "metadata": {
      "application/vnd.databricks.v1+output": {
       "addedWidgets": {},
       "arguments": {},
       "data": "<div class=\"ansiout\">+----------------+--------------------+--------------------+\n|       conceptId|               _term|                term|\n+----------------+--------------------+--------------------+\n|       108367008|Dislocation of joint|Dislocation of joint|\n|3384011000036100|           Arthrotec|           Arthrotec|\n|       166717003|Serum creatinine ...|Serum creatinine ...|\n|3877011000036101|             Lipitor|             Lipitor|\n|       402234004|         Foot eczema|         Foot eczema|\n|       404640003|           Dizziness|           Dizziness|\n|       271681002|        Stomach ache|        Stomach ache|\n|        76948002|         Severe pain|         Severe pain|\n|        36031001|        Burning feet|        Burning feet|\n|        76948002|         Severe pain|         Severe pain|\n|        42399005|       Renal failure|       Renal failure|\n|       288227007|Myalgia/myositis ...|Myalgia/myositis ...|\n|       419723007|       Mentally dull|       Mentally dull|\n|       248490000|    Bloating symptom|    Bloating symptom|\n|        22253000|                Pain|                Pain|\n|       162076009|Excessive upper g...|Excessive upper g...|\n|       247592009|Poor short-term m...|Poor short-term m...|\n|        62507009|    Pins and needles|    Pins and needles|\n|3877011000036101|             Lipitor|             Lipitor|\n|        62507009|    Pins and needles|    Pins and needles|\n+----------------+--------------------+--------------------+\nonly showing top 20 rows\n\n</div>",
       "datasetInfos": [],
       "removedWidgets": [],
       "type": "html"
      }
     },
     "output_type": "display_data"
    }
   ],
   "source": [
    "aap_train_sdf.show()"
   ]
  },
  {
   "cell_type": "code",
   "execution_count": 0,
   "metadata": {
    "application/vnd.databricks.v1+cell": {
     "inputWidgets": {},
     "nuid": "24a6dd2e-c457-4beb-bd51-9647a53c531b",
     "showTitle": false,
     "title": ""
    }
   },
   "outputs": [
    {
     "data": {
      "text/html": [
       "<style scoped>\n",
       "  .ansiout {\n",
       "    display: block;\n",
       "    unicode-bidi: embed;\n",
       "    white-space: pre-wrap;\n",
       "    word-wrap: break-word;\n",
       "    word-break: break-all;\n",
       "    font-family: \"Source Code Pro\", \"Menlo\", monospace;;\n",
       "    font-size: 13px;\n",
       "    color: #555;\n",
       "    margin-left: 4px;\n",
       "    line-height: 19px;\n",
       "  }\n",
       "</style>\n",
       "<div class=\"ansiout\">root\n",
       "-- conceptId: string (nullable = true)\n",
       "-- _term: string (nullable = true)\n",
       "-- term: string (nullable = true)\n",
       "\n",
       "</div>"
      ]
     },
     "metadata": {
      "application/vnd.databricks.v1+output": {
       "addedWidgets": {},
       "arguments": {},
       "data": "<div class=\"ansiout\">root\n |-- conceptId: string (nullable = true)\n |-- _term: string (nullable = true)\n |-- term: string (nullable = true)\n\n</div>",
       "datasetInfos": [],
       "removedWidgets": [],
       "type": "html"
      }
     },
     "output_type": "display_data"
    }
   ],
   "source": [
    "aap_train_sdf.printSchema()"
   ]
  },
  {
   "cell_type": "code",
   "execution_count": 0,
   "metadata": {
    "application/vnd.databricks.v1+cell": {
     "inputWidgets": {},
     "nuid": "880d9ef5-8e19-432f-a5fe-b17e01d3c4b4",
     "showTitle": false,
     "title": ""
    }
   },
   "outputs": [
    {
     "data": {
      "text/html": [
       "<style scoped>\n",
       "  .ansiout {\n",
       "    display: block;\n",
       "    unicode-bidi: embed;\n",
       "    white-space: pre-wrap;\n",
       "    word-wrap: break-word;\n",
       "    word-break: break-all;\n",
       "    font-family: \"Source Code Pro\", \"Menlo\", monospace;;\n",
       "    font-size: 13px;\n",
       "    color: #555;\n",
       "    margin-left: 4px;\n",
       "    line-height: 19px;\n",
       "  }\n",
       "</style>\n",
       "<div class=\"ansiout\">sent_biobert_pubmed_base_cased download started this may take some time.\n",
       "Approximate size to download 386.4 MB\n",
       "\r",
       "[ | ]\r",
       "[ / ]\r",
       "[ — ]\r",
       "[ \\ ]\r",
       "[ | ]\r",
       "[ / ]\r",
       "[ — ]\r",
       "[ \\ ]\r",
       "[OK!]\n",
       "</div>"
      ]
     },
     "metadata": {
      "application/vnd.databricks.v1+output": {
       "addedWidgets": {},
       "arguments": {},
       "data": "<div class=\"ansiout\">sent_biobert_pubmed_base_cased download started this may take some time.\nApproximate size to download 386.4 MB\n\r[ | ]\r[ / ]\r[ — ]\r[ \\ ]\r[ | ]\r[ / ]\r[ — ]\r[ \\ ]\r[OK!]\n</div>",
       "datasetInfos": [],
       "removedWidgets": [],
       "type": "html"
      }
     },
     "output_type": "display_data"
    }
   ],
   "source": [
    "documentAssembler = DocumentAssembler()\\\n",
    "    .setInputCol(\"_term\")\\\n",
    "    .setOutputCol(\"sentence\")\n",
    "\n",
    "bert_embeddings = BertSentenceEmbeddings.pretrained(\"sent_biobert_pubmed_base_cased\")\\\n",
    "    .setInputCols([\"sentence\"])\\\n",
    "    .setOutputCol(\"bert_embeddings\")\n",
    "\n",
    "snomed_training_pipeline = Pipeline(\n",
    "    stages = [\n",
    "    documentAssembler,\n",
    "    bert_embeddings])\n",
    "\n",
    "\n",
    "snomed_training_model = snomed_training_pipeline.fit(aap_train_sdf)\n",
    "snomed_data = snomed_training_model.transform(aap_train_sdf)\n"
   ]
  },
  {
   "cell_type": "code",
   "execution_count": 0,
   "metadata": {
    "application/vnd.databricks.v1+cell": {
     "inputWidgets": {},
     "nuid": "2499cf31-e566-488f-a3b2-40cbbe3c74ef",
     "showTitle": false,
     "title": ""
    }
   },
   "outputs": [
    {
     "data": {
      "text/html": [
       "<style scoped>\n",
       "  .ansiout {\n",
       "    display: block;\n",
       "    unicode-bidi: embed;\n",
       "    white-space: pre-wrap;\n",
       "    word-wrap: break-word;\n",
       "    word-break: break-all;\n",
       "    font-family: \"Source Code Pro\", \"Menlo\", monospace;;\n",
       "    font-size: 13px;\n",
       "    color: #555;\n",
       "    margin-left: 4px;\n",
       "    line-height: 19px;\n",
       "  }\n",
       "</style>\n",
       "<div class=\"ansiout\">CPU times: user 2.99 s, sys: 1.4 s, total: 4.4 s\n",
       "Wall time: 17min 10s\n",
       "</div>"
      ]
     },
     "metadata": {
      "application/vnd.databricks.v1+output": {
       "addedWidgets": {},
       "arguments": {},
       "data": "<div class=\"ansiout\">CPU times: user 2.99 s, sys: 1.4 s, total: 4.4 s\nWall time: 17min 10s\n</div>",
       "datasetInfos": [],
       "removedWidgets": [],
       "type": "html"
      }
     },
     "output_type": "display_data"
    }
   ],
   "source": [
    "bertExtractor = SentenceEntityResolverApproach()\\\n",
    "    .setNeighbours(25)\\\n",
    "    .setThreshold(1000)\\\n",
    "    .setInputCols(\"bert_embeddings\")\\\n",
    "    .setNormalizedCol(\"_term\")\\\n",
    "    .setLabelCol(\"conceptId\")\\\n",
    "    .setOutputCol('snomed_code')\\\n",
    "    .setDistanceFunction(\"EUCLIDIAN\")\\\n",
    "    .setCaseSensitive(False)\n",
    "\n",
    "%time snomed_model = bertExtractor.fit(snomed_data)"
   ]
  },
  {
   "cell_type": "code",
   "execution_count": 0,
   "metadata": {
    "application/vnd.databricks.v1+cell": {
     "inputWidgets": {},
     "nuid": "a85ba7dd-c23b-4ac9-a315-42419894705d",
     "showTitle": false,
     "title": ""
    }
   },
   "outputs": [
    {
     "data": {
      "text/html": [
       "<style scoped>\n",
       "  .ansiout {\n",
       "    display: block;\n",
       "    unicode-bidi: embed;\n",
       "    white-space: pre-wrap;\n",
       "    word-wrap: break-word;\n",
       "    word-break: break-all;\n",
       "    font-family: \"Source Code Pro\", \"Menlo\", monospace;;\n",
       "    font-size: 13px;\n",
       "    color: #555;\n",
       "    margin-left: 4px;\n",
       "    line-height: 19px;\n",
       "  }\n",
       "</style>\n",
       "<div class=\"ansiout\"></div>"
      ]
     },
     "metadata": {
      "application/vnd.databricks.v1+output": {
       "addedWidgets": {},
       "arguments": {},
       "data": "<div class=\"ansiout\"></div>",
       "datasetInfos": [],
       "removedWidgets": [],
       "type": "html"
      }
     },
     "output_type": "display_data"
    }
   ],
   "source": [
    "# save if you will need that later\n",
    "model.write().overwrite().save(\"dbfs:/databricks/driver/models/biobertresolve_snomed_askapatient\")"
   ]
  },
  {
   "cell_type": "code",
   "execution_count": 0,
   "metadata": {
    "application/vnd.databricks.v1+cell": {
     "inputWidgets": {},
     "nuid": "1a280e7b-8006-4104-a849-01ad70d32d83",
     "showTitle": false,
     "title": ""
    }
   },
   "outputs": [
    {
     "data": {
      "text/html": [
       "<style scoped>\n",
       "  .ansiout {\n",
       "    display: block;\n",
       "    unicode-bidi: embed;\n",
       "    white-space: pre-wrap;\n",
       "    word-wrap: break-word;\n",
       "    word-break: break-all;\n",
       "    font-family: \"Source Code Pro\", \"Menlo\", monospace;;\n",
       "    font-size: 13px;\n",
       "    color: #555;\n",
       "    margin-left: 4px;\n",
       "    line-height: 19px;\n",
       "  }\n",
       "</style>\n",
       "<div class=\"ansiout\"></div>"
      ]
     },
     "metadata": {
      "application/vnd.databricks.v1+output": {
       "addedWidgets": {},
       "arguments": {},
       "data": "<div class=\"ansiout\"></div>",
       "datasetInfos": [],
       "removedWidgets": [],
       "type": "html"
      }
     },
     "output_type": "display_data"
    }
   ],
   "source": [
    "prediction_Model = PipelineModel(stages=[snomed_training_model, snomed_model])\n",
    "\n",
    "aap_train_pred= prediction_Model.transform(aap_train_sdf).cache()\n",
    "aap_test_pred= prediction_Model.transform(aap_test_sdf).cache()\n",
    "aap_val_pred= prediction_Model.transform(aap_val_sdf).cache()"
   ]
  },
  {
   "cell_type": "code",
   "execution_count": 0,
   "metadata": {
    "application/vnd.databricks.v1+cell": {
     "inputWidgets": {},
     "nuid": "ade7eecd-a78b-441e-969d-bd54f89bd34f",
     "showTitle": false,
     "title": ""
    }
   },
   "outputs": [
    {
     "data": {
      "text/html": [
       "<style scoped>\n",
       "  .ansiout {\n",
       "    display: block;\n",
       "    unicode-bidi: embed;\n",
       "    white-space: pre-wrap;\n",
       "    word-wrap: break-word;\n",
       "    word-break: break-all;\n",
       "    font-family: \"Source Code Pro\", \"Menlo\", monospace;;\n",
       "    font-size: 13px;\n",
       "    color: #555;\n",
       "    margin-left: 4px;\n",
       "    line-height: 19px;\n",
       "  }\n",
       "</style>\n",
       "<div class=\"ansiout\">+----------------+--------------------------------+------------------------------------+---------------------+--------------------------------------+--------------------------------------------------+\n",
       "       conceptId|                            term|                               _term|snomed_code[0].result|snomed_code[0].metadata[resolved_text]|        snomed_code[0].metadata[all_k_resolutions]|\n",
       "+----------------+--------------------------------+------------------------------------+---------------------+--------------------------------------+--------------------------------------------------+\n",
       "       108367008|                     dislocating|                Dislocation of joint|            108367008|                  Dislocation of joint|Dislocation of joint:::Disorder of joint of sho...|\n",
       "3384011000036100|                       Arthrotec|                           Arthrotec|     3384011000036100|                             Arthrotec|                                         Arthrotec|\n",
       "       166717003|               elevated creatine|             Serum creatinine raised|            166717003|               Serum creatinine raised|Serum creatinine raised:::Serum cholesterol raised|\n",
       "3877011000036101|                         Lipitor|                             Lipitor|     3877011000036101|                               Lipitor|                                           Lipitor|\n",
       "       402234004|                  Eczema on feet|                         Foot eczema|            402234004|                           Foot eczema|Foot eczema:::Hand eczema:::Eczema:::Blistering...|\n",
       "       404640003|                           dizzy|                           Dizziness|            404640003|                             Dizziness|                                         Dizziness|\n",
       "       271681002|   pain in the pit of my stomach|                        Stomach ache|            271681002|                          Stomach ache|                                      Stomach ache|\n",
       "        76948002|extreme muscle pain in shoulders|                         Severe pain|             76948002|                           Severe pain|                                       Severe pain|\n",
       "        36031001|                    Burning feet|                        Burning feet|             36031001|                          Burning feet|Burning feet:::Cold feet:::Cold hands:::Burning...|\n",
       "        76948002|             imence pain in legs|                         Severe pain|             76948002|                           Severe pain|                                       Severe pain|\n",
       "        42399005|              kidney malfunction|                       Renal failure|             42399005|                         Renal failure|Renal failure:::Renal injury:::Renal impairment...|\n",
       "       288227007|        muscle pain in my biceps|        Myalgia/myositis - upper arm|            288227007|          Myalgia/myositis - upper arm|Myalgia/myositis - upper arm:::Myalgia/myositis...|\n",
       "       419723007|                       brain fog|                       Mentally dull|            419723007|                         Mentally dull|                                     Mentally dull|\n",
       "       248490000|                        bloating|                    Bloating symptom|            248490000|                      Bloating symptom|                                  Bloating symptom|\n",
       "        22253000|                            pain|                                Pain|             22253000|                                  Pain|                                              Pain|\n",
       "       162076009|                             gas|Excessive upper gastrointestinal gas|            162076009|  Excessive upper gastrointestinal gas|              Excessive upper gastrointestinal gas|\n",
       "       247592009|          Short term memory loss|              Poor short-term memory|            247592009|                Poor short-term memory|                            Poor short-term memory|\n",
       "        62507009|             tingling in my feet|                    Pins and needles|             62507009|                      Pins and needles|                                  Pins and needles|\n",
       "3877011000036101|                         LIPITOR|                             Lipitor|     3877011000036101|                               Lipitor|                                           Lipitor|\n",
       "        62507009|   tingling on left side of face|                    Pins and needles|             62507009|                      Pins and needles|                                  Pins and needles|\n",
       "+----------------+--------------------------------+------------------------------------+---------------------+--------------------------------------+--------------------------------------------------+\n",
       "only showing top 20 rows\n",
       "\n",
       "</div>"
      ]
     },
     "metadata": {
      "application/vnd.databricks.v1+output": {
       "addedWidgets": {},
       "arguments": {},
       "data": "<div class=\"ansiout\">+----------------+--------------------------------+------------------------------------+---------------------+--------------------------------------+--------------------------------------------------+\n|       conceptId|                            term|                               _term|snomed_code[0].result|snomed_code[0].metadata[resolved_text]|        snomed_code[0].metadata[all_k_resolutions]|\n+----------------+--------------------------------+------------------------------------+---------------------+--------------------------------------+--------------------------------------------------+\n|       108367008|                     dislocating|                Dislocation of joint|            108367008|                  Dislocation of joint|Dislocation of joint:::Disorder of joint of sho...|\n|3384011000036100|                       Arthrotec|                           Arthrotec|     3384011000036100|                             Arthrotec|                                         Arthrotec|\n|       166717003|               elevated creatine|             Serum creatinine raised|            166717003|               Serum creatinine raised|Serum creatinine raised:::Serum cholesterol raised|\n|3877011000036101|                         Lipitor|                             Lipitor|     3877011000036101|                               Lipitor|                                           Lipitor|\n|       402234004|                  Eczema on feet|                         Foot eczema|            402234004|                           Foot eczema|Foot eczema:::Hand eczema:::Eczema:::Blistering...|\n|       404640003|                           dizzy|                           Dizziness|            404640003|                             Dizziness|                                         Dizziness|\n|       271681002|   pain in the pit of my stomach|                        Stomach ache|            271681002|                          Stomach ache|                                      Stomach ache|\n|        76948002|extreme muscle pain in shoulders|                         Severe pain|             76948002|                           Severe pain|                                       Severe pain|\n|        36031001|                    Burning feet|                        Burning feet|             36031001|                          Burning feet|Burning feet:::Cold feet:::Cold hands:::Burning...|\n|        76948002|             imence pain in legs|                         Severe pain|             76948002|                           Severe pain|                                       Severe pain|\n|        42399005|              kidney malfunction|                       Renal failure|             42399005|                         Renal failure|Renal failure:::Renal injury:::Renal impairment...|\n|       288227007|        muscle pain in my biceps|        Myalgia/myositis - upper arm|            288227007|          Myalgia/myositis - upper arm|Myalgia/myositis - upper arm:::Myalgia/myositis...|\n|       419723007|                       brain fog|                       Mentally dull|            419723007|                         Mentally dull|                                     Mentally dull|\n|       248490000|                        bloating|                    Bloating symptom|            248490000|                      Bloating symptom|                                  Bloating symptom|\n|        22253000|                            pain|                                Pain|             22253000|                                  Pain|                                              Pain|\n|       162076009|                             gas|Excessive upper gastrointestinal gas|            162076009|  Excessive upper gastrointestinal gas|              Excessive upper gastrointestinal gas|\n|       247592009|          Short term memory loss|              Poor short-term memory|            247592009|                Poor short-term memory|                            Poor short-term memory|\n|        62507009|             tingling in my feet|                    Pins and needles|             62507009|                      Pins and needles|                                  Pins and needles|\n|3877011000036101|                         LIPITOR|                             Lipitor|     3877011000036101|                               Lipitor|                                           Lipitor|\n|        62507009|   tingling on left side of face|                    Pins and needles|             62507009|                      Pins and needles|                                  Pins and needles|\n+----------------+--------------------------------+------------------------------------+---------------------+--------------------------------------+--------------------------------------------------+\nonly showing top 20 rows\n\n</div>",
       "datasetInfos": [],
       "removedWidgets": [],
       "type": "html"
      }
     },
     "output_type": "display_data"
    }
   ],
   "source": [
    "aap_test_pred.selectExpr(\"conceptId\",\"term\",\"_term\",\"snomed_code[0].result\",\"snomed_code[0].metadata.resolved_text\",\"snomed_code[0].metadata.all_k_resolutions\").show(truncate=50)"
   ]
  },
  {
   "cell_type": "code",
   "execution_count": 0,
   "metadata": {
    "application/vnd.databricks.v1+cell": {
     "inputWidgets": {},
     "nuid": "676f6d2d-ca2f-479d-a5ab-5a99e31fd011",
     "showTitle": false,
     "title": ""
    }
   },
   "outputs": [
    {
     "data": {
      "text/html": [
       "<style scoped>\n",
       "  .ansiout {\n",
       "    display: block;\n",
       "    unicode-bidi: embed;\n",
       "    white-space: pre-wrap;\n",
       "    word-wrap: break-word;\n",
       "    word-break: break-all;\n",
       "    font-family: \"Source Code Pro\", \"Menlo\", monospace;;\n",
       "    font-size: 13px;\n",
       "    color: #555;\n",
       "    margin-left: 4px;\n",
       "    line-height: 19px;\n",
       "  }\n",
       "</style>\n",
       "<div class=\"ansiout\">+----------------+------------------------------+---------------------+---------------------+--------------------------------------+--------------------------------------------------+\n",
       "       conceptId|                          term|                _term|snomed_code[0].result|snomed_code[0].metadata[resolved_text]|        snomed_code[0].metadata[all_k_resolutions]|\n",
       "+----------------+------------------------------+---------------------+---------------------+--------------------------------------+--------------------------------------------------+\n",
       "       267032009|persisten feeling of tiredness|   Tired all the time|            267032009|                    Tired all the time|          Tired all the time:::Tightness in throat|\n",
       "        22298006|                  HEART ATTACK|Myocardial infarction|             22298006|                 Myocardial infarction|                             Myocardial infarction|\n",
       "3877011000036101|                       LIPITOR|              Lipitor|     3877011000036101|                               Lipitor|                                           Lipitor|\n",
       "       415690000|                       sweated|             Sweating|            415690000|                              Sweating|            Sweating:::Sweating problem:::Swelling|\n",
       "       248491001|              swelling at knee|         Swollen knee|            248491001|                          Swollen knee|Swollen knee:::Swollen ankle:::Swollen feet:::S...|\n",
       "       248490000|                      bloating|     Bloating symptom|            248490000|                      Bloating symptom|                                  Bloating symptom|\n",
       "       162059005|                 stomach upset|        Upset stomach|            162059005|                         Upset stomach|                                     Upset stomach|\n",
       "3877011000036101|                       Lipitor|              Lipitor|     3877011000036101|                               Lipitor|                                           Lipitor|\n",
       "        62507009|                      tingling|     Pins and needles|             62507009|                      Pins and needles|                                  Pins and needles|\n",
       "       238131007|                   over weight|           Overweight|            238131007|                            Overweight|                          Overweight:::Weight gain|\n",
       "        73595000|                        stress|               Stress|             73595000|                                Stress|               Stress:::Stress overload:::Swelling|\n",
       "3877011000036101|                       lipitor|              Lipitor|     3877011000036101|                               Lipitor|                                           Lipitor|\n",
       "3877011000036101|                       Lipitor|              Lipitor|     3877011000036101|                               Lipitor|                                           Lipitor|\n",
       "        22253000|                          hurt|                 Pain|             22253000|                                  Pain|                                              Pain|\n",
       "        73211009|                      diabetes|    Diabetes mellitus|             73211009|                     Diabetes mellitus|                                 Diabetes mellitus|\n",
       "        10601006|                     sore legs|   Pain in lower limb|             10601006|                    Pain in lower limb|                                Pain in lower limb|\n",
       "        75694006|       acute pancreatic attack|         Pancreatitis|             75694006|                          Pancreatitis|Pancreatitis:::Peritonitis:::Acute gastritis:::...|\n",
       "        51197009|     SEVERE abdominal cramping|       Stomach cramps|             51197009|                        Stomach cramps|                                    Stomach cramps|\n",
       "         3723001|                     arthrites|            Arthritis|              3723001|                             Arthritis|                                         Arthritis|\n",
       "       271767006|        skin began to come off|      Peeling of skin|            271767006|                       Peeling of skin|Peeling of skin:::Discolouration of skin:::Abra...|\n",
       "+----------------+------------------------------+---------------------+---------------------+--------------------------------------+--------------------------------------------------+\n",
       "only showing top 20 rows\n",
       "\n",
       "</div>"
      ]
     },
     "metadata": {
      "application/vnd.databricks.v1+output": {
       "addedWidgets": {},
       "arguments": {},
       "data": "<div class=\"ansiout\">+----------------+------------------------------+---------------------+---------------------+--------------------------------------+--------------------------------------------------+\n|       conceptId|                          term|                _term|snomed_code[0].result|snomed_code[0].metadata[resolved_text]|        snomed_code[0].metadata[all_k_resolutions]|\n+----------------+------------------------------+---------------------+---------------------+--------------------------------------+--------------------------------------------------+\n|       267032009|persisten feeling of tiredness|   Tired all the time|            267032009|                    Tired all the time|          Tired all the time:::Tightness in throat|\n|        22298006|                  HEART ATTACK|Myocardial infarction|             22298006|                 Myocardial infarction|                             Myocardial infarction|\n|3877011000036101|                       LIPITOR|              Lipitor|     3877011000036101|                               Lipitor|                                           Lipitor|\n|       415690000|                       sweated|             Sweating|            415690000|                              Sweating|            Sweating:::Sweating problem:::Swelling|\n|       248491001|              swelling at knee|         Swollen knee|            248491001|                          Swollen knee|Swollen knee:::Swollen ankle:::Swollen feet:::S...|\n|       248490000|                      bloating|     Bloating symptom|            248490000|                      Bloating symptom|                                  Bloating symptom|\n|       162059005|                 stomach upset|        Upset stomach|            162059005|                         Upset stomach|                                     Upset stomach|\n|3877011000036101|                       Lipitor|              Lipitor|     3877011000036101|                               Lipitor|                                           Lipitor|\n|        62507009|                      tingling|     Pins and needles|             62507009|                      Pins and needles|                                  Pins and needles|\n|       238131007|                   over weight|           Overweight|            238131007|                            Overweight|                          Overweight:::Weight gain|\n|        73595000|                        stress|               Stress|             73595000|                                Stress|               Stress:::Stress overload:::Swelling|\n|3877011000036101|                       lipitor|              Lipitor|     3877011000036101|                               Lipitor|                                           Lipitor|\n|3877011000036101|                       Lipitor|              Lipitor|     3877011000036101|                               Lipitor|                                           Lipitor|\n|        22253000|                          hurt|                 Pain|             22253000|                                  Pain|                                              Pain|\n|        73211009|                      diabetes|    Diabetes mellitus|             73211009|                     Diabetes mellitus|                                 Diabetes mellitus|\n|        10601006|                     sore legs|   Pain in lower limb|             10601006|                    Pain in lower limb|                                Pain in lower limb|\n|        75694006|       acute pancreatic attack|         Pancreatitis|             75694006|                          Pancreatitis|Pancreatitis:::Peritonitis:::Acute gastritis:::...|\n|        51197009|     SEVERE abdominal cramping|       Stomach cramps|             51197009|                        Stomach cramps|                                    Stomach cramps|\n|         3723001|                     arthrites|            Arthritis|              3723001|                             Arthritis|                                         Arthritis|\n|       271767006|        skin began to come off|      Peeling of skin|            271767006|                       Peeling of skin|Peeling of skin:::Discolouration of skin:::Abra...|\n+----------------+------------------------------+---------------------+---------------------+--------------------------------------+--------------------------------------------------+\nonly showing top 20 rows\n\n</div>",
       "datasetInfos": [],
       "removedWidgets": [],
       "type": "html"
      }
     },
     "output_type": "display_data"
    }
   ],
   "source": [
    "aap_val_pred.selectExpr(\"conceptId\",\"term\",\"_term\",\"snomed_code[0].result\",\"snomed_code[0].metadata.resolved_text\",\"snomed_code[0].metadata.all_k_resolutions\").show(truncate=50)"
   ]
  },
  {
   "cell_type": "markdown",
   "metadata": {
    "application/vnd.databricks.v1+cell": {
     "inputWidgets": {},
     "nuid": "5cb4a608-29da-4c43-956d-ec0f6a761e64",
     "showTitle": false,
     "title": ""
    }
   },
   "source": [
    "End of Notebook # 13"
   ]
  }
 ],
 "metadata": {
  "application/vnd.databricks.v1+notebook": {
   "dashboards": [],
   "language": "python",
   "notebookMetadata": {
    "pythonIndentUnit": 2
   },
   "notebookName": "13 .Snomed_Entity_Resolver_Model_Training_v3.0",
   "notebookOrigID": 4283205941508256,
   "widgets": {}
  },
  "kernelspec": {
   "display_name": "Python 3",
   "language": "python",
   "name": "python3"
  },
  "language_info": {
   "codemirror_mode": {
    "name": "ipython",
    "version": 3
   },
   "file_extension": ".py",
   "mimetype": "text/x-python",
   "name": "python",
   "nbconvert_exporter": "python",
   "pygments_lexer": "ipython3",
   "version": "3.8.3"
  }
 },
 "nbformat": 4,
 "nbformat_minor": 1
}
