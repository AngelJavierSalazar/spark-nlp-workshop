{
  "nbformat": 4,
  "nbformat_minor": 0,
  "metadata": {
    "colab": {
      "name": "Clinical_DeIdentification2 4..ipynb",
      "provenance": [],
      "collapsed_sections": [],
      "toc_visible": true
    },
    "kernelspec": {
      "display_name": "Python 3",
      "language": "python",
      "name": "python3"
    },
    "language_info": {
      "codemirror_mode": {
        "name": "ipython",
        "version": 3
      },
      "file_extension": ".py",
      "mimetype": "text/x-python",
      "name": "python",
      "nbconvert_exporter": "python",
      "pygments_lexer": "ipython3",
      "version": "3.7.4"
    }
  },
  "cells": [
    {
      "cell_type": "markdown",
      "metadata": {
        "id": "I08sFJYCxR0Z"
      },
      "source": [
        "![JohnSnowLabs](https://nlp.johnsnowlabs.com/assets/images/logo.png)"
      ]
    },
    {
      "cell_type": "markdown",
      "metadata": {
        "id": "LKI5K1wQrSe9"
      },
      "source": [
        "[![Open In Colab](https://colab.research.google.com/assets/colab-badge.svg)](https://colab.research.google.com/github/JohnSnowLabs/spark-nlp-workshop/blob/master/tutorials/Certification_Trainings/Healthcare/4.Clinical_DeIdentificiation.ipynb)"
      ]
    },
    {
      "cell_type": "markdown",
      "metadata": {
        "id": "Niy3mZAjoayg"
      },
      "source": [
        "# Clinical Deidentification"
      ]
    },
    {
      "cell_type": "markdown",
      "metadata": {
        "id": "okhT7AcXxben"
      },
      "source": [
        "## Colab Setup"
      ]
    },
    {
      "cell_type": "code",
      "metadata": {
        "colab": {
          "resources": {
            "http://localhost:8080/nbextensions/google.colab/files.js": {
              "data": "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",
              "ok": true,
              "headers": [
                [
                  "content-type",
                  "application/javascript"
                ]
              ],
              "status": 200,
              "status_text": ""
            }
          },
          "base_uri": "https://localhost:8080/",
          "height": 89
        },
        "id": "I8Ytt2LLp2rj",
        "outputId": "0c29bb01-0802-4778-fcad-a66660e67f06"
      },
      "source": [
        "import json\n",
        "\n",
        "from google.colab import files\n",
        "\n",
        "license_keys = files.upload()\n",
        "\n",
        "with open(list(license_keys.keys())[0]) as f:\n",
        "    license_keys = json.load(f)\n",
        "\n",
        "license_keys.keys()"
      ],
      "execution_count": 1,
      "outputs": [
        {
          "output_type": "display_data",
          "data": {
            "text/html": [
              "\n",
              "     <input type=\"file\" id=\"files-2047bed5-7ec4-4696-bf70-0b02628b88ac\" name=\"files[]\" multiple disabled\n",
              "        style=\"border:none\" />\n",
              "     <output id=\"result-2047bed5-7ec4-4696-bf70-0b02628b88ac\">\n",
              "      Upload widget is only available when the cell has been executed in the\n",
              "      current browser session. Please rerun this cell to enable.\n",
              "      </output>\n",
              "      <script src=\"/nbextensions/google.colab/files.js\"></script> "
            ],
            "text/plain": [
              "<IPython.core.display.HTML object>"
            ]
          },
          "metadata": {
            "tags": []
          }
        },
        {
          "output_type": "stream",
          "text": [
            "Saving workshop_license_keys2.json to workshop_license_keys2 (1).json\n"
          ],
          "name": "stdout"
        },
        {
          "output_type": "execute_result",
          "data": {
            "text/plain": [
              "dict_keys(['SPARK_NLP_LICENSE', 'SECRET', 'AWS_ACCESS_KEY_ID', 'AWS_SECRET_ACCESS_KEY', 'PUBLIC_VERSION', 'JSL_VERSION', 'JSL_OCR_LICENSE'])"
            ]
          },
          "metadata": {
            "tags": []
          },
          "execution_count": 1
        }
      ]
    },
    {
      "cell_type": "code",
      "metadata": {
        "colab": {
          "base_uri": "https://localhost:8080/",
          "height": 35
        },
        "id": "iYPLeCFGf88G",
        "outputId": "ca7842a8-3541-43d1-aa89-33a5ead5fa4b"
      },
      "source": [
        "license_keys['JSL_VERSION']"
      ],
      "execution_count": 2,
      "outputs": [
        {
          "output_type": "execute_result",
          "data": {
            "application/vnd.google.colaboratory.intrinsic+json": {
              "type": "string"
            },
            "text/plain": [
              "'2.7.1'"
            ]
          },
          "metadata": {
            "tags": []
          },
          "execution_count": 2
        }
      ]
    },
    {
      "cell_type": "code",
      "metadata": {
        "id": "xy-mE2aVxZjl",
        "colab": {
          "base_uri": "https://localhost:8080/"
        },
        "outputId": "5c5e13dd-78cd-4ce7-d361-21827368e20b"
      },
      "source": [
        "import os\n",
        "\n",
        "# Install java\n",
        "! apt-get update -qq\n",
        "! apt-get install -y openjdk-8-jdk-headless -qq > /dev/null\n",
        "\n",
        "os.environ[\"JAVA_HOME\"] = \"/usr/lib/jvm/java-8-openjdk-amd64\"\n",
        "os.environ[\"PATH\"] = os.environ[\"JAVA_HOME\"] + \"/bin:\" + os.environ[\"PATH\"]\n",
        "! java -version\n",
        "\n",
        "secret = license_keys['SECRET']\n",
        "\n",
        "os.environ['SPARK_NLP_LICENSE'] = license_keys['SPARK_NLP_LICENSE']\n",
        "os.environ['AWS_ACCESS_KEY_ID']= license_keys['AWS_ACCESS_KEY_ID']\n",
        "os.environ['AWS_SECRET_ACCESS_KEY'] = license_keys['AWS_SECRET_ACCESS_KEY']\n",
        "jsl_version = license_keys['JSL_VERSION']\n",
        "version = license_keys['PUBLIC_VERSION']\n",
        "\n",
        "! pip install --ignore-installed -q pyspark==2.4.4\n",
        "\n",
        "! python -m pip install --upgrade spark-nlp-jsl==$jsl_version  --extra-index-url https://pypi.johnsnowlabs.com/$secret\n",
        "\n",
        "! pip install --ignore-installed -q spark-nlp==$version\n",
        "\n",
        "import sparknlp\n",
        "\n",
        "print (sparknlp.version())\n",
        "\n",
        "import json\n",
        "import os\n",
        "from pyspark.ml import Pipeline\n",
        "from pyspark.sql import SparkSession\n",
        "\n",
        "\n",
        "from sparknlp.annotator import *\n",
        "from sparknlp_jsl.annotator import *\n",
        "from sparknlp.base import *\n",
        "import sparknlp_jsl\n",
        "\n",
        "spark = sparknlp_jsl.start(secret)"
      ],
      "execution_count": 3,
      "outputs": [
        {
          "output_type": "stream",
          "text": [
            "openjdk version \"1.8.0_275\"\n",
            "OpenJDK Runtime Environment (build 1.8.0_275-8u275-b01-0ubuntu1~18.04-b01)\n",
            "OpenJDK 64-Bit Server VM (build 25.275-b01, mixed mode)\n",
            "Looking in indexes: https://pypi.org/simple, https://pypi.johnsnowlabs.com/2.7.1-c069474a59bb52cf25c5ed6e7beb05b04c42e7ca\n",
            "Requirement already up-to-date: spark-nlp-jsl==2.7.1 in /usr/local/lib/python3.6/dist-packages (2.7.1)\n",
            "Requirement already satisfied, skipping upgrade: spark-nlp==2.6.4 in /usr/local/lib/python3.6/dist-packages (from spark-nlp-jsl==2.7.1) (2.6.4)\n",
            "2.6.4\n"
          ],
          "name": "stdout"
        }
      ]
    },
    {
      "cell_type": "code",
      "metadata": {
        "id": "VtLIEJtPf88T"
      },
      "source": [
        "# if you want to start the session with custom params as in start function above\n",
        "def start(secret):\n",
        "    builder = SparkSession.builder \\\n",
        "        .appName(\"Spark NLP Licensed\") \\\n",
        "        .master(\"local[*]\") \\\n",
        "        .config(\"spark.driver.memory\", \"16G\") \\\n",
        "        .config(\"spark.serializer\", \"org.apache.spark.serializer.KryoSerializer\") \\\n",
        "        .config(\"spark.kryoserializer.buffer.max\", \"2000M\") \\\n",
        "        .config(\"spark.jars.packages\", \"com.johnsnowlabs.nlp:spark-nlp_2.11:\"+version) \\\n",
        "        .config(\"spark.jars\", \"https://pypi.johnsnowlabs.com/\"+secret+\"/spark-nlp-jsl-\"+jsl_version+\".jar\")\n",
        "      \n",
        "    return builder.getOrCreate()\n",
        "\n",
        "#spark = start(secret)"
      ],
      "execution_count": 4,
      "outputs": []
    },
    {
      "cell_type": "code",
      "metadata": {
        "colab": {
          "base_uri": "https://localhost:8080/",
          "height": 216
        },
        "id": "V1wrGrq0GClP",
        "outputId": "8d804ea1-6d38-42c3-ef80-051fde28adc6"
      },
      "source": [
        "spark"
      ],
      "execution_count": 5,
      "outputs": [
        {
          "output_type": "execute_result",
          "data": {
            "text/html": [
              "\n",
              "            <div>\n",
              "                <p><b>SparkSession - in-memory</b></p>\n",
              "                \n",
              "        <div>\n",
              "            <p><b>SparkContext</b></p>\n",
              "\n",
              "            <p><a href=\"http://8b487f8efeb9:4040\">Spark UI</a></p>\n",
              "\n",
              "            <dl>\n",
              "              <dt>Version</dt>\n",
              "                <dd><code>v2.4.4</code></dd>\n",
              "              <dt>Master</dt>\n",
              "                <dd><code>local[*]</code></dd>\n",
              "              <dt>AppName</dt>\n",
              "                <dd><code>Spark NLP Licensed</code></dd>\n",
              "            </dl>\n",
              "        </div>\n",
              "        \n",
              "            </div>\n",
              "        "
            ],
            "text/plain": [
              "<pyspark.sql.session.SparkSession at 0x7f88cc236160>"
            ]
          },
          "metadata": {
            "tags": []
          },
          "execution_count": 5
        }
      ]
    },
    {
      "cell_type": "markdown",
      "metadata": {
        "id": "rFQifkFYihOc"
      },
      "source": [
        "# Deidentification Model"
      ]
    },
    {
      "cell_type": "markdown",
      "metadata": {
        "id": "2eY0jM7kf88f"
      },
      "source": [
        "Protected Health Information: \n",
        "- individual’s past, present, or future physical or mental health or condition\n",
        "- provision of health care to the individual\n",
        "- past, present, or future payment for the health care \n",
        "\n",
        "Protected health information includes many common identifiers (e.g., name, address, birth date, Social Security Number) when they can be associated with the health information."
      ]
    },
    {
      "cell_type": "markdown",
      "metadata": {
        "id": "ZKln9C7Ef88f"
      },
      "source": [
        "Load NER pipeline to isentify protected entities:"
      ]
    },
    {
      "cell_type": "code",
      "metadata": {
        "id": "ONMo7NWXU19B"
      },
      "source": [
        "import pandas as pd\n",
        "\n",
        "pd.set_option('display.max_columns', None)  \n",
        "pd.set_option('display.expand_frame_repr', False)\n",
        "pd.set_option('max_colwidth', None)\n",
        "\n",
        "from sparknlp.base import *\n",
        "from sparknlp.annotator import *\n",
        "from pyspark.ml import Pipeline, PipelineModel\n",
        "import pyspark.sql.functions as F\n",
        "import string\n",
        "import numpy as np\n",
        "import sparknlp\n",
        "from sparknlp.util import *\n",
        "from sparknlp.pretrained import ResourceDownloader\n",
        "from pyspark.sql import functions as F\n",
        "from sparknlp_jsl.annotator import *"
      ],
      "execution_count": 6,
      "outputs": []
    },
    {
      "cell_type": "code",
      "metadata": {
        "colab": {
          "base_uri": "https://localhost:8080/"
        },
        "id": "qHzG7Wvhgcex",
        "outputId": "b91dfff0-3e59-431d-c580-126569eaf834"
      },
      "source": [
        "from sparknlp_jsl.annotator import *\n",
        "\n",
        "documentAssembler = DocumentAssembler()\\\n",
        "  .setInputCol(\"text\")\\\n",
        "  .setOutputCol(\"document\")\n",
        "\n",
        "# Sentence Detector annotator, processes various sentences per line\n",
        "\n",
        "sentenceDetector = SentenceDetector()\\\n",
        "  .setInputCols([\"document\"])\\\n",
        "  .setOutputCol(\"sentence\")\n",
        "\n",
        "# Tokenizer splits words in a relevant format for NLP\n",
        "\n",
        "tokenizer = Tokenizer()\\\n",
        "  .setInputCols([\"sentence\"])\\\n",
        "  .setOutputCol(\"token\")\n",
        "\n",
        "# Clinical word embeddings trained on PubMED dataset\n",
        "\n",
        "word_embeddings = WordEmbeddingsModel.pretrained(\"embeddings_clinical\", \"en\", \"clinical/models\")\\\n",
        "  .setInputCols([\"sentence\", \"token\"])\\\n",
        "  .setOutputCol(\"embeddings\")\n",
        "\n",
        "# NER model trained on n2c2 (de-identification and Heart Disease Risk Factors Challenge) datasets)\n",
        "\n",
        "clinical_ner = NerDLModel.pretrained(\"ner_deid_large\", \"en\", \"clinical/models\") \\\n",
        "  .setInputCols([\"sentence\", \"token\", \"embeddings\"]) \\\n",
        "  .setOutputCol(\"ner\")\n",
        "\n",
        "ner_converter = NerConverterInternal()\\\n",
        "  .setInputCols([\"sentence\", \"token\", \"ner\"])\\\n",
        "  .setOutputCol(\"ner_chunk\")\n",
        "\n",
        "nlpPipeline = Pipeline(stages=[\n",
        "    documentAssembler, \n",
        "    sentenceDetector,\n",
        "    tokenizer,\n",
        "    word_embeddings,\n",
        "    clinical_ner,\n",
        "    ner_converter])\n",
        "\n",
        "empty_data = spark.createDataFrame([[\"\"]]).toDF(\"text\")\n",
        "\n",
        "model = nlpPipeline.fit(empty_data)"
      ],
      "execution_count": 7,
      "outputs": [
        {
          "output_type": "stream",
          "text": [
            "embeddings_clinical download started this may take some time.\n",
            "Approximate size to download 1.6 GB\n",
            "[OK!]\n",
            "ner_deid_large download started this may take some time.\n",
            "Approximate size to download 13.9 MB\n",
            "[OK!]\n"
          ],
          "name": "stdout"
        }
      ]
    },
    {
      "cell_type": "markdown",
      "metadata": {
        "id": "woAJhVv6f88m"
      },
      "source": [
        "### Pretrained NER models extracts:\n",
        "\n",
        "- Name\n",
        "- Profession\n",
        "- Age\n",
        "- Date\n",
        "- Contact(Telephone numbers, FAX numbers, Email addresses)\n",
        "- Location (Address, City, Postal code, Hospital Name, Employment information)\n",
        "- Id (Social Security numbers, Medical record numbers, Internet protocol addresses)"
      ]
    },
    {
      "cell_type": "code",
      "metadata": {
        "id": "Fxdh4CBBf88n"
      },
      "source": [
        "text ='''\n",
        "A . Record date : 2093-01-13 , David Hale , M.D . , Name : Hendrickson , Ora MR . # 7194334 Date : 01/13/93 PCP : Oliveira , 25 month years-old , Record date : 2079-11-09 . Cocke County Baptist Hospital . 0295 Keats Street\n",
        "'''"
      ],
      "execution_count": 8,
      "outputs": []
    },
    {
      "cell_type": "code",
      "metadata": {
        "id": "AE7cILT6f88q"
      },
      "source": [
        "result = model.transform(spark.createDataFrame([[text]]).toDF(\"text\"))"
      ],
      "execution_count": 9,
      "outputs": []
    },
    {
      "cell_type": "code",
      "metadata": {
        "id": "5cxcMyvLf88u"
      },
      "source": [
        "result_df = result.select(F.explode(F.arrays_zip('token.result', 'ner.result')).alias(\"cols\")) \\\n",
        ".select(F.expr(\"cols['0']\").alias(\"token\"),\n",
        "        F.expr(\"cols['1']\").alias(\"ner_label\"))"
      ],
      "execution_count": 10,
      "outputs": []
    },
    {
      "cell_type": "code",
      "metadata": {
        "colab": {
          "base_uri": "https://localhost:8080/"
        },
        "id": "nygC3Hbzf88x",
        "outputId": "c9676fd4-7e62-4f3a-dc72-d035f04c07bf"
      },
      "source": [
        "result_df.select(\"token\", \"ner_label\").groupBy('ner_label').count().orderBy('count', ascending=False).show(truncate=False)"
      ],
      "execution_count": 11,
      "outputs": [
        {
          "output_type": "stream",
          "text": [
            "+----------+-----+\n",
            "|ner_label |count|\n",
            "+----------+-----+\n",
            "|O         |28   |\n",
            "|I-LOCATION|5    |\n",
            "|B-DATE    |3    |\n",
            "|I-NAME    |3    |\n",
            "|B-NAME    |3    |\n",
            "|B-LOCATION|2    |\n",
            "|B-ID      |1    |\n",
            "|B-AGE     |1    |\n",
            "+----------+-----+\n",
            "\n"
          ],
          "name": "stdout"
        }
      ]
    },
    {
      "cell_type": "markdown",
      "metadata": {
        "id": "DJvt31qlf880"
      },
      "source": [
        "### Check extracted sensetive entities"
      ]
    },
    {
      "cell_type": "code",
      "metadata": {
        "colab": {
          "base_uri": "https://localhost:8080/"
        },
        "id": "gneft_Mgf881",
        "outputId": "5dac97f1-800d-46c9-9ee9-57f04070594c"
      },
      "source": [
        "result.select(F.explode(F.arrays_zip('ner_chunk.result', 'ner_chunk.metadata')).alias(\"cols\")) \\\n",
        ".select(F.expr(\"cols['0']\").alias(\"chunk\"),\n",
        "        F.expr(\"cols['1']['entity']\").alias(\"ner_label\")).show(truncate=False)"
      ],
      "execution_count": 12,
      "outputs": [
        {
          "output_type": "stream",
          "text": [
            "+-----------------------------+---------+\n",
            "|chunk                        |ner_label|\n",
            "+-----------------------------+---------+\n",
            "|2093-01-13                   |DATE     |\n",
            "|David Hale                   |NAME     |\n",
            "|Hendrickson , Ora            |NAME     |\n",
            "|7194334                      |ID       |\n",
            "|01/13/93                     |DATE     |\n",
            "|Oliveira                     |NAME     |\n",
            "|25                           |AGE      |\n",
            "|2079-11-09                   |DATE     |\n",
            "|Cocke County Baptist Hospital|LOCATION |\n",
            "|0295 Keats Street            |LOCATION |\n",
            "+-----------------------------+---------+\n",
            "\n"
          ],
          "name": "stdout"
        }
      ]
    },
    {
      "cell_type": "markdown",
      "metadata": {
        "id": "vHgjbu0Xf885"
      },
      "source": [
        "We can find the cases, where the model will skip some important entities, for example:"
      ]
    },
    {
      "cell_type": "code",
      "metadata": {
        "id": "3I9EdNGMf885"
      },
      "source": [
        "text ='''\n",
        "Patient AIQING, 25 years-old , born in Beijing, was transfered to the The Johns Hopkins Hospital. Phone number: (541) 754-3010. MSW 100009632582\n",
        "'''"
      ],
      "execution_count": 13,
      "outputs": []
    },
    {
      "cell_type": "code",
      "metadata": {
        "id": "NFlcDIG5f888"
      },
      "source": [
        "result2 = model.transform(spark.createDataFrame([[text]]).toDF(\"text\"))"
      ],
      "execution_count": 14,
      "outputs": []
    },
    {
      "cell_type": "code",
      "metadata": {
        "colab": {
          "base_uri": "https://localhost:8080/"
        },
        "id": "xg5StqfBf89B",
        "outputId": "97c6a7e0-8538-4d20-b933-df2a55d8bb42"
      },
      "source": [
        "result_df = result2.select(F.explode(F.arrays_zip('token.result', 'ner.result')).alias(\"cols\")) \\\n",
        ".select(F.expr(\"cols['0']\").alias(\"token\"),\n",
        "        F.expr(\"cols['1']\").alias(\"ner_label\"))\n",
        "\n",
        "result2.select(F.explode(F.arrays_zip('ner_chunk.result', 'ner_chunk.metadata')).alias(\"cols\")) \\\n",
        ".select(F.expr(\"cols['0']\").alias(\"chunk\"),\n",
        "        F.expr(\"cols['1']['entity']\").alias(\"ner_label\")).show(truncate=False)"
      ],
      "execution_count": 15,
      "outputs": [
        {
          "output_type": "stream",
          "text": [
            "+--------------------------+---------+\n",
            "|chunk                     |ner_label|\n",
            "+--------------------------+---------+\n",
            "|25                        |AGE      |\n",
            "|Beijing                   |LOCATION |\n",
            "|The Johns Hopkins Hospital|LOCATION |\n",
            "|(541) 754-3010            |CONTACT  |\n",
            "|100009632582              |ID       |\n",
            "+--------------------------+---------+\n",
            "\n"
          ],
          "name": "stdout"
        }
      ]
    },
    {
      "cell_type": "markdown",
      "metadata": {
        "id": "DExQOzZxf89E"
      },
      "source": [
        "For these entities we can add a dictionary to the pipeline, by using **NerOverwriter()**:"
      ]
    },
    {
      "cell_type": "code",
      "metadata": {
        "id": "UPu8J-FBf89E"
      },
      "source": [
        "neroverwriter = NerOverwriter() \\\n",
        "    .setInputCols([\"ner\"]) \\\n",
        "    .setOutputCol(\"ner_overwrited\") \\\n",
        "    .setStopWords(['AIQING']) \\\n",
        "    .setNewResult(\"I-NAME\")\n",
        "\n",
        "ner_converter = NerConverterInternal()\\\n",
        "  .setInputCols([\"sentence\", \"token\", \"ner_overwrited\"])\\\n",
        "  .setOutputCol(\"ner_chunk\")\n",
        "\n",
        "nlpPipeline = Pipeline(stages=[\n",
        "    documentAssembler, \n",
        "    sentenceDetector,\n",
        "    tokenizer,\n",
        "    word_embeddings,\n",
        "    clinical_ner,\n",
        "    neroverwriter,\n",
        "    ner_converter])\n",
        "\n",
        "empty_data = spark.createDataFrame([[\"\"]]).toDF(\"text\")\n",
        "\n",
        "model = nlpPipeline.fit(empty_data)"
      ],
      "execution_count": 16,
      "outputs": []
    },
    {
      "cell_type": "markdown",
      "metadata": {
        "id": "rgkbyhLBf89H"
      },
      "source": [
        "Let's test the model after modification:"
      ]
    },
    {
      "cell_type": "code",
      "metadata": {
        "id": "Bx3Numhlf89I"
      },
      "source": [
        "result2 = model.transform(spark.createDataFrame([[text]]).toDF(\"text\"))"
      ],
      "execution_count": 17,
      "outputs": []
    },
    {
      "cell_type": "code",
      "metadata": {
        "colab": {
          "base_uri": "https://localhost:8080/"
        },
        "id": "S76-ayLGf89L",
        "outputId": "461adfc0-c1da-49a7-aa8a-3fcd1d79fbb9"
      },
      "source": [
        "result_df2 = result.select(F.explode(F.arrays_zip('token.result', 'ner.result')).alias(\"cols\")) \\\n",
        ".select(F.expr(\"cols['0']\").alias(\"token\"),\n",
        "        F.expr(\"cols['1']\").alias(\"ner_label\"))\n",
        "\n",
        "result_df2.show()"
      ],
      "execution_count": 18,
      "outputs": [
        {
          "output_type": "stream",
          "text": [
            "+-----------+---------+\n",
            "|      token|ner_label|\n",
            "+-----------+---------+\n",
            "|          A|        O|\n",
            "|          .|        O|\n",
            "|     Record|        O|\n",
            "|       date|        O|\n",
            "|          :|        O|\n",
            "| 2093-01-13|   B-DATE|\n",
            "|          ,|        O|\n",
            "|      David|   B-NAME|\n",
            "|       Hale|   I-NAME|\n",
            "|          ,|        O|\n",
            "|        M.D|        O|\n",
            "|          .|        O|\n",
            "|          ,|        O|\n",
            "|       Name|        O|\n",
            "|          :|        O|\n",
            "|Hendrickson|   B-NAME|\n",
            "|          ,|   I-NAME|\n",
            "|        Ora|   I-NAME|\n",
            "|         MR|        O|\n",
            "|          .|        O|\n",
            "+-----------+---------+\n",
            "only showing top 20 rows\n",
            "\n"
          ],
          "name": "stdout"
        }
      ]
    },
    {
      "cell_type": "code",
      "metadata": {
        "colab": {
          "base_uri": "https://localhost:8080/"
        },
        "id": "cTTMqSN_sLJk",
        "outputId": "02be324e-1733-4e5a-c6aa-278e8f69eca2"
      },
      "source": [
        "result2.select(F.explode(F.arrays_zip('ner_chunk.result', 'ner_chunk.metadata')).alias(\"cols\")) \\\n",
        ".select(F.expr(\"cols['0']\").alias(\"chunk\"),\n",
        "        F.expr(\"cols['1']['entity']\").alias(\"ner_label\")).show(truncate=False)"
      ],
      "execution_count": 19,
      "outputs": [
        {
          "output_type": "stream",
          "text": [
            "+--------------------------+---------+\n",
            "|chunk                     |ner_label|\n",
            "+--------------------------+---------+\n",
            "|AIQING                    |NAME     |\n",
            "|25                        |AGE      |\n",
            "|Beijing                   |LOCATION |\n",
            "|The Johns Hopkins Hospital|LOCATION |\n",
            "|(541) 754-3010            |CONTACT  |\n",
            "|100009632582              |ID       |\n",
            "+--------------------------+---------+\n",
            "\n"
          ],
          "name": "stdout"
        }
      ]
    },
    {
      "cell_type": "markdown",
      "metadata": {
        "id": "U3MySdbyf89P"
      },
      "source": [
        "As we can see, now name **AIQING** was identified correctly"
      ]
    },
    {
      "cell_type": "markdown",
      "metadata": {
        "id": "EkD3zogqf89Q"
      },
      "source": [
        "### Excluding entities from deidentification"
      ]
    },
    {
      "cell_type": "markdown",
      "metadata": {
        "id": "my04HL3rf89Q"
      },
      "source": [
        "Sometimes we need to leave some entities in the text, for example, if we want to analyze the frequency of the disease by the hospital. In this case, we need to use parameter **setWhiteList()** to modify NerChunk output. This parameter having using a list of entities type to deidentify as an input. So, if we want to leave the location in the list we need to remove this tag from the list:"
      ]
    },
    {
      "cell_type": "code",
      "metadata": {
        "id": "3Bj066u9f89R"
      },
      "source": [
        "ner_converter = NerConverterInternal()\\\n",
        "  .setInputCols([\"sentence\", \"token\", \"ner_overwrited\"])\\\n",
        "  .setOutputCol(\"ner_chunk\") \\\n",
        "  .setWhiteList(['NAME', 'PROFESSION', 'ID', 'AGE',\n",
        "               'DATE', 'CONTACT'])\n",
        "\n",
        "nlpPipeline = Pipeline(stages=[\n",
        "    documentAssembler, \n",
        "    sentenceDetector,\n",
        "    tokenizer,\n",
        "    word_embeddings,\n",
        "    clinical_ner,\n",
        "    neroverwriter,\n",
        "    ner_converter])\n",
        "\n",
        "empty_data = spark.createDataFrame([[\"\"]]).toDF(\"text\")\n",
        "\n",
        "model_with_white_list = nlpPipeline.fit(empty_data)"
      ],
      "execution_count": 20,
      "outputs": []
    },
    {
      "cell_type": "code",
      "metadata": {
        "id": "oWNZR2trf89U"
      },
      "source": [
        "text ='''\n",
        "A . Record date : 2093-01-13 , David Hale , M.D . , Name : Hendrickson , Ora MR . # 7194334 Date : 01/13/93 PCP : Oliveira , 25 month years-old , Record date : 2079-11-09 . Cocke County Baptist Hospital . 0295 Keats Street\n",
        "'''\n",
        "\n",
        "result_with_white_list = model_with_white_list.transform(spark.createDataFrame([[text]]).toDF(\"text\"))"
      ],
      "execution_count": 21,
      "outputs": []
    },
    {
      "cell_type": "code",
      "metadata": {
        "colab": {
          "base_uri": "https://localhost:8080/"
        },
        "id": "HFTW28Cbf89Y",
        "outputId": "430b2ce0-2288-4dab-9359-f3b7a5338bba"
      },
      "source": [
        "result_df = result.select(F.explode(F.arrays_zip('token.result', 'ner.result')).alias(\"cols\")) \\\n",
        ".select(F.expr(\"cols['0']\").alias(\"token\"),\n",
        "        F.expr(\"cols['1']\").alias(\"ner_label\"))\n",
        "\n",
        "result_with_white_list.select(F.explode(F.arrays_zip('ner_chunk.result', 'ner_chunk.metadata')).alias(\"cols\")) \\\n",
        ".select(F.expr(\"cols['0']\").alias(\"chunk\"),\n",
        "        F.expr(\"cols['1']['entity']\").alias(\"ner_label\")).show(truncate=False)"
      ],
      "execution_count": 22,
      "outputs": [
        {
          "output_type": "stream",
          "text": [
            "+-----------------+---------+\n",
            "|chunk            |ner_label|\n",
            "+-----------------+---------+\n",
            "|2093-01-13       |DATE     |\n",
            "|David Hale       |NAME     |\n",
            "|Hendrickson , Ora|NAME     |\n",
            "|7194334          |ID       |\n",
            "|01/13/93         |DATE     |\n",
            "|Oliveira         |NAME     |\n",
            "|25               |AGE      |\n",
            "|2079-11-09       |DATE     |\n",
            "+-----------------+---------+\n",
            "\n"
          ],
          "name": "stdout"
        }
      ]
    },
    {
      "cell_type": "markdown",
      "metadata": {
        "id": "rckvYUKVf89b"
      },
      "source": [
        "## Masking and Obfuscation"
      ]
    },
    {
      "cell_type": "markdown",
      "metadata": {
        "id": "HLt9SFX5f89b"
      },
      "source": [
        "### Replace this enitites with Tags"
      ]
    },
    {
      "cell_type": "code",
      "metadata": {
        "colab": {
          "base_uri": "https://localhost:8080/"
        },
        "id": "WaFe5bZzhEXT",
        "outputId": "e6d146bb-2dc5-4577-e959-000f73bf0026"
      },
      "source": [
        "deidentification = DeIdentificationModel.pretrained(\"deidentify_large\", \"en\", \"clinical/models\") \\\n",
        "      .setInputCols([\"sentence\", \"token\", \"ner_chunk\"]) \\\n",
        "      .setOutputCol(\"deidentified\") \\\n",
        "      .setMode(\"mask\")"
      ],
      "execution_count": 23,
      "outputs": [
        {
          "output_type": "stream",
          "text": [
            "deidentify_large download started this may take some time.\n",
            "Approximate size to download 188.1 KB\n",
            "[OK!]\n"
          ],
          "name": "stdout"
        }
      ]
    },
    {
      "cell_type": "code",
      "metadata": {
        "id": "CZ3QgzH2AD-h"
      },
      "source": [
        "text ='''\n",
        "A . Record date : 2093-01-13 , David Hale , M.D . , Name : Hendrickson , Ora MR . # 7194334 Date : 01/13/93 PCP : Oliveira , 25 years-old , Record date : 2079-11-09 . Cocke County Baptist Hospital . 0295 Keats Street\n",
        "'''\n",
        "result = model.transform(spark.createDataFrame([[text]]).toDF(\"text\"))"
      ],
      "execution_count": 24,
      "outputs": []
    },
    {
      "cell_type": "code",
      "metadata": {
        "colab": {
          "base_uri": "https://localhost:8080/"
        },
        "id": "Pg8fRNyQsZFd",
        "outputId": "df4a6647-346a-4834-a0b7-9e8a697e4aa8"
      },
      "source": [
        "result.select(F.explode(F.arrays_zip('ner_chunk.result', 'ner_chunk.metadata')).alias(\"cols\")) \\\n",
        ".select(F.expr(\"cols['0']\").alias(\"chunk\"),\n",
        "        F.expr(\"cols['1']['entity']\").alias(\"ner_label\")).show(truncate=False)"
      ],
      "execution_count": 25,
      "outputs": [
        {
          "output_type": "stream",
          "text": [
            "+-----------------------------+---------+\n",
            "|chunk                        |ner_label|\n",
            "+-----------------------------+---------+\n",
            "|2093-01-13                   |DATE     |\n",
            "|David Hale                   |NAME     |\n",
            "|Hendrickson , Ora            |NAME     |\n",
            "|7194334                      |ID       |\n",
            "|01/13/93                     |DATE     |\n",
            "|Oliveira                     |NAME     |\n",
            "|25                           |AGE      |\n",
            "|2079-11-09                   |DATE     |\n",
            "|Cocke County Baptist Hospital|LOCATION |\n",
            "|0295 Keats Street            |LOCATION |\n",
            "+-----------------------------+---------+\n",
            "\n"
          ],
          "name": "stdout"
        }
      ]
    },
    {
      "cell_type": "code",
      "metadata": {
        "id": "KIGNZ52Sf89e"
      },
      "source": [
        "deid_text = deidentification.transform(result)"
      ],
      "execution_count": 26,
      "outputs": []
    },
    {
      "cell_type": "code",
      "metadata": {
        "colab": {
          "base_uri": "https://localhost:8080/",
          "height": 235
        },
        "id": "v2hzD4eRf89i",
        "outputId": "92edcba5-5e43-4e33-dbf1-81aef9d01cfa"
      },
      "source": [
        "deid_text.select(F.explode(F.arrays_zip('sentence.result', 'deidentified.result')).alias(\"cols\")) \\\n",
        ".select(F.expr(\"cols['0']\").alias(\"sentence\"), F.expr(\"cols['1']\").alias(\"deidentified\")).toPandas()"
      ],
      "execution_count": 27,
      "outputs": [
        {
          "output_type": "execute_result",
          "data": {
            "text/html": [
              "<div>\n",
              "<style scoped>\n",
              "    .dataframe tbody tr th:only-of-type {\n",
              "        vertical-align: middle;\n",
              "    }\n",
              "\n",
              "    .dataframe tbody tr th {\n",
              "        vertical-align: top;\n",
              "    }\n",
              "\n",
              "    .dataframe thead th {\n",
              "        text-align: right;\n",
              "    }\n",
              "</style>\n",
              "<table border=\"1\" class=\"dataframe\">\n",
              "  <thead>\n",
              "    <tr style=\"text-align: right;\">\n",
              "      <th></th>\n",
              "      <th>sentence</th>\n",
              "      <th>deidentified</th>\n",
              "    </tr>\n",
              "  </thead>\n",
              "  <tbody>\n",
              "    <tr>\n",
              "      <th>0</th>\n",
              "      <td>A .</td>\n",
              "      <td>A .</td>\n",
              "    </tr>\n",
              "    <tr>\n",
              "      <th>1</th>\n",
              "      <td>Record date : 2093-01-13 , David Hale , M.D .</td>\n",
              "      <td>Record date : &lt;DATE&gt; , &lt;NAME&gt; , M.D .</td>\n",
              "    </tr>\n",
              "    <tr>\n",
              "      <th>2</th>\n",
              "      <td>, Name : Hendrickson , Ora MR .</td>\n",
              "      <td>, Name : &lt;NAME&gt; MR .</td>\n",
              "    </tr>\n",
              "    <tr>\n",
              "      <th>3</th>\n",
              "      <td># 7194334 Date : 01/13/93 PCP : Oliveira , 25 years-old , Record date : 2079-11-09 .</td>\n",
              "      <td># &lt;ID&gt; Date : &lt;DATE&gt; PCP : &lt;NAME&gt; , &lt;AGE&gt; years-old , Record date : &lt;DATE&gt; .</td>\n",
              "    </tr>\n",
              "    <tr>\n",
              "      <th>4</th>\n",
              "      <td>Cocke County Baptist Hospital .</td>\n",
              "      <td>&lt;LOCATION&gt; .</td>\n",
              "    </tr>\n",
              "    <tr>\n",
              "      <th>5</th>\n",
              "      <td>0295 Keats Street</td>\n",
              "      <td>&lt;LOCATION&gt;</td>\n",
              "    </tr>\n",
              "  </tbody>\n",
              "</table>\n",
              "</div>"
            ],
            "text/plain": [
              "                                                                               sentence                                                                  deidentified\n",
              "0                                                                                   A .                                                                           A .\n",
              "1                                         Record date : 2093-01-13 , David Hale , M.D .                                         Record date : <DATE> , <NAME> , M.D .\n",
              "2                                                       , Name : Hendrickson , Ora MR .                                                          , Name : <NAME> MR .\n",
              "3  # 7194334 Date : 01/13/93 PCP : Oliveira , 25 years-old , Record date : 2079-11-09 .  # <ID> Date : <DATE> PCP : <NAME> , <AGE> years-old , Record date : <DATE> .\n",
              "4                                                       Cocke County Baptist Hospital .                                                                  <LOCATION> .\n",
              "5                                                                     0295 Keats Street                                                                    <LOCATION>"
            ]
          },
          "metadata": {
            "tags": []
          },
          "execution_count": 27
        }
      ]
    },
    {
      "cell_type": "markdown",
      "metadata": {
        "id": "HJokGuGxf89k"
      },
      "source": [
        "### Use obfuscation mode"
      ]
    },
    {
      "cell_type": "markdown",
      "metadata": {
        "id": "KG0Bvua7f89l"
      },
      "source": [
        "In the obfuscation mode **DeIdentificationModel** will replace sensetive entities with random values of the same type. \n",
        "\n",
        "Will be replaced: \n",
        "- Name\n",
        "- Location\n",
        "- Contacts\n",
        "- Profession\n",
        "\n",
        "Will be tagged:\n",
        "- Age\n",
        "- Date\n",
        "- ID"
      ]
    },
    {
      "cell_type": "code",
      "metadata": {
        "colab": {
          "base_uri": "https://localhost:8080/"
        },
        "id": "obQ4BmTzf89l",
        "outputId": "0a09561f-38e1-41a5-b04f-2905e8f223f2"
      },
      "source": [
        "obfuscation = DeIdentificationModel.pretrained(\"deidentify_large\", \"en\", \"clinical/models\") \\\n",
        "      .setInputCols([\"sentence\", \"token\", \"ner_chunk\"]) \\\n",
        "      .setOutputCol(\"deidentified\") \\\n",
        "      .setMode(\"obfuscate\")\\\n",
        "      .setObfuscateDate(True)\n",
        "\n",
        "        #.setObfuscateRefFile('obfuscation.txt') \\\n",
        "        #.setRefSep('#') \\\n",
        "        #.setRegexPatternsDictionary('regex_dict.txt', 'TEXT')\n",
        "      "
      ],
      "execution_count": 28,
      "outputs": [
        {
          "output_type": "stream",
          "text": [
            "deidentify_large download started this may take some time.\n",
            "Approximate size to download 188.1 KB\n",
            "[OK!]\n"
          ],
          "name": "stdout"
        }
      ]
    },
    {
      "cell_type": "markdown",
      "metadata": {
        "id": "aZtAgfkK0giv"
      },
      "source": [
        "sample obfuscation.txt\n",
        "```\n",
        "Marvin MARSHALL#DOCTOR\n",
        "Hubert GROGAN#DOCTOR\n",
        "ALTHEA COLBURN#DOCTOR\n",
        "Kalil AMIN#DOCTOR\n",
        "Inci FOUNTAIN#DOCTOR\n",
        "Ekaterina Rosa#DOCTOR\n",
        "Rudiger Chao#DOCTOR\n",
        "COLLETTE KOHLER#DOCTOR\n",
        "Mufi HIGGS#DOCTOR\n",
        "```\n",
        "\n",
        "sample regex_dict.txt\n",
        "```\n",
        "AGE \\d{1,2}\\s(?:months|weeks|mos)\n",
        "MEDICALRECORD (?<=MRN\\s)(\\w+\n",
        "```"
      ]
    },
    {
      "cell_type": "code",
      "metadata": {
        "colab": {
          "base_uri": "https://localhost:8080/"
        },
        "id": "EDqrmXcqsAKe",
        "outputId": "ce81ed99-f433-4142-d003-27f8e5c628e1"
      },
      "source": [
        "result.show()"
      ],
      "execution_count": 29,
      "outputs": [
        {
          "output_type": "stream",
          "text": [
            "+--------------------+--------------------+--------------------+--------------------+--------------------+--------------------+--------------------+--------------------+\n",
            "|                text|            document|            sentence|               token|          embeddings|                 ner|      ner_overwrited|           ner_chunk|\n",
            "+--------------------+--------------------+--------------------+--------------------+--------------------+--------------------+--------------------+--------------------+\n",
            "|\n",
            "A . Record date ...|[[document, 0, 21...|[[document, 1, 3,...|[[token, 1, 1, A,...|[[word_embeddings...|[[named_entity, 1...|[[named_entity, 1...|[[chunk, 19, 28, ...|\n",
            "+--------------------+--------------------+--------------------+--------------------+--------------------+--------------------+--------------------+--------------------+\n",
            "\n"
          ],
          "name": "stdout"
        }
      ]
    },
    {
      "cell_type": "code",
      "metadata": {
        "id": "pgSVjPUDf89q"
      },
      "source": [
        "obfusated_text = obfuscation.transform(result)"
      ],
      "execution_count": 30,
      "outputs": []
    },
    {
      "cell_type": "code",
      "metadata": {
        "colab": {
          "base_uri": "https://localhost:8080/"
        },
        "id": "vgiHhAWgrsGQ",
        "outputId": "84ba0449-bf68-405c-d88d-f2f2c452f497"
      },
      "source": [
        "obfusated_text.select('ner.result').take(1)"
      ],
      "execution_count": 31,
      "outputs": [
        {
          "output_type": "execute_result",
          "data": {
            "text/plain": [
              "[Row(result=['O', 'O', 'O', 'O', 'O', 'B-DATE', 'O', 'B-NAME', 'I-NAME', 'O', 'O', 'O', 'O', 'O', 'O', 'B-NAME', 'I-NAME', 'I-NAME', 'O', 'O', 'O', 'B-ID', 'O', 'O', 'B-DATE', 'O', 'O', 'B-NAME', 'O', 'B-AGE', 'O', 'O', 'O', 'O', 'O', 'B-DATE', 'O', 'B-LOCATION', 'I-LOCATION', 'I-LOCATION', 'I-LOCATION', 'O', 'B-LOCATION', 'I-LOCATION', 'I-LOCATION'])]"
            ]
          },
          "metadata": {
            "tags": []
          },
          "execution_count": 31
        }
      ]
    },
    {
      "cell_type": "code",
      "metadata": {
        "colab": {
          "base_uri": "https://localhost:8080/",
          "height": 235
        },
        "id": "wiiJ5GAff89s",
        "outputId": "79aa5873-9a2c-40ee-c25c-288251b1dff9"
      },
      "source": [
        "obfusated_text.select(F.explode(F.arrays_zip('sentence.result', 'deidentified.result')).alias(\"cols\")) \\\n",
        ".select(F.expr(\"cols['0']\").alias(\"sentence\"), F.expr(\"cols['1']\").alias(\"deidentified\")).toPandas()"
      ],
      "execution_count": 32,
      "outputs": [
        {
          "output_type": "execute_result",
          "data": {
            "text/html": [
              "<div>\n",
              "<style scoped>\n",
              "    .dataframe tbody tr th:only-of-type {\n",
              "        vertical-align: middle;\n",
              "    }\n",
              "\n",
              "    .dataframe tbody tr th {\n",
              "        vertical-align: top;\n",
              "    }\n",
              "\n",
              "    .dataframe thead th {\n",
              "        text-align: right;\n",
              "    }\n",
              "</style>\n",
              "<table border=\"1\" class=\"dataframe\">\n",
              "  <thead>\n",
              "    <tr style=\"text-align: right;\">\n",
              "      <th></th>\n",
              "      <th>sentence</th>\n",
              "      <th>deidentified</th>\n",
              "    </tr>\n",
              "  </thead>\n",
              "  <tbody>\n",
              "    <tr>\n",
              "      <th>0</th>\n",
              "      <td>A .</td>\n",
              "      <td>A .</td>\n",
              "    </tr>\n",
              "    <tr>\n",
              "      <th>1</th>\n",
              "      <td>Record date : 2093-01-13 , David Hale , M.D .</td>\n",
              "      <td>Record date : 2093-02-17 , FAWNIA , M.D .</td>\n",
              "    </tr>\n",
              "    <tr>\n",
              "      <th>2</th>\n",
              "      <td>, Name : Hendrickson , Ora MR .</td>\n",
              "      <td>, Name : Doll MR .</td>\n",
              "    </tr>\n",
              "    <tr>\n",
              "      <th>3</th>\n",
              "      <td># 7194334 Date : 01/13/93 PCP : Oliveira , 25 years-old , Record date : 2079-11-09 .</td>\n",
              "      <td># &lt;ID&gt; Date : &lt;DATE&gt; PCP : Charlene , &lt;AGE&gt; years-old , Record date : 2080-01-07 .</td>\n",
              "    </tr>\n",
              "    <tr>\n",
              "      <th>4</th>\n",
              "      <td>Cocke County Baptist Hospital .</td>\n",
              "      <td>Delphos .</td>\n",
              "    </tr>\n",
              "    <tr>\n",
              "      <th>5</th>\n",
              "      <td>0295 Keats Street</td>\n",
              "      <td>Elk Garden</td>\n",
              "    </tr>\n",
              "  </tbody>\n",
              "</table>\n",
              "</div>"
            ],
            "text/plain": [
              "                                                                               sentence                                                                        deidentified\n",
              "0                                                                                   A .                                                                                 A .\n",
              "1                                         Record date : 2093-01-13 , David Hale , M.D .                                           Record date : 2093-02-17 , FAWNIA , M.D .\n",
              "2                                                       , Name : Hendrickson , Ora MR .                                                                  , Name : Doll MR .\n",
              "3  # 7194334 Date : 01/13/93 PCP : Oliveira , 25 years-old , Record date : 2079-11-09 .  # <ID> Date : <DATE> PCP : Charlene , <AGE> years-old , Record date : 2080-01-07 .\n",
              "4                                                       Cocke County Baptist Hospital .                                                                           Delphos .\n",
              "5                                                                     0295 Keats Street                                                                          Elk Garden"
            ]
          },
          "metadata": {
            "tags": []
          },
          "execution_count": 32
        }
      ]
    },
    {
      "cell_type": "markdown",
      "metadata": {
        "id": "AzqydoIRhmaU"
      },
      "source": [
        "Obfuscate date"
      ]
    },
    {
      "cell_type": "markdown",
      "metadata": {
        "id": "6Y2sg70NhqL-"
      },
      "source": [
        "To mask the Date we need to setting up some properties in the DeIdentification module.This properties are setting up using the following functions.\n",
        "* setObfuscateDate(True): Select if we going to obfuscate the dates\n",
        "* setDateTag(\"DATE\"): Tag representing dates\n",
        "* setDays(5):  Number of days to obfuscate the dates by displacement. If not provided a random integer between 1 and 60 will be used\n",
        "* setDateToYear(False): True if dates must be converted to years, false otherwise\n",
        "* setDateFormats([\"DD/MM/YYY\"]): Format of dates to displace"
      ]
    },
    {
      "cell_type": "code",
      "metadata": {
        "colab": {
          "base_uri": "https://localhost:8080/"
        },
        "id": "ZQKfBnamjhtE",
        "outputId": "1bc6afb4-13df-4101-fb96-338ecc0cb4e4"
      },
      "source": [
        "result.show()"
      ],
      "execution_count": 33,
      "outputs": [
        {
          "output_type": "stream",
          "text": [
            "+--------------------+--------------------+--------------------+--------------------+--------------------+--------------------+--------------------+--------------------+\n",
            "|                text|            document|            sentence|               token|          embeddings|                 ner|      ner_overwrited|           ner_chunk|\n",
            "+--------------------+--------------------+--------------------+--------------------+--------------------+--------------------+--------------------+--------------------+\n",
            "|\n",
            "A . Record date ...|[[document, 0, 21...|[[document, 1, 3,...|[[token, 1, 1, A,...|[[word_embeddings...|[[named_entity, 1...|[[named_entity, 1...|[[chunk, 19, 28, ...|\n",
            "+--------------------+--------------------+--------------------+--------------------+--------------------+--------------------+--------------------+--------------------+\n",
            "\n"
          ],
          "name": "stdout"
        }
      ]
    },
    {
      "cell_type": "code",
      "metadata": {
        "colab": {
          "base_uri": "https://localhost:8080/"
        },
        "id": "W4-pajt5hzhj",
        "outputId": "3ef53de6-22bd-430f-95c6-fba8a4c8ab76"
      },
      "source": [
        "obfuscation = DeIdentificationModel.pretrained(\"deidentify_large\", \"en\", \"clinical/models\") \\\n",
        "      .setInputCols([\"sentence\", \"token\", \"ner_chunk\"]) \\\n",
        "      .setOutputCol(\"deidentified\") \\\n",
        "      .setMode(\"obfuscate\")\\\n",
        "      .setObfuscateDate(True)\\\n",
        "      .setDateTag(\"DATE\")\\\n",
        "      .setDays(5)\\\n",
        "      .setDateFormats([\"MM/dd/yy\",\"yyyy-MM-dd\"])\n"
      ],
      "execution_count": 34,
      "outputs": [
        {
          "output_type": "stream",
          "text": [
            "deidentify_large download started this may take some time.\n",
            "Approximate size to download 188.1 KB\n",
            "[OK!]\n"
          ],
          "name": "stdout"
        }
      ]
    },
    {
      "cell_type": "code",
      "metadata": {
        "id": "tJXVNgAphysP"
      },
      "source": [
        "obfusated_text = obfuscation.transform(result)"
      ],
      "execution_count": 35,
      "outputs": []
    },
    {
      "cell_type": "code",
      "metadata": {
        "colab": {
          "base_uri": "https://localhost:8080/"
        },
        "id": "thLMnOO_i6Ph",
        "outputId": "dbd90d6d-61f2-43c0-f5a6-f9c4caaad19b"
      },
      "source": [
        "obfusated_text.select('ner.result')"
      ],
      "execution_count": 36,
      "outputs": [
        {
          "output_type": "execute_result",
          "data": {
            "text/plain": [
              "DataFrame[result: array<string>]"
            ]
          },
          "metadata": {
            "tags": []
          },
          "execution_count": 36
        }
      ]
    },
    {
      "cell_type": "code",
      "metadata": {
        "colab": {
          "base_uri": "https://localhost:8080/",
          "height": 235
        },
        "id": "Nse5EcnIi6mR",
        "outputId": "28262728-3ce8-4e7e-a187-f876725dd1d2"
      },
      "source": [
        "obfusated_text.select(F.explode(F.arrays_zip('sentence.result', 'deidentified.result')).alias(\"cols\")) \\\n",
        ".select(F.expr(\"cols['0']\").alias(\"sentence\"), F.expr(\"cols['1']\").alias(\"deidentified\")).toPandas()"
      ],
      "execution_count": 37,
      "outputs": [
        {
          "output_type": "execute_result",
          "data": {
            "text/html": [
              "<div>\n",
              "<style scoped>\n",
              "    .dataframe tbody tr th:only-of-type {\n",
              "        vertical-align: middle;\n",
              "    }\n",
              "\n",
              "    .dataframe tbody tr th {\n",
              "        vertical-align: top;\n",
              "    }\n",
              "\n",
              "    .dataframe thead th {\n",
              "        text-align: right;\n",
              "    }\n",
              "</style>\n",
              "<table border=\"1\" class=\"dataframe\">\n",
              "  <thead>\n",
              "    <tr style=\"text-align: right;\">\n",
              "      <th></th>\n",
              "      <th>sentence</th>\n",
              "      <th>deidentified</th>\n",
              "    </tr>\n",
              "  </thead>\n",
              "  <tbody>\n",
              "    <tr>\n",
              "      <th>0</th>\n",
              "      <td>A .</td>\n",
              "      <td>A .</td>\n",
              "    </tr>\n",
              "    <tr>\n",
              "      <th>1</th>\n",
              "      <td>Record date : 2093-01-13 , David Hale , M.D .</td>\n",
              "      <td>Record date : 2093-01-18 , SOPHIE , M.D .</td>\n",
              "    </tr>\n",
              "    <tr>\n",
              "      <th>2</th>\n",
              "      <td>, Name : Hendrickson , Ora MR .</td>\n",
              "      <td>, Name : TORIE MR .</td>\n",
              "    </tr>\n",
              "    <tr>\n",
              "      <th>3</th>\n",
              "      <td># 7194334 Date : 01/13/93 PCP : Oliveira , 25 years-old , Record date : 2079-11-09 .</td>\n",
              "      <td># &lt;ID&gt; Date : 01/18/93 PCP : DAVE , &lt;AGE&gt; years-old , Record date : 2079-11-14 .</td>\n",
              "    </tr>\n",
              "    <tr>\n",
              "      <th>4</th>\n",
              "      <td>Cocke County Baptist Hospital .</td>\n",
              "      <td>Graford .</td>\n",
              "    </tr>\n",
              "    <tr>\n",
              "      <th>5</th>\n",
              "      <td>0295 Keats Street</td>\n",
              "      <td>Graford</td>\n",
              "    </tr>\n",
              "  </tbody>\n",
              "</table>\n",
              "</div>"
            ],
            "text/plain": [
              "                                                                               sentence                                                                      deidentified\n",
              "0                                                                                   A .                                                                               A .\n",
              "1                                         Record date : 2093-01-13 , David Hale , M.D .                                         Record date : 2093-01-18 , SOPHIE , M.D .\n",
              "2                                                       , Name : Hendrickson , Ora MR .                                                               , Name : TORIE MR .\n",
              "3  # 7194334 Date : 01/13/93 PCP : Oliveira , 25 years-old , Record date : 2079-11-09 .  # <ID> Date : 01/18/93 PCP : DAVE , <AGE> years-old , Record date : 2079-11-14 .\n",
              "4                                                       Cocke County Baptist Hospital .                                                                         Graford .\n",
              "5                                                                     0295 Keats Street                                                                           Graford"
            ]
          },
          "metadata": {
            "tags": []
          },
          "execution_count": 37
        }
      ]
    },
    {
      "cell_type": "markdown",
      "metadata": {
        "id": "9jAMC21Hf89v"
      },
      "source": [
        "## Use full pipeline in the Light model"
      ]
    },
    {
      "cell_type": "code",
      "metadata": {
        "id": "kaUnGYhOf89w"
      },
      "source": [
        "finisher = Finisher() \\\n",
        "    .setInputCols(\"deidentified\")\n",
        "\n",
        "ner_converter = NerConverterInternal()\\\n",
        "  .setInputCols([\"sentence\", \"token\", \"ner_overwrited\"])\\\n",
        "  .setOutputCol(\"ner_chunk\") "
      ],
      "execution_count": 38,
      "outputs": []
    },
    {
      "cell_type": "code",
      "metadata": {
        "id": "Qhq7n1IahS_Y"
      },
      "source": [
        "pipeline = Pipeline(stages=[\n",
        "    documentAssembler, \n",
        "    sentenceDetector,\n",
        "    tokenizer,\n",
        "    word_embeddings,\n",
        "    clinical_ner,\n",
        "    neroverwriter,\n",
        "    ner_converter,\n",
        "    obfuscation])"
      ],
      "execution_count": 39,
      "outputs": []
    },
    {
      "cell_type": "code",
      "metadata": {
        "id": "ZohbvibZf891"
      },
      "source": [
        "\n",
        "empty_data = spark.createDataFrame([[\"\"]]).toDF(\"text\")\n",
        "\n",
        "model = pipeline.fit(empty_data)"
      ],
      "execution_count": 40,
      "outputs": []
    },
    {
      "cell_type": "code",
      "metadata": {
        "id": "DhtnLajzgNNb"
      },
      "source": [
        "light_model = LightPipeline(model)"
      ],
      "execution_count": 41,
      "outputs": []
    },
    {
      "cell_type": "code",
      "metadata": {
        "id": "_sC_bn1Hhs9g"
      },
      "source": [
        "text ='''\n",
        "A . Record date : 2093-01-13 , David Hale , M.D . , Name : Hendrickson , Ora MR . # 7194334 Date : 01-13-1993 PCP : Oliveira , 25 years-old , Record date : 2079-11-09 . Cocke County Baptist Hospital . 0295 Keats Street\n",
        "'''"
      ],
      "execution_count": 42,
      "outputs": []
    },
    {
      "cell_type": "code",
      "metadata": {
        "colab": {
          "base_uri": "https://localhost:8080/"
        },
        "id": "jbblkrvjEHn9",
        "outputId": "e26e75a1-39a1-4571-bcba-3e4a529574b9"
      },
      "source": [
        "annotated_text = light_model.annotate(text)\n",
        "annotated_text['deidentified']"
      ],
      "execution_count": 43,
      "outputs": [
        {
          "output_type": "execute_result",
          "data": {
            "text/plain": [
              "['A .',\n",
              " 'Record date : 2093-01-18 , Rosabelle , M.D .',\n",
              " ', Name : BRANDIE MR .',\n",
              " '# <ID> Date : <DATE> PCP : SANDOR , <AGE> years-old , Record date : 2079-11-14 .',\n",
              " 'Lyford .',\n",
              " 'Clairton']"
            ]
          },
          "metadata": {
            "tags": []
          },
          "execution_count": 43
        }
      ]
    },
    {
      "cell_type": "code",
      "metadata": {
        "colab": {
          "base_uri": "https://localhost:8080/"
        },
        "id": "BqNvJOvQvy99",
        "outputId": "f55b0aa5-c192-442e-ccfd-6fa6635eda23"
      },
      "source": [
        "list(zip(annotated_text['token'], annotated_text['ner']))"
      ],
      "execution_count": 44,
      "outputs": [
        {
          "output_type": "execute_result",
          "data": {
            "text/plain": [
              "[('A', 'O'),\n",
              " ('.', 'O'),\n",
              " ('Record', 'O'),\n",
              " ('date', 'O'),\n",
              " (':', 'O'),\n",
              " ('2093-01-13', 'B-DATE'),\n",
              " (',', 'O'),\n",
              " ('David', 'B-NAME'),\n",
              " ('Hale', 'I-NAME'),\n",
              " (',', 'O'),\n",
              " ('M.D', 'O'),\n",
              " ('.', 'O'),\n",
              " (',', 'O'),\n",
              " ('Name', 'O'),\n",
              " (':', 'O'),\n",
              " ('Hendrickson', 'B-NAME'),\n",
              " (',', 'I-NAME'),\n",
              " ('Ora', 'I-NAME'),\n",
              " ('MR', 'O'),\n",
              " ('.', 'O'),\n",
              " ('#', 'O'),\n",
              " ('7194334', 'B-ID'),\n",
              " ('Date', 'O'),\n",
              " (':', 'O'),\n",
              " ('01-13-1993', 'B-DATE'),\n",
              " ('PCP', 'O'),\n",
              " (':', 'O'),\n",
              " ('Oliveira', 'B-NAME'),\n",
              " (',', 'O'),\n",
              " ('25', 'B-AGE'),\n",
              " ('years-old', 'O'),\n",
              " (',', 'O'),\n",
              " ('Record', 'O'),\n",
              " ('date', 'O'),\n",
              " (':', 'O'),\n",
              " ('2079-11-09', 'B-DATE'),\n",
              " ('.', 'O'),\n",
              " ('Cocke', 'B-LOCATION'),\n",
              " ('County', 'I-LOCATION'),\n",
              " ('Baptist', 'I-LOCATION'),\n",
              " ('Hospital', 'I-LOCATION'),\n",
              " ('.', 'O'),\n",
              " ('0295', 'B-LOCATION'),\n",
              " ('Keats', 'I-LOCATION'),\n",
              " ('Street', 'I-LOCATION')]"
            ]
          },
          "metadata": {
            "tags": []
          },
          "execution_count": 44
        }
      ]
    },
    {
      "cell_type": "code",
      "metadata": {
        "colab": {
          "base_uri": "https://localhost:8080/"
        },
        "id": "zploSXHnw1B5",
        "outputId": "9ca6c6dd-88b4-4b1f-ae53-66519640100b"
      },
      "source": [
        "annotated_text['ner_chunk']"
      ],
      "execution_count": 45,
      "outputs": [
        {
          "output_type": "execute_result",
          "data": {
            "text/plain": [
              "['2093-01-13',\n",
              " 'David Hale',\n",
              " 'Hendrickson , Ora',\n",
              " '7194334',\n",
              " '01-13-1993',\n",
              " 'Oliveira',\n",
              " '25',\n",
              " '2079-11-09',\n",
              " 'Cocke County Baptist Hospital',\n",
              " '0295 Keats Street']"
            ]
          },
          "metadata": {
            "tags": []
          },
          "execution_count": 45
        }
      ]
    },
    {
      "cell_type": "code",
      "metadata": {
        "colab": {
          "base_uri": "https://localhost:8080/"
        },
        "id": "0emrh9kBfRKf",
        "outputId": "0e6d4673-9544-44e1-e5d3-0a307817479d"
      },
      "source": [
        "source_text = '''Record date : 2093-01-13, David Hale, M.D. is manager, \n",
        "Name: Hendrickson, Ora MR. # 7194334 Date: 01-13-1993 PCP: Oliveira.\n",
        "Record date: 2079-11-09. Cocke County Baptist Hospital. 0295 Keats Street.\n",
        "This 17-yr-old male, presented with chest heaviness that started during a pick-up basketball game. His past medical history was unremarkable. He denied prior cardiac symptoms and suffered no chest trauma during the game. His father had suffered an acute myocardial infarction at age 38. The patient was a nonsmoker, did not drink alcohol, and denied recreational drug use. He swallowed a tablet of aspirin before coming to the emergency room. His blood pressure was 160/90 mm Hg, and his heart rate was 80 bpm. Physical examination revealed no stigmata of Marfan syndrome. The rest of his physical examination was normal.'''\n",
        "\n",
        "annotated_text = light_model.annotate(source_text)\n",
        "annotated_text['deidentified']"
      ],
      "execution_count": 46,
      "outputs": [
        {
          "output_type": "execute_result",
          "data": {
            "text/plain": [
              "['Record date : 2093-01-18, Rosabelle, M.D. is Fish and Game Wardens, \\nName: BRANDIE MR. # <ID> Date: (408)535-0622 PCP: SANDOR.',\n",
              " 'Record date: 2079-11-14.',\n",
              " 'Lyford.',\n",
              " 'Clairton.',\n",
              " 'This <AGE> male, presented with chest heaviness that started during a pick-up basketball game.',\n",
              " 'His past medical history was unremarkable.',\n",
              " 'He denied prior cardiac symptoms and suffered no chest trauma during the game.',\n",
              " 'His father had suffered an acute myocardial infarction at age',\n",
              " '<AGE>. The patient was a nonsmoker, did not drink alcohol, and denied recreational drug use.',\n",
              " 'He swallowed a tablet of aspirin before coming to the emergency room.',\n",
              " 'His blood pressure was 160/90 mm Hg, and his heart rate was 80 bpm.',\n",
              " 'Physical examination revealed no stigmata of Marfan syndrome.',\n",
              " 'The rest of his physical examination was normal.']"
            ]
          },
          "metadata": {
            "tags": []
          },
          "execution_count": 46
        }
      ]
    },
    {
      "cell_type": "markdown",
      "metadata": {
        "id": "gvfk9aBgf8-C"
      },
      "source": [
        "## Train custom Model\n"
      ]
    },
    {
      "cell_type": "code",
      "metadata": {
        "colab": {
          "base_uri": "https://localhost:8080/"
        },
        "id": "zrCiTFwq2SkX",
        "outputId": "92e5d533-39dc-4bee-bccc-5ddabfd84c6f"
      },
      "source": [
        "glove_embeddings = WordEmbeddingsModel.pretrained('glove_100d')\\\n",
        "          .setInputCols([\"document\", \"token\"])\\\n",
        "          .setOutputCol(\"embeddings\")\n",
        "\n",
        "public_ner = NerDLModel.pretrained(\"ner_dl\", 'en') \\\n",
        "          .setInputCols([\"document\", \"token\", \"embeddings\"]) \\\n",
        "          .setOutputCol(\"ner\")\n",
        "\n",
        "ner_converter = NerConverterInternal()\\\n",
        "  .setInputCols([\"sentence\", \"token\", \"ner\"])\\\n",
        "  .setOutputCol(\"ner_chunk\")\n"
      ],
      "execution_count": 47,
      "outputs": [
        {
          "output_type": "stream",
          "text": [
            "glove_100d download started this may take some time.\n",
            "Approximate size to download 145.3 MB\n",
            "[OK!]\n",
            "ner_dl download started this may take some time.\n",
            "Approximate size to download 13.6 MB\n",
            "[OK!]\n"
          ],
          "name": "stdout"
        }
      ]
    },
    {
      "cell_type": "code",
      "metadata": {
        "id": "EAn2UqKwf8-W"
      },
      "source": [
        "\n",
        "nlpPipeline = Pipeline(stages=[\n",
        "    documentAssembler, \n",
        "    sentenceDetector,\n",
        "    tokenizer,\n",
        "    glove_embeddings,\n",
        "    public_ner,\n",
        "    ner_converter])\n",
        "\n",
        "empty_data = spark.createDataFrame([[\"\"]]).toDF(\"text\")\n",
        "\n",
        "custom_model = nlpPipeline.fit(result)"
      ],
      "execution_count": 48,
      "outputs": []
    },
    {
      "cell_type": "code",
      "metadata": {
        "id": "hGifAYcjf8-Z"
      },
      "source": [
        "source_text = '''Record date : 2093-01-13, David Hale lives in New York'''"
      ],
      "execution_count": 49,
      "outputs": []
    },
    {
      "cell_type": "code",
      "metadata": {
        "id": "Kw4TP_M1f8-c"
      },
      "source": [
        "result = custom_model.transform(spark.createDataFrame([[source_text]]).toDF(\"text\"))"
      ],
      "execution_count": 50,
      "outputs": []
    },
    {
      "cell_type": "markdown",
      "metadata": {
        "id": "v4P_w-nDf8-e"
      },
      "source": [
        "#### We got new entities in the model 'PER' and 'ORG'"
      ]
    },
    {
      "cell_type": "code",
      "metadata": {
        "colab": {
          "base_uri": "https://localhost:8080/"
        },
        "id": "CJk7dAbYf8-f",
        "outputId": "b9a27004-5128-495d-9517-fda0a262423e"
      },
      "source": [
        "result.select(F.explode(F.arrays_zip('ner_chunk.result', 'ner_chunk.metadata')).alias(\"cols\")) \\\n",
        ".select(F.expr(\"cols['0']\").alias(\"chunk\"),\n",
        "        F.expr(\"cols['1']['entity']\").alias(\"ner_label\")).show(truncate=False)"
      ],
      "execution_count": 51,
      "outputs": [
        {
          "output_type": "stream",
          "text": [
            "+----------+---------+\n",
            "|chunk     |ner_label|\n",
            "+----------+---------+\n",
            "|David Hale|PER      |\n",
            "|New York  |LOC      |\n",
            "+----------+---------+\n",
            "\n"
          ],
          "name": "stdout"
        }
      ]
    },
    {
      "cell_type": "markdown",
      "metadata": {
        "id": "Sx5Uitz1vedz"
      },
      "source": [
        "### Mask custom entities"
      ]
    },
    {
      "cell_type": "code",
      "metadata": {
        "id": "x1nLENcavdCE"
      },
      "source": [
        "deidentification = DeIdentification() \\\n",
        "      .setInputCols([\"sentence\", \"token\", \"ner_chunk\"]) \\\n",
        "      .setOutputCol(\"deidentified\") \\\n",
        "      .setMode(\"mask\")"
      ],
      "execution_count": 52,
      "outputs": []
    },
    {
      "cell_type": "code",
      "metadata": {
        "id": "eL4vIm9TvdWY"
      },
      "source": [
        "deid_model = deidentification.fit(result)\n",
        "deid_text = deid_model.transform(result)"
      ],
      "execution_count": 53,
      "outputs": []
    },
    {
      "cell_type": "code",
      "metadata": {
        "colab": {
          "base_uri": "https://localhost:8080/",
          "height": 80
        },
        "id": "LeIoxeRWvdSZ",
        "outputId": "d9fccb84-4e12-4950-9055-b2527abe962a"
      },
      "source": [
        "deid_text.select(F.explode(F.arrays_zip('sentence.result', 'deidentified.result')).alias(\"cols\")) \\\n",
        ".select(F.expr(\"cols['0']\").alias(\"sentence\"), F.expr(\"cols['1']\").alias(\"deidentified\")).toPandas()"
      ],
      "execution_count": 54,
      "outputs": [
        {
          "output_type": "execute_result",
          "data": {
            "text/html": [
              "<div>\n",
              "<style scoped>\n",
              "    .dataframe tbody tr th:only-of-type {\n",
              "        vertical-align: middle;\n",
              "    }\n",
              "\n",
              "    .dataframe tbody tr th {\n",
              "        vertical-align: top;\n",
              "    }\n",
              "\n",
              "    .dataframe thead th {\n",
              "        text-align: right;\n",
              "    }\n",
              "</style>\n",
              "<table border=\"1\" class=\"dataframe\">\n",
              "  <thead>\n",
              "    <tr style=\"text-align: right;\">\n",
              "      <th></th>\n",
              "      <th>sentence</th>\n",
              "      <th>deidentified</th>\n",
              "    </tr>\n",
              "  </thead>\n",
              "  <tbody>\n",
              "    <tr>\n",
              "      <th>0</th>\n",
              "      <td>Record date : 2093-01-13, David Hale lives in New York</td>\n",
              "      <td>Record date : 2093-01-13, &lt;PER&gt; lives in &lt;LOC&gt;</td>\n",
              "    </tr>\n",
              "  </tbody>\n",
              "</table>\n",
              "</div>"
            ],
            "text/plain": [
              "                                                 sentence                                    deidentified\n",
              "0  Record date : 2093-01-13, David Hale lives in New York  Record date : 2093-01-13, <PER> lives in <LOC>"
            ]
          },
          "metadata": {
            "tags": []
          },
          "execution_count": 54
        }
      ]
    },
    {
      "cell_type": "code",
      "metadata": {
        "id": "QpLr7HKI1EQq"
      },
      "source": [
        "deid_model.write().overwrite().save('custom_deid_masker_model')"
      ],
      "execution_count": 55,
      "outputs": []
    },
    {
      "cell_type": "markdown",
      "metadata": {
        "id": "hOHhaQKbf8-h"
      },
      "source": [
        " To be able to obfuscate new entities we have to create custom Deidentification Model with new dictionary"
      ]
    },
    {
      "cell_type": "code",
      "metadata": {
        "id": "Nze0cSh7fR9W"
      },
      "source": [
        "obfuscation_list = ['Marvin MARSHALL#PER',\n",
        "      'Hubert GROGAN#PER',\n",
        "      'ALTHEA COLBURN#PER',\n",
        "      'Kalil AMIN#PER',\n",
        "      'Inci FOUNTAIN#PER',\n",
        "      'Surrey#ORG',\n",
        "      'Warwickshire#ORG',\n",
        "      'Derbyshire#ORG',\n",
        "      'Leicestershire#ORG',\n",
        "      'Glamorgan#ORG',\n",
        "      'Durham#ORG',\n",
        "      'Los Angeles#LOC']\n",
        "\n",
        "with open('obfuscation.txt', 'a') as the_file:\n",
        "    for line in obfuscation_list:\n",
        "      the_file.write(line + '\\n')"
      ],
      "execution_count": 56,
      "outputs": []
    },
    {
      "cell_type": "code",
      "metadata": {
        "id": "enpmmCfbf8-j"
      },
      "source": [
        "obfuscator = DeIdentification() \\\n",
        "    .setInputCols([\"sentence\", \"token\", \"ner_chunk\"]) \\\n",
        "    .setOutputCol(\"deidentified\") \\\n",
        "    .setMode('obfuscate') \\\n",
        "    .setRefSep('#') \\\n",
        "    .setObfuscateRefFile('obfuscation.txt') \\\n",
        "    .setObfuscateDate(True)\n"
      ],
      "execution_count": 57,
      "outputs": []
    },
    {
      "cell_type": "code",
      "metadata": {
        "id": "Gia6ufwhf8-l"
      },
      "source": [
        "obfuscator_model = obfuscator.fit(result)"
      ],
      "execution_count": 58,
      "outputs": []
    },
    {
      "cell_type": "code",
      "metadata": {
        "id": "TTAkmJWuktxI"
      },
      "source": [
        "obfuscator_model.write().overwrite().save('custom_obfuscator_model')"
      ],
      "execution_count": 59,
      "outputs": []
    },
    {
      "cell_type": "code",
      "metadata": {
        "id": "YfMT8lIZf8-n"
      },
      "source": [
        "obfusc_text = obfuscator_model.transform(result)"
      ],
      "execution_count": 60,
      "outputs": []
    },
    {
      "cell_type": "code",
      "metadata": {
        "colab": {
          "base_uri": "https://localhost:8080/",
          "height": 80
        },
        "id": "p4ONlR9309Rk",
        "outputId": "831e0464-3bdf-4fbd-d65b-0284d6b444e9"
      },
      "source": [
        "obfusc_text.select(F.explode(F.arrays_zip('sentence.result', 'deidentified.result')).alias(\"cols\")) \\\n",
        ".select(F.expr(\"cols['0']\").alias(\"sentence\"), F.expr(\"cols['1']\").alias(\"deidentified\")).toPandas()"
      ],
      "execution_count": 61,
      "outputs": [
        {
          "output_type": "execute_result",
          "data": {
            "text/html": [
              "<div>\n",
              "<style scoped>\n",
              "    .dataframe tbody tr th:only-of-type {\n",
              "        vertical-align: middle;\n",
              "    }\n",
              "\n",
              "    .dataframe tbody tr th {\n",
              "        vertical-align: top;\n",
              "    }\n",
              "\n",
              "    .dataframe thead th {\n",
              "        text-align: right;\n",
              "    }\n",
              "</style>\n",
              "<table border=\"1\" class=\"dataframe\">\n",
              "  <thead>\n",
              "    <tr style=\"text-align: right;\">\n",
              "      <th></th>\n",
              "      <th>sentence</th>\n",
              "      <th>deidentified</th>\n",
              "    </tr>\n",
              "  </thead>\n",
              "  <tbody>\n",
              "    <tr>\n",
              "      <th>0</th>\n",
              "      <td>Record date : 2093-01-13, David Hale lives in New York</td>\n",
              "      <td>Record date : 2093-01-13, Kalil AMIN lives in Los Angeles</td>\n",
              "    </tr>\n",
              "  </tbody>\n",
              "</table>\n",
              "</div>"
            ],
            "text/plain": [
              "                                                 sentence                                               deidentified\n",
              "0  Record date : 2093-01-13, David Hale lives in New York  Record date : 2093-01-13, Kalil AMIN lives in Los Angeles"
            ]
          },
          "metadata": {
            "tags": []
          },
          "execution_count": 61
        }
      ]
    },
    {
      "cell_type": "code",
      "metadata": {
        "id": "kdxnDJJF6300"
      },
      "source": [
        ""
      ],
      "execution_count": 61,
      "outputs": []
    }
  ]
}
