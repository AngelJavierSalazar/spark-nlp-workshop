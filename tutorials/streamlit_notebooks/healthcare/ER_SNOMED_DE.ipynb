{
  "nbformat": 4,
  "nbformat_minor": 0,
  "metadata": {
    "colab": {
      "name": "ER_SNOMED_DE.ipynb",
      "provenance": [],
      "collapsed_sections": [],
      "toc_visible": true
    },
    "kernelspec": {
      "name": "python3",
      "display_name": "Python 3"
    }
  },
  "cells": [
    {
      "cell_type": "markdown",
      "metadata": {
        "id": "TA21Jo5d9SVq"
      },
      "source": [
        "\n",
        "\n",
        "![JohnSnowLabs](https://nlp.johnsnowlabs.com/assets/images/logo.png)\n",
        "\n",
        "[![Open In Colab](https://colab.research.google.com/assets/colab-badge.svg)](https://colab.research.google.com/github/JohnSnowLabs/spark-nlp-workshop/blob/master/tutorials/streamlit_notebooks/healthcare/ER_ICD10_GM_DE.ipynb)\n",
        "\n",
        "\n"
      ]
    },
    {
      "cell_type": "markdown",
      "metadata": {
        "id": "CzIdjHkAW8TB"
      },
      "source": [
        "# **SNOMED coding for German**"
      ]
    },
    {
      "cell_type": "markdown",
      "metadata": {
        "id": "6uDmeHEFW7_h"
      },
      "source": [
        "To run this yourself, you will need to upload your license keys to the notebook. Just Run The Cell Below in order to do that. Also You can open the file explorer on the left side of the screen and upload `license_keys.json` to the folder that opens. Otherwise, you can look at the example outputs at the bottom of the notebook."
      ]
    },
    {
      "cell_type": "markdown",
      "metadata": {
        "id": "wIeCOiJNW-88"
      },
      "source": [
        "## 1. Colab Setup"
      ]
    },
    {
      "cell_type": "markdown",
      "metadata": {
        "id": "HMIDv74CYN0d"
      },
      "source": [
        "Import license keys"
      ]
    },
    {
      "cell_type": "code",
      "metadata": {
        "id": "ttHPIV2JXbIM"
      },
      "source": [
        "import os\n",
        "import json\n",
        "\n",
        "from google.colab import files\n",
        "\n",
        "license_keys = files.upload()\n",
        "\n",
        "with open(list(license_keys.keys())[0]) as f:\n",
        "    license_keys = json.load(f)\n",
        "\n",
        "sparknlp_version = license_keys[\"PUBLIC_VERSION\"]\n",
        "jsl_version = license_keys[\"JSL_VERSION\"]\n",
        "\n",
        "print ('SparkNLP Version:', sparknlp_version)\n",
        "print ('SparkNLP-JSL Version:', jsl_version)"
      ],
      "execution_count": null,
      "outputs": []
    },
    {
      "cell_type": "markdown",
      "metadata": {
        "id": "rQtc1CHaYQjU"
      },
      "source": [
        "Install dependencies"
      ]
    },
    {
      "cell_type": "code",
      "metadata": {
        "id": "CGJktFHdHL1n"
      },
      "source": [
        "%%capture\n",
        "for k,v in license_keys.items(): \n",
        "    %set_env $k=$v\n",
        "\n",
        "!wget https://raw.githubusercontent.com/JohnSnowLabs/spark-nlp-workshop/master/jsl_colab_setup.sh\n",
        "!bash jsl_colab_setup.sh\n",
        "\n",
        "# Install Spark NLP Display for visualization\n",
        "!pip install --ignore-installed spark-nlp-display"
      ],
      "execution_count": 2,
      "outputs": []
    },
    {
      "cell_type": "markdown",
      "metadata": {
        "id": "Hj5FRDV4YSXN"
      },
      "source": [
        "Import dependencies into Python"
      ]
    },
    {
      "cell_type": "code",
      "metadata": {
        "id": "qUWyj8c6JSPP"
      },
      "source": [
        "import pandas as pd\n",
        "from pyspark.ml import Pipeline\n",
        "from pyspark.sql import SparkSession\n",
        "import pyspark.sql.functions as F\n",
        "\n",
        "import sparknlp\n",
        "from sparknlp.annotator import *\n",
        "from sparknlp_jsl.annotator import *\n",
        "from sparknlp.base import *\n",
        "import sparknlp_jsl"
      ],
      "execution_count": 3,
      "outputs": []
    },
    {
      "cell_type": "markdown",
      "metadata": {
        "id": "ed6Htm7qDQB3"
      },
      "source": [
        "Start the Spark session"
      ]
    },
    {
      "cell_type": "code",
      "metadata": {
        "id": "eaSM8-xhDRa4"
      },
      "source": [
        "spark = sparknlp_jsl.start(license_keys['SECRET'])\n",
        "\n",
        "# manually start session\n",
        "# params = {\"spark.driver.memory\" : \"16G\",\n",
        "#           \"spark.kryoserializer.buffer.max\" : \"2000M\",\n",
        "#           \"spark.driver.maxResultSize\" : \"2000M\"}\n",
        "\n",
        "# spark = sparknlp_jsl.start(license_keys['SECRET'],params=params)"
      ],
      "execution_count": 4,
      "outputs": []
    },
    {
      "cell_type": "markdown",
      "metadata": {
        "id": "9RgiqfX5XDqb"
      },
      "source": [
        "## 2. Construct the pipeline\n",
        "\n",
        "For more details: https://github.com/JohnSnowLabs/spark-nlp-models#pretrained-models---spark-nlp-for-healthcare"
      ]
    },
    {
      "cell_type": "code",
      "metadata": {
        "id": "LLuDz_t40be4",
        "colab": {
          "base_uri": "https://localhost:8080/"
        },
        "outputId": "fa851cdc-ee36-4fbc-c47f-466ef9c33514"
      },
      "source": [
        "documentAssembler = DocumentAssembler()\\\n",
        "      .setInputCol(\"text\")\\\n",
        "      .setOutputCol(\"document\")\n",
        "\n",
        "sentenceDetector = SentenceDetectorDLModel.pretrained()\\\n",
        "      .setInputCols([\"document\"])\\\n",
        "      .setOutputCol(\"sentence\")\n",
        "\n",
        "tokenizer = Tokenizer()\\\n",
        "      .setInputCols([\"sentence\"])\\\n",
        "      .setOutputCol(\"token\")\n",
        "\n",
        "embeddings_clinical = WordEmbeddingsModel.pretrained(\"w2v_cc_300d\", \"de\", \"clinical/models\")\\\n",
        "      .setInputCols([\"sentence\", \"token\"])\\\n",
        "      .setOutputCol(\"embeddings\")\n",
        "\n",
        "clinical_ner = MedicalNerModel.pretrained(\"ner_healthcare_slim\", \"de\", \"clinical/models\") \\\n",
        "  .setInputCols([\"sentence\", \"token\", \"embeddings\"]) \\\n",
        "  .setOutputCol(\"ner\")\n",
        "\n",
        "ner_converter = NerConverter() \\\n",
        "      .setInputCols([\"sentence\", \"token\", \"ner\"]) \\\n",
        "      .setOutputCol(\"ner_chunk\")\\\n",
        "      .setWhiteList([\"TREATMENT\",\"MEDICAL_CONDITION\"]) \n",
        "\n",
        "c2doc = Chunk2Doc()\\\n",
        "      .setInputCols(\"ner_chunk\")\\\n",
        "      .setOutputCol(\"ner_chunk_doc\") \n",
        "\n",
        "sbert_embedder = BertSentenceEmbeddings.pretrained(\"sent_bert_base_cased\", \"de\")\\\n",
        "      .setInputCols([\"ner_chunk_doc\"])\\\n",
        "      .setOutputCol(\"sbert_embeddings\")\n",
        "\n",
        "snomed_resolver = SentenceEntityResolverModel.pretrained(\"sbertresolve_snomed\", \"de\", \"clinical/models\") \\\n",
        "      .setInputCols([\"ner_chunk_doc\", \"sbert_embeddings\"]) \\\n",
        "      .setOutputCol(\"resolution\")\\\n",
        "      .setDistanceFunction(\"EUCLIDEAN\")\n",
        "\n",
        "\n",
        "snomed_pipeline = Pipeline(\n",
        "    stages = [\n",
        "        documentAssembler,\n",
        "        sentenceDetector,\n",
        "        tokenizer,\n",
        "        embeddings_clinical,\n",
        "        clinical_ner,\n",
        "        ner_converter,\n",
        "        c2doc,\n",
        "        sbert_embedder,\n",
        "        snomed_resolver])\n",
        "\n",
        "empty_df= spark.createDataFrame([[\"\"]]).toDF(\"text\")\n",
        "\n",
        "model= snomed_pipeline.fit(empty_df)\n",
        "\n",
        "light_pipeline = sparknlp.base.LightPipeline(model)"
      ],
      "execution_count": 25,
      "outputs": [
        {
          "output_type": "stream",
          "name": "stdout",
          "text": [
            "sentence_detector_dl download started this may take some time.\n",
            "Approximate size to download 354.6 KB\n",
            "[OK!]\n",
            "w2v_cc_300d download started this may take some time.\n",
            "Approximate size to download 1.2 GB\n",
            "[OK!]\n",
            "ner_healthcare_slim download started this may take some time.\n",
            "Approximate size to download 14.2 MB\n",
            "[OK!]\n",
            "sent_bert_base_cased download started this may take some time.\n",
            "Approximate size to download 390.2 MB\n",
            "[OK!]\n",
            "sbertresolve_snomed download started this may take some time.\n",
            "Approximate size to download 231.8 MB\n",
            "[OK!]\n"
          ]
        }
      ]
    },
    {
      "cell_type": "markdown",
      "metadata": {
        "id": "2Y9GpdJhXIpD"
      },
      "source": [
        "## 3. Create example inputs"
      ]
    },
    {
      "cell_type": "code",
      "metadata": {
        "id": "vBOKkB2THdGI"
      },
      "source": [
        "# Enter examples as strings in this array\n",
        "input_list = [\n",
        "    \"\"\" Die Armschmerzen begannen vor zwei Tagen. Dies ist ein 67-jähriger Patient ohne Anamnese übertragbarer Krankheit (wie Syphilis, AIDS oder andere). Sie hat eine Vorgeschichte von Adenokarzinom und Lungentumoren  . Sie wurde 2003 mit Hygrom der linken Hemisphäre operiert . Sie unterzog sich auch 6 Monate lang einer aggressiven Chemotherapie . \"\"\",\n",
        "\n",
        "]"
      ],
      "execution_count": 26,
      "outputs": []
    },
    {
      "cell_type": "markdown",
      "metadata": {
        "id": "1gmrjqHSGcJx"
      },
      "source": [
        "# 4. Run the pipeline"
      ]
    },
    {
      "cell_type": "code",
      "metadata": {
        "id": "xdhgKutMHUoC"
      },
      "source": [
        "df = spark.createDataFrame(pd.DataFrame({\"text\": input_list}))\n",
        "result = model.transform(df)\n",
        "light_result = light_pipeline.fullAnnotate(input_list[0])"
      ],
      "execution_count": 27,
      "outputs": []
    },
    {
      "cell_type": "markdown",
      "metadata": {
        "id": "UIVShVLhI68M"
      },
      "source": [
        "# 5. Visualize"
      ]
    },
    {
      "cell_type": "markdown",
      "metadata": {
        "id": "472iBPpK-FvF"
      },
      "source": [
        "Full Pipeline"
      ]
    },
    {
      "cell_type": "code",
      "metadata": {
        "id": "Qdh2BQaLI7tU",
        "colab": {
          "base_uri": "https://localhost:8080/"
        },
        "outputId": "7e5ba699-4fe0-4b15-847d-9795eb5776ee"
      },
      "source": [
        "result.select(\n",
        "    F.explode(\n",
        "        F.arrays_zip('ner_chunk.result', \n",
        "                     'ner_chunk.begin',\n",
        "                     'ner_chunk.end',\n",
        "                     'ner_chunk.metadata',\n",
        "                     'resolution.metadata', 'resolution.result')\n",
        "    ).alias('cols')\n",
        ").select(\n",
        "    F.expr(\"cols['0']\").alias('chunk'),\n",
        "    F.expr(\"cols['1']\").alias('begin'),\n",
        "    F.expr(\"cols['2']\").alias('end'),\n",
        "    F.expr(\"cols['3']['entity']\").alias('entity'),\n",
        "    F.expr(\"cols['4']['resolved_text']\").alias('snomed_description'),\n",
        "    F.expr(\"cols['5']\").alias('snomed_code'),\n",
        ").show(truncate=False)"
      ],
      "execution_count": 28,
      "outputs": [
        {
          "output_type": "stream",
          "name": "stdout",
          "text": [
            "+-------------+-----+---+-----------------+------------------+-----------+\n",
            "|chunk        |begin|end|entity           |snomed_description|snomed_code|\n",
            "+-------------+-----+---+-----------------+------------------+-----------+\n",
            "|Armschmerzen |5    |16 |MEDICAL_CONDITION|Armschmerzen      |98121      |\n",
            "|Krankheit    |104  |112|MEDICAL_CONDITION|Krankheit         |32339      |\n",
            "|Syphilis     |119  |126|MEDICAL_CONDITION|Syphilis          |22350      |\n",
            "|AIDS         |129  |132|MEDICAL_CONDITION|HIV-Krankheit     |29605      |\n",
            "|Adenokarzinom|179  |191|MEDICAL_CONDITION|Adenokarzinom     |23451      |\n",
            "|Lungentumoren|197  |209|MEDICAL_CONDITION|Lungentumor       |17816      |\n",
            "|Hygrom       |233  |238|MEDICAL_CONDITION|Hygrom            |86744      |\n",
            "|Chemotherapie|328  |340|TREATMENT        |Chemotherapie     |65389      |\n",
            "+-------------+-----+---+-----------------+------------------+-----------+\n",
            "\n"
          ]
        }
      ]
    },
    {
      "cell_type": "markdown",
      "metadata": {
        "id": "1w6-BQ0MFL9Y"
      },
      "source": [
        "Light Pipeline"
      ]
    },
    {
      "cell_type": "code",
      "metadata": {
        "id": "LSukuO5eE1cZ",
        "colab": {
          "base_uri": "https://localhost:8080/",
          "height": 410
        },
        "outputId": "1b93e442-ee41-44b5-c37c-4d36aa310954"
      },
      "source": [
        "from sparknlp_display import EntityResolverVisualizer\n",
        "\n",
        "vis = EntityResolverVisualizer()\n",
        "\n",
        "## To set custom label colors:\n",
        "vis.set_label_colors({'TREATMENT':'#800080', 'MEDICAL_CONDITION':'#77b5fe'})\n",
        "\n",
        "vis.display(light_result[0], 'ner_chunk', 'resolution', 'document')"
      ],
      "execution_count": 29,
      "outputs": [
        {
          "output_type": "display_data",
          "data": {
            "text/html": [
              "\n",
              "<style>\n",
              "    @import url('https://fonts.googleapis.com/css2?family=Montserrat:wght@300;400;500;600;700&display=swap');\n",
              "    @import url('https://fonts.googleapis.com/css2?family=Vistol Regular:wght@300;400;500;600;700&display=swap');\n",
              "    \n",
              "    .spark-nlp-display-scroll-entities {\n",
              "        border: 1px solid #E7EDF0;\n",
              "        border-radius: 3px;\n",
              "        text-align: justify;\n",
              "        \n",
              "    }\n",
              "    .spark-nlp-display-scroll-entities span {  \n",
              "        font-size: 14px;\n",
              "        line-height: 24px;\n",
              "        color: #536B76;\n",
              "        font-family: 'Montserrat', sans-serif !important;\n",
              "    }\n",
              "    \n",
              "    .spark-nlp-display-entity-wrapper{\n",
              "    \n",
              "        display: inline-grid;\n",
              "        text-align: center;\n",
              "        border-radius: 4px;\n",
              "        margin: 0 2px 5px 2px;\n",
              "        padding: 1px\n",
              "    }\n",
              "    .spark-nlp-display-entity-name{\n",
              "        font-size: 14px;\n",
              "        line-height: 24px;\n",
              "        font-family: 'Montserrat', sans-serif !important;\n",
              "        \n",
              "        background: #f1f2f3;\n",
              "        border-width: medium;\n",
              "        text-align: center;\n",
              "        \n",
              "        font-weight: 400;\n",
              "        \n",
              "        border-radius: 5px;\n",
              "        padding: 2px 5px;\n",
              "        display: block;\n",
              "        margin: 3px 2px;\n",
              "    \n",
              "    }\n",
              "    .spark-nlp-display-entity-type{\n",
              "        font-size: 14px;\n",
              "        line-height: 24px;\n",
              "        color: #ffffff;\n",
              "        font-family: 'Montserrat', sans-serif !important;\n",
              "        \n",
              "        text-transform: uppercase;\n",
              "        \n",
              "        font-weight: 500;\n",
              "\n",
              "        display: block;\n",
              "        padding: 3px 5px;\n",
              "    }\n",
              "    \n",
              "    .spark-nlp-display-entity-resolution{\n",
              "        font-size: 14px;\n",
              "        line-height: 24px;\n",
              "        color: #ffffff;\n",
              "        font-family: 'Vistol Regular', sans-serif !important;\n",
              "        \n",
              "        text-transform: uppercase;\n",
              "        \n",
              "        font-weight: 500;\n",
              "\n",
              "        display: block;\n",
              "        padding: 3px 5px;\n",
              "    }\n",
              "    \n",
              "    .spark-nlp-display-others{\n",
              "        font-size: 14px;\n",
              "        line-height: 24px;\n",
              "        font-family: 'Montserrat', sans-serif !important;\n",
              "        \n",
              "        font-weight: 400;\n",
              "    }\n",
              "\n",
              "</style>\n",
              " <span class=\"spark-nlp-display-others\" style=\"background-color: white\"> Die </span><span class=\"spark-nlp-display-entity-wrapper\" style=\"background-color: #77b5feB3\"><span class=\"spark-nlp-display-entity-name\">Armschmerzen </span><span class=\"spark-nlp-display-entity-type\">MEDICAL_CONDITION</span><span class=\"spark-nlp-display-entity-resolution\" style=\"background-color: #77b5feFF\">98121 </span><span class=\"spark-nlp-display-entity-resolution\" style=\"background-color: #77b5feCC\">Armschmerzen</span></span><span class=\"spark-nlp-display-others\" style=\"background-color: white\"> begannen vor zwei Tagen. Dies ist ein 67-jähriger Patient ohne Anamnese übertragbarer </span><span class=\"spark-nlp-display-entity-wrapper\" style=\"background-color: #77b5feB3\"><span class=\"spark-nlp-display-entity-name\">Krankheit </span><span class=\"spark-nlp-display-entity-type\">MEDICAL_CONDITION</span><span class=\"spark-nlp-display-entity-resolution\" style=\"background-color: #77b5feFF\">32339 </span><span class=\"spark-nlp-display-entity-resolution\" style=\"background-color: #77b5feCC\">Krankheit</span></span><span class=\"spark-nlp-display-others\" style=\"background-color: white\"> (wie </span><span class=\"spark-nlp-display-entity-wrapper\" style=\"background-color: #77b5feB3\"><span class=\"spark-nlp-display-entity-name\">Syphilis </span><span class=\"spark-nlp-display-entity-type\">MEDICAL_CONDITION</span><span class=\"spark-nlp-display-entity-resolution\" style=\"background-color: #77b5feFF\">22350 </span><span class=\"spark-nlp-display-entity-resolution\" style=\"background-color: #77b5feCC\">Syphilis</span></span><span class=\"spark-nlp-display-others\" style=\"background-color: white\">, </span><span class=\"spark-nlp-display-entity-wrapper\" style=\"background-color: #77b5feB3\"><span class=\"spark-nlp-display-entity-name\">AIDS </span><span class=\"spark-nlp-display-entity-type\">MEDICAL_CONDITION</span><span class=\"spark-nlp-display-entity-resolution\" style=\"background-color: #77b5feFF\">29605 </span><span class=\"spark-nlp-display-entity-resolution\" style=\"background-color: #77b5feCC\">HIV-Krankheit</span></span><span class=\"spark-nlp-display-others\" style=\"background-color: white\"> oder andere). Sie hat eine Vorgeschichte von </span><span class=\"spark-nlp-display-entity-wrapper\" style=\"background-color: #77b5feB3\"><span class=\"spark-nlp-display-entity-name\">Adenokarzinom </span><span class=\"spark-nlp-display-entity-type\">MEDICAL_CONDITION</span><span class=\"spark-nlp-display-entity-resolution\" style=\"background-color: #77b5feFF\">23451 </span><span class=\"spark-nlp-display-entity-resolution\" style=\"background-color: #77b5feCC\">Adenokarzinom</span></span><span class=\"spark-nlp-display-others\" style=\"background-color: white\"> und </span><span class=\"spark-nlp-display-entity-wrapper\" style=\"background-color: #77b5feB3\"><span class=\"spark-nlp-display-entity-name\">Lungentumoren </span><span class=\"spark-nlp-display-entity-type\">MEDICAL_CONDITION</span><span class=\"spark-nlp-display-entity-resolution\" style=\"background-color: #77b5feFF\">17816 </span><span class=\"spark-nlp-display-entity-resolution\" style=\"background-color: #77b5feCC\">Lungentumor</span></span><span class=\"spark-nlp-display-others\" style=\"background-color: white\">  . Sie wurde 2003 mit </span><span class=\"spark-nlp-display-entity-wrapper\" style=\"background-color: #77b5feB3\"><span class=\"spark-nlp-display-entity-name\">Hygrom </span><span class=\"spark-nlp-display-entity-type\">MEDICAL_CONDITION</span><span class=\"spark-nlp-display-entity-resolution\" style=\"background-color: #77b5feFF\">86744 </span><span class=\"spark-nlp-display-entity-resolution\" style=\"background-color: #77b5feCC\">Hygrom</span></span><span class=\"spark-nlp-display-others\" style=\"background-color: white\"> der linken Hemisphäre operiert . Sie unterzog sich auch 6 Monate lang einer aggressiven </span><span class=\"spark-nlp-display-entity-wrapper\" style=\"background-color: #800080B3\"><span class=\"spark-nlp-display-entity-name\">Chemotherapie </span><span class=\"spark-nlp-display-entity-type\">TREATMENT</span><span class=\"spark-nlp-display-entity-resolution\" style=\"background-color: #800080FF\">65389 </span><span class=\"spark-nlp-display-entity-resolution\" style=\"background-color: #800080CC\">Chemotherapie</span></span><span class=\"spark-nlp-display-others\" style=\"background-color: white\"> . </span></div>"
            ],
            "text/plain": [
              "<IPython.core.display.HTML object>"
            ]
          },
          "metadata": {}
        }
      ]
    }
  ]
}