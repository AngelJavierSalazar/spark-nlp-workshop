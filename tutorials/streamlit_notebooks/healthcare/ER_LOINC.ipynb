{
  "nbformat": 4,
  "nbformat_minor": 0,
  "metadata": {
    "colab": {
      "name": "ER_LOINC.ipynb",
      "provenance": [],
      "collapsed_sections": []
    },
    "kernelspec": {
      "name": "python3",
      "display_name": "Python 3"
    }
  },
  "cells": [
    {
      "cell_type": "markdown",
      "metadata": {
        "id": "TA21Jo5d9SVq"
      },
      "source": [
        "\n",
        "\n",
        "![JohnSnowLabs](https://nlp.johnsnowlabs.com/assets/images/logo.png)\n",
        "\n",
        "[![Open In Colab](https://colab.research.google.com/assets/colab-badge.svg)](https://githubtocolab.com/JohnSnowLabs/spark-nlp-workshop/blob/master/tutorials/streamlit_notebooks/healthcare/ER_LOINC.ipynb)\n",
        "\n",
        "\n"
      ]
    },
    {
      "cell_type": "markdown",
      "metadata": {
        "id": "CzIdjHkAW8TB"
      },
      "source": [
        "# **LOINC coding**"
      ]
    },
    {
      "cell_type": "markdown",
      "metadata": {
        "id": "6uDmeHEFW7_h"
      },
      "source": [
        "To run this yourself, you will need to upload your license keys to the notebook. Just Run The Cell Below in order to do that. Also You can open the file explorer on the left side of the screen and upload `license_keys.json` to the folder that opens.\n",
        "Otherwise, you can look at the example outputs at the bottom of the notebook.\n",
        "\n"
      ]
    },
    {
      "cell_type": "markdown",
      "metadata": {
        "id": "wIeCOiJNW-88"
      },
      "source": [
        "## 1. Colab Setup"
      ]
    },
    {
      "cell_type": "markdown",
      "metadata": {
        "id": "HMIDv74CYN0d"
      },
      "source": [
        "Import license keys"
      ]
    },
    {
      "cell_type": "code",
      "metadata": {
        "id": "ttHPIV2JXbIM",
        "colab": {
          "resources": {
            "http://localhost:8080/nbextensions/google.colab/files.js": {
              "data": "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",
              "ok": true,
              "headers": [
                [
                  "content-type",
                  "application/javascript"
                ]
              ],
              "status": 200,
              "status_text": "OK"
            }
          },
          "base_uri": "https://localhost:8080/",
          "height": 113
        },
        "outputId": "9affc112-33b3-4f73-c06d-a69e883ec795"
      },
      "source": [
        "import os\n",
        "import json\n",
        "\n",
        "from google.colab import files\n",
        "\n",
        "license_keys = files.upload()\n",
        "\n",
        "with open(list(license_keys.keys())[0]) as f:\n",
        "    license_keys = json.load(f)\n",
        "\n",
        "sparknlp_version = license_keys[\"PUBLIC_VERSION\"]\n",
        "jsl_version = license_keys[\"JSL_VERSION\"]\n",
        "\n",
        "print ('SparkNLP Version:', sparknlp_version)\n",
        "print ('SparkNLP-JSL Version:', jsl_version)"
      ],
      "execution_count": null,
      "outputs": [
        {
          "output_type": "display_data",
          "data": {
            "text/html": [
              "\n",
              "     <input type=\"file\" id=\"files-76a5089c-882d-49b9-8a9e-09afed6ee8fc\" name=\"files[]\" multiple disabled\n",
              "        style=\"border:none\" />\n",
              "     <output id=\"result-76a5089c-882d-49b9-8a9e-09afed6ee8fc\">\n",
              "      Upload widget is only available when the cell has been executed in the\n",
              "      current browser session. Please rerun this cell to enable.\n",
              "      </output>\n",
              "      <script src=\"/nbextensions/google.colab/files.js\"></script> "
            ],
            "text/plain": [
              "<IPython.core.display.HTML object>"
            ]
          },
          "metadata": {
            "tags": []
          }
        },
        {
          "output_type": "stream",
          "text": [
            "Saving License Keys 3.0.2.json to License Keys 3.0.2.json\n",
            "SparkNLP Version: 3.0.2\n",
            "SparkNLP-JSL Version: 3.0.2\n"
          ],
          "name": "stdout"
        }
      ]
    },
    {
      "cell_type": "markdown",
      "metadata": {
        "id": "rQtc1CHaYQjU"
      },
      "source": [
        "Install dependencies"
      ]
    },
    {
      "cell_type": "code",
      "metadata": {
        "id": "CGJktFHdHL1n"
      },
      "source": [
        "%%capture\n",
        "for k,v in license_keys.items(): \n",
        "    %set_env $k=$v\n",
        "\n",
        "!wget https://raw.githubusercontent.com/JohnSnowLabs/spark-nlp-workshop/master/jsl_colab_setup.sh\n",
        "!bash jsl_colab_setup.sh\n",
        "\n",
        "# Install Spark NLP Display for visualization\n",
        "!pip install --ignore-installed spark-nlp-display"
      ],
      "execution_count": null,
      "outputs": []
    },
    {
      "cell_type": "markdown",
      "metadata": {
        "id": "Hj5FRDV4YSXN"
      },
      "source": [
        "Import dependencies into Python"
      ]
    },
    {
      "cell_type": "code",
      "metadata": {
        "id": "qUWyj8c6JSPP"
      },
      "source": [
        "import pandas as pd\n",
        "from pyspark.ml import Pipeline\n",
        "from pyspark.sql import SparkSession\n",
        "import pyspark.sql.functions as F\n",
        "\n",
        "import sparknlp\n",
        "from sparknlp.annotator import *\n",
        "from sparknlp_jsl.annotator import *\n",
        "from sparknlp.base import *\n",
        "import sparknlp_jsl"
      ],
      "execution_count": null,
      "outputs": []
    },
    {
      "cell_type": "markdown",
      "metadata": {
        "id": "ed6Htm7qDQB3"
      },
      "source": [
        "Start the Spark session"
      ]
    },
    {
      "cell_type": "code",
      "metadata": {
        "id": "eaSM8-xhDRa4"
      },
      "source": [
        "spark = sparknlp_jsl.start(license_keys['SECRET'])\n",
        "\n",
        "# manually configure the session\n",
        "# params = {\"spark.driver.memory\" : \"16G\",\n",
        "#           \"spark.kryoserializer.buffer.max\" : \"2000M\",\n",
        "#           \"spark.driver.maxResultSize\" : \"2000M\"}\n",
        "\n",
        "# spark = sparknlp_jsl.start(license_keys['SECRET'],params=params)"
      ],
      "execution_count": null,
      "outputs": []
    },
    {
      "cell_type": "markdown",
      "metadata": {
        "id": "p7Q78EjuWNJT"
      },
      "source": [
        "## 2. Select the Entity Resolver model and construct the pipeline"
      ]
    },
    {
      "cell_type": "markdown",
      "metadata": {
        "id": "6r15fELjWNJV"
      },
      "source": [
        "Select the models:\n",
        "\n",
        "**LOINC Entity Resolver models:**\n",
        "\n",
        "1.   **chunkresolve_loinc_clinical** is a Chunk Resolver\n",
        "2.   **sbiobertresolve_loinc** is a Sentence Resolver\n",
        "\n",
        "\n",
        "For more details: https://github.com/JohnSnowLabs/spark-nlp-models#pretrained-models---spark-nlp-for-healthcare"
      ]
    },
    {
      "cell_type": "markdown",
      "metadata": {
        "id": "NbqEWfH7IyZx"
      },
      "source": [
        "# **Chunk Resolver**"
      ]
    },
    {
      "cell_type": "code",
      "metadata": {
        "id": "cK9xxkkfrsLc"
      },
      "source": [
        "# Change this to the model you want to use and re-run the cells below.\n",
        "ER_MODEL_NAME = \"chunkresolve_loinc_clinical\"\n",
        "NER_MODEL_NAME = \"ner_clinical\""
      ],
      "execution_count": null,
      "outputs": []
    },
    {
      "cell_type": "markdown",
      "metadata": {
        "id": "zweiG2ilZqoR"
      },
      "source": [
        "Create the pipeline"
      ]
    },
    {
      "cell_type": "code",
      "metadata": {
        "id": "LLuDz_t40be4",
        "colab": {
          "base_uri": "https://localhost:8080/"
        },
        "outputId": "fdadaeeb-6755-4462-e313-8ff0eb08ae9a"
      },
      "source": [
        "document_assembler = DocumentAssembler() \\\n",
        "    .setInputCol('text')\\\n",
        "    .setOutputCol('document')\n",
        "\n",
        "sentence_detector = SentenceDetector() \\\n",
        "    .setInputCols(['document'])\\\n",
        "    .setOutputCol('sentences')\n",
        "\n",
        "tokenizer = Tokenizer()\\\n",
        "    .setInputCols(['sentences']) \\\n",
        "    .setOutputCol('tokens')\n",
        "\n",
        "embeddings = WordEmbeddingsModel.pretrained('embeddings_clinical', 'en', 'clinical/models')\\\n",
        "    .setInputCols([\"sentences\", \"tokens\"])\\\n",
        "    .setOutputCol(\"embeddings\")\n",
        "\n",
        "ner_model = MedicalNerModel.pretrained(NER_MODEL_NAME, \"en\", \"clinical/models\") \\\n",
        "    .setInputCols([\"sentences\", \"tokens\", \"embeddings\"])\\\n",
        "    .setOutputCol(\"ner_tags\")   \n",
        "\n",
        "ner_chunker = NerConverter()\\\n",
        "    .setInputCols([\"sentences\", \"tokens\", \"ner_tags\"])\\\n",
        "    .setOutputCol(\"ner_chunk\")\n",
        "\n",
        "chunk_embeddings = ChunkEmbeddings()\\\n",
        "    .setInputCols(\"ner_chunk\", \"embeddings\")\\\n",
        "    .setOutputCol(\"chunk_embeddings\")\n",
        "\n",
        "entity_resolver = \\\n",
        "    ChunkEntityResolverModel.pretrained(ER_MODEL_NAME,\"en\",\"clinical/models\")\\\n",
        "    .setInputCols(\"tokens\",\"chunk_embeddings\").setOutputCol(\"resolution\")\n",
        "    \n",
        "pipeline = Pipeline(stages=[\n",
        "    document_assembler, \n",
        "    sentence_detector,\n",
        "    tokenizer,\n",
        "    embeddings,\n",
        "    ner_model,\n",
        "    ner_chunker,\n",
        "    chunk_embeddings,\n",
        "    entity_resolver])\n",
        "\n",
        "empty_df = spark.createDataFrame([['']]).toDF(\"text\")\n",
        "pipeline_model = pipeline.fit(empty_df)\n",
        "\n",
        "light_pipeline = sparknlp.base.LightPipeline(pipeline_model)"
      ],
      "execution_count": null,
      "outputs": [
        {
          "output_type": "stream",
          "text": [
            "embeddings_clinical download started this may take some time.\n",
            "Approximate size to download 1.6 GB\n",
            "[OK!]\n",
            "ner_clinical download started this may take some time.\n",
            "Approximate size to download 13.9 MB\n",
            "[OK!]\n",
            "chunkresolve_loinc_clinical download started this may take some time.\n",
            "Approximate size to download 130.1 MB\n",
            "[OK!]\n"
          ],
          "name": "stdout"
        }
      ]
    },
    {
      "cell_type": "markdown",
      "metadata": {
        "id": "2Y9GpdJhXIpD"
      },
      "source": [
        "## 3. Create example inputs"
      ]
    },
    {
      "cell_type": "code",
      "metadata": {
        "id": "vBOKkB2THdGI"
      },
      "source": [
        "# Enter examples as strings in this array\n",
        "input_list = [\n",
        "\"\"\"A 28-year-old female with a history of gestational diabetes mellitus diagnosed eight years prior to presentation and subsequent type two diabetes mellitus (T2DM), one prior episode of HTG-induced pancreatitis three years prior to presentation, associated with an acute hepatitis, and obesity with a body mass index (BMI) of 33.5 kg/m2, presented with a one-week history of polyuria, polydipsia, poor appetite, and vomiting.\"\"\",\n",
        "]"
      ],
      "execution_count": null,
      "outputs": []
    },
    {
      "cell_type": "markdown",
      "metadata": {
        "id": "1gmrjqHSGcJx"
      },
      "source": [
        "## 4. Run the pipeline"
      ]
    },
    {
      "cell_type": "code",
      "metadata": {
        "id": "xdhgKutMHUoC"
      },
      "source": [
        "df = spark.createDataFrame(pd.DataFrame({\"text\": input_list}))\n",
        "result = pipeline_model.transform(df)\n",
        "light_result = light_pipeline.fullAnnotate(input_list[0])"
      ],
      "execution_count": null,
      "outputs": []
    },
    {
      "cell_type": "code",
      "metadata": {
        "colab": {
          "base_uri": "https://localhost:8080/"
        },
        "id": "IRAG2fUzooFj",
        "outputId": "8e46fa0f-cd1a-4451-acc1-28e70cffe5e1"
      },
      "source": [
        "result.show(truncate=50)"
      ],
      "execution_count": null,
      "outputs": [
        {
          "output_type": "stream",
          "text": [
            "+--------------------------------------------------+--------------------------------------------------+--------------------------------------------------+--------------------------------------------------+--------------------------------------------------+--------------------------------------------------+--------------------------------------------------+--------------------------------------------------+--------------------------------------------------+\n",
            "|                                              text|                                          document|                                         sentences|                                            tokens|                                        embeddings|                                          ner_tags|                                         ner_chunk|                                  chunk_embeddings|                                        resolution|\n",
            "+--------------------------------------------------+--------------------------------------------------+--------------------------------------------------+--------------------------------------------------+--------------------------------------------------+--------------------------------------------------+--------------------------------------------------+--------------------------------------------------+--------------------------------------------------+\n",
            "|A 28-year-old female with a history of gestatio...|[{document, 0, 422, A 28-year-old female with a...|[{document, 0, 422, A 28-year-old female with a...|[{token, 0, 0, A, {sentence -> 0}, []}, {token,...|[{word_embeddings, 0, 0, A, {isOOV -> false, pi...|[{named_entity, 0, 0, O, {I-TREATMENT -> 0.0, I...|[{chunk, 39, 67, gestational diabetes mellitus,...|[{word_embeddings, 39, 67, gestational diabetes...|[{entity, 39, 67, 44877-9, {chunk -> 0, all_k_r...|\n",
            "+--------------------------------------------------+--------------------------------------------------+--------------------------------------------------+--------------------------------------------------+--------------------------------------------------+--------------------------------------------------+--------------------------------------------------+--------------------------------------------------+--------------------------------------------------+\n",
            "\n"
          ],
          "name": "stdout"
        }
      ]
    },
    {
      "cell_type": "markdown",
      "metadata": {
        "id": "UIVShVLhI68M"
      },
      "source": [
        "## 5. Visualize"
      ]
    },
    {
      "cell_type": "code",
      "metadata": {
        "id": "Qdh2BQaLI7tU",
        "colab": {
          "base_uri": "https://localhost:8080/"
        },
        "outputId": "03a496b1-89b3-43fb-865d-f10bbf73718c"
      },
      "source": [
        "result.select(\n",
        "    F.explode(\n",
        "        F.arrays_zip('ner_chunk.result', \n",
        "                     'ner_chunk.begin',\n",
        "                     'ner_chunk.end',\n",
        "                     'ner_chunk.metadata',\n",
        "                     'resolution.metadata', 'resolution.result')\n",
        "    ).alias('cols')\n",
        ").select(\n",
        "    F.expr(\"cols['0']\").alias('chunk'),\n",
        "    F.expr(\"cols['1']\").alias('begin'),\n",
        "    F.expr(\"cols['2']\").alias('end'),\n",
        "    F.expr(\"cols['3']['entity']\").alias('entity'),\n",
        "    F.expr(\"cols['4']['resolved_text']\").alias('LOINC_description'),\n",
        "    F.expr(\"cols['5']\").alias('LOINC_Code'),\n",
        ").show(truncate=False)"
      ],
      "execution_count": null,
      "outputs": [
        {
          "output_type": "stream",
          "text": [
            "+-------------------------------------+-----+---+-------+---------------------------------------------------------+----------+\n",
            "|chunk                                |begin|end|entity |LOINC_description                                        |LOINC_Code|\n",
            "+-------------------------------------+-----+---+-------+---------------------------------------------------------+----------+\n",
            "|gestational diabetes mellitus        |39   |67 |PROBLEM|Insulin dependent diabetes mellitus Ql                   |44877-9   |\n",
            "|subsequent type two diabetes mellitus|117  |153|PROBLEM|Insulin dependent diabetes mellitus Ql                   |44877-9   |\n",
            "|T2DM                                 |156  |159|PROBLEM|Cholesterol in VLDL [Mass or moles/Vol]                  |35199-9   |\n",
            "|HTG-induced pancreatitis             |184  |207|PROBLEM|Cryoproteins identified Nom                              |15176-1   |\n",
            "|an acute hepatitis                   |260  |277|PROBLEM|Acute hepatitis 2000 panel (S)                           |24363-4   |\n",
            "|obesity                              |284  |290|PROBLEM|Leptin [Mass/Vol]                                        |21365-2   |\n",
            "|a body mass index                    |297  |313|PROBLEM|Chromogranin A (Body fld) [Mass/Vol]                     |53047-7   |\n",
            "|BMI                                  |316  |318|TEST   |HEDIS 2020 Value Set - BMI percentile                    |94139-3   |\n",
            "|polyuria                             |373  |380|PROBLEM|Aldosterone (U) [Mass or moles/Vol]                      |35186-6   |\n",
            "|polydipsia                           |383  |392|PROBLEM|Free T3 Dialysis [Mass/Vol]                              |29239-1   |\n",
            "|poor appetite                        |395  |407|PROBLEM|Transfuse leukocyte-poor plateletpheresis units (BPU) [#]|54413-0   |\n",
            "|vomiting                             |414  |421|PROBLEM|dimenhyDRINATE [Moles/Vol]                               |39475-9   |\n",
            "+-------------------------------------+-----+---+-------+---------------------------------------------------------+----------+\n",
            "\n"
          ],
          "name": "stdout"
        }
      ]
    },
    {
      "cell_type": "code",
      "metadata": {
        "colab": {
          "base_uri": "https://localhost:8080/",
          "height": 410
        },
        "id": "vo1cVbwdT3nN",
        "outputId": "bd4c923d-4714-4cb2-836a-e41c48edc695"
      },
      "source": [
        "from sparknlp_display import EntityResolverVisualizer\n",
        "\n",
        "vis = EntityResolverVisualizer()\n",
        "\n",
        "## To set custom label colors:\n",
        "vis.set_label_colors({'TREATMENT':'#0077b6', 'TEST':'#2a9d8f', 'PROBLEM':'#00b4d8'})\n",
        "\n",
        "vis.display(light_result[0], 'ner_chunk', 'resolution', 'document')"
      ],
      "execution_count": null,
      "outputs": [
        {
          "output_type": "display_data",
          "data": {
            "text/html": [
              "\n",
              "<style>\n",
              "    @import url('https://fonts.googleapis.com/css2?family=Montserrat:wght@300;400;500;600;700&display=swap');\n",
              "    @import url('https://fonts.googleapis.com/css2?family=Vistol Regular:wght@300;400;500;600;700&display=swap');\n",
              "    \n",
              "    .spark-nlp-display-scroll-entities {\n",
              "        border: 1px solid #E7EDF0;\n",
              "        border-radius: 3px;\n",
              "        text-align: justify;\n",
              "        \n",
              "    }\n",
              "    .spark-nlp-display-scroll-entities span {  \n",
              "        font-size: 14px;\n",
              "        line-height: 24px;\n",
              "        color: #536B76;\n",
              "        font-family: 'Montserrat', sans-serif !important;\n",
              "    }\n",
              "    \n",
              "    .spark-nlp-display-entity-wrapper{\n",
              "    \n",
              "        display: inline-grid;\n",
              "        text-align: center;\n",
              "        border-radius: 4px;\n",
              "        margin: 0 2px 5px 2px;\n",
              "        padding: 1px\n",
              "    }\n",
              "    .spark-nlp-display-entity-name{\n",
              "        font-size: 14px;\n",
              "        line-height: 24px;\n",
              "        font-family: 'Montserrat', sans-serif !important;\n",
              "        \n",
              "        background: #f1f2f3;\n",
              "        border-width: medium;\n",
              "        text-align: center;\n",
              "        \n",
              "        font-weight: 400;\n",
              "        \n",
              "        border-radius: 5px;\n",
              "        padding: 2px 5px;\n",
              "        display: block;\n",
              "        margin: 3px 2px;\n",
              "    \n",
              "    }\n",
              "    .spark-nlp-display-entity-type{\n",
              "        font-size: 14px;\n",
              "        line-height: 24px;\n",
              "        color: #ffffff;\n",
              "        font-family: 'Montserrat', sans-serif !important;\n",
              "        \n",
              "        text-transform: uppercase;\n",
              "        \n",
              "        font-weight: 500;\n",
              "\n",
              "        display: block;\n",
              "        padding: 3px 5px;\n",
              "    }\n",
              "    \n",
              "    .spark-nlp-display-entity-resolution{\n",
              "        font-size: 14px;\n",
              "        line-height: 24px;\n",
              "        color: #ffffff;\n",
              "        font-family: 'Vistol Regular', sans-serif !important;\n",
              "        \n",
              "        text-transform: uppercase;\n",
              "        \n",
              "        font-weight: 500;\n",
              "\n",
              "        display: block;\n",
              "        padding: 3px 5px;\n",
              "    }\n",
              "    \n",
              "    .spark-nlp-display-others{\n",
              "        font-size: 14px;\n",
              "        line-height: 24px;\n",
              "        font-family: 'Montserrat', sans-serif !important;\n",
              "        \n",
              "        font-weight: 400;\n",
              "    }\n",
              "\n",
              "</style>\n",
              " <span class=\"spark-nlp-display-others\" style=\"background-color: white\">A 28-year-old female with a history of </span><span class=\"spark-nlp-display-entity-wrapper\" style=\"background-color: #00b4d8B3\"><span class=\"spark-nlp-display-entity-name\">gestational diabetes mellitus </span><span class=\"spark-nlp-display-entity-type\">PROBLEM</span><span class=\"spark-nlp-display-entity-resolution\" style=\"background-color: #00b4d8FF\">44877-9 </span><span class=\"spark-nlp-display-entity-resolution\" style=\"background-color: #00b4d8CC\">Insulin dependent diabetes mellitus Ql</span></span><span class=\"spark-nlp-display-others\" style=\"background-color: white\"> diagnosed eight years prior to presentation and </span><span class=\"spark-nlp-display-entity-wrapper\" style=\"background-color: #00b4d8B3\"><span class=\"spark-nlp-display-entity-name\">subsequent type two diabetes mellitus </span><span class=\"spark-nlp-display-entity-type\">PROBLEM</span><span class=\"spark-nlp-display-entity-resolution\" style=\"background-color: #00b4d8FF\">44877-9 </span><span class=\"spark-nlp-display-entity-resolution\" style=\"background-color: #00b4d8CC\">Insulin dependent diabetes mellitus Ql</span></span><span class=\"spark-nlp-display-others\" style=\"background-color: white\"> (</span><span class=\"spark-nlp-display-entity-wrapper\" style=\"background-color: #00b4d8B3\"><span class=\"spark-nlp-display-entity-name\">T2DM </span><span class=\"spark-nlp-display-entity-type\">PROBLEM</span><span class=\"spark-nlp-display-entity-resolution\" style=\"background-color: #00b4d8FF\">35199-9 </span><span class=\"spark-nlp-display-entity-resolution\" style=\"background-color: #00b4d8CC\">Cholesterol in VLDL [Mass or moles/Vol]</span></span><span class=\"spark-nlp-display-others\" style=\"background-color: white\">), one prior episode of </span><span class=\"spark-nlp-display-entity-wrapper\" style=\"background-color: #00b4d8B3\"><span class=\"spark-nlp-display-entity-name\">HTG-induced pancreatitis </span><span class=\"spark-nlp-display-entity-type\">PROBLEM</span><span class=\"spark-nlp-display-entity-resolution\" style=\"background-color: #00b4d8FF\">15176-1 </span><span class=\"spark-nlp-display-entity-resolution\" style=\"background-color: #00b4d8CC\">Cryoproteins identified Nom</span></span><span class=\"spark-nlp-display-others\" style=\"background-color: white\"> three years prior to presentation, associated with </span><span class=\"spark-nlp-display-entity-wrapper\" style=\"background-color: #00b4d8B3\"><span class=\"spark-nlp-display-entity-name\">an acute hepatitis </span><span class=\"spark-nlp-display-entity-type\">PROBLEM</span><span class=\"spark-nlp-display-entity-resolution\" style=\"background-color: #00b4d8FF\">24363-4 </span><span class=\"spark-nlp-display-entity-resolution\" style=\"background-color: #00b4d8CC\">Acute hepatitis 2000 panel (S)</span></span><span class=\"spark-nlp-display-others\" style=\"background-color: white\">, and </span><span class=\"spark-nlp-display-entity-wrapper\" style=\"background-color: #00b4d8B3\"><span class=\"spark-nlp-display-entity-name\">obesity </span><span class=\"spark-nlp-display-entity-type\">PROBLEM</span><span class=\"spark-nlp-display-entity-resolution\" style=\"background-color: #00b4d8FF\">21365-2 </span><span class=\"spark-nlp-display-entity-resolution\" style=\"background-color: #00b4d8CC\">Leptin [Mass/Vol]</span></span><span class=\"spark-nlp-display-others\" style=\"background-color: white\"> with </span><span class=\"spark-nlp-display-entity-wrapper\" style=\"background-color: #00b4d8B3\"><span class=\"spark-nlp-display-entity-name\">a body mass index </span><span class=\"spark-nlp-display-entity-type\">PROBLEM</span><span class=\"spark-nlp-display-entity-resolution\" style=\"background-color: #00b4d8FF\">53047-7 </span><span class=\"spark-nlp-display-entity-resolution\" style=\"background-color: #00b4d8CC\">Chromogranin A (Body fld) [Mass/Vol]</span></span><span class=\"spark-nlp-display-others\" style=\"background-color: white\"> (</span><span class=\"spark-nlp-display-entity-wrapper\" style=\"background-color: #2a9d8fB3\"><span class=\"spark-nlp-display-entity-name\">BMI </span><span class=\"spark-nlp-display-entity-type\">TEST</span><span class=\"spark-nlp-display-entity-resolution\" style=\"background-color: #2a9d8fFF\">94139-3 </span><span class=\"spark-nlp-display-entity-resolution\" style=\"background-color: #2a9d8fCC\">HEDIS 2020 Value Set - BMI percentile</span></span><span class=\"spark-nlp-display-others\" style=\"background-color: white\">) of 33.5 kg/m2, presented with a one-week history of </span><span class=\"spark-nlp-display-entity-wrapper\" style=\"background-color: #00b4d8B3\"><span class=\"spark-nlp-display-entity-name\">polyuria </span><span class=\"spark-nlp-display-entity-type\">PROBLEM</span><span class=\"spark-nlp-display-entity-resolution\" style=\"background-color: #00b4d8FF\">35186-6 </span><span class=\"spark-nlp-display-entity-resolution\" style=\"background-color: #00b4d8CC\">Aldosterone (U) [Mass or moles/Vol]</span></span><span class=\"spark-nlp-display-others\" style=\"background-color: white\">, </span><span class=\"spark-nlp-display-entity-wrapper\" style=\"background-color: #00b4d8B3\"><span class=\"spark-nlp-display-entity-name\">polydipsia </span><span class=\"spark-nlp-display-entity-type\">PROBLEM</span><span class=\"spark-nlp-display-entity-resolution\" style=\"background-color: #00b4d8FF\">29239-1 </span><span class=\"spark-nlp-display-entity-resolution\" style=\"background-color: #00b4d8CC\">Free T3 Dialysis [Mass/Vol]</span></span><span class=\"spark-nlp-display-others\" style=\"background-color: white\">, </span><span class=\"spark-nlp-display-entity-wrapper\" style=\"background-color: #00b4d8B3\"><span class=\"spark-nlp-display-entity-name\">poor appetite </span><span class=\"spark-nlp-display-entity-type\">PROBLEM</span><span class=\"spark-nlp-display-entity-resolution\" style=\"background-color: #00b4d8FF\">54413-0 </span><span class=\"spark-nlp-display-entity-resolution\" style=\"background-color: #00b4d8CC\">Transfuse leukocyte-poor plateletpheresis units (BPU) [#]</span></span><span class=\"spark-nlp-display-others\" style=\"background-color: white\">, and </span><span class=\"spark-nlp-display-entity-wrapper\" style=\"background-color: #00b4d8B3\"><span class=\"spark-nlp-display-entity-name\">vomiting </span><span class=\"spark-nlp-display-entity-type\">PROBLEM</span><span class=\"spark-nlp-display-entity-resolution\" style=\"background-color: #00b4d8FF\">39475-9 </span><span class=\"spark-nlp-display-entity-resolution\" style=\"background-color: #00b4d8CC\">dimenhyDRINATE [Moles/Vol]</span></span><span class=\"spark-nlp-display-others\" style=\"background-color: white\">.</span></div>"
            ],
            "text/plain": [
              "<IPython.core.display.HTML object>"
            ]
          },
          "metadata": {
            "tags": []
          }
        }
      ]
    },
    {
      "cell_type": "markdown",
      "metadata": {
        "id": "jyCwJlCWI5M0"
      },
      "source": [
        "# **Sentence Resolver**"
      ]
    },
    {
      "cell_type": "code",
      "metadata": {
        "id": "-PjLOuAyI8UP"
      },
      "source": [
        "# Change this to the model you want to use and re-run the cells below.\n",
        "ER_MODEL_NAME = \"sbiobertresolve_loinc\"\n",
        "NER_MODEL_NAME = \"ner_clinical\""
      ],
      "execution_count": null,
      "outputs": []
    },
    {
      "cell_type": "markdown",
      "metadata": {
        "id": "pDUKt6uWJF_q"
      },
      "source": [
        "Create the pipeline"
      ]
    },
    {
      "cell_type": "code",
      "metadata": {
        "colab": {
          "base_uri": "https://localhost:8080/"
        },
        "id": "sdo3Uui8JF_u",
        "outputId": "925d54bf-1fd7-46a8-f592-c1518be79b0b"
      },
      "source": [
        "document_assembler = DocumentAssembler() \\\n",
        "    .setInputCol('text')\\\n",
        "    .setOutputCol('document')\n",
        "\n",
        "sentence_detector = SentenceDetector() \\\n",
        "    .setInputCols(['document'])\\\n",
        "    .setOutputCol('sentences')\n",
        "\n",
        "tokenizer = Tokenizer()\\\n",
        "    .setInputCols(['sentences']) \\\n",
        "    .setOutputCol('tokens')\n",
        "\n",
        "word_embeddings = WordEmbeddingsModel.pretrained('embeddings_clinical', 'en', 'clinical/models')\\\n",
        "    .setInputCols([\"sentences\", \"tokens\"])\\\n",
        "    .setOutputCol(\"embeddings\")\n",
        "\n",
        "clinical_ner = MedicalNerModel.pretrained(NER_MODEL_NAME, \"en\", \"clinical/models\") \\\n",
        "    .setInputCols([\"sentences\", \"tokens\", \"embeddings\"])\\\n",
        "    .setOutputCol(\"ner_tags\")   \n",
        "\n",
        "ner_converter = NerConverter()\\\n",
        "    .setInputCols([\"sentences\", \"tokens\", \"ner_tags\"])\\\n",
        "    .setOutputCol(\"ner_chunk\")\n",
        "\n",
        "chunk2doc = Chunk2Doc().setInputCols(\"ner_chunk\").setOutputCol(\"ner_chunk_doc\")\n",
        "\n",
        "sbert_embedder = BertSentenceEmbeddings.pretrained(\"sbiobert_base_cased_mli\",'en','clinical/models')\\\n",
        "     .setInputCols([\"ner_chunk_doc\"])\\\n",
        "     .setOutputCol(\"sbert_embeddings\")\n",
        "\n",
        "entity_resolver = SentenceEntityResolverModel.pretrained(\"sbiobertresolve_loinc\",\"en\", \"clinical/models\") \\\n",
        "     .setInputCols([\"ner_chunk\", \"sbert_embeddings\"]) \\\n",
        "     .setOutputCol(\"resolution\")\\\n",
        "     .setDistanceFunction(\"EUCLIDEAN\")\n",
        "\n",
        "pipeline_loinc = Pipeline(stages = [document_assembler, sentence_detector, tokenizer, word_embeddings, clinical_ner, ner_converter, chunk2doc, sbert_embedder, entity_resolver])\n",
        "\n",
        "empty_df = spark.createDataFrame([['']]).toDF(\"text\")\n",
        "\n",
        "sentence_loinc_pipeline = pipeline_loinc.fit(empty_df)\n",
        "\n",
        "light_pipeline = sparknlp.base.LightPipeline(sentence_loinc_pipeline)"
      ],
      "execution_count": null,
      "outputs": [
        {
          "output_type": "stream",
          "text": [
            "embeddings_clinical download started this may take some time.\n",
            "Approximate size to download 1.6 GB\n",
            "[OK!]\n",
            "ner_clinical download started this may take some time.\n",
            "Approximate size to download 13.9 MB\n",
            "[OK!]\n",
            "sbiobert_base_cased_mli download started this may take some time.\n",
            "Approximate size to download 384.3 MB\n",
            "[OK!]\n",
            "sbiobertresolve_loinc download started this may take some time.\n",
            "Approximate size to download 215.1 MB\n",
            "[OK!]\n"
          ],
          "name": "stdout"
        }
      ]
    },
    {
      "cell_type": "markdown",
      "metadata": {
        "id": "MYMwMr4VJF_z"
      },
      "source": [
        "## 3. Create example inputs"
      ]
    },
    {
      "cell_type": "code",
      "metadata": {
        "id": "dQNmw9MWJF_2"
      },
      "source": [
        "# Enter examples as strings in this array\n",
        "input_list = [\n",
        "\"\"\"FINDINGS: The patient was found upon excision of the cyst that it contained a large Prolene suture, which is multiply knotted as it always is; beneath this was a very small incisional hernia, the hernia cavity, which contained omentum; the hernia was easily repaired DESCRIPTION OF PROCEDURE: The patient was identified, then taken into the operating room, where after induction of an LMA anesthetic, his abdomen was prepped with Betadine solution and draped in sterile fashion. The puncta of the wound lesion was infiltrated with methylene blue and peroxide. The lesion was excised and the existing scar was excised using an ellipse and using a tenotomy scissors, the cyst was excised down to its base. In doing so, we identified a large Prolene suture within the wound and followed this cyst down to its base at which time we found that it contained omentum and was in fact overlying a small incisional hernia. The cyst was removed in its entirety, divided from the omentum using a Metzenbaum and tying with 2-0 silk ties. The hernia repair was undertaken with interrupted 0 Vicryl suture with simple sutures. The wound was then irrigated and closed with 3-0 Vicryl subcutaneous and 4-0 Vicryl subcuticular and Steri-Strips. Patient tolerated the procedure well. Dressings were applied and he was taken to recovery room in stable condition. \"\"\",\n",
        "]"
      ],
      "execution_count": null,
      "outputs": []
    },
    {
      "cell_type": "markdown",
      "metadata": {
        "id": "FhVeuai9JF_4"
      },
      "source": [
        "## 4. Run the pipeline"
      ]
    },
    {
      "cell_type": "code",
      "metadata": {
        "id": "ihdWghdZJF_6"
      },
      "source": [
        "df = spark.createDataFrame(pd.DataFrame({\"text\": input_list}))\n",
        "result = sentence_loinc_pipeline.transform(df)\n",
        "light_result = light_pipeline.fullAnnotate(input_list[0])"
      ],
      "execution_count": null,
      "outputs": []
    },
    {
      "cell_type": "code",
      "metadata": {
        "colab": {
          "base_uri": "https://localhost:8080/"
        },
        "id": "T6jul6UCJF_7",
        "outputId": "6af5729e-9f9a-4878-f905-0972cb63d181"
      },
      "source": [
        "result.show(truncate=50)"
      ],
      "execution_count": null,
      "outputs": [
        {
          "output_type": "stream",
          "text": [
            "+--------------------------------------------------+--------------------------------------------------+--------------------------------------------------+--------------------------------------------------+--------------------------------------------------+--------------------------------------------------+--------------------------------------------------+--------------------------------------------------+--------------------------------------------------+--------------------------------------------------+\n",
            "|                                              text|                                          document|                                         sentences|                                            tokens|                                        embeddings|                                          ner_tags|                                         ner_chunk|                                     ner_chunk_doc|                                  sbert_embeddings|                                        resolution|\n",
            "+--------------------------------------------------+--------------------------------------------------+--------------------------------------------------+--------------------------------------------------+--------------------------------------------------+--------------------------------------------------+--------------------------------------------------+--------------------------------------------------+--------------------------------------------------+--------------------------------------------------+\n",
            "|FINDINGS: The patient was found upon excision o...|[{document, 0, 1342, FINDINGS: The patient was ...|[{document, 0, 141, FINDINGS: The patient was f...|[{token, 0, 7, FINDINGS, {sentence -> 0}, []}, ...|[{word_embeddings, 0, 7, FINDINGS, {isOOV -> fa...|[{named_entity, 0, 7, O, {I-TREATMENT -> 0.0, I...|[{chunk, 37, 44, excision, {entity -> TREATMENT...|[{document, 37, 44, excision, {entity -> TREATM...|[{sentence_embeddings, 37, 44, excision, {sente...|[{entity, 37, 44, 32971-4, {all_k_results -> 32...|\n",
            "+--------------------------------------------------+--------------------------------------------------+--------------------------------------------------+--------------------------------------------------+--------------------------------------------------+--------------------------------------------------+--------------------------------------------------+--------------------------------------------------+--------------------------------------------------+--------------------------------------------------+\n",
            "\n"
          ],
          "name": "stdout"
        }
      ]
    },
    {
      "cell_type": "markdown",
      "metadata": {
        "id": "wadUsogOJF_-"
      },
      "source": [
        "## 5. Visualize"
      ]
    },
    {
      "cell_type": "code",
      "metadata": {
        "colab": {
          "base_uri": "https://localhost:8080/"
        },
        "id": "KuFjERNhJGAA",
        "outputId": "f0a6da8c-91b4-402e-f938-bbff962d1401"
      },
      "source": [
        "result.select(\n",
        "    F.explode(\n",
        "        F.arrays_zip('ner_chunk_doc.result', \n",
        "                     'ner_chunk_doc.begin',\n",
        "                     'ner_chunk_doc.end',\n",
        "                     'ner_chunk_doc.metadata',\n",
        "                     'resolution.metadata', 'resolution.result')\n",
        "    ).alias('cols')\n",
        ").select(\n",
        "    F.expr(\"cols['0']\").alias('chunk'),\n",
        "    F.expr(\"cols['1']\").alias('begin'),\n",
        "    F.expr(\"cols['2']\").alias('end'),\n",
        "    F.expr(\"cols['3']['entity']\").alias('entity'),\n",
        "    F.expr(\"cols['4']['resolved_text']\").alias('LOINC_description'),\n",
        "    F.expr(\"cols['5']\").alias('LOINC_Code'),\n",
        ").show(truncate=False)"
      ],
      "execution_count": null,
      "outputs": [
        {
          "output_type": "stream",
          "text": [
            "+------------------------------+-----+---+---------+----------------------------------------------+----------+\n",
            "|chunk                         |begin|end|entity   |LOINC_description                             |LOINC_Code|\n",
            "+------------------------------+-----+---+---------+----------------------------------------------+----------+\n",
            "|excision                      |37   |44 |TREATMENT|Exfoliation                                   |32971-4   |\n",
            "|the cyst                      |49   |56 |PROBLEM  |View for cyst                                 |65799-9   |\n",
            "|a large Prolene suture        |76   |97 |TREATMENT|Platelets.large                               |34167-7   |\n",
            "|multiply knotted              |109  |124|TREATMENT|Lot number                                    |43156-9   |\n",
            "|a very small incisional hernia|160  |189|PROBLEM  |Lipoprotein.beta.subparticle.very small-a     |92715-2   |\n",
            "|the hernia                    |192  |201|PROBLEM  |Regurgitation degree                          |77919-9   |\n",
            "|the hernia                    |236  |245|PROBLEM  |Regurgitation degree                          |77919-9   |\n",
            "|an LMA anesthetic             |382  |398|TREATMENT|Procedure anesthesia                          |59774-0   |\n",
            "|Betadine solution             |430  |446|TREATMENT|Beta blockers                                 |12328-1   |\n",
            "|The puncta                    |479  |488|PROBLEM  |Pressure points examined                      |80345-2   |\n",
            "|the wound lesion              |493  |508|PROBLEM  |Trauma-related wound                          |52587-3   |\n",
            "|methylene blue                |531  |544|TREATMENT|Recall - blue                                 |52736-6   |\n",
            "|peroxide                      |550  |557|TREATMENT|Perforin                                      |35128-8   |\n",
            "|The lesion                    |560  |569|PROBLEM  |Segment(s) affected by lesion                 |80999-6   |\n",
            "|excised                       |575  |581|TREATMENT|Excised length                                |85279-8   |\n",
            "|the existing scar             |587  |603|PROBLEM  |Wound status                                  |39123-5   |\n",
            "|a tenotomy scissors           |644  |662|TREATMENT|N-Stearoylsphingosine/N-Lignoceroylsphingosine|93878-7   |\n",
            "|the cyst                      |665  |672|PROBLEM  |View for cyst                                 |65799-9   |\n",
            "|a large Prolene suture        |731  |752|TREATMENT|Platelets.large                               |34167-7   |\n",
            "|the wound                     |761  |769|PROBLEM  |Area of wound                                 |89260-4   |\n",
            "+------------------------------+-----+---+---------+----------------------------------------------+----------+\n",
            "only showing top 20 rows\n",
            "\n"
          ],
          "name": "stdout"
        }
      ]
    },
    {
      "cell_type": "code",
      "metadata": {
        "colab": {
          "base_uri": "https://localhost:8080/",
          "height": 934
        },
        "id": "zKjzj-LaJGAE",
        "outputId": "f0690641-ed29-4f4f-a87c-9220c440de33"
      },
      "source": [
        "from sparknlp_display import EntityResolverVisualizer\n",
        "\n",
        "vis = EntityResolverVisualizer()\n",
        "\n",
        "## To set custom label colors:\n",
        "vis.set_label_colors({'TREATMENT':'#0077b6', 'TEST':'#2a9d8f', 'PROBLEM':'#f4a261'})\n",
        "\n",
        "vis.display(light_result[0], 'ner_chunk_doc', 'resolution', 'document')"
      ],
      "execution_count": null,
      "outputs": [
        {
          "output_type": "display_data",
          "data": {
            "text/html": [
              "\n",
              "<style>\n",
              "    @import url('https://fonts.googleapis.com/css2?family=Montserrat:wght@300;400;500;600;700&display=swap');\n",
              "    @import url('https://fonts.googleapis.com/css2?family=Vistol Regular:wght@300;400;500;600;700&display=swap');\n",
              "    \n",
              "    .spark-nlp-display-scroll-entities {\n",
              "        border: 1px solid #E7EDF0;\n",
              "        border-radius: 3px;\n",
              "        text-align: justify;\n",
              "        \n",
              "    }\n",
              "    .spark-nlp-display-scroll-entities span {  \n",
              "        font-size: 14px;\n",
              "        line-height: 24px;\n",
              "        color: #536B76;\n",
              "        font-family: 'Montserrat', sans-serif !important;\n",
              "    }\n",
              "    \n",
              "    .spark-nlp-display-entity-wrapper{\n",
              "    \n",
              "        display: inline-grid;\n",
              "        text-align: center;\n",
              "        border-radius: 4px;\n",
              "        margin: 0 2px 5px 2px;\n",
              "        padding: 1px\n",
              "    }\n",
              "    .spark-nlp-display-entity-name{\n",
              "        font-size: 14px;\n",
              "        line-height: 24px;\n",
              "        font-family: 'Montserrat', sans-serif !important;\n",
              "        \n",
              "        background: #f1f2f3;\n",
              "        border-width: medium;\n",
              "        text-align: center;\n",
              "        \n",
              "        font-weight: 400;\n",
              "        \n",
              "        border-radius: 5px;\n",
              "        padding: 2px 5px;\n",
              "        display: block;\n",
              "        margin: 3px 2px;\n",
              "    \n",
              "    }\n",
              "    .spark-nlp-display-entity-type{\n",
              "        font-size: 14px;\n",
              "        line-height: 24px;\n",
              "        color: #ffffff;\n",
              "        font-family: 'Montserrat', sans-serif !important;\n",
              "        \n",
              "        text-transform: uppercase;\n",
              "        \n",
              "        font-weight: 500;\n",
              "\n",
              "        display: block;\n",
              "        padding: 3px 5px;\n",
              "    }\n",
              "    \n",
              "    .spark-nlp-display-entity-resolution{\n",
              "        font-size: 14px;\n",
              "        line-height: 24px;\n",
              "        color: #ffffff;\n",
              "        font-family: 'Vistol Regular', sans-serif !important;\n",
              "        \n",
              "        text-transform: uppercase;\n",
              "        \n",
              "        font-weight: 500;\n",
              "\n",
              "        display: block;\n",
              "        padding: 3px 5px;\n",
              "    }\n",
              "    \n",
              "    .spark-nlp-display-others{\n",
              "        font-size: 14px;\n",
              "        line-height: 24px;\n",
              "        font-family: 'Montserrat', sans-serif !important;\n",
              "        \n",
              "        font-weight: 400;\n",
              "    }\n",
              "\n",
              "</style>\n",
              " <span class=\"spark-nlp-display-others\" style=\"background-color: white\">FINDINGS: The patient was found upon </span><span class=\"spark-nlp-display-entity-wrapper\" style=\"background-color: #0077b6B3\"><span class=\"spark-nlp-display-entity-name\">excision </span><span class=\"spark-nlp-display-entity-type\">TREATMENT</span><span class=\"spark-nlp-display-entity-resolution\" style=\"background-color: #0077b6FF\">32971-4 </span><span class=\"spark-nlp-display-entity-resolution\" style=\"background-color: #0077b6CC\">Exfoliation</span></span><span class=\"spark-nlp-display-others\" style=\"background-color: white\"> of </span><span class=\"spark-nlp-display-entity-wrapper\" style=\"background-color: #f4a261B3\"><span class=\"spark-nlp-display-entity-name\">the cyst </span><span class=\"spark-nlp-display-entity-type\">PROBLEM</span><span class=\"spark-nlp-display-entity-resolution\" style=\"background-color: #f4a261FF\">65799-9 </span><span class=\"spark-nlp-display-entity-resolution\" style=\"background-color: #f4a261CC\">View for cyst</span></span><span class=\"spark-nlp-display-others\" style=\"background-color: white\"> that it contained </span><span class=\"spark-nlp-display-entity-wrapper\" style=\"background-color: #0077b6B3\"><span class=\"spark-nlp-display-entity-name\">a large Prolene suture </span><span class=\"spark-nlp-display-entity-type\">TREATMENT</span><span class=\"spark-nlp-display-entity-resolution\" style=\"background-color: #0077b6FF\">34167-7 </span><span class=\"spark-nlp-display-entity-resolution\" style=\"background-color: #0077b6CC\">Platelets.large</span></span><span class=\"spark-nlp-display-others\" style=\"background-color: white\">, which is </span><span class=\"spark-nlp-display-entity-wrapper\" style=\"background-color: #0077b6B3\"><span class=\"spark-nlp-display-entity-name\">multiply knotted </span><span class=\"spark-nlp-display-entity-type\">TREATMENT</span><span class=\"spark-nlp-display-entity-resolution\" style=\"background-color: #0077b6FF\">43156-9 </span><span class=\"spark-nlp-display-entity-resolution\" style=\"background-color: #0077b6CC\">Lot number</span></span><span class=\"spark-nlp-display-others\" style=\"background-color: white\"> as it always is; beneath this was </span><span class=\"spark-nlp-display-entity-wrapper\" style=\"background-color: #f4a261B3\"><span class=\"spark-nlp-display-entity-name\">a very small incisional hernia </span><span class=\"spark-nlp-display-entity-type\">PROBLEM</span><span class=\"spark-nlp-display-entity-resolution\" style=\"background-color: #f4a261FF\">92715-2 </span><span class=\"spark-nlp-display-entity-resolution\" style=\"background-color: #f4a261CC\">Lipoprotein.beta.subparticle.very small-a</span></span><span class=\"spark-nlp-display-others\" style=\"background-color: white\">, </span><span class=\"spark-nlp-display-entity-wrapper\" style=\"background-color: #f4a261B3\"><span class=\"spark-nlp-display-entity-name\">the hernia </span><span class=\"spark-nlp-display-entity-type\">PROBLEM</span><span class=\"spark-nlp-display-entity-resolution\" style=\"background-color: #f4a261FF\">77919-9 </span><span class=\"spark-nlp-display-entity-resolution\" style=\"background-color: #f4a261CC\">Regurgitation degree</span></span><span class=\"spark-nlp-display-others\" style=\"background-color: white\"> cavity, which contained omentum; </span><span class=\"spark-nlp-display-entity-wrapper\" style=\"background-color: #f4a261B3\"><span class=\"spark-nlp-display-entity-name\">the hernia </span><span class=\"spark-nlp-display-entity-type\">PROBLEM</span><span class=\"spark-nlp-display-entity-resolution\" style=\"background-color: #f4a261FF\">77919-9 </span><span class=\"spark-nlp-display-entity-resolution\" style=\"background-color: #f4a261CC\">Regurgitation degree</span></span><span class=\"spark-nlp-display-others\" style=\"background-color: white\"> was easily repaired DESCRIPTION OF PROCEDURE: The patient was identified, then taken into the operating room, where after induction of </span><span class=\"spark-nlp-display-entity-wrapper\" style=\"background-color: #0077b6B3\"><span class=\"spark-nlp-display-entity-name\">an LMA anesthetic </span><span class=\"spark-nlp-display-entity-type\">TREATMENT</span><span class=\"spark-nlp-display-entity-resolution\" style=\"background-color: #0077b6FF\">59774-0 </span><span class=\"spark-nlp-display-entity-resolution\" style=\"background-color: #0077b6CC\">Procedure anesthesia</span></span><span class=\"spark-nlp-display-others\" style=\"background-color: white\">, his abdomen was prepped with </span><span class=\"spark-nlp-display-entity-wrapper\" style=\"background-color: #0077b6B3\"><span class=\"spark-nlp-display-entity-name\">Betadine solution </span><span class=\"spark-nlp-display-entity-type\">TREATMENT</span><span class=\"spark-nlp-display-entity-resolution\" style=\"background-color: #0077b6FF\">12328-1 </span><span class=\"spark-nlp-display-entity-resolution\" style=\"background-color: #0077b6CC\">Beta blockers</span></span><span class=\"spark-nlp-display-others\" style=\"background-color: white\"> and draped in sterile fashion. </span><span class=\"spark-nlp-display-entity-wrapper\" style=\"background-color: #f4a261B3\"><span class=\"spark-nlp-display-entity-name\">The puncta </span><span class=\"spark-nlp-display-entity-type\">PROBLEM</span><span class=\"spark-nlp-display-entity-resolution\" style=\"background-color: #f4a261FF\">80345-2 </span><span class=\"spark-nlp-display-entity-resolution\" style=\"background-color: #f4a261CC\">Pressure points examined</span></span><span class=\"spark-nlp-display-others\" style=\"background-color: white\"> of </span><span class=\"spark-nlp-display-entity-wrapper\" style=\"background-color: #f4a261B3\"><span class=\"spark-nlp-display-entity-name\">the wound lesion </span><span class=\"spark-nlp-display-entity-type\">PROBLEM</span><span class=\"spark-nlp-display-entity-resolution\" style=\"background-color: #f4a261FF\">52587-3 </span><span class=\"spark-nlp-display-entity-resolution\" style=\"background-color: #f4a261CC\">Trauma-related wound</span></span><span class=\"spark-nlp-display-others\" style=\"background-color: white\"> was infiltrated with </span><span class=\"spark-nlp-display-entity-wrapper\" style=\"background-color: #0077b6B3\"><span class=\"spark-nlp-display-entity-name\">methylene blue </span><span class=\"spark-nlp-display-entity-type\">TREATMENT</span><span class=\"spark-nlp-display-entity-resolution\" style=\"background-color: #0077b6FF\">52736-6 </span><span class=\"spark-nlp-display-entity-resolution\" style=\"background-color: #0077b6CC\">Recall - blue</span></span><span class=\"spark-nlp-display-others\" style=\"background-color: white\"> and </span><span class=\"spark-nlp-display-entity-wrapper\" style=\"background-color: #0077b6B3\"><span class=\"spark-nlp-display-entity-name\">peroxide </span><span class=\"spark-nlp-display-entity-type\">TREATMENT</span><span class=\"spark-nlp-display-entity-resolution\" style=\"background-color: #0077b6FF\">35128-8 </span><span class=\"spark-nlp-display-entity-resolution\" style=\"background-color: #0077b6CC\">Perforin</span></span><span class=\"spark-nlp-display-others\" style=\"background-color: white\">. </span><span class=\"spark-nlp-display-entity-wrapper\" style=\"background-color: #f4a261B3\"><span class=\"spark-nlp-display-entity-name\">The lesion </span><span class=\"spark-nlp-display-entity-type\">PROBLEM</span><span class=\"spark-nlp-display-entity-resolution\" style=\"background-color: #f4a261FF\">80999-6 </span><span class=\"spark-nlp-display-entity-resolution\" style=\"background-color: #f4a261CC\">Segment(s) affected by lesion</span></span><span class=\"spark-nlp-display-others\" style=\"background-color: white\"> was </span><span class=\"spark-nlp-display-entity-wrapper\" style=\"background-color: #0077b6B3\"><span class=\"spark-nlp-display-entity-name\">excised </span><span class=\"spark-nlp-display-entity-type\">TREATMENT</span><span class=\"spark-nlp-display-entity-resolution\" style=\"background-color: #0077b6FF\">85279-8 </span><span class=\"spark-nlp-display-entity-resolution\" style=\"background-color: #0077b6CC\">Excised length</span></span><span class=\"spark-nlp-display-others\" style=\"background-color: white\"> and </span><span class=\"spark-nlp-display-entity-wrapper\" style=\"background-color: #f4a261B3\"><span class=\"spark-nlp-display-entity-name\">the existing scar </span><span class=\"spark-nlp-display-entity-type\">PROBLEM</span><span class=\"spark-nlp-display-entity-resolution\" style=\"background-color: #f4a261FF\">39123-5 </span><span class=\"spark-nlp-display-entity-resolution\" style=\"background-color: #f4a261CC\">Wound status</span></span><span class=\"spark-nlp-display-others\" style=\"background-color: white\"> was excised using an ellipse and using </span><span class=\"spark-nlp-display-entity-wrapper\" style=\"background-color: #0077b6B3\"><span class=\"spark-nlp-display-entity-name\">a tenotomy scissors </span><span class=\"spark-nlp-display-entity-type\">TREATMENT</span><span class=\"spark-nlp-display-entity-resolution\" style=\"background-color: #0077b6FF\">93878-7 </span><span class=\"spark-nlp-display-entity-resolution\" style=\"background-color: #0077b6CC\">N-Stearoylsphingosine/N-Lignoceroylsphingosine</span></span><span class=\"spark-nlp-display-others\" style=\"background-color: white\">, </span><span class=\"spark-nlp-display-entity-wrapper\" style=\"background-color: #f4a261B3\"><span class=\"spark-nlp-display-entity-name\">the cyst </span><span class=\"spark-nlp-display-entity-type\">PROBLEM</span><span class=\"spark-nlp-display-entity-resolution\" style=\"background-color: #f4a261FF\">65799-9 </span><span class=\"spark-nlp-display-entity-resolution\" style=\"background-color: #f4a261CC\">View for cyst</span></span><span class=\"spark-nlp-display-others\" style=\"background-color: white\"> was excised down to its base. In doing so, we identified </span><span class=\"spark-nlp-display-entity-wrapper\" style=\"background-color: #0077b6B3\"><span class=\"spark-nlp-display-entity-name\">a large Prolene suture </span><span class=\"spark-nlp-display-entity-type\">TREATMENT</span><span class=\"spark-nlp-display-entity-resolution\" style=\"background-color: #0077b6FF\">34167-7 </span><span class=\"spark-nlp-display-entity-resolution\" style=\"background-color: #0077b6CC\">Platelets.large</span></span><span class=\"spark-nlp-display-others\" style=\"background-color: white\"> within </span><span class=\"spark-nlp-display-entity-wrapper\" style=\"background-color: #f4a261B3\"><span class=\"spark-nlp-display-entity-name\">the wound </span><span class=\"spark-nlp-display-entity-type\">PROBLEM</span><span class=\"spark-nlp-display-entity-resolution\" style=\"background-color: #f4a261FF\">89260-4 </span><span class=\"spark-nlp-display-entity-resolution\" style=\"background-color: #f4a261CC\">Area of wound</span></span><span class=\"spark-nlp-display-others\" style=\"background-color: white\"> and followed </span><span class=\"spark-nlp-display-entity-wrapper\" style=\"background-color: #f4a261B3\"><span class=\"spark-nlp-display-entity-name\">this cyst down to its base </span><span class=\"spark-nlp-display-entity-type\">PROBLEM</span><span class=\"spark-nlp-display-entity-resolution\" style=\"background-color: #f4a261FF\">5248-0 </span><span class=\"spark-nlp-display-entity-resolution\" style=\"background-color: #f4a261CC\">Mucor sp Ab</span></span><span class=\"spark-nlp-display-others\" style=\"background-color: white\"> at which time we found that it contained omentum and was in fact overlying </span><span class=\"spark-nlp-display-entity-wrapper\" style=\"background-color: #f4a261B3\"><span class=\"spark-nlp-display-entity-name\">a small incisional hernia </span><span class=\"spark-nlp-display-entity-type\">PROBLEM</span><span class=\"spark-nlp-display-entity-resolution\" style=\"background-color: #f4a261FF\">3272-2 </span><span class=\"spark-nlp-display-entity-resolution\" style=\"background-color: #f4a261CC\">Heparin.low molecular weight</span></span><span class=\"spark-nlp-display-others\" style=\"background-color: white\">. </span><span class=\"spark-nlp-display-entity-wrapper\" style=\"background-color: #f4a261B3\"><span class=\"spark-nlp-display-entity-name\">The cyst </span><span class=\"spark-nlp-display-entity-type\">PROBLEM</span><span class=\"spark-nlp-display-entity-resolution\" style=\"background-color: #f4a261FF\">65799-9 </span><span class=\"spark-nlp-display-entity-resolution\" style=\"background-color: #f4a261CC\">View for cyst</span></span><span class=\"spark-nlp-display-others\" style=\"background-color: white\"> was removed in its entirety, divided from the omentum using a Metzenbaum and tying with 2-0 silk ties. </span><span class=\"spark-nlp-display-entity-wrapper\" style=\"background-color: #0077b6B3\"><span class=\"spark-nlp-display-entity-name\">The hernia repair </span><span class=\"spark-nlp-display-entity-type\">TREATMENT</span><span class=\"spark-nlp-display-entity-resolution\" style=\"background-color: #0077b6FF\">89833-8 </span><span class=\"spark-nlp-display-entity-resolution\" style=\"background-color: #0077b6CC\">Multisection by reconstruction</span></span><span class=\"spark-nlp-display-others\" style=\"background-color: white\"> was undertaken with interrupted 0 </span><span class=\"spark-nlp-display-entity-wrapper\" style=\"background-color: #0077b6B3\"><span class=\"spark-nlp-display-entity-name\">Vicryl suture </span><span class=\"spark-nlp-display-entity-type\">TREATMENT</span><span class=\"spark-nlp-display-entity-resolution\" style=\"background-color: #0077b6FF\">47038-5 </span><span class=\"spark-nlp-display-entity-resolution\" style=\"background-color: #0077b6CC\">Villin Ag</span></span><span class=\"spark-nlp-display-others\" style=\"background-color: white\"> with </span><span class=\"spark-nlp-display-entity-wrapper\" style=\"background-color: #0077b6B3\"><span class=\"spark-nlp-display-entity-name\">simple sutures </span><span class=\"spark-nlp-display-entity-type\">TREATMENT</span><span class=\"spark-nlp-display-entity-resolution\" style=\"background-color: #0077b6FF\">81252-9 </span><span class=\"spark-nlp-display-entity-resolution\" style=\"background-color: #0077b6CC\">Simple variant</span></span><span class=\"spark-nlp-display-others\" style=\"background-color: white\">. </span><span class=\"spark-nlp-display-entity-wrapper\" style=\"background-color: #f4a261B3\"><span class=\"spark-nlp-display-entity-name\">The wound </span><span class=\"spark-nlp-display-entity-type\">PROBLEM</span><span class=\"spark-nlp-display-entity-resolution\" style=\"background-color: #f4a261FF\">89260-4 </span><span class=\"spark-nlp-display-entity-resolution\" style=\"background-color: #f4a261CC\">Area of wound</span></span><span class=\"spark-nlp-display-others\" style=\"background-color: white\"> was then irrigated and closed with </span><span class=\"spark-nlp-display-entity-wrapper\" style=\"background-color: #0077b6B3\"><span class=\"spark-nlp-display-entity-name\">3-0 Vicryl subcutaneous </span><span class=\"spark-nlp-display-entity-type\">TREATMENT</span><span class=\"spark-nlp-display-entity-resolution\" style=\"background-color: #0077b6FF\">87484-2 </span><span class=\"spark-nlp-display-entity-resolution\" style=\"background-color: #0077b6CC\">BB-22 3-carboxyindole</span></span><span class=\"spark-nlp-display-others\" style=\"background-color: white\"> and </span><span class=\"spark-nlp-display-entity-wrapper\" style=\"background-color: #0077b6B3\"><span class=\"spark-nlp-display-entity-name\">4-0 Vicryl subcuticular </span><span class=\"spark-nlp-display-entity-type\">TREATMENT</span><span class=\"spark-nlp-display-entity-resolution\" style=\"background-color: #0077b6FF\">10474-5 </span><span class=\"spark-nlp-display-entity-resolution\" style=\"background-color: #0077b6CC\">Collagen type 4 Ag</span></span><span class=\"spark-nlp-display-others\" style=\"background-color: white\"> and </span><span class=\"spark-nlp-display-entity-wrapper\" style=\"background-color: #0077b6B3\"><span class=\"spark-nlp-display-entity-name\">Steri-Strips </span><span class=\"spark-nlp-display-entity-type\">TREATMENT</span><span class=\"spark-nlp-display-entity-resolution\" style=\"background-color: #0077b6FF\">2969-4 </span><span class=\"spark-nlp-display-entity-resolution\" style=\"background-color: #0077b6CC\">Stercobilin</span></span><span class=\"spark-nlp-display-others\" style=\"background-color: white\">. Patient tolerated </span><span class=\"spark-nlp-display-entity-wrapper\" style=\"background-color: #0077b6B3\"><span class=\"spark-nlp-display-entity-name\">the procedure </span><span class=\"spark-nlp-display-entity-type\">TREATMENT</span><span class=\"spark-nlp-display-entity-resolution\" style=\"background-color: #0077b6FF\">18106-5 </span><span class=\"spark-nlp-display-entity-resolution\" style=\"background-color: #0077b6CC\">Procedure</span></span><span class=\"spark-nlp-display-others\" style=\"background-color: white\"> well. </span><span class=\"spark-nlp-display-entity-wrapper\" style=\"background-color: #0077b6B3\"><span class=\"spark-nlp-display-entity-name\">Dressings </span><span class=\"spark-nlp-display-entity-type\">TREATMENT</span><span class=\"spark-nlp-display-entity-resolution\" style=\"background-color: #0077b6FF\">45849-7 </span><span class=\"spark-nlp-display-entity-resolution\" style=\"background-color: #0077b6CC\">Suctioning</span></span><span class=\"spark-nlp-display-others\" style=\"background-color: white\"> were applied and he was taken to recovery room in stable condition. </span></div>"
            ],
            "text/plain": [
              "<IPython.core.display.HTML object>"
            ]
          },
          "metadata": {
            "tags": []
          }
        }
      ]
    }
  ]
}