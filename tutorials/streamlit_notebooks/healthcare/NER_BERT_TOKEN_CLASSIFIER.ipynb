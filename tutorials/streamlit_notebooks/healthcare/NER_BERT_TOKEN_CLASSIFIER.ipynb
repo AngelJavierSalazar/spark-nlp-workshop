{
  "nbformat": 4,
  "nbformat_minor": 0,
  "metadata": {
    "colab": {
      "name": "NER_BERT_TOKEN_CLASSIFIER.ipynb",
      "provenance": [],
      "collapsed_sections": [
        "AYdvK676u-G8"
      ]
    },
    "kernelspec": {
      "display_name": "Environment (conda_tensorflow2_p36)",
      "language": "python",
      "name": "conda_tensorflow2_p36"
    },
    "language_info": {
      "codemirror_mode": {
        "name": "ipython",
        "version": 3
      },
      "file_extension": ".py",
      "mimetype": "text/x-python",
      "name": "python",
      "nbconvert_exporter": "python",
      "pygments_lexer": "ipython3",
      "version": "3.6.10"
    }
  },
  "cells": [
    {
      "cell_type": "markdown",
      "metadata": {
        "id": "tW-RY-JUtwEj"
      },
      "source": [
        "![JohnSnowLabs](https://nlp.johnsnowlabs.com/assets/images/logo.png)\n",
        "\n",
        "[![Open In Colab](https://colab.research.google.com/assets/colab-badge.svg)](https://colab.research.google.com/github/JohnSnowLabs/spark-nlp-workshop/blob/master/tutorials/streamlit_notebooks/healthcare/NER_BERT_TOKEN_CLASSIFIER.ipynb)"
      ]
    },
    {
      "cell_type": "markdown",
      "metadata": {
        "id": "rwx3qMbtuHyM"
      },
      "source": [
        "To run this yourself, you will need to upload your license keys to the notebook. Just Run The Cell Below in order to do that. Also You can open the file explorer on the left side of the screen and upload license_keys.json to the folder that opens. Otherwise, you can look at the example outputs at the bottom of the notebook."
      ]
    },
    {
      "cell_type": "markdown",
      "metadata": {
        "id": "PAkkP6LSuK1W"
      },
      "source": [
        "## Colab Setup"
      ]
    },
    {
      "cell_type": "code",
      "metadata": {
        "id": "E1xi1aI0HCrw"
      },
      "source": [
        "%%capture\n",
        "import os\n",
        "import json\n",
        "\n",
        "with open(r'/content/spark_nlp_for_healthcare.json') as f:\n",
        "    license_keys = json.load(f)\n",
        "    \n",
        "locals().update(license_keys)\n",
        "\n",
        "for k,v in license_keys.items(): \n",
        "    %set_env $k=$v\n"
      ],
      "execution_count": null,
      "outputs": []
    },
    {
      "cell_type": "code",
      "metadata": {
        "colab": {
          "base_uri": "https://localhost:8080/",
          "height": 35
        },
        "id": "HFEvKJNTUMb0",
        "outputId": "43c977ea-9861-4ce2-ab97-c34efa2b2aab"
      },
      "source": [
        "license_keys['PUBLIC_VERSION']"
      ],
      "execution_count": null,
      "outputs": [
        {
          "output_type": "execute_result",
          "data": {
            "application/vnd.google.colaboratory.intrinsic+json": {
              "type": "string"
            },
            "text/plain": [
              "'3.2.3'"
            ]
          },
          "metadata": {},
          "execution_count": 2
        }
      ]
    },
    {
      "cell_type": "code",
      "metadata": {
        "id": "Awp9imHKHHMQ"
      },
      "source": [
        "%%capture\n",
        "\n",
        "!wget https://raw.githubusercontent.com/JohnSnowLabs/spark-nlp-workshop/master/jsl_colab_setup.sh\n",
        "!bash jsl_colab_setup.sh"
      ],
      "execution_count": null,
      "outputs": []
    },
    {
      "cell_type": "code",
      "metadata": {
        "id": "Oi_qmKoTYJuS"
      },
      "source": [
        "import os \n",
        "\n",
        "os.environ[\"SPARK_NLP_LICENSE\"] = SPARK_NLP_LICENSE    \n",
        "os.environ[\"SECRET\"] = SECRET\n",
        "os.environ[\"AWS_ACCESS_KEY_ID\"] = AWS_ACCESS_KEY_ID     \n",
        "os.environ[\"AWS_SECRET_ACCESS_KEY\"] = AWS_SECRET_ACCESS_KEY"
      ],
      "execution_count": null,
      "outputs": []
    },
    {
      "cell_type": "code",
      "metadata": {
        "id": "607W6iA0LWzt"
      },
      "source": [
        "%%capture\n",
        "! pip install --upgrade spark-nlp==$PUBLIC_VERSION findspark\n",
        "! pip install --upgrade spark-nlp-jsl==$JSL_VERSION  --extra-index-url https://pypi.johnsnowlabs.com/$SECRET"
      ],
      "execution_count": null,
      "outputs": []
    },
    {
      "cell_type": "code",
      "metadata": {
        "colab": {
          "base_uri": "https://localhost:8080/",
          "height": 1000
        },
        "id": "TI2UAVl1qWVa",
        "outputId": "d4123d1a-17dc-477a-9f5a-1aae92f2da64"
      },
      "source": [
        "!pip install --ignore-installed spark-nlp-display"
      ],
      "execution_count": null,
      "outputs": [
        {
          "output_type": "stream",
          "name": "stdout",
          "text": [
            "Collecting spark-nlp-display\n",
            "  Downloading spark_nlp_display-1.8-py3-none-any.whl (95 kB)\n",
            "\u001b[K     |████████████████████████████████| 95 kB 1.9 MB/s \n",
            "\u001b[?25hCollecting svgwrite==1.4\n",
            "  Downloading svgwrite-1.4-py3-none-any.whl (66 kB)\n",
            "\u001b[K     |████████████████████████████████| 66 kB 4.3 MB/s \n",
            "\u001b[?25hCollecting ipython\n",
            "  Downloading ipython-7.28.0-py3-none-any.whl (788 kB)\n",
            "\u001b[K     |████████████████████████████████| 788 kB 19.0 MB/s \n",
            "\u001b[?25hCollecting numpy\n",
            "  Downloading numpy-1.21.2-cp37-cp37m-manylinux_2_12_x86_64.manylinux2010_x86_64.whl (15.7 MB)\n",
            "\u001b[K     |████████████████████████████████| 15.7 MB 195 kB/s \n",
            "\u001b[?25hCollecting pandas\n",
            "  Downloading pandas-1.3.3-cp37-cp37m-manylinux_2_17_x86_64.manylinux2014_x86_64.whl (11.3 MB)\n",
            "\u001b[K     |████████████████████████████████| 11.3 MB 29.4 MB/s \n",
            "\u001b[?25hCollecting spark-nlp\n",
            "  Using cached spark_nlp-3.2.3-py2.py3-none-any.whl (118 kB)\n",
            "Collecting traitlets>=4.2\n",
            "  Downloading traitlets-5.1.0-py3-none-any.whl (101 kB)\n",
            "\u001b[K     |████████████████████████████████| 101 kB 10.9 MB/s \n",
            "\u001b[?25hCollecting matplotlib-inline\n",
            "  Downloading matplotlib_inline-0.1.3-py3-none-any.whl (8.2 kB)\n",
            "Collecting setuptools>=18.5\n",
            "  Downloading setuptools-58.1.0-py3-none-any.whl (816 kB)\n",
            "\u001b[K     |████████████████████████████████| 816 kB 69.1 MB/s \n",
            "\u001b[?25hCollecting backcall\n",
            "  Downloading backcall-0.2.0-py2.py3-none-any.whl (11 kB)\n",
            "Collecting prompt-toolkit!=3.0.0,!=3.0.1,<3.1.0,>=2.0.0\n",
            "  Downloading prompt_toolkit-3.0.20-py3-none-any.whl (370 kB)\n",
            "\u001b[K     |████████████████████████████████| 370 kB 62.9 MB/s \n",
            "\u001b[?25hCollecting jedi>=0.16\n",
            "  Downloading jedi-0.18.0-py2.py3-none-any.whl (1.4 MB)\n",
            "\u001b[K     |████████████████████████████████| 1.4 MB 46.4 MB/s \n",
            "\u001b[?25hCollecting pygments\n",
            "  Downloading Pygments-2.10.0-py3-none-any.whl (1.0 MB)\n",
            "\u001b[K     |████████████████████████████████| 1.0 MB 41.8 MB/s \n",
            "\u001b[?25hCollecting pickleshare\n",
            "  Downloading pickleshare-0.7.5-py2.py3-none-any.whl (6.9 kB)\n",
            "Collecting decorator\n",
            "  Downloading decorator-5.1.0-py3-none-any.whl (9.1 kB)\n",
            "Collecting pexpect>4.3\n",
            "  Downloading pexpect-4.8.0-py2.py3-none-any.whl (59 kB)\n",
            "\u001b[K     |████████████████████████████████| 59 kB 4.7 MB/s \n",
            "\u001b[?25hCollecting parso<0.9.0,>=0.8.0\n",
            "  Downloading parso-0.8.2-py2.py3-none-any.whl (94 kB)\n",
            "\u001b[K     |████████████████████████████████| 94 kB 2.4 MB/s \n",
            "\u001b[?25hCollecting ptyprocess>=0.5\n",
            "  Downloading ptyprocess-0.7.0-py2.py3-none-any.whl (13 kB)\n",
            "Collecting wcwidth\n",
            "  Downloading wcwidth-0.2.5-py2.py3-none-any.whl (30 kB)\n",
            "Collecting pytz>=2017.3\n",
            "  Downloading pytz-2021.1-py2.py3-none-any.whl (510 kB)\n",
            "\u001b[K     |████████████████████████████████| 510 kB 69.4 MB/s \n",
            "\u001b[?25hCollecting python-dateutil>=2.7.3\n",
            "  Downloading python_dateutil-2.8.2-py2.py3-none-any.whl (247 kB)\n",
            "\u001b[K     |████████████████████████████████| 247 kB 49.0 MB/s \n",
            "\u001b[?25hCollecting six>=1.5\n",
            "  Downloading six-1.16.0-py2.py3-none-any.whl (11 kB)\n",
            "Installing collected packages: wcwidth, traitlets, six, ptyprocess, parso, setuptools, pytz, python-dateutil, pygments, prompt-toolkit, pickleshare, pexpect, numpy, matplotlib-inline, jedi, decorator, backcall, svgwrite, spark-nlp, pandas, ipython, spark-nlp-display\n",
            "\u001b[31mERROR: pip's dependency resolver does not currently take into account all the packages that are installed. This behaviour is the source of the following dependency conflicts.\n",
            "tensorflow 2.6.0 requires numpy~=1.19.2, but you have numpy 1.21.2 which is incompatible.\n",
            "tensorflow 2.6.0 requires six~=1.15.0, but you have six 1.16.0 which is incompatible.\n",
            "nbclient 0.5.4 requires jupyter-client>=6.1.5, but you have jupyter-client 5.3.5 which is incompatible.\n",
            "moviepy 0.2.3.5 requires decorator<5.0,>=4.0.2, but you have decorator 5.1.0 which is incompatible.\n",
            "jupyter-console 5.2.0 requires prompt-toolkit<2.0.0,>=1.0.0, but you have prompt-toolkit 3.0.20 which is incompatible.\n",
            "google-colab 1.0.0 requires ipython~=5.5.0, but you have ipython 7.28.0 which is incompatible.\n",
            "google-colab 1.0.0 requires pandas~=1.1.0; python_version >= \"3.0\", but you have pandas 1.3.3 which is incompatible.\n",
            "google-colab 1.0.0 requires six~=1.15.0, but you have six 1.16.0 which is incompatible.\n",
            "datascience 0.10.6 requires folium==0.2.1, but you have folium 0.8.3 which is incompatible.\n",
            "albumentations 0.1.12 requires imgaug<0.2.7,>=0.2.5, but you have imgaug 0.2.9 which is incompatible.\u001b[0m\n",
            "Successfully installed backcall-0.2.0 decorator-5.1.0 ipython-7.28.0 jedi-0.18.0 matplotlib-inline-0.1.3 numpy-1.21.2 pandas-1.3.3 parso-0.8.2 pexpect-4.8.0 pickleshare-0.7.5 prompt-toolkit-3.0.20 ptyprocess-0.7.0 pygments-2.10.0 python-dateutil-2.8.2 pytz-2021.1 setuptools-58.1.0 six-1.16.0 spark-nlp-3.2.3 spark-nlp-display-1.8 svgwrite-1.4 traitlets-5.1.0 wcwidth-0.2.5\n"
          ]
        },
        {
          "output_type": "display_data",
          "data": {
            "application/vnd.colab-display-data+json": {
              "pip_warning": {
                "packages": [
                  "IPython",
                  "dateutil",
                  "decorator",
                  "numpy",
                  "pandas",
                  "pexpect",
                  "pickleshare",
                  "pkg_resources",
                  "prompt_toolkit",
                  "pygments",
                  "pytz",
                  "six",
                  "traitlets",
                  "wcwidth"
                ]
              }
            }
          },
          "metadata": {}
        }
      ]
    },
    {
      "cell_type": "code",
      "metadata": {
        "colab": {
          "base_uri": "https://localhost:8080/"
        },
        "id": "dH_iYmRmLWzu",
        "outputId": "6a105f6a-1866-4bdb-a1b1-5c7c848cfe74"
      },
      "source": [
        "# Install java\n",
        "! sudo apt-get install -y openjdk-8-jdk-headless -qq > /dev/null\n",
        "! java -version\n"
      ],
      "execution_count": null,
      "outputs": [
        {
          "output_type": "stream",
          "name": "stdout",
          "text": [
            "openjdk version \"1.8.0_292\"\n",
            "OpenJDK Runtime Environment (build 1.8.0_292-8u292-b10-0ubuntu1~18.04-b10)\n",
            "OpenJDK 64-Bit Server VM (build 25.292-b10, mixed mode)\n"
          ]
        }
      ]
    },
    {
      "cell_type": "code",
      "metadata": {
        "id": "XHy_nQsJLWzv"
      },
      "source": [
        "os.environ['JAVA_HOME'] = \"/usr/lib/jvm/java-8-openjdk-amd64\"\n",
        "os.environ['PATH'] = os.environ['JAVA_HOME'] + \"/bin:\" + os.environ['PATH']"
      ],
      "execution_count": null,
      "outputs": []
    },
    {
      "cell_type": "code",
      "metadata": {
        "colab": {
          "base_uri": "https://localhost:8080/"
        },
        "id": "sw-t1zxlHTB7",
        "outputId": "b2ee670e-772a-4ddc-d543-e4bbe2f0be36"
      },
      "source": [
        "import sparknlp\n",
        "\n",
        "print (f\"sparknlp version: {sparknlp.version()}\")\n",
        "import pandas as pd\n",
        "import json\n",
        "import os\n",
        "from pyspark.ml import Pipeline\n",
        "from pyspark.sql import SparkSession\n",
        "\n",
        "from sparknlp.annotator import *\n",
        "\n",
        "from sparknlp.base import *\n",
        "import pyspark.sql.functions as F\n",
        "\n",
        "# import internal package\n",
        "import sparknlp_jsl\n",
        "from sparknlp_jsl.annotator import *\n",
        "\n",
        "print (f\"sparknlp-jsl version: {sparknlp.version()}\")\n",
        "\n",
        "spark = sparknlp_jsl.start(license_keys['SECRET'])"
      ],
      "execution_count": null,
      "outputs": [
        {
          "output_type": "stream",
          "name": "stdout",
          "text": [
            "sparknlp version: 3.2.3\n",
            "sparknlp-jsl version: 3.2.3\n"
          ]
        }
      ]
    },
    {
      "cell_type": "code",
      "metadata": {
        "id": "n_IZHv98uThF"
      },
      "source": [
        ""
      ],
      "execution_count": null,
      "outputs": []
    },
    {
      "cell_type": "markdown",
      "metadata": {
        "id": "2BG0UxxGuTwM"
      },
      "source": [
        "## Select the models"
      ]
    },
    {
      "cell_type": "markdown",
      "metadata": {
        "id": "tsAR61R7ujIC"
      },
      "source": [
        "Select the NER model - Models: **'bert_token_classifier_ner_jsl', 'bert_token_classifier_ner_drugs', 'bert_token_classifier_ner_deid'**\n",
        "\n",
        "For more details: https://github.com/JohnSnowLabs/spark-nlp-models#pretrained-models---spark-nlp-for-healthcare"
      ]
    },
    {
      "cell_type": "code",
      "metadata": {
        "id": "vBOKkB2THdGI"
      },
      "source": [
        "## Generating Example Files ##\n",
        "text_list_jsl = [\n",
        "             \"\"\"The patient is a 30-year-old female with a long history of insulin dependent diabetes, type 2; coronary artery disease; chronic renal insufficiency; peripheral vascular disease, also secondary to diabetes; who was originally admitted to an outside hospital for what appeared to be acute paraplegia, lower extremities. She did receive a course of Bactrim for 14 days for UTI. Evidently, at some point in time, the patient was noted to develop a pressure-type wound on the sole of her left foot and left great toe. She was also noted to have a large sacral wound; this is in a similar location with her previous laminectomy, and this continues to receive daily care. The patient was transferred secondary to inability to participate in full physical and occupational therapy and continue medical management of her diabetes, the sacral decubitus, left foot pressure wound, and associated complications of diabetes. She is given Fragmin 5000 units subcutaneously daily, Xenaderm to wounds topically b.i.d., Lantus 40 units subcutaneously at bedtime, OxyContin 30 mg p.o. q.12 h., folic acid 1 mg daily, levothyroxine 0.1 mg p.o. daily, Prevacid 30 mg daily, Avandia 4 mg daily, Norvasc 10 mg daily, Lexapro 20 mg daily, aspirin 81 mg daily, Senna 2 tablets p.o. q.a.m., Neurontin 400 mg p.o. t.i.d., Percocet 5/325 mg 2 tablets q.4 h. p.r.n., magnesium citrate 1 bottle p.o. p.r.n., sliding scale coverage insulin, Wellbutrin 100 mg p.o. daily, and Bactrim DS b.i.d.\"\"\",\n",
        "             \"\"\"The patient is a 40-year-old white male who presents with a chief complaint of \"chest pain\". The patient is diabetic and has a prior history of coronary artery disease. The patient presents today stating that his chest pain started yesterday evening and has been somewhat intermittent. He has been advised Aspirin 81 milligrams QDay. Humulin N. insulin 50 units in a.m. HCTZ 50 mg QDay. Nitroglycerin 1/150 sublingually PRN chest pain.\"\"\",\n",
        "             \"\"\"Mr. ABC is a 60-year-old gentleman who had a markedly abnormal stress test earlier today in my office with severe chest pain after 5 minutes of exercise on the standard Bruce with horizontal ST depressions and moderate apical ischemia on stress imaging only. He required 3 sublingual nitroglycerin in total (please see also admission history and physical for full details). \n",
        "\n",
        "The patient underwent cardiac catheterization with myself today which showed mild-to-moderate left main distal disease of 30%, moderate proximal LAD with a severe mid-LAD lesion of 99%, and a mid-left circumflex lesion of 80% with normal LV function and some mild luminal irregularities in the right coronary artery with some moderate stenosis seen in the mid to distal right PDA.\n",
        "\n",
        "I discussed these results with the patient, and he had been relating to me that he was having rest anginal symptoms, as well as nocturnal anginal symptoms, and especially given the severity of the mid left anterior descending lesion, with a markedly abnormal stress test, I felt he was best suited for transfer for PCI. I discussed the case with Dr. X at Medical Center who has kindly accepted the patient in transfer.\n",
        "\n",
        "CONDITION ON TRANSFER: Stable but guarded. The patient is pain-free at this time.\n",
        "\n",
        "MEDICATIONS ON TRANSFER:\n",
        "1. Aspirin 325 mg once a day.\n",
        "2. Metoprolol 50 mg once a day, but we have had to hold it because of relative bradycardia which he apparently has a history of.\n",
        "3. Nexium 40 mg once a day.\n",
        "4. Zocor 40 mg once a day, and there is a fasting lipid profile pending at the time of this dictation. I see that his LDL was 136 on May 3, 2002.\n",
        "5. Plavix 600 mg p.o. x1 which I am giving him tonight.\"\"\",\n",
        "            \"\"\"HISTORY OF PRESENT ILLNESS: The patient is a 68-year-old Korean gentleman with a history of coronary artery disease, hypertension, diabetes and stage III CKD with a creatinine of 1.8 in May 2006 corresponding with the GFR of 40-41 mL/min. The patient had blood work done at Dr. XYZ's office on June 01, 2006, which revealed an elevation in his creatinine up to 2.3. He was asked to come in to see a nephrologist for further evaluation. I am therefore asked by Dr. XYZ to see this patient in consultation for evaluation of acute on chronic kidney failure. The patient states that he was actually taking up to 12 to 13 pills of Chinese herbs and dietary supplements for the past year. He only stopped about two or three weeks ago. He also states that TriCor was added about one or two months ago but he is not sure of the date. He has not had an ultrasound but has been diagnosed with prostatic hypertrophy by his primary care doctor and placed on Flomax. He states that his urinary dribbling and weak stream had not improved since doing this. For the past couple of weeks, he has had dizziness in the morning. This is then associated with low glucose. However the patient's blood glucose this morning was 123 and he still was dizzy. This was worse on standing. He states that he has been checking his blood pressure regularly at home because he has felt so bad and that he has gotten under 100/60 on several occasions. His pulses remained in the 60s.\n",
        "\n",
        "ALLERGIES: None.\n",
        "\n",
        "MEDICATIONS: Imdur 20 mg two to three times daily, nitroglycerin p.r.n., insulin 70/30 40/45 units daily, Zetia 10 mg daily, ? Triglide 50 mg daily, Prevacid 30 mg daily, Plavix 75 mg daily, potassium 10 mEq daily, Lasix 60 mg daily, folate 1 mg b.i.d., Niaspan 500 mg daily, atenolol 50 mg daily, enalapril 10 mg b.i.d., glyburide 10 mg b.i.d., Xanax 0.25 mg b.i.d., aspirin 325 mg daily, Tylenol p.r.n., Zantac 150 mg b.i.d., Crestor 5 mg daily, TriCor 145 mg daily, Digitek 0.125 mg daily, Celexa 20 mg daily, and Flomax 0.4 mg daily.\"\"\",\n",
        "            \"\"\"HPI: A 69-year-old white female with a history of metastatic breast cancer, depression, anxiety, recent UTI, and obstructive uropathy, admitted to the ABCD Hospital on February 6, 2007, for lightheadedness, weakness, and shortness of breath. The patient was consulted by Psychiatry for anxiety. I know this patient from a previous consult. During this recent admission, the patient has experienced anxiety and had a panic attack yesterday with \"syncopal episodes.\" She was given Ativan 0.25 mg on a p.r.n. basis with relief after one to two hours. The patient was seen by Abc, MD, and Def, Ph.D. The laboratories were reviewed and were positive for UTI, and anemia is also present. The TSH level was within normal limits. She previously responded well to trazodone for depression, poor appetite, and decreased sleep and anxiety. A low dose of Klonopin was also helpful for sedation.\n",
        "\n",
        "PAST MEDICAL HISTORY: Metastatic breast cancer to bone. The patient also has a history of hypertension, hypothyroidism, recurrent UTI secondary to obstruction of left ureteropelvic junction, cholelithiasis, chronic renal insufficiency, Port-A-Cath placement, and hydronephrosis.\n",
        "\n",
        "PAST PSYCHIATRIC HISTORY: The patient has a history of depression and anxiety. She was taking Remeron 15 mg q.h.s., Ambien 5 mg q.h.s. on a p.r.n. basis, Ativan 0.25 mg every 6 hours on a p.r.n. basis, and Klonopin 0.25 mg at night while she was at home.\"\"\",\n",
        "\n",
        "\"\"\"The patient is a 21-day-old Caucasian male here for 2 days of congestion - mom has been suctioning yellow discharge from the patient's nares, plus she has noticed some mild problems with his breathing while feeding (but negative for any perioral cyanosis or retractions). One day ago, mom also noticed a tactile temperature and gave the patient Tylenol. Baby also has had some decreased p.o. intake. His normal breast-feeding is down from 20 minutes q.2h. to 5 to 10 minutes secondary to his respiratory congestion. He sleeps well, but has been more tired and has been fussy over the past 2 days. The parents noticed no improvement with albuterol treatments given in the ER. His urine output has also decreased; normally he has 8 to 10 wet and 5 dirty diapers per 24 hours, now he has down to 4 wet diapers per 24 hours. Mom denies any diarrhea. His bowel movements are yellow colored and soft in nature.\"\"\"\n",
        "]"
      ],
      "execution_count": null,
      "outputs": []
    },
    {
      "cell_type": "code",
      "metadata": {
        "id": "64yjCNLMLWz3"
      },
      "source": [
        "## Generating Example Files ##\n",
        "text_list_deid = [\n",
        "    \"\"\"HISTORY OF PRESENT ILLNESS: Mr. Smith is a 60-year-old white male veteran with multiple comorbidities, who has a history of bladder cancer diagnosed approximately two years ago by the VA Hospital. He underwent a resection there. He was to be admitted to the Day Hospital for cystectomy. He was seen in Urology Clinic and Radiology Clinic on 02/04/2003.\n",
        "\n",
        "HOSPITAL COURSE: Mr. Smith presented to the Day Hospital in anticipation for Urology surgery. On evaluation, EKG, echocardiogram was abnormal, a Cardiology consult was obtained. A cardiac adenosine stress MRI was then proceeded, same was positive for inducible ischemia, mild-to-moderate inferolateral subendocardial infarction with peri-infarct ischemia. In addition, inducible ischemia seen in the inferior lateral septum. Mr. Smith underwent a left heart catheterization, which revealed two vessel coronary artery disease. The RCA, proximal was 95% stenosed and the distal 80% stenosed. The mid LAD was 85% stenosed and the distal LAD was 85% stenosed. There was four Multi-Link Vision bare metal stents placed to decrease all four lesions to 0%. Following intervention, Mr. Smith was admitted to 7 Ardmore Tower under Cardiology Service under the direction of Dr. Hart. Mr. Smith had a noncomplicated post-intervention hospital course. He was stable for discharge home on 02/07/2003 with instructions to take Plavix daily for one month and Urology is aware of the same.\"\"\",\n",
        "\n",
        "    \"\"\"HISTORY OF PRESENT ILLNESS: The patient is a 39-year-old woman with polymyositis/dermatomyositis on methotrexate once a week. The patient has also been on high-dose prednisone for an urticarial rash. The patient was admitted because of persistent high fevers without a clear-cut source of infection. She had been having temperatures of up to 103 for 8-10 days. She had been seen at Alta View Emergency Department a week prior to admission. A workup there including chest x-ray, blood cultures, and a transthoracic echocardiogram had all remained nondiagnostic, and were normal. Her chest x-ray on that occasion was normal. After the patient was seen in the office on August 10, she persisted with high fevers and was admitted on August 11 to Cottonwood Hospital. Studies done at Cottonwood: CT scan of the chest, abdomen, and pelvis. Results: CT chest showed mild bibasilar pleural-based interstitial changes. These were localized to mid and lower lung zones. The process was not diffuse. There was no ground glass change. CT abdomen and pelvis was normal. Infectious disease consultation was obtained. Dr. XYZ saw the patient. He ordered serologies for CMV including a CMV blood PCR. Next serologies for EBV, Legionella, Chlamydia, Mycoplasma, Coccidioides, and cryptococcal antigen, and a PPD. The CMV serology came back positive for IgM. The IgG was negative. The CMV blood PCR was positive, as well. Other serologies and her PPD stayed negative. Blood cultures stayed negative.\n",
        "\n",
        "In view of the positive CMV, PCR, and the changes in her CAT scan, the patient was taken for a bronchoscopy. BAL and transbronchial biopsies were performed. The transbronchial biopsies did not show any evidence of pneumocystis, fungal infection, AFB. There was some nonspecific interstitial fibrosis, which was minimal. I spoke with the pathologist, Dr. XYZ and immunopathology was done to look for CMV. The patient had 3 nucleoli on the biopsy specimens that stained positive and were consistent with CMV infection. The patient was started on ganciclovir once her CMV serologies had come back positive. No other antibiotic therapy was prescribed. Next, the patient's methotrexate was held.\n",
        "\n",
        "A chest x-ray prior to discharge showed some bibasilar disease, showing interstitial infiltrates. The patient was given ibuprofen and acetaminophen during her hospitalization, and her fever resolved with these measures.\n",
        "\n",
        "On the BAL fluid cell count, the patient only had 5 WBCs and 5 RBCs on the differential. It showed 43% neutrophils, 45% lymphocytes.\n",
        "\n",
        "Discussions were held with Dr. Grant, Dr. Roberts, her rheumatologist, and with pathology.\n",
        "\n",
        "DISCHARGE DIAGNOSES:\n",
        "1. Disseminated CMV infection with possible CMV pneumonitis.\n",
        "2. Polymyositis on immunosuppressive therapy (methotrexate and prednisone).\n",
        "\n",
        "DISCHARGE MEDICATIONS:\n",
        "1. The patient is going to go on ganciclovir 275 mg IV q.12 h. for approximately 3 weeks.\n",
        "2. Advair 100/50, 1 puff b.i.d.\n",
        "3. Ibuprofen p.r.n. and Tylenol p.r.n. for fever, and will continue her folic acid.\n",
        "4. The patient will not restart for methotrexate for now.\n",
        "\n",
        "She is supposed to follow up with me on August 22, 2007 at 1:45 p.m. She is also supposed to see Dr. Grant in 2 weeks, and Dr. Gomez in 2-3 weeks. She also has an appointment to see an ophthalmologist in about 10 days' time. This was a prolonged discharge, more than 30 minutes were spent on discharging this patient.\"\"\",\n",
        "\n",
        "    \"\"\"This is a 48-year-old black male with stage IV chronic kidney disease, likely secondary to HIV nephropathy who presents to clinic for followup having missed prior clinic appointments. He was last seen in this clinic on 05/29/2007 by Dr. Monroe. This is the first time that I have met the patient. The patient's history of renal insufficiency dates back to 06/2006 when he was hospitalized for an HIV-associated complication. He is unclear of the exact reason for his hospitalization at that time, but he was diagnosed with renal insufficiency and was followed in our Renal Clinic for approximately one year. He had a baseline creatinine during that time of between 3.2 to 3.3. When he was initially diagnosed with renal insufficiency, he had been noncompliant with his HAART regimen. Since that time, he has been very compliant with treatment for his HIV and is seeing Dr. Jones in our Infectious Disease Clinic. He is currently on three-drug antiretroviral therapy. His last CD4 count in 03/2008 was 350. He has had no HIV complications since he was last seen in our clinic. The patient is also followed by Dr. Rogers at the outpatient VA Clinic, here in Springfield, although he has not seen her in approximately one year. The patient has an AV fistula that was placed in late 2006. The latest blood work that I have is from 06/11/2008 and shows a serum creatinine of 3.8, which represents a GFR of 22 and a potassium of 5.9. These laboratories were drawn by his infectious disease doctor and the results prompted their recommendation for him to return to our clinic for further evaluation. The only complaint that the patient has at this time is some difficulty sleeping. He was given Ambien by his primary care doctor, but this has not helped significantly with his difficulty sleeping. He says that he has trouble getting to sleep. The Ambien will allow him to sleep for about two hours, and then he is awake again. He is tired during the day, but is not taking any daytime naps. He has no history of excessive snoring or apneic periods. He has no history of falling asleep at work or while driving. He has never had a formal sleep study. He does continue to work in sales at a local butcher shop.\"\"\",\n",
        "\n",
        "    \"\"\"The baby is an ex-32 weeks small for gestational age infant with birth weight 5 lbs 9 oz. Baby was born at Ridgeland Hospital at 1:33pm on 07/14/2006. Mother is a 20-year-old gravida 1, para 0 female who received prenatal care. Prenatal course was complicated by low amniotic fluid index and hypertension. She was evaluated for evolving preeclampsia and had a C-section secondary to the nonreassuring fetal status. Baby delivered operatively, Apgar scores were 8 and 9 initially taken to level 2 satellite nursery and arrangements were to transfer to Children's Hospital. The infant was transferred to Children's Hospital for higher level of care, stayed at Children's Hospital for approximately 2 weeks, and was transferred back to ABCD where he stayed until he was discharged on 08/16/2006.\"\"\",\n",
        "\n",
        "    \"\"\"The patient is a 61-year-old white female status post right total knee replacement secondary to degenerative joint disease performed by Dr. Anderson at Lakeview Hospital on 08/21/2007. The patient was transfused with 2 units of autologous blood postoperatively. She received DVT prophylaxis with a combination of Coumadin, Lovenox, SCD boots, and TED stockings. The remainder of her postoperative course was uneventful. She was discharged on 08/24/2007 from Lakeview Hospital and admitted to the transitional care unit at Norman Services for evaluation and rehabilitation. The patient reports that her last bowel movement was on 08/24/2007 just prior to her discharge from Lakeview Hospital. She denies any urological symptoms such as dysuria, incomplete bladder emptying or other voiding difficulties. She reports having some right knee pain, which is most intense at a \"certain position.\" The patient is unable to elaborate on which \"certain position\" causes her the most discomfort.\"\"\",\n",
        "]\n"
      ],
      "execution_count": null,
      "outputs": []
    },
    {
      "cell_type": "code",
      "metadata": {
        "id": "WKfiRnAGgiTl"
      },
      "source": [
        "text_list_drug = [\n",
        "    \"The human KCNJ9 (Kir 3.3, GIRK3) is a member of the G-protein-activated inwardly rectifying potassium (GIRK) channel family. Here we describe the genomicorganization of the KCNJ9 locus on chromosome 1q21-23 as a candidate gene forType II diabetes mellitus in the Pima Indian population. The gene spansapproximately 7.6 kb and contains one noncoding and two coding exons separated byapproximately 2.2 and approximately 2.6 kb introns, respectively. We identified14 single nucleotide polymorphisms (SNPs), including one that predicts aVal366Ala substitution, and an 8 base-pair (bp) insertion/deletion. Ourexpression studies revealed the presence of the transcript in various humantissues including pancreas, and two major insulin-responsive tissues: fat andskeletal muscle. The characterization of the KCNJ9 gene should facilitate furtherstudies on the function of the KCNJ9 protein and allow evaluation of thepotential role of the locus in Type II diabetes.BACKGROUND: At present, it is one of the most important issues for the treatment of breast cancer to develop the standard therapy for patients previously treated with anthracyclines and taxanes. With the objective of determining the usefulnessof vinorelbine monotherapy in patients with advanced or recurrent breast cancerafter standard therapy, we evaluated the efficacy and safety of vinorelbine inpatients previously treated with anthracyclines and taxanes.\",\n",
        "    \"The doctor prescribed aspirin 2 meq/ ml oral solution for the patient’s fever and headache.\",\n",
        "    \"The usual dose of paracetamol is 1 or 2 500 mg tablet at a time, with a maximum recommended dose of 4 g paracetamol per day.\",\n",
        "    \"He was put on Adalimumab 97.70 mg because the treatment with mesalazine was not effective and his condition was worse since last admission.\",\n",
        "    \"The dose of oral rehydration salts for this pediatric patient was 0.5 oral solution given the number and texture of the stools.\"\n",
        "]"
      ],
      "execution_count": null,
      "outputs": []
    },
    {
      "cell_type": "code",
      "metadata": {
        "id": "yETqMQxnMT61"
      },
      "source": [
        "model_list = ['bert_token_classifier_ner_jsl','bert_token_classifier_ner_drugs','bert_token_classifier_ner_deid']\n"
      ],
      "execution_count": null,
      "outputs": []
    },
    {
      "cell_type": "code",
      "metadata": {
        "id": "G_BiQcvkOjee",
        "colab": {
          "base_uri": "https://localhost:8080/"
        },
        "outputId": "792af84b-4808-4ac8-aaa2-3426c1630ba4"
      },
      "source": [
        "# Creating input folders\n",
        "\n",
        "for MODEL_NAME in model_list:\n",
        "  INPUT_FILE_PATH='/content/NER_BERT_TOKEN_CLASSIFIER_/inputs/'+MODEL_NAME+'/'\n",
        "  OUTPUT_FILE_PATH='/content/NER_BERT_TOKEN_CLASSIFIER_/outputs/'+MODEL_NAME+'/'\n",
        "      \n",
        "      # Create folders\n",
        "  !rm -r $INPUT_FILE_PATH\n",
        "  !mkdir -p $INPUT_FILE_PATH\n",
        "\n",
        "  if MODEL_NAME == 'bert_token_classifier_ner_drugs': \n",
        "    for i, v in enumerate(text_list_drug):\n",
        "        open(os.path.join(INPUT_FILE_PATH,'Example'+str(i+1)+'.txt'), 'w', encoding=\"utf8\").write(v[:min(len(v)-10, 100)]+'... \\n'+v)\n",
        "  elif MODEL_NAME == 'bert_token_classifier_ner_jsl':\n",
        "    for i, v in enumerate(text_list_jsl):\n",
        "        open(os.path.join(INPUT_FILE_PATH,'Example'+str(i+1)+'.txt'), 'w', encoding=\"utf8\").write(v[:min(len(v)-10, 100)]+'... \\n'+v)\n",
        "  elif MODEL_NAME == 'bert_token_classifier_ner_deid':\n",
        "    for i, v in enumerate(text_list_deid):\n",
        "        open(os.path.join(INPUT_FILE_PATH,'Example'+str(i+1)+'.txt'), 'w', encoding=\"utf8\").write(v[:min(len(v)-10, 100)]+'... \\n'+v)\n",
        "\n",
        "\n",
        "\n",
        "      ## Loading back Example File\n",
        "\n"
      ],
      "execution_count": null,
      "outputs": [
        {
          "output_type": "stream",
          "name": "stdout",
          "text": [
            "rm: cannot remove '/content/NER_BERT_TOKEN_CLASSIFIER_/inputs/bert_token_classifier_ner_jsl/': No such file or directory\n",
            "rm: cannot remove '/content/NER_BERT_TOKEN_CLASSIFIER_/inputs/bert_token_classifier_ner_drugs/': No such file or directory\n",
            "rm: cannot remove '/content/NER_BERT_TOKEN_CLASSIFIER_/inputs/bert_token_classifier_ner_deid/': No such file or directory\n"
          ]
        }
      ]
    },
    {
      "cell_type": "code",
      "metadata": {
        "id": "1oOWrbQvoDCq",
        "colab": {
          "base_uri": "https://localhost:8080/"
        },
        "outputId": "a36bd41d-b63a-4a67-8e38-34582547fa44"
      },
      "source": [
        "# Creating output folders\n",
        "\n",
        "for MODEL_NAME in model_list:\n",
        "  INPUT_FILE_PATH='/content/NER_BERT_TOKEN_CLASSIFIER_/inputs/'+MODEL_NAME+'/'\n",
        "  OUTPUT_FILE_PATH='/content/NER_BERT_TOKEN_CLASSIFIER_/outputs/'+MODEL_NAME+'/'\n",
        "      \n",
        "      # Create folders\n",
        "  !rm -r $OUTPUT_FILE_PATH\n",
        "  !mkdir -p $OUTPUT_FILE_PATH"
      ],
      "execution_count": null,
      "outputs": [
        {
          "output_type": "stream",
          "name": "stdout",
          "text": [
            "rm: cannot remove '/content/NER_BERT_TOKEN_CLASSIFIER_/outputs/bert_token_classifier_ner_jsl/': No such file or directory\n",
            "rm: cannot remove '/content/NER_BERT_TOKEN_CLASSIFIER_/outputs/bert_token_classifier_ner_drugs/': No such file or directory\n",
            "rm: cannot remove '/content/NER_BERT_TOKEN_CLASSIFIER_/outputs/bert_token_classifier_ner_deid/': No such file or directory\n"
          ]
        }
      ]
    },
    {
      "cell_type": "markdown",
      "metadata": {
        "id": "uV2kSie_u6J-"
      },
      "source": [
        "### Creating Json Files and visualizing results of all the models."
      ]
    },
    {
      "cell_type": "code",
      "metadata": {
        "colab": {
          "base_uri": "https://localhost:8080/",
          "height": 1000
        },
        "id": "0L_12d0aOjlX",
        "outputId": "e217f9ba-26e0-4077-aeae-242d68d4f32f"
      },
      "source": [
        "from sparknlp_display import NerVisualizer\n",
        "for MODEL_NAME in model_list:\n",
        "    INPUT_FILE_PATH='/content/NER_BERT_TOKEN_CLASSIFIER_/inputs/'+MODEL_NAME+'/'\n",
        "    OUTPUT_FILE_PATH='/content/NER_BERT_TOKEN_CLASSIFIER_/outputs/'+MODEL_NAME+'/'\n",
        "    text_list = []\n",
        "    file_list=sorted(os.listdir(INPUT_FILE_PATH))\n",
        "    file_paths =sorted([ os.path.join(INPUT_FILE_PATH, pth) for pth in file_list]) \n",
        "    for fpath in file_paths:\n",
        "        txt = ''.join(open(fpath, 'r', encoding=\"utf8\").readlines()[1:])\n",
        "        text_list.append(txt)\n",
        "\n",
        "\n",
        "    documentAssembler = DocumentAssembler()\\\n",
        "      .setInputCol(\"text\")\\\n",
        "      .setOutputCol(\"document\")\n",
        "\n",
        "    sentenceDetector = SentenceDetectorDLModel.pretrained() \\\n",
        "          .setInputCols([\"document\"]) \\\n",
        "          .setOutputCol(\"sentence\") \n",
        "\n",
        "    tokenizer = Tokenizer()\\\n",
        "      .setInputCols(\"sentence\")\\\n",
        "      .setOutputCol(\"token\")\n",
        "      \n",
        "    tokenClassifier = BertForTokenClassification.pretrained( MODEL_NAME, \"en\", 'clinical/models')\\\n",
        "      .setInputCols(\"sentence\",\"token\")\\\n",
        "      .setOutputCol(\"ner\")\\\n",
        "      .setCaseSensitive(True)\n",
        "\n",
        "    ner_converter = NerConverter()\\\n",
        "      .setInputCols([\"sentence\",\"token\",\"ner\"])\\\n",
        "      .setOutputCol(\"ner_chunk\")\n",
        "\n",
        "    pipeline =  Pipeline(stages=[documentAssembler,sentenceDetector, tokenizer, tokenClassifier, ner_converter])\n",
        "    pipelineModel = pipeline.fit(spark.createDataFrame([['']]).toDF(\"text\"))\n",
        "    \n",
        "    if MODEL_NAME == \"bert_token_classifier_ner_jsl\":\n",
        "      df = spark.createDataFrame(pd.DataFrame({\"text\": text_list_jsl}))\n",
        "    elif MODEL_NAME == \"bert_token_classifier_ner_drugs\":\n",
        "      df = spark.createDataFrame(pd.DataFrame({\"text\": text_list_drug}))\n",
        "    elif MODEL_NAME == \"bert_token_classifier_ner_deid\":\n",
        "      df = spark.createDataFrame(pd.DataFrame({\"text\": text_list_deid}))\n",
        "\n",
        "    result = pipelineModel.transform(df)\n",
        "    result.select(F.explode(F.arrays_zip('ner_chunk.result', 'ner_chunk.metadata')).alias(\"cols\")) \\\n",
        "          .select(F.expr(\"cols['0']\").alias(\"chunk\"),\n",
        "                  F.expr(\"cols['1']['entity']\").alias(\"ner_label\"))\\\n",
        "          .show(truncate=False)\n",
        "\n",
        "    NerVisualizer().display(\n",
        "        result = result.collect()[0],\n",
        "        label_col = 'ner_chunk',\n",
        "        document_col = 'document'\n",
        "    )\n",
        "    result = result.toPandas()\n",
        " \n",
        "    for i in result.index:\n",
        "        result[['ner_chunk']].iloc[i].to_json(\n",
        "            os.path.join(OUTPUT_FILE_PATH, file_list[i].split('.')[0]+\".json\"))"
      ],
      "execution_count": null,
      "outputs": [
        {
          "output_type": "stream",
          "name": "stdout",
          "text": [
            "sentence_detector_dl download started this may take some time.\n",
            "Approximate size to download 354.6 KB\n",
            "[OK!]\n",
            "bert_token_classifier_ner_jsl download started this may take some time.\n",
            "Approximate size to download 385.8 MB\n",
            "[OK!]\n",
            "+---------------------------+----------------------------+\n",
            "|chunk                      |ner_label                   |\n",
            "+---------------------------+----------------------------+\n",
            "|30-year-old                |Age                         |\n",
            "|female                     |Gender                      |\n",
            "|insulin dependent          |Diabetes                    |\n",
            "|diabetes                   |Diabetes                    |\n",
            "|type 2                     |Diabetes                    |\n",
            "|coronary artery disease    |Heart_Disease               |\n",
            "|chronic renal insufficiency|Kidney_Disease              |\n",
            "|peripheral vascular disease|Disease_Syndrome_Disorder   |\n",
            "|diabetes                   |Diabetes                    |\n",
            "|admitted                   |Admission_Discharge         |\n",
            "|hospital                   |Clinical_Dept               |\n",
            "|acute                      |Modifier                    |\n",
            "|paraplegia                 |Symptom                     |\n",
            "|lower extremities          |External_body_part_or_region|\n",
            "|She                        |Gender                      |\n",
            "|Bactrim                    |Drug_BrandName              |\n",
            "|for 14 days                |Duration                    |\n",
            "|UTI                        |Disease_Syndrome_Disorder   |\n",
            "|pressure-type wound        |Symptom                     |\n",
            "|sole                       |External_body_part_or_region|\n",
            "+---------------------------+----------------------------+\n",
            "only showing top 20 rows\n",
            "\n"
          ]
        },
        {
          "output_type": "display_data",
          "data": {
            "text/html": [
              "\n",
              "<style>\n",
              "    @import url('https://fonts.googleapis.com/css2?family=Montserrat:wght@300;400;500;600;700&display=swap');\n",
              "    @import url('https://fonts.googleapis.com/css2?family=Vistol Regular:wght@300;400;500;600;700&display=swap');\n",
              "    \n",
              "    .spark-nlp-display-scroll-entities {\n",
              "        border: 1px solid #E7EDF0;\n",
              "        border-radius: 3px;\n",
              "        text-align: justify;\n",
              "        \n",
              "    }\n",
              "    .spark-nlp-display-scroll-entities span {  \n",
              "        font-size: 14px;\n",
              "        line-height: 24px;\n",
              "        color: #536B76;\n",
              "        font-family: 'Montserrat', sans-serif !important;\n",
              "    }\n",
              "    \n",
              "    .spark-nlp-display-entity-wrapper{\n",
              "    \n",
              "        display: inline-grid;\n",
              "        text-align: center;\n",
              "        border-radius: 4px;\n",
              "        margin: 0 2px 5px 2px;\n",
              "        padding: 1px\n",
              "    }\n",
              "    .spark-nlp-display-entity-name{\n",
              "        font-size: 14px;\n",
              "        line-height: 24px;\n",
              "        font-family: 'Montserrat', sans-serif !important;\n",
              "        \n",
              "        background: #f1f2f3;\n",
              "        border-width: medium;\n",
              "        text-align: center;\n",
              "        \n",
              "        font-weight: 400;\n",
              "        \n",
              "        border-radius: 5px;\n",
              "        padding: 2px 5px;\n",
              "        display: block;\n",
              "        margin: 3px 2px;\n",
              "    \n",
              "    }\n",
              "    .spark-nlp-display-entity-type{\n",
              "        font-size: 14px;\n",
              "        line-height: 24px;\n",
              "        color: #ffffff;\n",
              "        font-family: 'Montserrat', sans-serif !important;\n",
              "        \n",
              "        text-transform: uppercase;\n",
              "        \n",
              "        font-weight: 500;\n",
              "\n",
              "        display: block;\n",
              "        padding: 3px 5px;\n",
              "    }\n",
              "    \n",
              "    .spark-nlp-display-entity-resolution{\n",
              "        font-size: 14px;\n",
              "        line-height: 24px;\n",
              "        color: #ffffff;\n",
              "        font-family: 'Vistol Regular', sans-serif !important;\n",
              "        \n",
              "        text-transform: uppercase;\n",
              "        \n",
              "        font-weight: 500;\n",
              "\n",
              "        display: block;\n",
              "        padding: 3px 5px;\n",
              "    }\n",
              "    \n",
              "    .spark-nlp-display-others{\n",
              "        font-size: 14px;\n",
              "        line-height: 24px;\n",
              "        font-family: 'Montserrat', sans-serif !important;\n",
              "        \n",
              "        font-weight: 400;\n",
              "    }\n",
              "\n",
              "</style>\n",
              " <span class=\"spark-nlp-display-others\" style=\"background-color: white\">The patient is a </span><span class=\"spark-nlp-display-entity-wrapper\" style=\"background-color: #ffe0ac\"><span class=\"spark-nlp-display-entity-name\">30-year-old </span><span class=\"spark-nlp-display-entity-type\">Age</span></span><span class=\"spark-nlp-display-others\" style=\"background-color: white\"> </span><span class=\"spark-nlp-display-entity-wrapper\" style=\"background-color: #ffacb7\"><span class=\"spark-nlp-display-entity-name\">female </span><span class=\"spark-nlp-display-entity-type\">Gender</span></span><span class=\"spark-nlp-display-others\" style=\"background-color: white\"> with a long history of </span><span class=\"spark-nlp-display-entity-wrapper\" style=\"background-color: #48784B\"><span class=\"spark-nlp-display-entity-name\">insulin dependent </span><span class=\"spark-nlp-display-entity-type\">Diabetes</span></span><span class=\"spark-nlp-display-others\" style=\"background-color: white\"> </span><span class=\"spark-nlp-display-entity-wrapper\" style=\"background-color: #48784B\"><span class=\"spark-nlp-display-entity-name\">diabetes </span><span class=\"spark-nlp-display-entity-type\">Diabetes</span></span><span class=\"spark-nlp-display-others\" style=\"background-color: white\">, </span><span class=\"spark-nlp-display-entity-wrapper\" style=\"background-color: #48784B\"><span class=\"spark-nlp-display-entity-name\">type 2 </span><span class=\"spark-nlp-display-entity-type\">Diabetes</span></span><span class=\"spark-nlp-display-others\" style=\"background-color: white\">; </span><span class=\"spark-nlp-display-entity-wrapper\" style=\"background-color: #834EA4\"><span class=\"spark-nlp-display-entity-name\">coronary artery disease </span><span class=\"spark-nlp-display-entity-type\">Heart_Disease</span></span><span class=\"spark-nlp-display-others\" style=\"background-color: white\">; </span><span class=\"spark-nlp-display-entity-wrapper\" style=\"background-color: #58C419\"><span class=\"spark-nlp-display-entity-name\">chronic renal insufficiency </span><span class=\"spark-nlp-display-entity-type\">Kidney_Disease</span></span><span class=\"spark-nlp-display-others\" style=\"background-color: white\">; </span><span class=\"spark-nlp-display-entity-wrapper\" style=\"background-color: #C6B898\"><span class=\"spark-nlp-display-entity-name\">peripheral vascular disease </span><span class=\"spark-nlp-display-entity-type\">Disease_Syndrome_Disorder</span></span><span class=\"spark-nlp-display-others\" style=\"background-color: white\">, also secondary to </span><span class=\"spark-nlp-display-entity-wrapper\" style=\"background-color: #48784B\"><span class=\"spark-nlp-display-entity-name\">diabetes </span><span class=\"spark-nlp-display-entity-type\">Diabetes</span></span><span class=\"spark-nlp-display-others\" style=\"background-color: white\">; who was originally </span><span class=\"spark-nlp-display-entity-wrapper\" style=\"background-color: #358990\"><span class=\"spark-nlp-display-entity-name\">admitted </span><span class=\"spark-nlp-display-entity-type\">Admission_Discharge</span></span><span class=\"spark-nlp-display-others\" style=\"background-color: white\"> to an outside </span><span class=\"spark-nlp-display-entity-wrapper\" style=\"background-color: #0A3682\"><span class=\"spark-nlp-display-entity-name\">hospital </span><span class=\"spark-nlp-display-entity-type\">Clinical_Dept</span></span><span class=\"spark-nlp-display-others\" style=\"background-color: white\"> for what appeared to be </span><span class=\"spark-nlp-display-entity-wrapper\" style=\"background-color: #8B475D\"><span class=\"spark-nlp-display-entity-name\">acute </span><span class=\"spark-nlp-display-entity-type\">Modifier</span></span><span class=\"spark-nlp-display-others\" style=\"background-color: white\"> </span><span class=\"spark-nlp-display-entity-wrapper\" style=\"background-color: #47728A\"><span class=\"spark-nlp-display-entity-name\">paraplegia </span><span class=\"spark-nlp-display-entity-type\">Symptom</span></span><span class=\"spark-nlp-display-others\" style=\"background-color: white\">, </span><span class=\"spark-nlp-display-entity-wrapper\" style=\"background-color: #8D100D\"><span class=\"spark-nlp-display-entity-name\">lower extremities </span><span class=\"spark-nlp-display-entity-type\">External_body_part_or_region</span></span><span class=\"spark-nlp-display-others\" style=\"background-color: white\">. </span><span class=\"spark-nlp-display-entity-wrapper\" style=\"background-color: #ffacb7\"><span class=\"spark-nlp-display-entity-name\">She </span><span class=\"spark-nlp-display-entity-type\">Gender</span></span><span class=\"spark-nlp-display-others\" style=\"background-color: white\"> did receive a course of </span><span class=\"spark-nlp-display-entity-wrapper\" style=\"background-color: #B45D3F\"><span class=\"spark-nlp-display-entity-name\">Bactrim </span><span class=\"spark-nlp-display-entity-type\">Drug_BrandName</span></span><span class=\"spark-nlp-display-others\" style=\"background-color: white\"> </span><span class=\"spark-nlp-display-entity-wrapper\" style=\"background-color: #883C46\"><span class=\"spark-nlp-display-entity-name\">for 14 days </span><span class=\"spark-nlp-display-entity-type\">Duration</span></span><span class=\"spark-nlp-display-others\" style=\"background-color: white\"> for </span><span class=\"spark-nlp-display-entity-wrapper\" style=\"background-color: #C6B898\"><span class=\"spark-nlp-display-entity-name\">UTI </span><span class=\"spark-nlp-display-entity-type\">Disease_Syndrome_Disorder</span></span><span class=\"spark-nlp-display-others\" style=\"background-color: white\">. Evidently, at some point in time, the patient was noted to develop a </span><span class=\"spark-nlp-display-entity-wrapper\" style=\"background-color: #47728A\"><span class=\"spark-nlp-display-entity-name\">pressure-type wound </span><span class=\"spark-nlp-display-entity-type\">Symptom</span></span><span class=\"spark-nlp-display-others\" style=\"background-color: white\"> on the </span><span class=\"spark-nlp-display-entity-wrapper\" style=\"background-color: #8D100D\"><span class=\"spark-nlp-display-entity-name\">sole </span><span class=\"spark-nlp-display-entity-type\">External_body_part_or_region</span></span><span class=\"spark-nlp-display-others\" style=\"background-color: white\"> of </span><span class=\"spark-nlp-display-entity-wrapper\" style=\"background-color: #ffacb7\"><span class=\"spark-nlp-display-entity-name\">her </span><span class=\"spark-nlp-display-entity-type\">Gender</span></span><span class=\"spark-nlp-display-others\" style=\"background-color: white\"> </span><span class=\"spark-nlp-display-entity-wrapper\" style=\"background-color: #0E2465\"><span class=\"spark-nlp-display-entity-name\">left </span><span class=\"spark-nlp-display-entity-type\">Direction</span></span><span class=\"spark-nlp-display-others\" style=\"background-color: white\"> </span><span class=\"spark-nlp-display-entity-wrapper\" style=\"background-color: #8D100D\"><span class=\"spark-nlp-display-entity-name\">foot </span><span class=\"spark-nlp-display-entity-type\">External_body_part_or_region</span></span><span class=\"spark-nlp-display-others\" style=\"background-color: white\"> and </span><span class=\"spark-nlp-display-entity-wrapper\" style=\"background-color: #0E2465\"><span class=\"spark-nlp-display-entity-name\">left </span><span class=\"spark-nlp-display-entity-type\">Direction</span></span><span class=\"spark-nlp-display-others\" style=\"background-color: white\"> </span><span class=\"spark-nlp-display-entity-wrapper\" style=\"background-color: #8D100D\"><span class=\"spark-nlp-display-entity-name\">great toe </span><span class=\"spark-nlp-display-entity-type\">External_body_part_or_region</span></span><span class=\"spark-nlp-display-others\" style=\"background-color: white\">. </span><span class=\"spark-nlp-display-entity-wrapper\" style=\"background-color: #ffacb7\"><span class=\"spark-nlp-display-entity-name\">She </span><span class=\"spark-nlp-display-entity-type\">Gender</span></span><span class=\"spark-nlp-display-others\" style=\"background-color: white\"> was also noted to have a </span><span class=\"spark-nlp-display-entity-wrapper\" style=\"background-color: #8B475D\"><span class=\"spark-nlp-display-entity-name\">large </span><span class=\"spark-nlp-display-entity-type\">Modifier</span></span><span class=\"spark-nlp-display-others\" style=\"background-color: white\"> </span><span class=\"spark-nlp-display-entity-wrapper\" style=\"background-color: #47728A\"><span class=\"spark-nlp-display-entity-name\">sacral wound </span><span class=\"spark-nlp-display-entity-type\">Symptom</span></span><span class=\"spark-nlp-display-others\" style=\"background-color: white\">; this is in a similar location with </span><span class=\"spark-nlp-display-entity-wrapper\" style=\"background-color: #ffacb7\"><span class=\"spark-nlp-display-entity-name\">her </span><span class=\"spark-nlp-display-entity-type\">Gender</span></span><span class=\"spark-nlp-display-others\" style=\"background-color: white\"> previous </span><span class=\"spark-nlp-display-entity-wrapper\" style=\"background-color: #0D1B6A\"><span class=\"spark-nlp-display-entity-name\">laminectomy </span><span class=\"spark-nlp-display-entity-type\">Procedure</span></span><span class=\"spark-nlp-display-others\" style=\"background-color: white\">, and this continues to receive </span><span class=\"spark-nlp-display-entity-wrapper\" style=\"background-color: #738D3C\"><span class=\"spark-nlp-display-entity-name\">daily </span><span class=\"spark-nlp-display-entity-type\">Frequency</span></span><span class=\"spark-nlp-display-others\" style=\"background-color: white\"> care. The patient was transferred secondary to inability to participate in full physical and occupational </span><span class=\"spark-nlp-display-entity-wrapper\" style=\"background-color: #8b6673\"><span class=\"spark-nlp-display-entity-name\">therapy </span><span class=\"spark-nlp-display-entity-type\">Treatment</span></span><span class=\"spark-nlp-display-others\" style=\"background-color: white\"> and continue medical management of </span><span class=\"spark-nlp-display-entity-wrapper\" style=\"background-color: #ffacb7\"><span class=\"spark-nlp-display-entity-name\">her </span><span class=\"spark-nlp-display-entity-type\">Gender</span></span><span class=\"spark-nlp-display-others\" style=\"background-color: white\"> </span><span class=\"spark-nlp-display-entity-wrapper\" style=\"background-color: #48784B\"><span class=\"spark-nlp-display-entity-name\">diabetes </span><span class=\"spark-nlp-display-entity-type\">Diabetes</span></span><span class=\"spark-nlp-display-others\" style=\"background-color: white\">, the </span><span class=\"spark-nlp-display-entity-wrapper\" style=\"background-color: #C6B898\"><span class=\"spark-nlp-display-entity-name\">sacral decubitus </span><span class=\"spark-nlp-display-entity-type\">Disease_Syndrome_Disorder</span></span><span class=\"spark-nlp-display-others\" style=\"background-color: white\">, </span><span class=\"spark-nlp-display-entity-wrapper\" style=\"background-color: #0E2465\"><span class=\"spark-nlp-display-entity-name\">left </span><span class=\"spark-nlp-display-entity-type\">Direction</span></span><span class=\"spark-nlp-display-others\" style=\"background-color: white\"> </span><span class=\"spark-nlp-display-entity-wrapper\" style=\"background-color: #47728A\"><span class=\"spark-nlp-display-entity-name\">foot pressure wound </span><span class=\"spark-nlp-display-entity-type\">Symptom</span></span><span class=\"spark-nlp-display-others\" style=\"background-color: white\">, and associated complications of </span><span class=\"spark-nlp-display-entity-wrapper\" style=\"background-color: #48784B\"><span class=\"spark-nlp-display-entity-name\">diabetes </span><span class=\"spark-nlp-display-entity-type\">Diabetes</span></span><span class=\"spark-nlp-display-others\" style=\"background-color: white\">. </span><span class=\"spark-nlp-display-entity-wrapper\" style=\"background-color: #ffacb7\"><span class=\"spark-nlp-display-entity-name\">She </span><span class=\"spark-nlp-display-entity-type\">Gender</span></span><span class=\"spark-nlp-display-others\" style=\"background-color: white\"> is given </span><span class=\"spark-nlp-display-entity-wrapper\" style=\"background-color: #B45D3F\"><span class=\"spark-nlp-display-entity-name\">Fragmin </span><span class=\"spark-nlp-display-entity-type\">Drug_BrandName</span></span><span class=\"spark-nlp-display-others\" style=\"background-color: white\"> </span><span class=\"spark-nlp-display-entity-wrapper\" style=\"background-color: #79C178\"><span class=\"spark-nlp-display-entity-name\">5000 units </span><span class=\"spark-nlp-display-entity-type\">Dosage</span></span><span class=\"spark-nlp-display-others\" style=\"background-color: white\"> </span><span class=\"spark-nlp-display-entity-wrapper\" style=\"background-color: #2F385D\"><span class=\"spark-nlp-display-entity-name\">subcutaneously </span><span class=\"spark-nlp-display-entity-type\">Route</span></span><span class=\"spark-nlp-display-others\" style=\"background-color: white\"> </span><span class=\"spark-nlp-display-entity-wrapper\" style=\"background-color: #738D3C\"><span class=\"spark-nlp-display-entity-name\">daily </span><span class=\"spark-nlp-display-entity-type\">Frequency</span></span><span class=\"spark-nlp-display-others\" style=\"background-color: white\">, </span><span class=\"spark-nlp-display-entity-wrapper\" style=\"background-color: #B45D3F\"><span class=\"spark-nlp-display-entity-name\">Xenaderm </span><span class=\"spark-nlp-display-entity-type\">Drug_BrandName</span></span><span class=\"spark-nlp-display-others\" style=\"background-color: white\"> to </span><span class=\"spark-nlp-display-entity-wrapper\" style=\"background-color: #47728A\"><span class=\"spark-nlp-display-entity-name\">wounds </span><span class=\"spark-nlp-display-entity-type\">Symptom</span></span><span class=\"spark-nlp-display-others\" style=\"background-color: white\"> </span><span class=\"spark-nlp-display-entity-wrapper\" style=\"background-color: #2F385D\"><span class=\"spark-nlp-display-entity-name\">topically </span><span class=\"spark-nlp-display-entity-type\">Route</span></span><span class=\"spark-nlp-display-others\" style=\"background-color: white\"> b.i.d., </span><span class=\"spark-nlp-display-entity-wrapper\" style=\"background-color: #B45D3F\"><span class=\"spark-nlp-display-entity-name\">Lantus </span><span class=\"spark-nlp-display-entity-type\">Drug_BrandName</span></span><span class=\"spark-nlp-display-others\" style=\"background-color: white\"> </span><span class=\"spark-nlp-display-entity-wrapper\" style=\"background-color: #79C178\"><span class=\"spark-nlp-display-entity-name\">40 units </span><span class=\"spark-nlp-display-entity-type\">Dosage</span></span><span class=\"spark-nlp-display-others\" style=\"background-color: white\"> </span><span class=\"spark-nlp-display-entity-wrapper\" style=\"background-color: #2F385D\"><span class=\"spark-nlp-display-entity-name\">subcutaneously </span><span class=\"spark-nlp-display-entity-type\">Route</span></span><span class=\"spark-nlp-display-others\" style=\"background-color: white\"> </span><span class=\"spark-nlp-display-entity-wrapper\" style=\"background-color: #738D3C\"><span class=\"spark-nlp-display-entity-name\">at bedtime </span><span class=\"spark-nlp-display-entity-type\">Frequency</span></span><span class=\"spark-nlp-display-others\" style=\"background-color: white\">, </span><span class=\"spark-nlp-display-entity-wrapper\" style=\"background-color: #B45D3F\"><span class=\"spark-nlp-display-entity-name\">OxyContin </span><span class=\"spark-nlp-display-entity-type\">Drug_BrandName</span></span><span class=\"spark-nlp-display-others\" style=\"background-color: white\"> </span><span class=\"spark-nlp-display-entity-wrapper\" style=\"background-color: #C023A4\"><span class=\"spark-nlp-display-entity-name\">30 mg </span><span class=\"spark-nlp-display-entity-type\">Strength</span></span><span class=\"spark-nlp-display-others\" style=\"background-color: white\"> </span><span class=\"spark-nlp-display-entity-wrapper\" style=\"background-color: #2F385D\"><span class=\"spark-nlp-display-entity-name\">p.o. </span><span class=\"spark-nlp-display-entity-type\">Route</span></span><span class=\"spark-nlp-display-others\" style=\"background-color: white\"> </span><span class=\"spark-nlp-display-entity-wrapper\" style=\"background-color: #738D3C\"><span class=\"spark-nlp-display-entity-name\">q.12 h </span><span class=\"spark-nlp-display-entity-type\">Frequency</span></span><span class=\"spark-nlp-display-others\" style=\"background-color: white\">., </span><span class=\"spark-nlp-display-entity-wrapper\" style=\"background-color: #763379\"><span class=\"spark-nlp-display-entity-name\">folic acid </span><span class=\"spark-nlp-display-entity-type\">Drug_Ingredient</span></span><span class=\"spark-nlp-display-others\" style=\"background-color: white\"> </span><span class=\"spark-nlp-display-entity-wrapper\" style=\"background-color: #C023A4\"><span class=\"spark-nlp-display-entity-name\">1 mg </span><span class=\"spark-nlp-display-entity-type\">Strength</span></span><span class=\"spark-nlp-display-others\" style=\"background-color: white\"> </span><span class=\"spark-nlp-display-entity-wrapper\" style=\"background-color: #738D3C\"><span class=\"spark-nlp-display-entity-name\">daily </span><span class=\"spark-nlp-display-entity-type\">Frequency</span></span><span class=\"spark-nlp-display-others\" style=\"background-color: white\">, </span><span class=\"spark-nlp-display-entity-wrapper\" style=\"background-color: #763379\"><span class=\"spark-nlp-display-entity-name\">levothyroxine </span><span class=\"spark-nlp-display-entity-type\">Drug_Ingredient</span></span><span class=\"spark-nlp-display-others\" style=\"background-color: white\"> </span><span class=\"spark-nlp-display-entity-wrapper\" style=\"background-color: #C023A4\"><span class=\"spark-nlp-display-entity-name\">0.1 mg </span><span class=\"spark-nlp-display-entity-type\">Strength</span></span><span class=\"spark-nlp-display-others\" style=\"background-color: white\"> </span><span class=\"spark-nlp-display-entity-wrapper\" style=\"background-color: #2F385D\"><span class=\"spark-nlp-display-entity-name\">p.o. </span><span class=\"spark-nlp-display-entity-type\">Route</span></span><span class=\"spark-nlp-display-others\" style=\"background-color: white\"> </span><span class=\"spark-nlp-display-entity-wrapper\" style=\"background-color: #738D3C\"><span class=\"spark-nlp-display-entity-name\">daily </span><span class=\"spark-nlp-display-entity-type\">Frequency</span></span><span class=\"spark-nlp-display-others\" style=\"background-color: white\">, </span><span class=\"spark-nlp-display-entity-wrapper\" style=\"background-color: #B45D3F\"><span class=\"spark-nlp-display-entity-name\">Prevacid </span><span class=\"spark-nlp-display-entity-type\">Drug_BrandName</span></span><span class=\"spark-nlp-display-others\" style=\"background-color: white\"> </span><span class=\"spark-nlp-display-entity-wrapper\" style=\"background-color: #C023A4\"><span class=\"spark-nlp-display-entity-name\">30 mg </span><span class=\"spark-nlp-display-entity-type\">Strength</span></span><span class=\"spark-nlp-display-others\" style=\"background-color: white\"> </span><span class=\"spark-nlp-display-entity-wrapper\" style=\"background-color: #738D3C\"><span class=\"spark-nlp-display-entity-name\">daily </span><span class=\"spark-nlp-display-entity-type\">Frequency</span></span><span class=\"spark-nlp-display-others\" style=\"background-color: white\">, </span><span class=\"spark-nlp-display-entity-wrapper\" style=\"background-color: #B45D3F\"><span class=\"spark-nlp-display-entity-name\">Avandia </span><span class=\"spark-nlp-display-entity-type\">Drug_BrandName</span></span><span class=\"spark-nlp-display-others\" style=\"background-color: white\"> </span><span class=\"spark-nlp-display-entity-wrapper\" style=\"background-color: #C023A4\"><span class=\"spark-nlp-display-entity-name\">4 mg </span><span class=\"spark-nlp-display-entity-type\">Strength</span></span><span class=\"spark-nlp-display-others\" style=\"background-color: white\"> </span><span class=\"spark-nlp-display-entity-wrapper\" style=\"background-color: #738D3C\"><span class=\"spark-nlp-display-entity-name\">daily </span><span class=\"spark-nlp-display-entity-type\">Frequency</span></span><span class=\"spark-nlp-display-others\" style=\"background-color: white\">, </span><span class=\"spark-nlp-display-entity-wrapper\" style=\"background-color: #B45D3F\"><span class=\"spark-nlp-display-entity-name\">Norvasc </span><span class=\"spark-nlp-display-entity-type\">Drug_BrandName</span></span><span class=\"spark-nlp-display-others\" style=\"background-color: white\"> </span><span class=\"spark-nlp-display-entity-wrapper\" style=\"background-color: #C023A4\"><span class=\"spark-nlp-display-entity-name\">10 mg </span><span class=\"spark-nlp-display-entity-type\">Strength</span></span><span class=\"spark-nlp-display-others\" style=\"background-color: white\"> </span><span class=\"spark-nlp-display-entity-wrapper\" style=\"background-color: #738D3C\"><span class=\"spark-nlp-display-entity-name\">daily </span><span class=\"spark-nlp-display-entity-type\">Frequency</span></span><span class=\"spark-nlp-display-others\" style=\"background-color: white\">, </span><span class=\"spark-nlp-display-entity-wrapper\" style=\"background-color: #B45D3F\"><span class=\"spark-nlp-display-entity-name\">Lexapro </span><span class=\"spark-nlp-display-entity-type\">Drug_BrandName</span></span><span class=\"spark-nlp-display-others\" style=\"background-color: white\"> </span><span class=\"spark-nlp-display-entity-wrapper\" style=\"background-color: #C023A4\"><span class=\"spark-nlp-display-entity-name\">20 mg </span><span class=\"spark-nlp-display-entity-type\">Strength</span></span><span class=\"spark-nlp-display-others\" style=\"background-color: white\"> </span><span class=\"spark-nlp-display-entity-wrapper\" style=\"background-color: #738D3C\"><span class=\"spark-nlp-display-entity-name\">daily </span><span class=\"spark-nlp-display-entity-type\">Frequency</span></span><span class=\"spark-nlp-display-others\" style=\"background-color: white\">, </span><span class=\"spark-nlp-display-entity-wrapper\" style=\"background-color: #763379\"><span class=\"spark-nlp-display-entity-name\">aspirin </span><span class=\"spark-nlp-display-entity-type\">Drug_Ingredient</span></span><span class=\"spark-nlp-display-others\" style=\"background-color: white\"> </span><span class=\"spark-nlp-display-entity-wrapper\" style=\"background-color: #C023A4\"><span class=\"spark-nlp-display-entity-name\">81 mg </span><span class=\"spark-nlp-display-entity-type\">Strength</span></span><span class=\"spark-nlp-display-others\" style=\"background-color: white\"> </span><span class=\"spark-nlp-display-entity-wrapper\" style=\"background-color: #738D3C\"><span class=\"spark-nlp-display-entity-name\">daily </span><span class=\"spark-nlp-display-entity-type\">Frequency</span></span><span class=\"spark-nlp-display-others\" style=\"background-color: white\">, </span><span class=\"spark-nlp-display-entity-wrapper\" style=\"background-color: #B45D3F\"><span class=\"spark-nlp-display-entity-name\">Senna </span><span class=\"spark-nlp-display-entity-type\">Drug_BrandName</span></span><span class=\"spark-nlp-display-others\" style=\"background-color: white\"> </span><span class=\"spark-nlp-display-entity-wrapper\" style=\"background-color: #79C178\"><span class=\"spark-nlp-display-entity-name\">2 </span><span class=\"spark-nlp-display-entity-type\">Dosage</span></span><span class=\"spark-nlp-display-others\" style=\"background-color: white\"> </span><span class=\"spark-nlp-display-entity-wrapper\" style=\"background-color: #C62915\"><span class=\"spark-nlp-display-entity-name\">tablets </span><span class=\"spark-nlp-display-entity-type\">Form</span></span><span class=\"spark-nlp-display-others\" style=\"background-color: white\"> </span><span class=\"spark-nlp-display-entity-wrapper\" style=\"background-color: #2F385D\"><span class=\"spark-nlp-display-entity-name\">p.o. q.a.m </span><span class=\"spark-nlp-display-entity-type\">Route</span></span><span class=\"spark-nlp-display-others\" style=\"background-color: white\">., </span><span class=\"spark-nlp-display-entity-wrapper\" style=\"background-color: #B45D3F\"><span class=\"spark-nlp-display-entity-name\">Neurontin </span><span class=\"spark-nlp-display-entity-type\">Drug_BrandName</span></span><span class=\"spark-nlp-display-others\" style=\"background-color: white\"> </span><span class=\"spark-nlp-display-entity-wrapper\" style=\"background-color: #C023A4\"><span class=\"spark-nlp-display-entity-name\">400 mg </span><span class=\"spark-nlp-display-entity-type\">Strength</span></span><span class=\"spark-nlp-display-others\" style=\"background-color: white\"> </span><span class=\"spark-nlp-display-entity-wrapper\" style=\"background-color: #2F385D\"><span class=\"spark-nlp-display-entity-name\">p.o. t.i.d </span><span class=\"spark-nlp-display-entity-type\">Route</span></span><span class=\"spark-nlp-display-others\" style=\"background-color: white\">., </span><span class=\"spark-nlp-display-entity-wrapper\" style=\"background-color: #B45D3F\"><span class=\"spark-nlp-display-entity-name\">Percocet </span><span class=\"spark-nlp-display-entity-type\">Drug_BrandName</span></span><span class=\"spark-nlp-display-others\" style=\"background-color: white\"> </span><span class=\"spark-nlp-display-entity-wrapper\" style=\"background-color: #C023A4\"><span class=\"spark-nlp-display-entity-name\">5/325 mg </span><span class=\"spark-nlp-display-entity-type\">Strength</span></span><span class=\"spark-nlp-display-others\" style=\"background-color: white\"> </span><span class=\"spark-nlp-display-entity-wrapper\" style=\"background-color: #79C178\"><span class=\"spark-nlp-display-entity-name\">2 </span><span class=\"spark-nlp-display-entity-type\">Dosage</span></span><span class=\"spark-nlp-display-others\" style=\"background-color: white\"> </span><span class=\"spark-nlp-display-entity-wrapper\" style=\"background-color: #C62915\"><span class=\"spark-nlp-display-entity-name\">tablets </span><span class=\"spark-nlp-display-entity-type\">Form</span></span><span class=\"spark-nlp-display-others\" style=\"background-color: white\"> </span><span class=\"spark-nlp-display-entity-wrapper\" style=\"background-color: #738D3C\"><span class=\"spark-nlp-display-entity-name\">q.4 h. </span><span class=\"spark-nlp-display-entity-type\">Frequency</span></span><span class=\"spark-nlp-display-others\" style=\"background-color: white\"> </span><span class=\"spark-nlp-display-entity-wrapper\" style=\"background-color: #738D3C\"><span class=\"spark-nlp-display-entity-name\">p.r.n </span><span class=\"spark-nlp-display-entity-type\">Frequency</span></span><span class=\"spark-nlp-display-others\" style=\"background-color: white\">., </span><span class=\"spark-nlp-display-entity-wrapper\" style=\"background-color: #763379\"><span class=\"spark-nlp-display-entity-name\">magnesium citrate </span><span class=\"spark-nlp-display-entity-type\">Drug_Ingredient</span></span><span class=\"spark-nlp-display-others\" style=\"background-color: white\"> </span><span class=\"spark-nlp-display-entity-wrapper\" style=\"background-color: #79C178\"><span class=\"spark-nlp-display-entity-name\">1 bottle </span><span class=\"spark-nlp-display-entity-type\">Dosage</span></span><span class=\"spark-nlp-display-others\" style=\"background-color: white\"> </span><span class=\"spark-nlp-display-entity-wrapper\" style=\"background-color: #2F385D\"><span class=\"spark-nlp-display-entity-name\">p.o. p.r.n </span><span class=\"spark-nlp-display-entity-type\">Route</span></span><span class=\"spark-nlp-display-others\" style=\"background-color: white\">., </span><span class=\"spark-nlp-display-entity-wrapper\" style=\"background-color: #79C178\"><span class=\"spark-nlp-display-entity-name\">sliding scale </span><span class=\"spark-nlp-display-entity-type\">Dosage</span></span><span class=\"spark-nlp-display-others\" style=\"background-color: white\"> coverage </span><span class=\"spark-nlp-display-entity-wrapper\" style=\"background-color: #763379\"><span class=\"spark-nlp-display-entity-name\">insulin </span><span class=\"spark-nlp-display-entity-type\">Drug_Ingredient</span></span><span class=\"spark-nlp-display-others\" style=\"background-color: white\">, </span><span class=\"spark-nlp-display-entity-wrapper\" style=\"background-color: #B45D3F\"><span class=\"spark-nlp-display-entity-name\">Wellbutrin </span><span class=\"spark-nlp-display-entity-type\">Drug_BrandName</span></span><span class=\"spark-nlp-display-others\" style=\"background-color: white\"> </span><span class=\"spark-nlp-display-entity-wrapper\" style=\"background-color: #C023A4\"><span class=\"spark-nlp-display-entity-name\">100 mg </span><span class=\"spark-nlp-display-entity-type\">Strength</span></span><span class=\"spark-nlp-display-others\" style=\"background-color: white\"> </span><span class=\"spark-nlp-display-entity-wrapper\" style=\"background-color: #2F385D\"><span class=\"spark-nlp-display-entity-name\">p.o. </span><span class=\"spark-nlp-display-entity-type\">Route</span></span><span class=\"spark-nlp-display-others\" style=\"background-color: white\"> </span><span class=\"spark-nlp-display-entity-wrapper\" style=\"background-color: #738D3C\"><span class=\"spark-nlp-display-entity-name\">daily </span><span class=\"spark-nlp-display-entity-type\">Frequency</span></span><span class=\"spark-nlp-display-others\" style=\"background-color: white\">, and </span><span class=\"spark-nlp-display-entity-wrapper\" style=\"background-color: #B45D3F\"><span class=\"spark-nlp-display-entity-name\">Bactrim DS </span><span class=\"spark-nlp-display-entity-type\">Drug_BrandName</span></span><span class=\"spark-nlp-display-others\" style=\"background-color: white\"> </span><span class=\"spark-nlp-display-entity-wrapper\" style=\"background-color: #738D3C\"><span class=\"spark-nlp-display-entity-name\">b.i.d </span><span class=\"spark-nlp-display-entity-type\">Frequency</span></span><span class=\"spark-nlp-display-others\" style=\"background-color: white\">.</span></div>"
            ],
            "text/plain": [
              "<IPython.core.display.HTML object>"
            ]
          },
          "metadata": {}
        },
        {
          "output_type": "stream",
          "name": "stdout",
          "text": [
            "sentence_detector_dl download started this may take some time.\n",
            "Approximate size to download 354.6 KB\n",
            "[OK!]\n",
            "bert_token_classifier_ner_drugs download started this may take some time.\n",
            "Approximate size to download 385.3 MB\n",
            "[OK!]\n",
            "+-----------------+---------+\n",
            "|chunk            |ner_label|\n",
            "+-----------------+---------+\n",
            "|potassium        |DrugChem |\n",
            "|nucleotide       |DrugChem |\n",
            "|anthracyclines   |DrugChem |\n",
            "|taxanes          |DrugChem |\n",
            "|vinorelbine      |DrugChem |\n",
            "|vinorelbine      |DrugChem |\n",
            "|anthracyclines   |DrugChem |\n",
            "|taxanes          |DrugChem |\n",
            "|aspirin          |DrugChem |\n",
            "|paracetamol      |DrugChem |\n",
            "|paracetamol      |DrugChem |\n",
            "|mesalazine       |DrugChem |\n",
            "|rehydration salts|DrugChem |\n",
            "+-----------------+---------+\n",
            "\n"
          ]
        },
        {
          "output_type": "display_data",
          "data": {
            "text/html": [
              "\n",
              "<style>\n",
              "    @import url('https://fonts.googleapis.com/css2?family=Montserrat:wght@300;400;500;600;700&display=swap');\n",
              "    @import url('https://fonts.googleapis.com/css2?family=Vistol Regular:wght@300;400;500;600;700&display=swap');\n",
              "    \n",
              "    .spark-nlp-display-scroll-entities {\n",
              "        border: 1px solid #E7EDF0;\n",
              "        border-radius: 3px;\n",
              "        text-align: justify;\n",
              "        \n",
              "    }\n",
              "    .spark-nlp-display-scroll-entities span {  \n",
              "        font-size: 14px;\n",
              "        line-height: 24px;\n",
              "        color: #536B76;\n",
              "        font-family: 'Montserrat', sans-serif !important;\n",
              "    }\n",
              "    \n",
              "    .spark-nlp-display-entity-wrapper{\n",
              "    \n",
              "        display: inline-grid;\n",
              "        text-align: center;\n",
              "        border-radius: 4px;\n",
              "        margin: 0 2px 5px 2px;\n",
              "        padding: 1px\n",
              "    }\n",
              "    .spark-nlp-display-entity-name{\n",
              "        font-size: 14px;\n",
              "        line-height: 24px;\n",
              "        font-family: 'Montserrat', sans-serif !important;\n",
              "        \n",
              "        background: #f1f2f3;\n",
              "        border-width: medium;\n",
              "        text-align: center;\n",
              "        \n",
              "        font-weight: 400;\n",
              "        \n",
              "        border-radius: 5px;\n",
              "        padding: 2px 5px;\n",
              "        display: block;\n",
              "        margin: 3px 2px;\n",
              "    \n",
              "    }\n",
              "    .spark-nlp-display-entity-type{\n",
              "        font-size: 14px;\n",
              "        line-height: 24px;\n",
              "        color: #ffffff;\n",
              "        font-family: 'Montserrat', sans-serif !important;\n",
              "        \n",
              "        text-transform: uppercase;\n",
              "        \n",
              "        font-weight: 500;\n",
              "\n",
              "        display: block;\n",
              "        padding: 3px 5px;\n",
              "    }\n",
              "    \n",
              "    .spark-nlp-display-entity-resolution{\n",
              "        font-size: 14px;\n",
              "        line-height: 24px;\n",
              "        color: #ffffff;\n",
              "        font-family: 'Vistol Regular', sans-serif !important;\n",
              "        \n",
              "        text-transform: uppercase;\n",
              "        \n",
              "        font-weight: 500;\n",
              "\n",
              "        display: block;\n",
              "        padding: 3px 5px;\n",
              "    }\n",
              "    \n",
              "    .spark-nlp-display-others{\n",
              "        font-size: 14px;\n",
              "        line-height: 24px;\n",
              "        font-family: 'Montserrat', sans-serif !important;\n",
              "        \n",
              "        font-weight: 400;\n",
              "    }\n",
              "\n",
              "</style>\n",
              " <span class=\"spark-nlp-display-others\" style=\"background-color: white\">The human KCNJ9 (Kir 3.3, GIRK3) is a member of the G-protein-activated inwardly rectifying </span><span class=\"spark-nlp-display-entity-wrapper\" style=\"background-color: #098CC7\"><span class=\"spark-nlp-display-entity-name\">potassium </span><span class=\"spark-nlp-display-entity-type\">DrugChem</span></span><span class=\"spark-nlp-display-others\" style=\"background-color: white\"> (GIRK) channel family. Here we describe the genomicorganization of the KCNJ9 locus on chromosome 1q21-23 as a candidate gene forType II diabetes mellitus in the Pima Indian population. The gene spansapproximately 7.6 kb and contains one noncoding and two coding exons separated byapproximately 2.2 and approximately 2.6 kb introns, respectively. We identified14 single </span><span class=\"spark-nlp-display-entity-wrapper\" style=\"background-color: #098CC7\"><span class=\"spark-nlp-display-entity-name\">nucleotide </span><span class=\"spark-nlp-display-entity-type\">DrugChem</span></span><span class=\"spark-nlp-display-others\" style=\"background-color: white\"> polymorphisms (SNPs), including one that predicts aVal366Ala substitution, and an 8 base-pair (bp) insertion/deletion. Ourexpression studies revealed the presence of the transcript in various humantissues including pancreas, and two major insulin-responsive tissues: fat andskeletal muscle. The characterization of the KCNJ9 gene should facilitate furtherstudies on the function of the KCNJ9 protein and allow evaluation of thepotential role of the locus in Type II diabetes.BACKGROUND: At present, it is one of the most important issues for the treatment of breast cancer to develop the standard therapy for patients previously treated with </span><span class=\"spark-nlp-display-entity-wrapper\" style=\"background-color: #098CC7\"><span class=\"spark-nlp-display-entity-name\">anthracyclines </span><span class=\"spark-nlp-display-entity-type\">DrugChem</span></span><span class=\"spark-nlp-display-others\" style=\"background-color: white\"> and </span><span class=\"spark-nlp-display-entity-wrapper\" style=\"background-color: #098CC7\"><span class=\"spark-nlp-display-entity-name\">taxanes </span><span class=\"spark-nlp-display-entity-type\">DrugChem</span></span><span class=\"spark-nlp-display-others\" style=\"background-color: white\">. With the objective of determining the usefulnessof </span><span class=\"spark-nlp-display-entity-wrapper\" style=\"background-color: #098CC7\"><span class=\"spark-nlp-display-entity-name\">vinorelbine </span><span class=\"spark-nlp-display-entity-type\">DrugChem</span></span><span class=\"spark-nlp-display-others\" style=\"background-color: white\"> monotherapy in patients with advanced or recurrent breast cancerafter standard therapy, we evaluated the efficacy and safety of </span><span class=\"spark-nlp-display-entity-wrapper\" style=\"background-color: #098CC7\"><span class=\"spark-nlp-display-entity-name\">vinorelbine </span><span class=\"spark-nlp-display-entity-type\">DrugChem</span></span><span class=\"spark-nlp-display-others\" style=\"background-color: white\"> inpatients previously treated with </span><span class=\"spark-nlp-display-entity-wrapper\" style=\"background-color: #098CC7\"><span class=\"spark-nlp-display-entity-name\">anthracyclines </span><span class=\"spark-nlp-display-entity-type\">DrugChem</span></span><span class=\"spark-nlp-display-others\" style=\"background-color: white\"> and </span><span class=\"spark-nlp-display-entity-wrapper\" style=\"background-color: #098CC7\"><span class=\"spark-nlp-display-entity-name\">taxanes </span><span class=\"spark-nlp-display-entity-type\">DrugChem</span></span><span class=\"spark-nlp-display-others\" style=\"background-color: white\">.</span></div>"
            ],
            "text/plain": [
              "<IPython.core.display.HTML object>"
            ]
          },
          "metadata": {}
        },
        {
          "output_type": "stream",
          "name": "stdout",
          "text": [
            "sentence_detector_dl download started this may take some time.\n",
            "Approximate size to download 354.6 KB\n",
            "[OK!]\n",
            "bert_token_classifier_ner_deid download started this may take some time.\n",
            "Approximate size to download 385.4 MB\n",
            "[OK!]\n",
            "+-------------------+---------+\n",
            "|chunk              |ner_label|\n",
            "+-------------------+---------+\n",
            "|Smith              |PATIENT  |\n",
            "|60-year-old        |AGE      |\n",
            "|VA Hospital        |HOSPITAL |\n",
            "|Day Hospital       |HOSPITAL |\n",
            "|02/04/2003         |DATE     |\n",
            "|Smith              |PATIENT  |\n",
            "|Day Hospital       |HOSPITAL |\n",
            "|Smith              |PATIENT  |\n",
            "|Smith              |PATIENT  |\n",
            "|7 Ardmore Tower    |STREET   |\n",
            "|Hart               |DOCTOR   |\n",
            "|Smith              |PATIENT  |\n",
            "|02/07/2003         |DATE     |\n",
            "|Alta View          |HOSPITAL |\n",
            "|August 10          |DATE     |\n",
            "|August 11          |DATE     |\n",
            "|Cottonwood Hospital|HOSPITAL |\n",
            "|Cottonwood         |HOSPITAL |\n",
            "|XYZ                |DOCTOR   |\n",
            "|XYZ                |DOCTOR   |\n",
            "+-------------------+---------+\n",
            "only showing top 20 rows\n",
            "\n"
          ]
        },
        {
          "output_type": "display_data",
          "data": {
            "text/html": [
              "\n",
              "<style>\n",
              "    @import url('https://fonts.googleapis.com/css2?family=Montserrat:wght@300;400;500;600;700&display=swap');\n",
              "    @import url('https://fonts.googleapis.com/css2?family=Vistol Regular:wght@300;400;500;600;700&display=swap');\n",
              "    \n",
              "    .spark-nlp-display-scroll-entities {\n",
              "        border: 1px solid #E7EDF0;\n",
              "        border-radius: 3px;\n",
              "        text-align: justify;\n",
              "        \n",
              "    }\n",
              "    .spark-nlp-display-scroll-entities span {  \n",
              "        font-size: 14px;\n",
              "        line-height: 24px;\n",
              "        color: #536B76;\n",
              "        font-family: 'Montserrat', sans-serif !important;\n",
              "    }\n",
              "    \n",
              "    .spark-nlp-display-entity-wrapper{\n",
              "    \n",
              "        display: inline-grid;\n",
              "        text-align: center;\n",
              "        border-radius: 4px;\n",
              "        margin: 0 2px 5px 2px;\n",
              "        padding: 1px\n",
              "    }\n",
              "    .spark-nlp-display-entity-name{\n",
              "        font-size: 14px;\n",
              "        line-height: 24px;\n",
              "        font-family: 'Montserrat', sans-serif !important;\n",
              "        \n",
              "        background: #f1f2f3;\n",
              "        border-width: medium;\n",
              "        text-align: center;\n",
              "        \n",
              "        font-weight: 400;\n",
              "        \n",
              "        border-radius: 5px;\n",
              "        padding: 2px 5px;\n",
              "        display: block;\n",
              "        margin: 3px 2px;\n",
              "    \n",
              "    }\n",
              "    .spark-nlp-display-entity-type{\n",
              "        font-size: 14px;\n",
              "        line-height: 24px;\n",
              "        color: #ffffff;\n",
              "        font-family: 'Montserrat', sans-serif !important;\n",
              "        \n",
              "        text-transform: uppercase;\n",
              "        \n",
              "        font-weight: 500;\n",
              "\n",
              "        display: block;\n",
              "        padding: 3px 5px;\n",
              "    }\n",
              "    \n",
              "    .spark-nlp-display-entity-resolution{\n",
              "        font-size: 14px;\n",
              "        line-height: 24px;\n",
              "        color: #ffffff;\n",
              "        font-family: 'Vistol Regular', sans-serif !important;\n",
              "        \n",
              "        text-transform: uppercase;\n",
              "        \n",
              "        font-weight: 500;\n",
              "\n",
              "        display: block;\n",
              "        padding: 3px 5px;\n",
              "    }\n",
              "    \n",
              "    .spark-nlp-display-others{\n",
              "        font-size: 14px;\n",
              "        line-height: 24px;\n",
              "        font-family: 'Montserrat', sans-serif !important;\n",
              "        \n",
              "        font-weight: 400;\n",
              "    }\n",
              "\n",
              "</style>\n",
              " <span class=\"spark-nlp-display-others\" style=\"background-color: white\">HISTORY OF PRESENT ILLNESS: Mr. </span><span class=\"spark-nlp-display-entity-wrapper\" style=\"background-color: #2169B0\"><span class=\"spark-nlp-display-entity-name\">Smith </span><span class=\"spark-nlp-display-entity-type\">PATIENT</span></span><span class=\"spark-nlp-display-others\" style=\"background-color: white\"> is a </span><span class=\"spark-nlp-display-entity-wrapper\" style=\"background-color: #ffe0ac\"><span class=\"spark-nlp-display-entity-name\">60-year-old </span><span class=\"spark-nlp-display-entity-type\">AGE</span></span><span class=\"spark-nlp-display-others\" style=\"background-color: white\"> white male veteran with multiple comorbidities, who has a history of bladder cancer diagnosed approximately two years ago by the </span><span class=\"spark-nlp-display-entity-wrapper\" style=\"background-color: #BF3C5F\"><span class=\"spark-nlp-display-entity-name\">VA Hospital </span><span class=\"spark-nlp-display-entity-type\">HOSPITAL</span></span><span class=\"spark-nlp-display-others\" style=\"background-color: white\">. He underwent a resection there. He was to be admitted to the </span><span class=\"spark-nlp-display-entity-wrapper\" style=\"background-color: #BF3C5F\"><span class=\"spark-nlp-display-entity-name\">Day Hospital </span><span class=\"spark-nlp-display-entity-type\">HOSPITAL</span></span><span class=\"spark-nlp-display-others\" style=\"background-color: white\"> for cystectomy. He was seen in Urology Clinic and Radiology Clinic on </span><span class=\"spark-nlp-display-entity-wrapper\" style=\"background-color: #a6b1e1\"><span class=\"spark-nlp-display-entity-name\">02/04/2003 </span><span class=\"spark-nlp-display-entity-type\">DATE</span></span><span class=\"spark-nlp-display-others\" style=\"background-color: white\">.<br><br>HOSPITAL COURSE: Mr. </span><span class=\"spark-nlp-display-entity-wrapper\" style=\"background-color: #2169B0\"><span class=\"spark-nlp-display-entity-name\">Smith </span><span class=\"spark-nlp-display-entity-type\">PATIENT</span></span><span class=\"spark-nlp-display-others\" style=\"background-color: white\"> presented to the </span><span class=\"spark-nlp-display-entity-wrapper\" style=\"background-color: #BF3C5F\"><span class=\"spark-nlp-display-entity-name\">Day Hospital </span><span class=\"spark-nlp-display-entity-type\">HOSPITAL</span></span><span class=\"spark-nlp-display-others\" style=\"background-color: white\"> in anticipation for Urology surgery. On evaluation, EKG, echocardiogram was abnormal, a Cardiology consult was obtained. A cardiac adenosine stress MRI was then proceeded, same was positive for inducible ischemia, mild-to-moderate inferolateral subendocardial infarction with peri-infarct ischemia. In addition, inducible ischemia seen in the inferior lateral septum. Mr. </span><span class=\"spark-nlp-display-entity-wrapper\" style=\"background-color: #2169B0\"><span class=\"spark-nlp-display-entity-name\">Smith </span><span class=\"spark-nlp-display-entity-type\">PATIENT</span></span><span class=\"spark-nlp-display-others\" style=\"background-color: white\"> underwent a left heart catheterization, which revealed two vessel coronary artery disease. The RCA, proximal was 95% stenosed and the distal 80% stenosed. The mid LAD was 85% stenosed and the distal LAD was 85% stenosed. There was four Multi-Link Vision bare metal stents placed to decrease all four lesions to 0%. Following intervention, Mr. </span><span class=\"spark-nlp-display-entity-wrapper\" style=\"background-color: #2169B0\"><span class=\"spark-nlp-display-entity-name\">Smith </span><span class=\"spark-nlp-display-entity-type\">PATIENT</span></span><span class=\"spark-nlp-display-others\" style=\"background-color: white\"> was admitted to </span><span class=\"spark-nlp-display-entity-wrapper\" style=\"background-color: #2DC02B\"><span class=\"spark-nlp-display-entity-name\">7 Ardmore Tower </span><span class=\"spark-nlp-display-entity-type\">STREET</span></span><span class=\"spark-nlp-display-others\" style=\"background-color: white\"> under Cardiology Service under the direction of Dr. </span><span class=\"spark-nlp-display-entity-wrapper\" style=\"background-color: #92346C\"><span class=\"spark-nlp-display-entity-name\">Hart </span><span class=\"spark-nlp-display-entity-type\">DOCTOR</span></span><span class=\"spark-nlp-display-others\" style=\"background-color: white\">. Mr. </span><span class=\"spark-nlp-display-entity-wrapper\" style=\"background-color: #2169B0\"><span class=\"spark-nlp-display-entity-name\">Smith </span><span class=\"spark-nlp-display-entity-type\">PATIENT</span></span><span class=\"spark-nlp-display-others\" style=\"background-color: white\"> had a noncomplicated post-intervention hospital course. He was stable for discharge home on </span><span class=\"spark-nlp-display-entity-wrapper\" style=\"background-color: #a6b1e1\"><span class=\"spark-nlp-display-entity-name\">02/07/2003 </span><span class=\"spark-nlp-display-entity-type\">DATE</span></span><span class=\"spark-nlp-display-others\" style=\"background-color: white\"> with instructions to take Plavix daily for one month and Urology is aware of the same.</span></div>"
            ],
            "text/plain": [
              "<IPython.core.display.HTML object>"
            ]
          },
          "metadata": {}
        }
      ]
    },
    {
      "cell_type": "markdown",
      "metadata": {
        "id": "AYdvK676u-G8"
      },
      "source": [
        "## Running the Streamlit App"
      ]
    },
    {
      "cell_type": "code",
      "metadata": {
        "colab": {
          "base_uri": "https://localhost:8080/"
        },
        "id": "g2Ov7FPZpzYX",
        "outputId": "83179712-af8b-4849-8920-a9395de73c34"
      },
      "source": [
        "%cd /content/\n",
        "get_ipython().system_raw('./ngrok http 8501 &')\n",
        "! curl -s http://localhost:4040/api/tunnels | python3 -c \\\n",
        "    \"import sys, json; print(json.load(sys.stdin)['tunnels'][0]['public_url'])\"\n"
      ],
      "execution_count": null,
      "outputs": [
        {
          "name": "stdout",
          "output_type": "stream",
          "text": [
            "/content\n",
            "Traceback (most recent call last):\n",
            "  File \"<string>\", line 1, in <module>\n",
            "  File \"/usr/lib/python3.6/json/__init__.py\", line 299, in load\n",
            "    parse_constant=parse_constant, object_pairs_hook=object_pairs_hook, **kw)\n",
            "  File \"/usr/lib/python3.6/json/__init__.py\", line 354, in loads\n",
            "    return _default_decoder.decode(s)\n",
            "  File \"/usr/lib/python3.6/json/decoder.py\", line 339, in decode\n",
            "    obj, end = self.raw_decode(s, idx=_w(s, 0).end())\n",
            "  File \"/usr/lib/python3.6/json/decoder.py\", line 357, in raw_decode\n",
            "    raise JSONDecodeError(\"Expecting value\", s, err.value) from None\n",
            "json.decoder.JSONDecodeError: Expecting value: line 1 column 1 (char 0)\n"
          ]
        }
      ]
    },
    {
      "cell_type": "code",
      "metadata": {
        "id": "RNQP4gqPp0Hk"
      },
      "source": [
        "%cd /content/streamlit-demo-apps/healthcare/NER_POSOLOGY\n",
        "! streamlit run streamlit_app.py"
      ],
      "execution_count": null,
      "outputs": []
    },
    {
      "cell_type": "code",
      "metadata": {
        "id": "7qvbuG4XwUai"
      },
      "source": [
        "!ps aux | grep \"streamli\""
      ],
      "execution_count": null,
      "outputs": []
    },
    {
      "cell_type": "code",
      "metadata": {
        "id": "uyYwsajYwdEf"
      },
      "source": [
        "!kill -9 2389"
      ],
      "execution_count": null,
      "outputs": []
    }
  ]
}