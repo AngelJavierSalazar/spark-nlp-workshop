{
  "nbformat": 4,
  "nbformat_minor": 0,
  "metadata": {
    "colab": {
      "name": "ER_ICD10_PCS.ipynb",
      "provenance": [],
      "collapsed_sections": [],
      "toc_visible": true
    },
    "kernelspec": {
      "name": "python3",
      "display_name": "Python 3"
    }
  },
  "cells": [
    {
      "cell_type": "markdown",
      "metadata": {
        "id": "TA21Jo5d9SVq"
      },
      "source": [
        "\n",
        "\n",
        "![JohnSnowLabs](https://nlp.johnsnowlabs.com/assets/images/logo.png)\n",
        "\n",
        "[![Open In Colab](https://colab.research.google.com/assets/colab-badge.svg)](https://colab.research.google.com/github/JohnSnowLabs/spark-nlp-workshop/blob/master/tutorials/streamlit_notebooks/healthcare/ER_ICD10_PCS.ipynb)\n",
        "\n",
        "\n"
      ]
    },
    {
      "cell_type": "markdown",
      "metadata": {
        "id": "CzIdjHkAW8TB"
      },
      "source": [
        "# **ICD10-PCS coding**"
      ]
    },
    {
      "cell_type": "markdown",
      "metadata": {
        "id": "6uDmeHEFW7_h"
      },
      "source": [
        "To run this yourself, you will need to upload your license keys to the notebook. Just Run The Cell Below in order to do that. Also You can open the file explorer on the left side of the screen and upload `license_keys.json` to the folder that opens.\n",
        "Otherwise, you can look at the example outputs at the bottom of the notebook.\n",
        "\n"
      ]
    },
    {
      "cell_type": "markdown",
      "metadata": {
        "id": "wIeCOiJNW-88"
      },
      "source": [
        "## 1. Colab Setup"
      ]
    },
    {
      "cell_type": "markdown",
      "metadata": {
        "id": "HMIDv74CYN0d"
      },
      "source": [
        "Import license keys"
      ]
    },
    {
      "cell_type": "code",
      "metadata": {
        "id": "ttHPIV2JXbIM",
        "colab": {
          "resources": {
            "http://localhost:8080/nbextensions/google.colab/files.js": {
              "data": "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",
              "ok": true,
              "headers": [
                [
                  "content-type",
                  "application/javascript"
                ]
              ],
              "status": 200,
              "status_text": "OK"
            }
          },
          "base_uri": "https://localhost:8080/",
          "height": 113
        },
        "outputId": "4ad47725-353a-4f83-ec41-e59d4d9fb4f4"
      },
      "source": [
        "import os\n",
        "import json\n",
        "\n",
        "from google.colab import files\n",
        "\n",
        "license_keys = files.upload()\n",
        "\n",
        "with open(list(license_keys.keys())[0]) as f:\n",
        "    license_keys = json.load(f)\n",
        "\n",
        "sparknlp_version = license_keys[\"PUBLIC_VERSION\"]\n",
        "jsl_version = license_keys[\"JSL_VERSION\"]\n",
        "\n",
        "print ('SparkNLP Version:', sparknlp_version)\n",
        "print ('SparkNLP-JSL Version:', jsl_version)"
      ],
      "execution_count": 1,
      "outputs": [
        {
          "output_type": "display_data",
          "data": {
            "text/html": [
              "\n",
              "     <input type=\"file\" id=\"files-039b38a2-cc88-4c08-88f2-bb606838930a\" name=\"files[]\" multiple disabled\n",
              "        style=\"border:none\" />\n",
              "     <output id=\"result-039b38a2-cc88-4c08-88f2-bb606838930a\">\n",
              "      Upload widget is only available when the cell has been executed in the\n",
              "      current browser session. Please rerun this cell to enable.\n",
              "      </output>\n",
              "      <script src=\"/nbextensions/google.colab/files.js\"></script> "
            ],
            "text/plain": [
              "<IPython.core.display.HTML object>"
            ]
          },
          "metadata": {
            "tags": []
          }
        },
        {
          "output_type": "stream",
          "text": [
            "Saving v3_spark_nlp_for_healthcare.json to v3_spark_nlp_for_healthcare.json\n",
            "SparkNLP Version: 3.0.1\n",
            "SparkNLP-JSL Version: 3.0.0\n"
          ],
          "name": "stdout"
        }
      ]
    },
    {
      "cell_type": "markdown",
      "metadata": {
        "id": "rQtc1CHaYQjU"
      },
      "source": [
        "Install dependencies"
      ]
    },
    {
      "cell_type": "code",
      "metadata": {
        "id": "CGJktFHdHL1n"
      },
      "source": [
        "%%capture\n",
        "for k,v in license_keys.items(): \n",
        "    %set_env $k=$v\n",
        "\n",
        "!wget https://raw.githubusercontent.com/JohnSnowLabs/spark-nlp-workshop/master/jsl_colab_setup.sh\n",
        "!bash jsl_colab_setup.sh"
      ],
      "execution_count": 2,
      "outputs": []
    },
    {
      "cell_type": "markdown",
      "metadata": {
        "id": "Hj5FRDV4YSXN"
      },
      "source": [
        "Import dependencies into Python"
      ]
    },
    {
      "cell_type": "code",
      "metadata": {
        "id": "qUWyj8c6JSPP"
      },
      "source": [
        "import pandas as pd\n",
        "from pyspark.ml import Pipeline\n",
        "from pyspark.sql import SparkSession\n",
        "import pyspark.sql.functions as F\n",
        "\n",
        "import sparknlp\n",
        "from sparknlp.annotator import *\n",
        "from sparknlp_jsl.annotator import *\n",
        "from sparknlp.base import *\n",
        "import sparknlp_jsl"
      ],
      "execution_count": 3,
      "outputs": []
    },
    {
      "cell_type": "markdown",
      "metadata": {
        "id": "ed6Htm7qDQB3"
      },
      "source": [
        "Start the Spark session"
      ]
    },
    {
      "cell_type": "code",
      "metadata": {
        "id": "eaSM8-xhDRa4"
      },
      "source": [
        "spark = sparknlp_jsl.start(license_keys['SECRET'])\n",
        "\n",
        "# manually start session\n",
        "# params = {\"spark.driver.memory\" : \"16G\",\n",
        "#           \"spark.kryoserializer.buffer.max\" : \"2000M\",\n",
        "#           \"spark.driver.maxResultSize\" : \"2000M\"}\n",
        "\n",
        "# spark = sparknlp_jsl.start(license_keys['SECRET'],params=params)"
      ],
      "execution_count": 4,
      "outputs": []
    },
    {
      "cell_type": "markdown",
      "metadata": {
        "id": "9RgiqfX5XDqb"
      },
      "source": [
        "## 2. Select the Entity Resolver model and construct the pipeline"
      ]
    },
    {
      "cell_type": "markdown",
      "metadata": {
        "id": "AVKr8C2SrkZQ"
      },
      "source": [
        "Select the models:\n",
        "\n",
        "**ICD10 Entity Resolver models:**\n",
        "\n",
        "1.   **chunkresolve_icd10cm_clinical**\n",
        "2.   **chunkresolve_icd10cm_diseases_clinical**\n",
        "3.   **chunkresolve_icd10cm_injuries_clinical**\n",
        "4.   **chunkresolve_icd10cm_musculoskeletal_clinical**\n",
        "5.   **chunkresolve_icd10cm_neoplasms_clinical**\n",
        "6.   **chunkresolve_icd10cm_puerile_clinical**\n",
        "\n",
        "\n",
        "\n",
        "For more details: https://github.com/JohnSnowLabs/spark-nlp-models#pretrained-models---spark-nlp-for-healthcare"
      ]
    },
    {
      "cell_type": "code",
      "metadata": {
        "id": "cK9xxkkfrsLc"
      },
      "source": [
        "# Change this to the model you want to use and re-run the cells below.\n",
        "ER_MODEL_NAME = \"chunkresolve_icd10cm_clinical\"\n",
        "NER_MODEL_NAME = \"ner_clinical\""
      ],
      "execution_count": 5,
      "outputs": []
    },
    {
      "cell_type": "markdown",
      "metadata": {
        "id": "zweiG2ilZqoR"
      },
      "source": [
        "Create the pipeline"
      ]
    },
    {
      "cell_type": "code",
      "metadata": {
        "id": "LLuDz_t40be4",
        "colab": {
          "base_uri": "https://localhost:8080/"
        },
        "outputId": "aeebc6c2-fd02-4342-c866-5ef1a2b08599"
      },
      "source": [
        "document_assembler = DocumentAssembler() \\\n",
        "    .setInputCol('text')\\\n",
        "    .setOutputCol('document')\n",
        "\n",
        "sentence_detector = SentenceDetector() \\\n",
        "    .setInputCols(['document'])\\\n",
        "    .setOutputCol('sentences')\n",
        "\n",
        "tokenizer = Tokenizer()\\\n",
        "    .setInputCols(['sentences']) \\\n",
        "    .setOutputCol('tokens')\n",
        "\n",
        "pos_tagger = PerceptronModel()\\\n",
        "    .pretrained(\"pos_clinical\", \"en\", \"clinical/models\") \\\n",
        "    .setInputCols([\"sentences\", \"tokens\"])\\\n",
        "    .setOutputCol(\"pos_tags\")\n",
        "\n",
        "dependency_parser = DependencyParserModel()\\\n",
        "    .pretrained(\"dependency_conllu\", \"en\")\\\n",
        "    .setInputCols([\"sentences\", \"pos_tags\", \"tokens\"])\\\n",
        "    .setOutputCol(\"dependencies\")\n",
        "\n",
        "embeddings = WordEmbeddingsModel.pretrained('embeddings_clinical', 'en', 'clinical/models')\\\n",
        "    .setInputCols([\"sentences\", \"tokens\"])\\\n",
        "    .setOutputCol(\"embeddings\")\n",
        "\n",
        "clinical_ner_model = MedicalNerModel.pretrained(NER_MODEL_NAME, \"en\", \"clinical/models\") \\\n",
        "    .setInputCols([\"sentences\", \"tokens\", \"embeddings\"])\\\n",
        "    .setOutputCol(\"clinical_ner_tags\")\n",
        "\n",
        "clinical_ner_chunker = NerConverter()\\\n",
        "    .setInputCols([\"sentences\", \"tokens\", \"clinical_ner_tags\"])\\\n",
        "    .setOutputCol(\"clinical_ner_chunks\")\n",
        "\n",
        "chunk_embeddings = ChunkEmbeddings()\\\n",
        "    .setInputCols(\"clinical_ner_chunks\", \"embeddings\")\\\n",
        "    .setOutputCol(\"chunk_embeddings\")\n",
        "\n",
        "entity_resolver = \\\n",
        "    ChunkEntityResolverModel.pretrained(ER_MODEL_NAME,\"en\",\"clinical/models\")\\\n",
        "    .setInputCols(\"tokens\",\"chunk_embeddings\").setOutputCol(\"resolution\")\n",
        "\n",
        "pipeline = Pipeline(stages=[\n",
        "    document_assembler, \n",
        "    sentence_detector,\n",
        "    tokenizer,\n",
        "    pos_tagger,\n",
        "    dependency_parser,\n",
        "    embeddings,\n",
        "    clinical_ner_model,\n",
        "    clinical_ner_chunker,\n",
        "    chunk_embeddings,\n",
        "    entity_resolver])\n",
        "\n",
        "empty_df = spark.createDataFrame([['']]).toDF(\"text\")\n",
        "pipeline_model = pipeline.fit(empty_df)\n",
        "light_pipeline = LightPipeline(pipeline_model)"
      ],
      "execution_count": 6,
      "outputs": [
        {
          "output_type": "stream",
          "text": [
            "pos_clinical download started this may take some time.\n",
            "Approximate size to download 1.5 MB\n",
            "[OK!]\n",
            "dependency_conllu download started this may take some time.\n",
            "Approximate size to download 16.7 MB\n",
            "[OK!]\n",
            "embeddings_clinical download started this may take some time.\n",
            "Approximate size to download 1.6 GB\n",
            "[OK!]\n",
            "ner_clinical download started this may take some time.\n",
            "Approximate size to download 13.9 MB\n",
            "[OK!]\n",
            "chunkresolve_icd10cm_clinical download started this may take some time.\n",
            "Approximate size to download 166.2 MB\n",
            "[OK!]\n"
          ],
          "name": "stdout"
        }
      ]
    },
    {
      "cell_type": "markdown",
      "metadata": {
        "id": "2Y9GpdJhXIpD"
      },
      "source": [
        "## 3. Create example inputs"
      ]
    },
    {
      "cell_type": "code",
      "metadata": {
        "id": "vBOKkB2THdGI"
      },
      "source": [
        "# Enter examples as strings in this array\n",
        "input_list = [\n",
        "\"\"\"She is followed by Dr. X in our office and has a history of severe tricuspid regurgitation with mild elevation and PA pressure. On 05/12/08, preserved left and right ventricular systolic function, aortic sclerosis with apparent mild aortic stenosis, and bi-atrial enlargement. She has previously had a Persantine Myoview nuclear rest-stress test scan completed at ABCD Medical Center in 07/06 that was negative. She has had significant mitral valve regurgitation in the past being moderate, but on the most recent echocardiogram on 05/12/08, that was not felt to be significant. She has a history of hypertension and EKGs in our office show normal sinus rhythm with frequent APCs versus wandering atrial pacemaker. She does have a history of significant hypertension in the past. She has had dizzy spells and denies clearly any true syncope. She has had bradycardia in the past from beta-blocker therapy.\"\"\"\n",
        "]"
      ],
      "execution_count": 7,
      "outputs": []
    },
    {
      "cell_type": "markdown",
      "metadata": {
        "id": "1gmrjqHSGcJx"
      },
      "source": [
        "# 4. Run the pipeline"
      ]
    },
    {
      "cell_type": "code",
      "metadata": {
        "id": "xdhgKutMHUoC"
      },
      "source": [
        "df = spark.createDataFrame(pd.DataFrame({\"text\": input_list}))\n",
        "result = pipeline_model.transform(df)\n",
        "light_result = light_pipeline.fullAnnotate(input_list[0])"
      ],
      "execution_count": 8,
      "outputs": []
    },
    {
      "cell_type": "markdown",
      "metadata": {
        "id": "UIVShVLhI68M"
      },
      "source": [
        "# 5. Visualize"
      ]
    },
    {
      "cell_type": "markdown",
      "metadata": {
        "id": "472iBPpK-FvF"
      },
      "source": [
        "Full Pipeline"
      ]
    },
    {
      "cell_type": "code",
      "metadata": {
        "id": "Qdh2BQaLI7tU",
        "colab": {
          "base_uri": "https://localhost:8080/"
        },
        "outputId": "619799aa-25af-4b35-c8d3-d39c9b160d18"
      },
      "source": [
        "result.select(\n",
        "    F.explode(\n",
        "        F.arrays_zip('resolution.metadata', 'resolution.begin' , 'resolution.end', 'resolution.result')\n",
        "    ).alias('cols')\n",
        ").select(\n",
        "    F.expr(\"cols['0']['token']\").alias('token/chunk'),\n",
        "    F.expr(\"cols['1']\").alias('begin'),\n",
        "    F.expr(\"cols['2']\").alias('end'),\n",
        "    F.expr(\"cols['0']['resolved_text']\").alias('resolved_text'),\n",
        "    F.expr(\"cols['3']\").alias('icd10_code'),\n",
        ").show(truncate=False)"
      ],
      "execution_count": 11,
      "outputs": [
        {
          "output_type": "stream",
          "text": [
            "+--------------------------------------------------+-----+---+---------------------------------------------------------------------------------------------------+----------+\n",
            "|token/chunk                                       |begin|end|resolved_text                                                                                      |icd10_code|\n",
            "+--------------------------------------------------+-----+---+---------------------------------------------------------------------------------------------------+----------+\n",
            "|severe tricuspid regurgitation                    |60   |89 |Rheumatic mitral insufficiency                                                                     |I051      |\n",
            "|mild elevation                                    |96   |109|Fever, unspecified                                                                                 |R509      |\n",
            "|PA pressure                                       |115  |125|Hypotension, unspecified                                                                           |I959      |\n",
            "|aortic sclerosis                                  |197  |212|Atherosclerosis of aorta                                                                           |I700      |\n",
            "|apparent mild aortic stenosis                     |219  |247|Supravalvular aortic stenosis                                                                      |Q253      |\n",
            "|bi-atrial enlargement                             |254  |274|Cardiomegaly                                                                                       |I517      |\n",
            "|a Persantine Myoview nuclear rest-stress test scan|300  |349|Abnormal brain scan                                                                                |R9402     |\n",
            "|significant mitral valve regurgitation            |424  |461|Rheumatic mitral insufficiency                                                                     |I051      |\n",
            "|the most recent echocardiogram                    |498  |527|Bipolar disorder, in partial remission, most recent episode depressed                              |F3175     |\n",
            "|hypertension                                      |600  |611|Postprocedural hypertension                                                                        |I973      |\n",
            "|EKGs                                              |617  |620|Hematemesis                                                                                        |K920      |\n",
            "|frequent APCs                                     |666  |678|Epistaxis                                                                                          |R040      |\n",
            "|wandering atrial pacemaker                        |687  |712|Presence of cardiac pacemaker                                                                      |Z950      |\n",
            "|significant hypertension                          |742  |765|Gestational [pregnancy-induced] hypertension without significant proteinuria, unspecified trimester|O139      |\n",
            "|dizzy spells                                      |792  |803|Dizziness and giddiness                                                                            |R42       |\n",
            "|true syncope                                      |828  |839|Heat syncope, sequela                                                                              |T671XXS   |\n",
            "|bradycardia                                       |854  |864|Bradycardia, unspecified                                                                           |R001      |\n",
            "|beta-blocker therapy                              |883  |902|Hormone replacement therapy                                                                        |Z79890    |\n",
            "+--------------------------------------------------+-----+---+---------------------------------------------------------------------------------------------------+----------+\n",
            "\n"
          ],
          "name": "stdout"
        }
      ]
    },
    {
      "cell_type": "markdown",
      "metadata": {
        "id": "1w6-BQ0MFL9Y"
      },
      "source": [
        "Light Pipeline"
      ]
    },
    {
      "cell_type": "code",
      "metadata": {
        "id": "LSukuO5eE1cZ",
        "colab": {
          "base_uri": "https://localhost:8080/"
        },
        "outputId": "a02d7088-877d-4d90-ac68-5aa61fa24f7b"
      },
      "source": [
        "light_result[0]['resolution']"
      ],
      "execution_count": 10,
      "outputs": [
        {
          "output_type": "execute_result",
          "data": {
            "text/plain": [
              "[Annotation(entity, 60, 89, I051, {'chunk': '0', 'all_k_results': 'I051:::Q224:::I070:::I071:::I072:::I078:::I079:::I368:::I369:::Q229:::Q228:::K06023:::A91:::I361:::I360:::I081:::J4550:::I362:::Q232:::P9163:::I082:::I050:::I083:::Q233:::Q243', 'all_k_distances': '0.9940:::1.0824:::1.1134:::1.1476:::1.2213:::1.2486:::1.2501:::1.2660:::1.2737:::1.3088:::1.3107:::1.3111:::1.3254:::1.3384:::1.3416:::1.4567:::1.4592:::1.4806:::1.4985:::1.5086:::1.5130:::1.5236:::1.5349:::1.5433:::1.5887', 'confidence': '0.0561', 'all_k_cosine_distances': '0.0958:::0.1960:::0.1472:::0.1725:::0.1427:::0.1857:::0.1769:::0.1672:::0.1605:::0.1824:::0.1999:::0.3924:::0.3935:::0.1325:::0.1252:::0.1594:::0.3530:::0.1274:::0.2075:::0.3811:::0.1877:::0.1415:::0.1471:::0.1619:::0.1793', 'all_k_resolutions': 'Rheumatic mitral insufficiency:::Congenital tricuspid stenosis:::Rheumatic tricuspid stenosis:::Rheumatic tricuspid insufficiency:::Rheumatic tricuspid stenosis and insufficiency:::Other rheumatic tricuspid valve diseases:::Rheumatic tricuspid valve disease, unspecified:::Other nonrheumatic tricuspid valve disorders:::Nonrheumatic tricuspid valve disorder, unspecified:::Congenital malformation of tricuspid valve, unspecified:::Other congenital malformations of tricuspid valve:::Generalized gingival recession, severe:::Dengue hemorrhagic fever:::Nonrheumatic tricuspid (valve) insufficiency:::Nonrheumatic tricuspid (valve) stenosis:::Rheumatic disorders of both mitral and tricuspid valves:::Severe persistent asthma, uncomplicated:::Nonrheumatic tricuspid (valve) stenosis with insufficiency:::Congenital mitral stenosis:::Severe hypoxic ischemic encephalopathy [HIE]:::Rheumatic disorders of both aortic and tricuspid valves:::Rheumatic mitral stenosis:::Combined rheumatic disorders of mitral, aortic and tricuspid valves:::Congenital mitral insufficiency:::Pulmonary infundibular stenosis', 'target_text': 'severe tricuspid regurgitation', 'all_k_aux_labels': '', 'token': 'severe tricuspid regurgitation', 'resolved_text': 'Rheumatic mitral insufficiency', 'all_k_confidences': '0.0561:::0.0514:::0.0498:::0.0481:::0.0447:::0.0435:::0.0435:::0.0428:::0.0424:::0.0410:::0.0409:::0.0409:::0.0403:::0.0398:::0.0397:::0.0353:::0.0353:::0.0345:::0.0339:::0.0336:::0.0334:::0.0331:::0.0327:::0.0324:::0.0310', 'distance': '0.9940', 'sentence': '0'}),\n",
              " Annotation(entity, 96, 109, R509, {'chunk': '1', 'all_k_results': 'R509:::E441:::F70:::N870:::O1402:::P381:::N900:::N890:::F330:::H5703:::J4530:::H4010X1:::H401331:::H401231:::P9161:::J4520:::R631:::H401131:::O1400:::O1403:::H401221:::O1404:::G3184:::H401211:::H402231', 'all_k_distances': '1.0230:::1.0480:::1.1707:::1.1982:::1.2433:::1.2577:::1.2592:::1.2630:::1.2675:::1.2677:::1.2685:::1.2889:::1.2980:::1.2980:::1.3142:::1.3161:::1.3194:::1.3275:::1.3538:::1.3633:::1.3809:::1.3857:::1.3865:::1.3957:::1.3959', 'confidence': '0.0517', 'all_k_cosine_distances': '0.2645:::0.2782:::0.3413:::0.3879:::0.2659:::0.2612:::0.3955:::0.3967:::0.2807:::0.4206:::0.2600:::0.3624:::0.3324:::0.3324:::0.3137:::0.2773:::0.4517:::0.3161:::0.2770:::0.2959:::0.3646:::0.2904:::0.3154:::0.3713:::0.3245', 'all_k_resolutions': 'Fever, unspecified:::Mild protein-calorie malnutrition:::Mild intellectual disabilities:::Mild cervical dysplasia:::Mild to moderate pre-eclampsia, second trimester:::Omphalitis with mild hemorrhage:::Mild vulvar dysplasia:::Mild vaginal dysplasia:::Major depressive disorder, recurrent, mild:::Miosis:::Mild persistent asthma, uncomplicated:::Unspecified open-angle glaucoma, mild stage:::Pigmentary glaucoma, bilateral, mild stage:::Low-tension glaucoma, bilateral, mild stage:::Mild hypoxic ischemic encephalopathy [HIE]:::Mild intermittent asthma, uncomplicated:::Polydipsia:::Primary open-angle glaucoma, bilateral, mild stage:::Mild to moderate pre-eclampsia, unspecified trimester:::Mild to moderate pre-eclampsia, third trimester:::Low-tension glaucoma, left eye, mild stage:::Mild to moderate pre-eclampsia, complicating childbirth:::Mild cognitive impairment, so stated:::Low-tension glaucoma, right eye, mild stage:::Chronic angle-closure glaucoma, bilateral, mild stage', 'target_text': 'mild elevation', 'all_k_aux_labels': '', 'token': 'mild elevation', 'resolved_text': 'Fever, unspecified', 'all_k_confidences': '0.0517:::0.0504:::0.0446:::0.0434:::0.0415:::0.0409:::0.0408:::0.0406:::0.0405:::0.0405:::0.0404:::0.0396:::0.0392:::0.0392:::0.0386:::0.0385:::0.0384:::0.0381:::0.0371:::0.0368:::0.0361:::0.0360:::0.0359:::0.0356:::0.0356', 'distance': '1.0230', 'sentence': '0'}),\n",
              " Annotation(entity, 115, 125, I959, {'chunk': '2', 'all_k_results': 'I959:::L89810:::H4440:::I953:::L89500:::L8995:::L89520:::L89510:::L89200:::L89220:::L89210:::L89000:::L89020:::L89010:::L89300:::L89320:::L89310:::L89600:::L89620:::L89610:::G912:::Z626:::H40052:::L89814:::L89140', 'all_k_distances': '1.2270:::1.2445:::1.2476:::1.3498:::1.3520:::1.3524:::1.3526:::1.3526:::1.3531:::1.3537:::1.3537:::1.3546:::1.3551:::1.3551:::1.3609:::1.3613:::1.3613:::1.3623:::1.3627:::1.3628:::1.3852:::1.3967:::1.4087:::1.4089:::1.4657', 'confidence': '0.0453', 'all_k_cosine_distances': '0.2966:::0.4023:::0.3185:::0.2744:::0.3425:::0.3747:::0.3098:::0.3765:::0.4064:::0.3637:::0.3753:::0.3622:::0.3814:::0.3345:::0.3700:::0.3854:::0.3976:::0.4058:::0.3675:::0.3803:::0.3651:::0.3398:::0.3999:::0.3542:::0.3808', 'all_k_resolutions': 'Hypotension, unspecified:::Pressure ulcer of head, unstageable:::Unspecified hypotony of eye:::Hypotension of hemodialysis:::Pressure ulcer of unspecified ankle, unstageable:::Pressure ulcer of unspecified site, unstageable:::Pressure ulcer of left ankle, unstageable:::Pressure ulcer of right ankle, unstageable:::Pressure ulcer of unspecified hip, unstageable:::Pressure ulcer of left hip, unstageable:::Pressure ulcer of right hip, unstageable:::Pressure ulcer of unspecified elbow, unstageable:::Pressure ulcer of left elbow, unstageable:::Pressure ulcer of right elbow, unstageable:::Pressure ulcer of unspecified buttock, unstageable:::Pressure ulcer of left buttock, unstageable:::Pressure ulcer of right buttock, unstageable:::Pressure ulcer of unspecified heel, unstageable:::Pressure ulcer of left heel, unstageable:::Pressure ulcer of right heel, unstageable:::(Idiopathic) normal pressure hydrocephalus:::Inappropriate (excessive) parental pressure:::Ocular hypertension, left eye:::Pressure ulcer of head, stage 4:::Pressure ulcer of left lower back, unstageable', 'target_text': 'PA pressure', 'all_k_aux_labels': '', 'token': 'PA pressure', 'resolved_text': 'Hypotension, unspecified', 'all_k_confidences': '0.0453:::0.0446:::0.0444:::0.0401:::0.0400:::0.0400:::0.0400:::0.0400:::0.0400:::0.0399:::0.0399:::0.0399:::0.0399:::0.0399:::0.0397:::0.0396:::0.0396:::0.0396:::0.0396:::0.0396:::0.0387:::0.0383:::0.0378:::0.0378:::0.0357', 'distance': '1.2270', 'sentence': '0'}),\n",
              " Annotation(entity, 197, 212, I700, {'chunk': '3', 'all_k_results': 'I700:::K741:::G35:::M349:::M3489:::G9381:::M340:::Q851:::G1223:::Q2547:::G1221:::C8117:::K742:::M314:::Q2546:::I77810:::Q253:::I77811:::Q2545:::Q214:::I7401:::Q2521:::I77812:::M3483:::I060', 'all_k_distances': '0.9403:::0.9578:::0.9608:::1.0650:::1.0686:::1.0937:::1.1027:::1.1071:::1.1422:::1.1652:::1.1681:::1.1730:::1.1771:::1.1829:::1.1852:::1.1864:::1.1872:::1.1897:::1.1934:::1.2013:::1.2136:::1.2139:::1.2176:::1.2379:::1.2516', 'confidence': '0.0488', 'all_k_cosine_distances': '0.1956:::0.2165:::0.2424:::0.2776:::0.2532:::0.2814:::0.2362:::0.2449:::0.2503:::0.2964:::0.2572:::0.2945:::0.2389:::0.2482:::0.2422:::0.2474:::0.2124:::0.2598:::0.2707:::0.2889:::0.2804:::0.2857:::0.2256:::0.2840:::0.1885', 'all_k_resolutions': 'Atherosclerosis of aorta:::Hepatic sclerosis:::Multiple sclerosis:::Systemic sclerosis, unspecified:::Other systemic sclerosis:::Temporal sclerosis:::Progressive systemic sclerosis:::Tuberous sclerosis:::Primary lateral sclerosis:::Right aortic arch:::Amyotrophic lateral sclerosis:::Nodular sclerosis Hodgkin lymphoma, spleen:::Hepatic fibrosis with hepatic sclerosis:::Aortic arch syndrome [Takayasu]:::Tortuous aortic arch:::Thoracic aortic ectasia:::Supravalvular aortic stenosis:::Abdominal aortic ectasia:::Double aortic arch:::Aortopulmonary septal defect:::Saddle embolus of abdominal aorta:::Interruption of aortic arch:::Thoracoabdominal aortic ectasia:::Systemic sclerosis with polyneuropathy:::Rheumatic aortic stenosis', 'target_text': 'aortic sclerosis', 'all_k_aux_labels': '', 'token': 'aortic sclerosis', 'resolved_text': 'Atherosclerosis of aorta', 'all_k_confidences': '0.0488:::0.0480:::0.0478:::0.0431:::0.0429:::0.0419:::0.0415:::0.0413:::0.0399:::0.0390:::0.0389:::0.0387:::0.0385:::0.0383:::0.0382:::0.0382:::0.0381:::0.0380:::0.0379:::0.0376:::0.0371:::0.0371:::0.0370:::0.0363:::0.0358', 'distance': '0.9403', 'sentence': '1'}),\n",
              " Annotation(entity, 219, 247, Q253, {'chunk': '4', 'all_k_results': 'Q253:::I062:::Q230:::I060:::Q9382:::I350:::I352:::M314:::I700:::Q2521:::I7401:::Q2547:::I77819:::Q232:::I77810:::Q2546:::I77811:::Q231:::I050:::Q224:::Q393:::I070:::Q2545:::Q87410:::Q256', 'all_k_distances': '0.4542:::0.9098:::0.9385:::0.9490:::0.9586:::1.0102:::1.1392:::1.1559:::1.1671:::1.1998:::1.2075:::1.2410:::1.2510:::1.2666:::1.2681:::1.2683:::1.2698:::1.2736:::1.2747:::1.2748:::1.2783:::1.2827:::1.2902:::1.2959:::1.2975', 'confidence': '0.0791', 'all_k_cosine_distances': '0.1216:::0.1486:::0.1432:::0.1574:::0.1202:::0.1504:::0.1439:::0.2422:::0.2428:::0.2733:::0.1910:::0.2934:::0.2577:::0.2111:::0.2609:::0.2268:::0.2169:::0.1648:::0.1958:::0.2247:::0.1726:::0.2156:::0.2818:::0.1870:::0.1968', 'all_k_resolutions': \"Supravalvular aortic stenosis:::Rheumatic aortic stenosis with insufficiency:::Congenital stenosis of aortic valve:::Rheumatic aortic stenosis:::Williams syndrome:::Nonrheumatic aortic (valve) stenosis:::Nonrheumatic aortic (valve) stenosis with insufficiency:::Aortic arch syndrome [Takayasu]:::Atherosclerosis of aorta:::Interruption of aortic arch:::Saddle embolus of abdominal aorta:::Right aortic arch:::Aortic ectasia, unspecified site:::Congenital mitral stenosis:::Thoracic aortic ectasia:::Tortuous aortic arch:::Abdominal aortic ectasia:::Congenital insufficiency of aortic valve:::Rheumatic mitral stenosis:::Congenital tricuspid stenosis:::Congenital stenosis and stricture of esophagus:::Rheumatic tricuspid stenosis:::Double aortic arch:::Marfan's syndrome with aortic dilation:::Stenosis of pulmonary artery\", 'target_text': 'apparent mild aortic stenosis', 'all_k_aux_labels': '', 'token': 'apparent mild aortic stenosis', 'resolved_text': 'Supravalvular aortic stenosis', 'all_k_confidences': '0.0791:::0.0502:::0.0487:::0.0482:::0.0478:::0.0454:::0.0399:::0.0392:::0.0388:::0.0375:::0.0372:::0.0360:::0.0357:::0.0351:::0.0351:::0.0350:::0.0350:::0.0349:::0.0348:::0.0348:::0.0347:::0.0345:::0.0343:::0.0341:::0.0340', 'distance': '0.4542', 'sentence': '1'}),\n",
              " Annotation(entity, 254, 274, I517, {'chunk': '5', 'all_k_results': 'I517:::K061:::N62:::H05342:::H05341:::K111:::H05343:::H04032:::H04031:::H04033:::N9061:::L723:::L7212:::N750:::N751:::H53423:::Q782:::N2881:::Q382:::J352:::N134:::Q170:::H5704:::N2882:::N500', 'all_k_distances': '0.6980:::0.8931:::0.9409:::0.9415:::0.9588:::0.9888:::0.9982:::1.2215:::1.2388:::1.2615:::1.3112:::1.3254:::1.3254:::1.3254:::1.3324:::1.4948:::1.5756:::1.5766:::1.5884:::1.5918:::1.6028:::1.6182:::1.6201:::1.6277:::1.6320', 'confidence': '0.0706', 'all_k_cosine_distances': '0.1689:::0.3071:::0.2879:::0.2570:::0.2008:::0.3372:::0.2426:::0.2365:::0.2504:::0.2618:::0.3111:::0.4663:::0.4663:::0.4663:::0.4523:::0.2776:::0.3779:::0.3657:::0.3217:::0.3161:::0.3709:::0.3912:::0.3508:::0.3989:::0.3955', 'all_k_resolutions': \"Cardiomegaly:::Gingival enlargement:::Hypertrophy of breast:::Enlargement of left orbit:::Enlargement of right orbit:::Hypertrophy of salivary gland:::Enlargement of bilateral orbits:::Chronic enlargement of left lacrimal gland:::Chronic enlargement of right lacrimal gland:::Chronic enlargement of bilateral lacrimal glands:::Childhood asymmetric labium majus enlargement:::Sebaceous cyst:::Trichodermal cyst:::Cyst of Bartholin's gland:::Abscess of Bartholin's gland:::Scotoma of blind spot area, bilateral:::Osteopetrosis:::Hypertrophy of kidney:::Macroglossia:::Hypertrophy of adenoids:::Hydroureter:::Accessory auricle:::Mydriasis:::Megaloureter:::Atrophy of testis\", 'target_text': 'bi-atrial enlargement', 'all_k_aux_labels': '', 'token': 'bi-atrial enlargement', 'resolved_text': 'Cardiomegaly', 'all_k_confidences': '0.0706:::0.0581:::0.0554:::0.0554:::0.0544:::0.0528:::0.0523:::0.0418:::0.0411:::0.0402:::0.0383:::0.0377:::0.0377:::0.0377:::0.0375:::0.0318:::0.0294:::0.0293:::0.0290:::0.0289:::0.0286:::0.0281:::0.0281:::0.0279:::0.0278', 'distance': '0.6980', 'sentence': '1'}),\n",
              " Annotation(entity, 300, 349, R9402, {'chunk': '6', 'all_k_results': 'R9402:::Z13850:::Z712:::Z13820:::Z0182:::Y37541S:::Y36541S:::Y37541A:::Y36541A:::Y37541D:::Y36541D:::R9431:::M96831:::M96841:::Z3202:::Z3201:::Y36540S:::Y37540S:::H2512:::Y36540A:::Y37540A:::Y36540D:::Y37540D:::H2511:::M96830', 'all_k_distances': '1.2770:::1.3405:::1.3580:::1.3809:::1.3848:::1.4055:::1.4079:::1.4113:::1.4138:::1.4175:::1.4199:::1.4222:::1.4234:::1.4258:::1.4260:::1.4285:::1.4418:::1.4449:::1.4454:::1.4475:::1.4508:::1.4536:::1.4569:::1.4575:::1.4654', 'confidence': '0.0459', 'all_k_cosine_distances': '0.3243:::0.3378:::0.3037:::0.3369:::0.3362:::0.3352:::0.3354:::0.3217:::0.3263:::0.3297:::0.3310:::0.4334:::0.2894:::0.3076:::0.3243:::0.3257:::0.3406:::0.3397:::0.4067:::0.3283:::0.3268:::0.3314:::0.3337:::0.4088:::0.2993', 'all_k_resolutions': 'Abnormal brain scan:::Encounter for screening for traumatic brain injury:::Person consulting for explanation of examination or test findings:::Encounter for screening for osteoporosis:::Encounter for allergy testing:::Military operation involving nuclear radiation effects of nuclear weapon, civilian, sequela:::War operation involving nuclear radiation effects of nuclear weapon, civilian, sequela:::Military operation involving nuclear radiation effects of nuclear weapon, civilian, initial encounter:::War operation involving nuclear radiation effects of nuclear weapon, civilian, initial encounter:::Military operation involving nuclear radiation effects of nuclear weapon, civilian, subsequent encounter:::War operation involving nuclear radiation effects of nuclear weapon, civilian, subsequent encounter:::Abnormal electrocardiogram [ECG] [EKG]:::Postprocedural hemorrhage of a musculoskeletal structure following other procedure:::Postprocedural hematoma of a musculoskeletal structure following other procedure:::Encounter for pregnancy test, result negative:::Encounter for pregnancy test, result positive:::War operation involving nuclear radiation effects of nuclear weapon, military personnel, sequela:::Military operation involving nuclear radiation effects of nuclear weapon, military personnel, sequela:::Age-related nuclear cataract, left eye:::War operation involving nuclear radiation effects of nuclear weapon, military personnel, initial encounter:::Military operation involving nuclear radiation effects of nuclear weapon, military personnel, initial encounter:::War operation involving nuclear radiation effects of nuclear weapon, military personnel, subsequent encounter:::Military operation involving nuclear radiation effects of nuclear weapon, military personnel, subsequent encounter:::Age-related nuclear cataract, right eye:::Postprocedural hemorrhage of a musculoskeletal structure following a musculoskeletal system procedure', 'target_text': 'a Persantine Myoview nuclear rest-stress test scan', 'all_k_aux_labels': '', 'token': 'a Persantine Myoview nuclear rest-stress test scan', 'resolved_text': 'Abnormal brain scan', 'all_k_confidences': '0.0459:::0.0431:::0.0424:::0.0414:::0.0412:::0.0404:::0.0403:::0.0402:::0.0401:::0.0399:::0.0398:::0.0397:::0.0397:::0.0396:::0.0396:::0.0395:::0.0390:::0.0388:::0.0388:::0.0387:::0.0386:::0.0385:::0.0384:::0.0384:::0.0380', 'distance': '1.2770', 'sentence': '2'}),\n",
              " Annotation(entity, 424, 461, I051, {'chunk': '7', 'all_k_results': 'I051:::I050:::I058:::I348:::I059:::I342:::I349:::I340:::I341:::Q232:::I368:::I078:::Q230:::I360:::I060:::Q233:::I052:::Q231:::I369:::I079:::I361:::I061:::I370:::Q221:::I38', 'all_k_distances': '0.5095:::0.9544:::0.9839:::0.9968:::1.0161:::1.0200:::1.0322:::1.0553:::1.0567:::1.2630:::1.2902:::1.2918:::1.2977:::1.2991:::1.3037:::1.3103:::1.3180:::1.3260:::1.3266:::1.3271:::1.3333:::1.3384:::1.3395:::1.3452:::1.3507', 'confidence': '0.0771', 'all_k_cosine_distances': '0.0490:::0.0825:::0.1630:::0.1480:::0.1455:::0.0995:::0.1417:::0.1191:::0.1080:::0.2073:::0.1538:::0.1700:::0.1360:::0.1109:::0.1111:::0.1932:::0.1794:::0.1686:::0.1600:::0.1810:::0.1269:::0.1322:::0.1317:::0.2104:::0.2102', 'all_k_resolutions': 'Rheumatic mitral insufficiency:::Rheumatic mitral stenosis:::Other rheumatic mitral valve diseases:::Other nonrheumatic mitral valve disorders:::Rheumatic mitral valve disease, unspecified:::Nonrheumatic mitral (valve) stenosis:::Nonrheumatic mitral valve disorder, unspecified:::Nonrheumatic mitral (valve) insufficiency:::Nonrheumatic mitral (valve) prolapse:::Congenital mitral stenosis:::Other nonrheumatic tricuspid valve disorders:::Other rheumatic tricuspid valve diseases:::Congenital stenosis of aortic valve:::Nonrheumatic tricuspid (valve) stenosis:::Rheumatic aortic stenosis:::Congenital mitral insufficiency:::Rheumatic mitral stenosis with insufficiency:::Congenital insufficiency of aortic valve:::Nonrheumatic tricuspid valve disorder, unspecified:::Rheumatic tricuspid valve disease, unspecified:::Nonrheumatic tricuspid (valve) insufficiency:::Rheumatic aortic insufficiency:::Nonrheumatic pulmonary valve stenosis:::Congenital pulmonary valve stenosis:::Endocarditis, valve unspecified', 'target_text': 'significant mitral valve regurgitation', 'all_k_aux_labels': '', 'token': 'significant mitral valve regurgitation', 'resolved_text': 'Rheumatic mitral insufficiency', 'all_k_confidences': '0.0771:::0.0494:::0.0480:::0.0474:::0.0464:::0.0463:::0.0457:::0.0447:::0.0446:::0.0363:::0.0353:::0.0353:::0.0350:::0.0350:::0.0348:::0.0346:::0.0343:::0.0341:::0.0340:::0.0340:::0.0338:::0.0336:::0.0336:::0.0334:::0.0332', 'distance': '0.5095', 'sentence': '3'}),\n",
              " Annotation(entity, 498, 527, F3175, {'chunk': '8', 'all_k_results': 'F3175:::F3174:::F3172:::F3173:::F3178:::F3176:::F3177:::F3170:::F3171:::O8883:::D7822:::D7832:::O99353:::O99513:::O99613:::S23428A:::O468X2:::S3509XA:::O09613:::O113:::O88813:::M87272:::S73192A:::S93692A:::S53492A', 'all_k_distances': '1.0332:::1.0447:::1.0515:::1.1010:::1.1059:::1.1096:::1.1121:::1.1174:::1.1852:::1.3926:::1.5421:::1.5447:::1.6181:::1.6181:::1.6201:::1.6321:::1.6385:::1.6648:::1.6659:::1.6698:::1.6717:::1.6730:::1.6759:::1.6759:::1.6759', 'confidence': '0.0576', 'all_k_cosine_distances': '0.2558:::0.2677:::0.2632:::0.2966:::0.2687:::0.2511:::0.2822:::0.2486:::0.2925:::0.2925:::0.2552:::0.2595:::0.2864:::0.2719:::0.2799:::0.2784:::0.3214:::0.2803:::0.3133:::0.3250:::0.2902:::0.3044:::0.2807:::0.2884:::0.2922', 'all_k_resolutions': 'Bipolar disorder, in partial remission, most recent episode depressed:::Bipolar disorder, in full remission, most recent episode manic:::Bipolar disorder, in full remission, most recent episode hypomanic:::Bipolar disorder, in partial remission, most recent episode manic:::Bipolar disorder, in full remission, most recent episode mixed:::Bipolar disorder, in full remission, most recent episode depressed:::Bipolar disorder, in partial remission, most recent episode mixed:::Bipolar disorder, currently in remission, most recent episode unspecified:::Bipolar disorder, in partial remission, most recent episode hypomanic:::Other embolism in the puerperium:::Postprocedural hemorrhage of the spleen following other procedure:::Postprocedural hematoma of the spleen following other procedure:::Diseases of the nervous system complicating pregnancy, third trimester:::Diseases of the respiratory system complicating pregnancy, third trimester:::Diseases of the digestive system complicating pregnancy, third trimester:::Other sprain of sternum, initial encounter:::Other antepartum hemorrhage, second trimester:::Other injury of abdominal aorta, initial encounter:::Supervision of young primigravida, third trimester:::Pre-existing hypertension with pre-eclampsia, third trimester:::Other embolism in pregnancy, third trimester:::Osteonecrosis due to previous trauma, left ankle:::Other sprain of left hip, initial encounter:::Other sprain of left foot, initial encounter:::Other sprain of left elbow, initial encounter', 'target_text': 'the most recent echocardiogram', 'all_k_aux_labels': '', 'token': 'the most recent echocardiogram', 'resolved_text': 'Bipolar disorder, in partial remission, most recent episode depressed', 'all_k_confidences': '0.0576:::0.0570:::0.0566:::0.0538:::0.0536:::0.0534:::0.0533:::0.0530:::0.0495:::0.0402:::0.0346:::0.0346:::0.0321:::0.0321:::0.0320:::0.0317:::0.0315:::0.0306:::0.0306:::0.0305:::0.0304:::0.0304:::0.0303:::0.0303:::0.0303', 'distance': '1.0332', 'sentence': '3'}),\n",
              " Annotation(entity, 600, 611, I973, {'chunk': '9', 'all_k_results': 'I973:::P292:::K766:::I150:::I159:::I2720:::H40053:::G932:::I270:::O162:::H40052:::H40051:::O1092:::P2930:::O1042:::O1002:::I2721:::I152:::O161:::O10413:::O1093:::O164:::O1043:::O111:::H4711', 'all_k_distances': '0.5392:::0.5396:::0.5755:::0.6046:::0.7635:::0.7916:::0.8241:::0.8310:::0.8625:::0.8707:::1.0538:::1.0539:::1.0551:::1.0692:::1.0810:::1.1091:::1.1095:::1.1260:::1.2470:::1.2847:::1.2937:::1.2952:::1.3146:::1.3153:::1.3343', 'confidence': '0.0612', 'all_k_cosine_distances': '0.1374:::0.1708:::0.1537:::0.0806:::0.3214:::0.2519:::0.2597:::0.1961:::0.1900:::0.2317:::0.3277:::0.3418:::0.2827:::0.2796:::0.2873:::0.2630:::0.2431:::0.2453:::0.3135:::0.3078:::0.2999:::0.3031:::0.3029:::0.2782:::0.2500', 'all_k_resolutions': 'Postprocedural hypertension:::Neonatal hypertension:::Portal hypertension:::Renovascular hypertension:::Secondary hypertension, unspecified:::Pulmonary hypertension, unspecified:::Ocular hypertension, bilateral:::Benign intracranial hypertension:::Primary pulmonary hypertension:::Unspecified maternal hypertension, second trimester:::Ocular hypertension, left eye:::Ocular hypertension, right eye:::Unspecified pre-existing hypertension complicating childbirth:::Pulmonary hypertension of newborn:::Pre-existing secondary hypertension complicating childbirth:::Pre-existing essential hypertension complicating childbirth:::Secondary pulmonary arterial hypertension:::Hypertension secondary to endocrine disorders:::Unspecified maternal hypertension, first trimester:::Pre-existing secondary hypertension complicating pregnancy, third trimester:::Unspecified pre-existing hypertension complicating the puerperium:::Unspecified maternal hypertension, complicating childbirth:::Pre-existing secondary hypertension complicating the puerperium:::Pre-existing hypertension with pre-eclampsia, first trimester:::Papilledema associated with increased intracranial pressure', 'target_text': 'hypertension', 'all_k_aux_labels': '', 'token': 'hypertension', 'resolved_text': 'Postprocedural hypertension', 'all_k_confidences': '0.0612:::0.0612:::0.0590:::0.0573:::0.0489:::0.0475:::0.0460:::0.0457:::0.0443:::0.0439:::0.0366:::0.0366:::0.0365:::0.0360:::0.0356:::0.0346:::0.0346:::0.0340:::0.0301:::0.0290:::0.0288:::0.0287:::0.0282:::0.0282:::0.0276', 'distance': '0.5392', 'sentence': '4'}),\n",
              " Annotation(entity, 617, 620, K920, {'chunk': '10', 'all_k_results': 'K920:::R29741:::R402324:::R402212:::Z363:::R0602:::I2111:::R29722:::Z360:::R402313:::I4581:::I97810:::R402414:::R93811:::Y625:::R092:::P2911:::R29729:::I252:::R29716:::O1213:::J860:::R93422:::I97790:::R072', 'all_k_distances': '1.0000:::1.0000:::1.0000:::1.0000:::1.0000:::1.0000:::1.0000:::1.0000:::1.0000:::1.0000:::1.0000:::1.0000:::1.0000:::1.0000:::1.0000:::1.0000:::1.0000:::1.0000:::1.0000:::1.0000:::1.0000:::1.0000:::1.0000:::1.0000:::1.0000', 'confidence': '0.0400', 'all_k_cosine_distances': '0.5512:::0.5024:::0.4091:::0.4013:::0.4467:::0.5817:::0.4356:::0.4988:::0.4170:::0.4116:::0.3871:::0.4111:::0.4030:::0.3842:::0.4189:::0.5770:::0.5027:::0.5067:::0.4910:::0.5034:::0.4962:::0.5013:::0.3994:::0.4434:::0.4745', 'all_k_resolutions': 'Hematemesis:::NIHSS score 41:::Coma scale, best motor response, extension, 24 hours or more after hospital admission:::Coma scale, best verbal response, none, at arrival to emergency department:::Encounter for antenatal screening for malformations:::Shortness of breath:::ST elevation (STEMI) myocardial infarction involving right coronary artery:::NIHSS score 22:::Encounter for antenatal screening for chromosomal anomalies:::Coma scale, best motor response, none, at hospital admission:::Long QT syndrome:::Intraoperative cerebrovascular infarction during cardiac surgery:::Glasgow coma scale score 13-15, 24 hours or more after hospital admission:::Abnormal radiologic findings on diagnostic imaging of right testicle:::Failure of sterile precautions during heart catheterization:::Respiratory arrest:::Neonatal tachycardia:::NIHSS score 29:::Old myocardial infarction:::NIHSS score 16:::Gestational proteinuria, third trimester:::Pyothorax with fistula:::Abnormal radiologic findings on diagnostic imaging of left kidney:::Other intraoperative cardiac functional disturbances during cardiac surgery:::Precordial pain', 'target_text': 'EKGs', 'all_k_aux_labels': '', 'token': 'EKGs', 'resolved_text': 'Hematemesis', 'all_k_confidences': '0.0400:::0.0400:::0.0400:::0.0400:::0.0400:::0.0400:::0.0400:::0.0400:::0.0400:::0.0400:::0.0400:::0.0400:::0.0400:::0.0400:::0.0400:::0.0400:::0.0400:::0.0400:::0.0400:::0.0400:::0.0400:::0.0400:::0.0400:::0.0400:::0.0400', 'distance': '1.0000', 'sentence': '4'}),\n",
              " Annotation(entity, 666, 678, R040, {'chunk': '11', 'all_k_results': 'R040:::R197:::K591:::Z91841:::D693:::N3281:::O8620:::O0338:::J00:::B079:::N915:::D838:::A691:::C8417:::D72810:::C8117:::C8410:::T7849XS:::H1703:::D839:::A318:::C8413:::D849:::E320:::C9621', 'all_k_distances': '0.7790:::0.9359:::0.9371:::1.1429:::1.3303:::1.3437:::1.3581:::1.5022:::1.5375:::1.5555:::1.5653:::1.5839:::1.5962:::1.5996:::1.6409:::1.6549:::1.6550:::1.6697:::1.6806:::1.6904:::1.6962:::1.6996:::1.7020:::1.7074:::1.7108', 'confidence': '0.0783', 'all_k_cosine_distances': '0.3153:::0.3946:::0.3944:::0.4091:::0.4960:::0.5628:::0.3966:::0.4263:::0.3948:::0.4010:::0.4339:::0.3477:::0.4987:::0.4634:::0.4542:::0.4650:::0.4507:::0.4675:::0.4552:::0.3444:::0.4787:::0.4762:::0.4961:::0.4727:::0.4877', 'all_k_resolutions': \"Epistaxis:::Diarrhea, unspecified:::Functional diarrhea:::Risk for dental caries, low:::Immune thrombocytopenic purpura:::Overactive bladder:::Urinary tract infection following delivery, unspecified:::Urinary tract infection following incomplete spontaneous abortion:::Acute nasopharyngitis [common cold]:::Viral wart, unspecified:::Oligomenorrhea, unspecified:::Other common variable immunodeficiencies:::Other Vincent's infections:::Sezary disease, spleen:::Lymphocytopenia:::Nodular sclerosis Hodgkin lymphoma, spleen:::Sezary disease, unspecified site:::Other allergy, sequela:::Adherent leukoma, bilateral:::Common variable immunodeficiency, unspecified:::Other mycobacterial infections:::Sezary disease, intra-abdominal lymph nodes:::Immunodeficiency, unspecified:::Persistent hyperplasia of thymus:::Aggressive systemic mastocytosis\", 'target_text': 'frequent APCs', 'all_k_aux_labels': '', 'token': 'frequent APCs', 'resolved_text': 'Epistaxis', 'all_k_confidences': '0.0783:::0.0670:::0.0669:::0.0544:::0.0451:::0.0445:::0.0439:::0.0380:::0.0367:::0.0360:::0.0357:::0.0350:::0.0346:::0.0345:::0.0331:::0.0326:::0.0326:::0.0321:::0.0318:::0.0315:::0.0313:::0.0312:::0.0311:::0.0310:::0.0309', 'distance': '0.7790', 'sentence': '4'}),\n",
              " Annotation(entity, 687, 712, Z950, {'chunk': '12', 'all_k_results': 'Z950:::I4891:::I481:::I482:::I480:::I4892:::I484:::I483:::H53003:::I491:::H53042:::Q211:::Q206:::H53049:::H21532:::H16252:::H2022:::H10222:::H10812:::H30812:::H5712:::H5212:::Q213:::H5201:::H30811', 'all_k_distances': '1.1940:::1.2140:::1.2169:::1.2198:::1.2380:::1.2473:::1.2518:::1.2519:::1.2938:::1.3044:::1.3445:::1.3629:::1.3641:::1.3974:::1.5297:::1.5297:::1.5297:::1.5297:::1.5297:::1.5297:::1.5297:::1.5297:::1.5440:::1.5444:::1.5444', 'confidence': '0.0483', 'all_k_cosine_distances': '0.2304:::0.1938:::0.2280:::0.2409:::0.1846:::0.1835:::0.2239:::0.2014:::0.3447:::0.3276:::0.3479:::0.2484:::0.2560:::0.4008:::0.4493:::0.4493:::0.4493:::0.4493:::0.4493:::0.4493:::0.4493:::0.4493:::0.5447:::0.4560:::0.4560', 'all_k_resolutions': \"Presence of cardiac pacemaker:::Unspecified atrial fibrillation:::Persistent atrial fibrillation:::Chronic atrial fibrillation:::Paroxysmal atrial fibrillation:::Unspecified atrial flutter:::Atypical atrial flutter:::Typical atrial flutter:::Unspecified amblyopia, bilateral:::Atrial premature depolarization:::Amblyopia suspect, left eye:::Atrial septal defect:::Isomerism of atrial appendages:::Amblyopia suspect, unspecified eye:::Iridodialysis, left eye:::Phlyctenular keratoconjunctivitis, left eye:::Lens-induced iridocyclitis, left eye:::Pseudomembranous conjunctivitis, left eye:::Pingueculitis, left eye:::Harada's disease, left eye:::Ocular pain, left eye:::Myopia, left eye:::Tetralogy of Fallot:::Hypermetropia, right eye:::Harada's disease, right eye\", 'target_text': 'wandering atrial pacemaker', 'all_k_aux_labels': '', 'token': 'wandering atrial pacemaker', 'resolved_text': 'Presence of cardiac pacemaker', 'all_k_confidences': '0.0483:::0.0473:::0.0472:::0.0470:::0.0462:::0.0458:::0.0456:::0.0455:::0.0437:::0.0432:::0.0415:::0.0408:::0.0407:::0.0394:::0.0345:::0.0345:::0.0345:::0.0345:::0.0345:::0.0345:::0.0345:::0.0345:::0.0340:::0.0340:::0.0340', 'distance': '1.1940', 'sentence': '4'}),\n",
              " Annotation(entity, 742, 765, O139, {'chunk': '13', 'all_k_results': 'O139:::O133:::O131:::O132:::O134:::P292:::I973:::I158:::O135:::K766:::I159:::I150:::O162:::I270:::H40053:::P2930:::G932:::I2729:::O1042:::I2721:::I2720:::I152:::H40052:::O1092:::O1002', 'all_k_distances': '0.9049:::0.9113:::0.9119:::0.9120:::0.9307:::1.0042:::1.0066:::1.0381:::1.0523:::1.0591:::1.0686:::1.1060:::1.1474:::1.1518:::1.1567:::1.1879:::1.1908:::1.1932:::1.2364:::1.2525:::1.2604:::1.2619:::1.2675:::1.2793:::1.2794', 'confidence': '0.0487', 'all_k_cosine_distances': '0.1920:::0.1948:::0.2011:::0.1939:::0.1886:::0.2567:::0.1868:::0.2778:::0.1980:::0.2570:::0.3475:::0.2290:::0.2660:::0.2491:::0.2940:::0.3196:::0.2828:::0.2684:::0.3010:::0.2875:::0.2785:::0.2767:::0.3467:::0.3080:::0.2771', 'all_k_resolutions': 'Gestational [pregnancy-induced] hypertension without significant proteinuria, unspecified trimester:::Gestational [pregnancy-induced] hypertension without significant proteinuria, third trimester:::Gestational [pregnancy-induced] hypertension without significant proteinuria, first trimester:::Gestational [pregnancy-induced] hypertension without significant proteinuria, second trimester:::Gestational [pregnancy-induced] hypertension without significant proteinuria, complicating childbirth:::Neonatal hypertension:::Postprocedural hypertension:::Other secondary hypertension:::Gestational [pregnancy-induced] hypertension without significant proteinuria, complicating the puerperium:::Portal hypertension:::Secondary hypertension, unspecified:::Renovascular hypertension:::Unspecified maternal hypertension, second trimester:::Primary pulmonary hypertension:::Ocular hypertension, bilateral:::Pulmonary hypertension of newborn:::Benign intracranial hypertension:::Other secondary pulmonary hypertension:::Pre-existing secondary hypertension complicating childbirth:::Secondary pulmonary arterial hypertension:::Pulmonary hypertension, unspecified:::Hypertension secondary to endocrine disorders:::Ocular hypertension, left eye:::Unspecified pre-existing hypertension complicating childbirth:::Pre-existing essential hypertension complicating childbirth', 'target_text': 'significant hypertension', 'all_k_aux_labels': '', 'token': 'significant hypertension', 'resolved_text': 'Gestational [pregnancy-induced] hypertension without significant proteinuria, unspecified trimester', 'all_k_confidences': '0.0487:::0.0484:::0.0484:::0.0484:::0.0475:::0.0441:::0.0440:::0.0427:::0.0421:::0.0418:::0.0414:::0.0399:::0.0382:::0.0381:::0.0379:::0.0367:::0.0366:::0.0365:::0.0350:::0.0344:::0.0342:::0.0341:::0.0339:::0.0335:::0.0335', 'distance': '0.9049', 'sentence': '5'}),\n",
              " Annotation(entity, 792, 803, R42, {'chunk': '14', 'all_k_results': 'R42:::G10:::G4481:::N3944:::F514:::F441:::R110:::R05:::F5103:::G2583:::F5104:::G4751:::L981:::F4521:::R142:::Z72820:::R1083:::R0981:::G44021:::H9203:::I951:::L22:::D501:::R0601:::G243', 'all_k_distances': '0.9971:::1.3951:::1.6131:::1.6382:::1.6460:::1.6467:::1.6510:::1.6513:::1.6742:::1.6768:::1.6822:::1.6842:::1.6859:::1.6880:::1.6905:::1.6911:::1.6951:::1.6964:::1.6964:::1.7032:::1.7099:::1.7109:::1.7114:::1.7176:::1.7183', 'confidence': '0.0753', 'all_k_cosine_distances': '0.1105:::0.5293:::0.3014:::0.3291:::0.3260:::0.3776:::0.2944:::0.3011:::0.4003:::0.4055:::0.3850:::0.3075:::0.3875:::0.4017:::0.3588:::0.4082:::0.3872:::0.4402:::0.3372:::0.4081:::0.4040:::0.4409:::0.3893:::0.3525:::0.4136', 'all_k_resolutions': \"Dizziness and giddiness:::Huntington's disease:::Hypnic headache:::Nocturnal enuresis:::Sleep terrors [night terrors]:::Dissociative fugue:::Nausea:::Cough:::Paradoxical insomnia:::Benign shuddering attacks:::Psychophysiologic insomnia:::Confusional arousals:::Factitial dermatitis:::Hypochondriasis:::Eructation:::Sleep deprivation:::Colic:::Nasal congestion:::Chronic cluster headache, intractable:::Otalgia, bilateral:::Orthostatic hypotension:::Diaper dermatitis:::Sideropenic dysphagia:::Orthopnea:::Spasmodic torticollis\", 'target_text': 'dizzy spells', 'all_k_aux_labels': '', 'token': 'dizzy spells', 'resolved_text': 'Dizziness and giddiness', 'all_k_confidences': '0.0753:::0.0506:::0.0407:::0.0397:::0.0394:::0.0393:::0.0392:::0.0392:::0.0383:::0.0382:::0.0380:::0.0379:::0.0378:::0.0377:::0.0377:::0.0376:::0.0375:::0.0374:::0.0374:::0.0372:::0.0369:::0.0369:::0.0369:::0.0366:::0.0366', 'distance': '0.9971', 'sentence': '6'}),\n",
              " Annotation(entity, 828, 839, T671XXS, {'chunk': '15', 'all_k_results': 'T671XXS:::T671XXA:::T671XXD:::R55:::C96A:::G9001:::Q560:::J36:::I959:::R000:::I499:::R569:::P2911:::I950:::I970:::G4481:::F319:::R443:::R32:::G4750:::J9801:::I200:::I9581:::G901:::H4440', 'all_k_distances': '1.0533:::1.0888:::1.1035:::1.1100:::1.1179:::1.1237:::1.5143:::1.5775:::1.5858:::1.5881:::1.5933:::1.6422:::1.6552:::1.6609:::1.6643:::1.6655:::1.6685:::1.6708:::1.6724:::1.6747:::1.6817:::1.6822:::1.6823:::1.6857:::1.6858', 'confidence': '0.0615', 'all_k_cosine_distances': '0.3014:::0.2885:::0.3083:::0.1797:::0.3886:::0.2850:::0.3202:::0.3781:::0.4077:::0.3523:::0.3250:::0.3920:::0.4533:::0.4368:::0.3697:::0.3956:::0.4120:::0.4045:::0.3922:::0.4103:::0.4228:::0.3965:::0.4063:::0.4861:::0.3740', 'all_k_resolutions': 'Heat syncope, sequela:::Heat syncope, initial encounter:::Heat syncope, subsequent encounter:::Syncope and collapse:::Histiocytic sarcoma:::Carotid sinus syncope:::Hermaphroditism, not elsewhere classified:::Peritonsillar abscess:::Hypotension, unspecified:::Tachycardia, unspecified:::Cardiac arrhythmia, unspecified:::Unspecified convulsions:::Neonatal tachycardia:::Idiopathic hypotension:::Postcardiotomy syndrome:::Hypnic headache:::Bipolar disorder, unspecified:::Hallucinations, unspecified:::Unspecified urinary incontinence:::Parasomnia, unspecified:::Acute bronchospasm:::Unstable angina:::Postprocedural hypotension:::Familial dysautonomia [Riley-Day]:::Unspecified hypotony of eye', 'target_text': 'true syncope', 'all_k_aux_labels': '', 'token': 'true syncope', 'resolved_text': 'Heat syncope, sequela', 'all_k_confidences': '0.0615:::0.0594:::0.0585:::0.0581:::0.0577:::0.0573:::0.0388:::0.0364:::0.0361:::0.0360:::0.0358:::0.0341:::0.0337:::0.0335:::0.0334:::0.0333:::0.0332:::0.0332:::0.0331:::0.0330:::0.0328:::0.0328:::0.0328:::0.0327:::0.0327', 'distance': '1.0533', 'sentence': '6'}),\n",
              " Annotation(entity, 854, 864, R001, {'chunk': '16', 'all_k_results': 'R001:::P2912:::E875:::R0902:::R0601:::R092:::E876:::E861:::R064:::I9589:::I959:::I951:::I950:::I9581:::R066:::R291:::R230:::R040:::R130:::I471:::I472:::R491:::R0901:::E8351:::E271', 'all_k_distances': '0.4022:::0.4650:::1.4827:::1.4848:::1.5368:::1.5736:::1.5806:::1.5844:::1.5865:::1.5945:::1.5945:::1.5945:::1.5945:::1.5945:::1.5985:::1.6079:::1.6101:::1.6113:::1.6169:::1.6348:::1.6348:::1.6599:::1.6626:::1.6704:::1.6728', 'confidence': '0.1124', 'all_k_cosine_distances': '0.1936:::0.2362:::0.3296:::0.2925:::0.3994:::0.3430:::0.4344:::0.3756:::0.3803:::0.3718:::0.4538:::0.2594:::0.3975:::0.2950:::0.4063:::0.4584:::0.3649:::0.4785:::0.4538:::0.2418:::0.2991:::0.4963:::0.4722:::0.4446:::0.4957', 'all_k_resolutions': 'Bradycardia, unspecified:::Neonatal bradycardia:::Hyperkalemia:::Hypoxemia:::Orthopnea:::Respiratory arrest:::Hypokalemia:::Hypovolemia:::Hyperventilation:::Other hypotension:::Hypotension, unspecified:::Orthostatic hypotension:::Idiopathic hypotension:::Postprocedural hypotension:::Hiccough:::Meningismus:::Cyanosis:::Epistaxis:::Aphagia:::Supraventricular tachycardia:::Ventricular tachycardia:::Aphonia:::Asphyxia:::Hypocalcemia:::Primary adrenocortical insufficiency', 'target_text': 'bradycardia', 'all_k_aux_labels': '', 'token': 'bradycardia', 'resolved_text': 'Bradycardia, unspecified', 'all_k_confidences': '0.1124:::0.1056:::0.0382:::0.0381:::0.0361:::0.0348:::0.0346:::0.0345:::0.0344:::0.0341:::0.0341:::0.0341:::0.0341:::0.0341:::0.0340:::0.0337:::0.0336:::0.0336:::0.0334:::0.0328:::0.0328:::0.0320:::0.0319:::0.0316:::0.0316', 'distance': '0.4022', 'sentence': '7'}),\n",
              " Annotation(entity, 883, 902, Z79890, {'chunk': '17', 'all_k_results': 'Z79890:::E678:::Z515:::N46021:::E68:::N5235:::N46121:::Z9225:::T8181XS:::Z510:::Z9223:::T484X5S:::Z9229:::T43615S:::T39015D:::T45516A:::Z9222:::T370X5S:::T363X5S:::T486X5D:::T461X5A:::T483X5D:::Z92241:::T476X5S:::T371X5S', 'all_k_distances': '0.9455:::1.1994:::1.2107:::1.2192:::1.2209:::1.2532:::1.2541:::1.2914:::1.2967:::1.3056:::1.3064:::1.3278:::1.3383:::1.3714:::1.3832:::1.3922:::1.3950:::1.3984:::1.3999:::1.4038:::1.4143:::1.4298:::1.4451:::1.4455:::1.4479', 'confidence': '0.0580', 'all_k_cosine_distances': '0.2650:::0.3355:::0.3211:::0.2620:::0.3081:::0.3056:::0.2752:::0.3182:::0.3609:::0.3223:::0.3533:::0.3207:::0.3392:::0.3447:::0.2912:::0.2776:::0.3417:::0.3348:::0.3163:::0.3259:::0.2863:::0.3212:::0.3139:::0.2925:::0.3111', 'all_k_resolutions': 'Hormone replacement therapy:::Other specified hyperalimentation:::Encounter for palliative care:::Azoospermia due to drug therapy:::Sequelae of hyperalimentation:::Erectile dysfunction following radiation therapy:::Oligospermia due to drug therapy:::Personal history of immunosupression therapy:::Complication of inhalation therapy, sequela:::Encounter for antineoplastic radiation therapy:::Personal history of estrogen therapy:::Adverse effect of expectorants, sequela:::Personal history of other drug therapy:::Adverse effect of caffeine, sequela:::Adverse effect of aspirin, subsequent encounter:::Underdosing of anticoagulants, initial encounter:::Personal history of monoclonal drug therapy:::Adverse effect of sulfonamides, sequela:::Adverse effect of macrolides, sequela:::Adverse effect of antiasthmatics, subsequent encounter:::Adverse effect of calcium-channel blockers, initial encounter:::Adverse effect of antitussives, subsequent encounter:::Personal history of systemic steroid therapy:::Adverse effect of antidiarrheal drugs, sequela:::Adverse effect of antimycobacterial drugs, sequela', 'target_text': 'beta-blocker therapy', 'all_k_aux_labels': '', 'token': 'beta-blocker therapy', 'resolved_text': 'Hormone replacement therapy', 'all_k_confidences': '0.0580:::0.0450:::0.0445:::0.0441:::0.0441:::0.0427:::0.0426:::0.0411:::0.0408:::0.0405:::0.0404:::0.0396:::0.0392:::0.0379:::0.0375:::0.0371:::0.0370:::0.0369:::0.0368:::0.0367:::0.0363:::0.0357:::0.0352:::0.0352:::0.0351', 'distance': '0.9455', 'sentence': '7'})]"
            ]
          },
          "metadata": {
            "tags": []
          },
          "execution_count": 10
        }
      ]
    }
  ]
}